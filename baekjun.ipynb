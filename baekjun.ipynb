{
 "cells": [
  {
   "cell_type": "code",
   "execution_count": 2,
   "metadata": {},
   "outputs": [
    {
     "name": "stdout",
     "output_type": "stream",
     "text": [
      "2360\n",
      "3776\n",
      "1416\n",
      "181720\n"
     ]
    }
   ],
   "source": [
    "A = input()\n",
    "B = input()\n",
    "\n",
    "print(int(A) * int(B[-1]))\n",
    "print(int(A) * int(B[-2]))\n",
    "print(int(A) * int(B[0]))\n",
    "print(int(A) * int(B))"
   ]
  },
  {
   "cell_type": "code",
   "execution_count": null,
   "metadata": {},
   "outputs": [],
   "source": [
    "|\\_/|\n",
    "|q p|   /}\n",
    "( 0 )\"\"\"\\\n",
    "|\"^\"`    |\n",
    "||_/=\\\\__|"
   ]
  },
  {
   "cell_type": "code",
   "execution_count": 12,
   "metadata": {},
   "outputs": [
    {
     "name": "stdout",
     "output_type": "stream",
     "text": [
      "|\\_/|\n",
      "|q p|   /}\n",
      "( 0 )\"\"\"\\\n",
      "|\"^\"`    |\n",
      "||_/=\\\\__|\n"
     ]
    }
   ],
   "source": [
    "print('|\\_/|')\n",
    "print('|q p|   /}')\n",
    "print('( 0 )\"\"\"\\\\')\n",
    "print('|\"^\"`    |')\n",
    "print('||_/=\\\\\\\\__|')\n"
   ]
  },
  {
   "cell_type": "code",
   "execution_count": 15,
   "metadata": {},
   "outputs": [
    {
     "data": {
      "text/plain": [
       "[1, 2]"
      ]
     },
     "execution_count": 15,
     "metadata": {},
     "output_type": "execute_result"
    }
   ],
   "source": [
    "         ,r'\"7\n",
    "r`-_   ,'  ,/\n",
    " \\. \". L_r'\n",
    "   `~\\/\n",
    "      |\n",
    "      |"
   ]
  },
  {
   "cell_type": "code",
   "execution_count": 21,
   "metadata": {},
   "outputs": [
    {
     "name": "stdout",
     "output_type": "stream",
     "text": [
      "         ,r'\"7\n",
      "r`-_   ,'  ,/\n",
      " \\. \". L_r'\n",
      "   `~\\/\n",
      "      |\n",
      "      |\n"
     ]
    }
   ],
   "source": [
    "print('         ,r\\'\"7')\n",
    "print(\"r`-_   ,'  ,/\")\n",
    "print(\" \\. \\\". L_r'\")\n",
    "print('   `~\\/')\n",
    "print('      |')\n",
    "print('      |')"
   ]
  },
  {
   "cell_type": "code",
   "execution_count": 27,
   "metadata": {},
   "outputs": [
    {
     "name": "stdout",
     "output_type": "stream",
     "text": [
      "<\n"
     ]
    }
   ],
   "source": [
    "A, B = list(map(int,input().split(' ')))\n",
    "if A > B:\n",
    "    print('>')\n",
    "elif A < B:\n",
    "    print('<')\n",
    "else:\n",
    "    print('==')"
   ]
  },
  {
   "cell_type": "code",
   "execution_count": null,
   "metadata": {},
   "outputs": [],
   "source": [
    " 90 ~ 100점은 A, 80 ~ 89점은 B, 70 ~ 79점은 C, 60 ~ 69점은 D, 나머지 점수는 F"
   ]
  },
  {
   "cell_type": "code",
   "execution_count": 30,
   "metadata": {},
   "outputs": [
    {
     "name": "stdout",
     "output_type": "stream",
     "text": [
      "1\n"
     ]
    }
   ],
   "source": [
    "x = int(input())\n",
    "y = int(input())\n",
    "if (x > 0) and (y > 0):\n",
    "    print(1)\n",
    "elif (x < 0) and (y > 0):\n",
    "    print(2)\n",
    "elif (x < 0) and (y < 0):\n",
    "    print(3)\n",
    "elif (x > 0) and (y < 0):\n",
    "    print(4)\n",
    "\n"
   ]
  },
  {
   "cell_type": "code",
   "execution_count": 48,
   "metadata": {},
   "outputs": [
    {
     "name": "stdout",
     "output_type": "stream",
     "text": [
      "0 0\n"
     ]
    }
   ],
   "source": [
    "H, M = list(map(int, input().split(' ')))\n",
    "C = int(input())\n",
    "timing = 60 * H + M + C\n",
    "if timing >= 1440:\n",
    "    timing -= 1440\n",
    "H = timing // 60\n",
    "M = timing % 60\n",
    "\n",
    "print(H, M)"
   ]
  },
  {
   "cell_type": "code",
   "execution_count": 76,
   "metadata": {},
   "outputs": [
    {
     "name": "stdout",
     "output_type": "stream",
     "text": [
      "13000\n"
     ]
    }
   ],
   "source": [
    "money_list = list(map(int, input().split(' ')))\n",
    "len(set(money_list))\n",
    "money = 0\n",
    "if len(set(money_list)) == 1:\n",
    "    money += 10000 + money_list[0] * 1000\n",
    "\n",
    "elif len(set(money_list)) == 2:\n",
    "    if money_list.count(money_list[0]) == 2:\n",
    "        money += 1000 + 100 * money_list[0]\n",
    "    elif money_list.count(money_list[1]) == 2:\n",
    "        money += 1000 + 100 * money_list[1]\n",
    "    elif money_list.count(money_list[2]) == 2:\n",
    "        money += 1000 + 100 * money_list[2]\n",
    "\n",
    "elif len(set(money_list)) == 3:\n",
    "    money += max(money_list) * 100\n",
    "\n",
    "print(money) \n"
   ]
  },
  {
   "cell_type": "code",
   "execution_count": null,
   "metadata": {},
   "outputs": [],
   "source": []
  },
  {
   "cell_type": "code",
   "execution_count": 58,
   "metadata": {},
   "outputs": [
    {
     "name": "stdout",
     "output_type": "stream",
     "text": [
      "6\n"
     ]
    }
   ],
   "source": [
    "money_list = [1, 6, 6]\n",
    "\n",
    "temp = 0\n",
    "for idx, x in enumerate(money_list):\n",
    "    if x == money_list[idx]:\n",
    "        temp = x\n",
    "print(temp)\n",
    "    "
   ]
  },
  {
   "cell_type": "code",
   "execution_count": 83,
   "metadata": {},
   "outputs": [
    {
     "data": {
      "text/plain": [
       "75"
      ]
     },
     "execution_count": 83,
     "metadata": {},
     "output_type": "execute_result"
    }
   ],
   "source": [
    "ord('K')"
   ]
  },
  {
   "cell_type": "code",
   "execution_count": 117,
   "metadata": {},
   "outputs": [
    {
     "name": "stdout",
     "output_type": "stream",
     "text": [
      "55\n",
      "30\n"
     ]
    }
   ],
   "source": [
    "num = int(input())\n",
    "\n",
    "for _ in range(num):\n",
    "    scores = 0\n",
    "    score1 = 0\n",
    "    string_ = input()\n",
    "    for x in string_:\n",
    "        swit = True\n",
    "        if (x == 'O') & (swit == True):\n",
    "            score1 += 1\n",
    "            scores += score1\n",
    "        elif (x == 'O') & (swit == False):\n",
    "            swit = True\n",
    "            score1 += 1\n",
    "            scores += score1\n",
    "        elif x == 'X':\n",
    "            score1 = 0\n",
    "            swit = False\n",
    "    print(scores)\n",
    "\n",
    "\n"
   ]
  },
  {
   "cell_type": "code",
   "execution_count": 108,
   "metadata": {},
   "outputs": [
    {
     "data": {
      "text/plain": [
       "[4, 3, 2, 1]"
      ]
     },
     "execution_count": 108,
     "metadata": {},
     "output_type": "execute_result"
    }
   ],
   "source": [
    "list_ = [1,2,4,3]\n",
    "sorted(list_)[::-1]\n"
   ]
  },
  {
   "cell_type": "code",
   "execution_count": 120,
   "metadata": {},
   "outputs": [
    {
     "name": "stdout",
     "output_type": "stream",
     "text": [
      "46\n"
     ]
    }
   ],
   "source": [
    "count = int(input())\n",
    "num = input()\n",
    "sum = 0\n",
    "for x in num:\n",
    "    sum += int(x)\n",
    "print(sum)\n"
   ]
  },
  {
   "cell_type": "code",
   "execution_count": 144,
   "metadata": {},
   "outputs": [
    {
     "name": "stdout",
     "output_type": "stream",
     "text": [
      "402\n",
      "1203\n"
     ]
    }
   ],
   "source": [
    "num = int(input())\n",
    "for _ in range(num):\n",
    "    h, w, n = list(map(int,input().split()))\n",
    "    dict_ = {}\n",
    "\n",
    "    for x in range(1, w + 1):\n",
    "        for y in range(1, h + 1):\n",
    "            if len(str(x)) == 1 :\n",
    "                dict_[str(y) + '0' + str(x)] = (y, x)\n",
    "            elif len(str(x)) == 2:\n",
    "                dict_[str(y) + str(x)] = (y,x)\n",
    "\n",
    "    for idx, i in enumerate(dict_):\n",
    "        if idx + 1 == n:\n",
    "            print(i)"
   ]
  },
  {
   "cell_type": "code",
   "execution_count": 24,
   "metadata": {},
   "outputs": [],
   "source": []
  },
  {
   "cell_type": "code",
   "execution_count": 38,
   "metadata": {},
   "outputs": [
    {
     "name": "stdout",
     "output_type": "stream",
     "text": [
      "161\n"
     ]
    }
   ],
   "source": [
    "import math\n",
    "x, y, w, h = tuple(map(int, input().split()))\n",
    "\n",
    "list_ = []\n",
    "for garo in [0, w]:\n",
    "    for sero in range(h + 1):\n",
    "        list_.append(tuple((garo, sero)))\n",
    "\n",
    "for garo in range(1, w):\n",
    "    for sero in [0, h]:\n",
    "        list_.append(tuple((garo,sero)))\n",
    "\n",
    "# print(list_)\n",
    "for idx, one_point in enumerate(list_):\n",
    "    list_[idx] = math.sqrt((x - one_point[0]) ** 2 + (y - one_point[1]) ** 2)\n",
    "\n",
    "print(int(min(list_)))"
   ]
  },
  {
   "cell_type": "code",
   "execution_count": 18,
   "metadata": {},
   "outputs": [],
   "source": [
    "for garo in [1, w]:\n",
    "    for sero in range(h +1):\n",
    "        list_.append(tuple((garo, sero)))\n",
    "\n",
    "for garo in range(w + 1):\n",
    "    for sero in range(1, h):\n",
    "        list_.append(tuple((garo,sero)))\n"
   ]
  },
  {
   "cell_type": "code",
   "execution_count": 42,
   "metadata": {},
   "outputs": [],
   "source": []
  },
  {
   "cell_type": "code",
   "execution_count": 48,
   "metadata": {},
   "outputs": [
    {
     "name": "stdout",
     "output_type": "stream",
     "text": [
      "21\n"
     ]
    }
   ],
   "source": [
    "import itertools\n",
    "\n",
    "n, m = tuple(map(int, input().split()))\n",
    "numbers = tuple(map(int, input().split()))\n",
    "nCr = itertools.combinations(numbers, 3)\n",
    "list_ = []\n",
    "for x in list(nCr):\n",
    "    if m - sum(x) >= 0:\n",
    "        list_.append(sum(x))\n",
    "print(max(list_))"
   ]
  },
  {
   "cell_type": "code",
   "execution_count": 56,
   "metadata": {},
   "outputs": [
    {
     "name": "stdout",
     "output_type": "stream",
     "text": [
      "10\n"
     ]
    }
   ],
   "source": [
    "n, k  = tuple(map(int,input().split()))\n",
    "\n",
    "sum1 = 1\n",
    "for i in range(1, n + 1):\n",
    "    sum1 = sum1 * i\n",
    "\n",
    "sum2 = 1\n",
    "for j in range(1, k + 1):\n",
    "    sum2 = sum2 * j\n",
    "\n",
    "sum3 = 1\n",
    "for z in range(1, (n - k) + 1):\n",
    "    sum3 = sum3 * z\n",
    "\n",
    "print(int(sum1 / (sum2 * sum3)))\n"
   ]
  },
  {
   "cell_type": "code",
   "execution_count": null,
   "metadata": {},
   "outputs": [],
   "source": [
    "WBWBWBWB\n",
    "BWBWBWBW\n",
    "WBWBWBWB\n",
    "BWBBBWBW\n",
    "WBWBWBWB\n",
    "BWBWBWBW\n",
    "WBWBWBWB\n",
    "BWBWBWBW"
   ]
  },
  {
   "cell_type": "code",
   "execution_count": 94,
   "metadata": {},
   "outputs": [
    {
     "name": "stdout",
     "output_type": "stream",
     "text": [
      "85\n"
     ]
    }
   ],
   "source": [
    "n = 10\n",
    "m = 13\n",
    "string = 'BBBBBBBBWBWBWBBBBBBBBBWBWBBBBBBBBBWBWBWBBBBBBBBBWBWBBBBBBBBBWBWBWBBBBBBBBBWBWBBBBBBBBBWBWBWBBBBBBBBBWBWBWWWWWWWWWWBWBWWWWWWWWWWBWB'\n",
    "# for _ in range(n):\n",
    "#     string += input()\n",
    "\n",
    "\n"
   ]
  },
  {
   "cell_type": "code",
   "execution_count": 95,
   "metadata": {},
   "outputs": [
    {
     "data": {
      "text/plain": [
       "130"
      ]
     },
     "execution_count": 95,
     "metadata": {},
     "output_type": "execute_result"
    }
   ],
   "source": [
    "len(bigyo)"
   ]
  },
  {
   "cell_type": "code",
   "execution_count": 86,
   "metadata": {},
   "outputs": [
    {
     "name": "stdout",
     "output_type": "stream",
     "text": [
      "BWBWBWBWBWBWB\n",
      "WBWBWBWBWBWBW\n",
      "BWBWBWBWBWBWB\n"
     ]
    }
   ],
   "source": [
    "print(bigyo[0:13])\n",
    "print(bigyo[13:26])\n",
    "print(bigyo[26:39])"
   ]
  },
  {
   "cell_type": "code",
   "execution_count": 81,
   "metadata": {},
   "outputs": [
    {
     "name": "stdout",
     "output_type": "stream",
     "text": [
      "0 1 B W\n",
      "1 3 B W\n",
      "2 5 B W\n",
      "3 7 B W\n",
      "4 8 W B\n",
      "5 9 B W\n",
      "6 10 W B\n",
      "7 11 B W\n",
      "8 12 W B\n",
      "9 13 B W\n",
      "10 15 B W\n",
      "11 17 B W\n",
      "12 19 B W\n",
      "13 21 B W\n",
      "14 22 W B\n",
      "15 23 B W\n",
      "16 24 W B\n",
      "17 25 B W\n",
      "18 27 B W\n",
      "19 29 B W\n",
      "20 31 B W\n",
      "21 33 B W\n",
      "22 34 W B\n",
      "23 35 B W\n",
      "24 36 W B\n",
      "25 37 B W\n",
      "26 38 W B\n",
      "27 39 B W\n",
      "28 41 B W\n",
      "29 43 B W\n",
      "30 45 B W\n",
      "31 47 B W\n",
      "32 48 W B\n",
      "33 49 B W\n",
      "34 50 W B\n",
      "35 51 B W\n",
      "36 53 B W\n",
      "37 55 B W\n",
      "38 57 B W\n",
      "39 59 B W\n",
      "40 60 W B\n",
      "41 61 B W\n",
      "42 62 W B\n",
      "43 63 B W\n",
      "44 64 W B\n",
      "45 65 B W\n",
      "46 67 B W\n",
      "47 69 B W\n",
      "48 71 B W\n",
      "49 73 B W\n",
      "50 74 W B\n",
      "51 75 B W\n",
      "52 76 W B\n",
      "53 77 B W\n",
      "54 79 B W\n",
      "55 81 B W\n",
      "56 83 B W\n",
      "57 85 B W\n",
      "58 86 W B\n",
      "59 87 B W\n",
      "60 88 W B\n",
      "61 89 B W\n",
      "62 90 W B\n",
      "63 91 B W\n",
      "64 93 B W\n",
      "65 95 B W\n",
      "66 97 B W\n",
      "67 99 B W\n",
      "68 100 W B\n",
      "69 101 B W\n",
      "70 102 W B\n",
      "71 103 B W\n",
      "72 104 W B\n",
      "73 106 W B\n",
      "74 108 W B\n",
      "75 110 W B\n",
      "76 112 W B\n",
      "77 118 W B\n",
      "78 120 W B\n",
      "79 122 W B\n",
      "80 124 W B\n",
      "81 126 W B\n",
      "82 127 B W\n",
      "83 128 W B\n",
      "84 129 B W\n"
     ]
    }
   ],
   "source": [
    "count = 0\n",
    "for idx, s in enumerate(string):\n",
    "    if s != bigyo[idx]:\n",
    "        print(count, idx,  s, bigyo[idx])\n",
    "        count += 1"
   ]
  },
  {
   "cell_type": "code",
   "execution_count": 110,
   "metadata": {},
   "outputs": [],
   "source": []
  },
  {
   "cell_type": "code",
   "execution_count": 155,
   "metadata": {},
   "outputs": [
    {
     "name": "stdout",
     "output_type": "stream",
     "text": [
      "2\n",
      "sdfadsfsadf\n",
      "asdfdsfadsfadsfdsf\n"
     ]
    }
   ],
   "source": [
    "n = int(input())\n",
    "list_ = []\n",
    "list2 = []\n",
    "dict_ = {}\n",
    "for _ in range(n):\n",
    "    string = input()\n",
    "    list_.append(string)\n",
    "    list2.append(len(string))\n",
    "\n",
    "dict_ = {}\n",
    "for i in set(list2):\n",
    "    dict_[i] = []\n",
    "\n",
    "for idx, i in enumerate(list2):\n",
    "    dict_[i].append(list_[idx])\n",
    "    \n",
    "for k, v in dict_.items():\n",
    "    v.sort()\n",
    "\n",
    "\n",
    "temp_s = ''\n",
    "for k, v in sorted(dict_.items()):\n",
    "    for item in v:\n",
    "        if temp_s != item:\n",
    "            print(item)\n",
    "            temp_s = item\n",
    "        else:\n",
    "            pass"
   ]
  },
  {
   "cell_type": "code",
   "execution_count": 125,
   "metadata": {},
   "outputs": [
    {
     "data": {
      "text/plain": [
       "{1: ['i'],\n",
       " 2: ['im', 'it', 'no', 'no'],\n",
       " 3: ['but'],\n",
       " 4: ['more', 'more', 'wait', 'wont'],\n",
       " 5: ['yours'],\n",
       " 6: ['cannot'],\n",
       " 8: ['hesitate']}"
      ]
     },
     "execution_count": 125,
     "metadata": {},
     "output_type": "execute_result"
    }
   ],
   "source": [
    "ever\n"
   ]
  },
  {
   "cell_type": "code",
   "execution_count": 158,
   "metadata": {},
   "outputs": [
    {
     "name": "stdout",
     "output_type": "stream",
     "text": [
      "6\n",
      "72\n"
     ]
    }
   ],
   "source": [
    "import math\n",
    "a, b = map(int,input().split())\n",
    "print(math.gcd(a,b))\n",
    "print(int(a * b / math.gcd(a,b)))"
   ]
  },
  {
   "cell_type": "code",
   "execution_count": 1,
   "metadata": {},
   "outputs": [],
   "source": [
    "import sys\n",
    "num = int(sys.stdin.readline())\n",
    "list_ = []\n",
    "[list_.append(int(sys.stdin.readline())) for _ in range(num)]\n",
    "list_ = sorted(list(set(list_)))\n",
    "[print(x) for x in list_]"
   ]
  },
  {
   "cell_type": "code",
   "execution_count": 1,
   "metadata": {},
   "outputs": [
    {
     "name": "stdout",
     "output_type": "stream",
     "text": [
      "20 상욱\n",
      "20 상욱\n",
      "21 준규\n"
     ]
    }
   ],
   "source": [
    "\n",
    "num = int(input())\n",
    "name_list = []\n",
    "for idx, _ in enumerate(range(num)):\n",
    "    age, name = input().split()\n",
    "    name_list.append([int(age), name, idx])\n",
    "name_list = sorted(name_list, key = lambda name_list : [name_list[0], name_list[2]])\n",
    "for x in name_list:\n",
    "    print(x[0], x[1])\n"
   ]
  },
  {
   "cell_type": "code",
   "execution_count": null,
   "metadata": {},
   "outputs": [],
   "source": [
    "import sys\n",
    "num = int(sys.stdin.readline())\n",
    "list_ = []\n",
    "for _ in range(num):\n",
    "    list_.append(sys.stdin.readline().strip().split())"
   ]
  },
  {
   "cell_type": "code",
   "execution_count": 7,
   "metadata": {},
   "outputs": [
    {
     "name": "stdout",
     "output_type": "stream",
     "text": [
      "1 -1\n",
      "1 1\n",
      "2 2\n",
      "3 3\n",
      "3 4\n"
     ]
    }
   ],
   "source": [
    "import sys\n",
    "num = int(sys.stdin.readline())\n",
    "list_ = []\n",
    "for _ in range(num):\n",
    "    list_.append(list(map(int,sys.stdin.readline().strip().split())))\n",
    "for x in sorted(list_, key = lambda list_ : [list_[0], list_[1]]):\n",
    "    print(x[0], x[1])\n"
   ]
  },
  {
   "cell_type": "code",
   "execution_count": 9,
   "metadata": {},
   "outputs": [
    {
     "name": "stdout",
     "output_type": "stream",
     "text": [
      "1\n",
      "1\n",
      "0\n",
      "0\n",
      "1\n"
     ]
    }
   ],
   "source": [
    "import sys\n",
    "sys.stdin.readline()\n",
    "nums_list = list(map(int, sys.stdin.readline().split()))\n",
    "sys.stdin.readline()\n",
    "nums_list2 = list(map(int, sys.stdin.readline().split()))\n",
    "for x in nums_list2:\n",
    "    if x in nums_list:\n",
    "        print(1)\n",
    "    else:\n",
    "        print(0)\n"
   ]
  },
  {
   "cell_type": "code",
   "execution_count": 27,
   "metadata": {},
   "outputs": [
    {
     "name": "stdout",
     "output_type": "stream",
     "text": [
      "3\n"
     ]
    }
   ],
   "source": [
    "import sys\n",
    "num = int(input())\n",
    "num_list = tuple(map(int, input().split()))\n",
    "real_count = 0\n",
    "for x in num_list:\n",
    "    count = 0\n",
    "    for j in range(1,x + 1):\n",
    "        if x % j == 0:\n",
    "            count += 1\n",
    "    if count == 2:\n",
    "        real_count += 1\n",
    "print(real_count)\n"
   ]
  },
  {
   "cell_type": "code",
   "execution_count": 2,
   "metadata": {},
   "outputs": [
    {
     "ename": "KeyboardInterrupt",
     "evalue": "",
     "output_type": "error",
     "traceback": [
      "\u001b[1;31m---------------------------------------------------------------------------\u001b[0m",
      "\u001b[1;31mKeyboardInterrupt\u001b[0m                         Traceback (most recent call last)",
      "\u001b[1;32m~\\AppData\\Local\\Temp\\ipykernel_81860\\1708179167.py\u001b[0m in \u001b[0;36m<module>\u001b[1;34m\u001b[0m\n\u001b[0;32m      4\u001b[0m \u001b[0mnum\u001b[0m \u001b[1;33m=\u001b[0m \u001b[0mint\u001b[0m\u001b[1;33m(\u001b[0m\u001b[0minput\u001b[0m\u001b[1;33m(\u001b[0m\u001b[1;33m)\u001b[0m\u001b[1;33m)\u001b[0m\u001b[1;33m\u001b[0m\u001b[1;33m\u001b[0m\u001b[0m\n\u001b[0;32m      5\u001b[0m \u001b[0mlist_\u001b[0m \u001b[1;33m=\u001b[0m \u001b[1;33m[\u001b[0m\u001b[1;33m]\u001b[0m\u001b[1;33m\u001b[0m\u001b[1;33m\u001b[0m\u001b[0m\n\u001b[1;32m----> 6\u001b[1;33m \u001b[1;32mfor\u001b[0m \u001b[0mx\u001b[0m \u001b[1;32min\u001b[0m \u001b[0mrange\u001b[0m\u001b[1;33m(\u001b[0m\u001b[1;36m1\u001b[0m\u001b[1;33m,\u001b[0m \u001b[0mnum\u001b[0m \u001b[1;33m+\u001b[0m \u001b[1;36m1\u001b[0m\u001b[1;33m)\u001b[0m\u001b[1;33m:\u001b[0m\u001b[1;33m\u001b[0m\u001b[1;33m\u001b[0m\u001b[0m\n\u001b[0m\u001b[0;32m      7\u001b[0m     \u001b[0mlist_\u001b[0m\u001b[1;33m.\u001b[0m\u001b[0mappend\u001b[0m\u001b[1;33m(\u001b[0m\u001b[0mx\u001b[0m\u001b[1;33m)\u001b[0m\u001b[1;33m\u001b[0m\u001b[1;33m\u001b[0m\u001b[0m\n\u001b[0;32m      8\u001b[0m \u001b[1;33m\u001b[0m\u001b[0m\n",
      "\u001b[1;31mKeyboardInterrupt\u001b[0m: "
     ]
    }
   ],
   "source": [
    "import sys\n",
    "from collections import deque\n",
    "\n",
    "num = int(input())\n",
    "list_ = []\n",
    "for x in range(1, num + 1):\n",
    "    list_.append(x)\n",
    "\n",
    "queue = deque(list_)\n",
    "\n",
    "while len(queue) > 1:\n",
    "    queue.popleft()\n",
    "    first_one = queue.popleft()\n",
    "    queue.append(first_one)\n",
    "print(queue[0])"
   ]
  },
  {
   "cell_type": "code",
   "execution_count": 17,
   "metadata": {},
   "outputs": [
    {
     "data": {
      "text/plain": [
       "deque([3, 4, 5, 6, 2])"
      ]
     },
     "execution_count": 17,
     "metadata": {},
     "output_type": "execute_result"
    }
   ],
   "source": [
    "queue"
   ]
  },
  {
   "cell_type": "code",
   "execution_count": 3,
   "metadata": {},
   "outputs": [
    {
     "name": "stdout",
     "output_type": "stream",
     "text": [
      "6\n"
     ]
    }
   ],
   "source": [
    "print(sum(list(range(1,int(input()) + 1))))"
   ]
  },
  {
   "cell_type": "code",
   "execution_count": 4,
   "metadata": {},
   "outputs": [],
   "source": [
    "total_price = int(input())\n",
    "num = int(input())\n",
    "sum = 0\n",
    "for _ in range(num):\n",
    "    a, b = map(int,input().split())\n",
    "    sum += a * b\n",
    "\n",
    "if sum == total_price:\n",
    "    print('Yes')\n",
    "else:\n",
    "    print('No')"
   ]
  },
  {
   "cell_type": "code",
   "execution_count": 5,
   "metadata": {},
   "outputs": [
    {
     "data": {
      "text/plain": [
       "260000"
      ]
     },
     "execution_count": 5,
     "metadata": {},
     "output_type": "execute_result"
    }
   ],
   "source": [
    "import sys\n",
    "count = int(sys.stdin.readline())\n",
    "for _ in range(count):\n",
    "    print(f'Case #{_ + 1}: {sum(map(int,sys.stdin.readline().split()))}')"
   ]
  },
  {
   "cell_type": "code",
   "execution_count": null,
   "metadata": {},
   "outputs": [],
   "source": []
  }
 ],
 "metadata": {
  "kernelspec": {
   "display_name": "base",
   "language": "python",
   "name": "python3"
  },
  "language_info": {
   "codemirror_mode": {
    "name": "ipython",
    "version": 3
   },
   "file_extension": ".py",
   "mimetype": "text/x-python",
   "name": "python",
   "nbconvert_exporter": "python",
   "pygments_lexer": "ipython3",
   "version": "3.9.13"
  },
  "orig_nbformat": 4,
  "vscode": {
   "interpreter": {
    "hash": "54f843e2d25d3a59c86748e7da2acead36750f0d182112685aa834d50ad6fdc4"
   }
  }
 },
 "nbformat": 4,
 "nbformat_minor": 2
}
