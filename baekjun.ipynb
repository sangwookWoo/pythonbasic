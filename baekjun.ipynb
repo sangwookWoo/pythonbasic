{
 "cells": [
  {
   "cell_type": "code",
   "execution_count": null,
   "metadata": {},
   "outputs": [],
   "source": [
    "A = input()\n",
    "B = input()\n",
    "\n",
    "print(int(A) * int(B[-1]))\n",
    "print(int(A) * int(B[-2]))\n",
    "print(int(A) * int(B[0]))\n",
    "print(int(A) * int(B))"
   ]
  },
  {
   "cell_type": "code",
   "execution_count": null,
   "metadata": {},
   "outputs": [],
   "source": [
    "|\\_/|\n",
    "|q p|   /}\n",
    "( 0 )\"\"\"\\\n",
    "|\"^\"`    |\n",
    "||_/=\\\\__|"
   ]
  },
  {
   "cell_type": "code",
   "execution_count": null,
   "metadata": {},
   "outputs": [],
   "source": [
    "print('|\\_/|')\n",
    "print('|q p|   /}')\n",
    "print('( 0 )\"\"\"\\\\')\n",
    "print('|\"^\"`    |')\n",
    "print('||_/=\\\\\\\\__|')\n"
   ]
  },
  {
   "cell_type": "code",
   "execution_count": null,
   "metadata": {},
   "outputs": [],
   "source": [
    "         ,r'\"7\n",
    "r`-_   ,'  ,/\n",
    " \\. \". L_r'\n",
    "   `~\\/\n",
    "      |\n",
    "      |"
   ]
  },
  {
   "cell_type": "code",
   "execution_count": null,
   "metadata": {},
   "outputs": [],
   "source": [
    "print('         ,r\\'\"7')\n",
    "print(\"r`-_   ,'  ,/\")\n",
    "print(\" \\. \\\". L_r'\")\n",
    "print('   `~\\/')\n",
    "print('      |')\n",
    "print('      |')"
   ]
  },
  {
   "cell_type": "code",
   "execution_count": null,
   "metadata": {},
   "outputs": [],
   "source": [
    "A, B = list(map(int,input().split(' ')))\n",
    "if A > B:\n",
    "    print('>')\n",
    "elif A < B:\n",
    "    print('<')\n",
    "else:\n",
    "    print('==')"
   ]
  },
  {
   "cell_type": "code",
   "execution_count": null,
   "metadata": {},
   "outputs": [],
   "source": [
    " 90 ~ 100점은 A, 80 ~ 89점은 B, 70 ~ 79점은 C, 60 ~ 69점은 D, 나머지 점수는 F"
   ]
  },
  {
   "cell_type": "code",
   "execution_count": null,
   "metadata": {},
   "outputs": [],
   "source": [
    "x = int(input())\n",
    "y = int(input())\n",
    "if (x > 0) and (y > 0):\n",
    "    print(1)\n",
    "elif (x < 0) and (y > 0):\n",
    "    print(2)\n",
    "elif (x < 0) and (y < 0):\n",
    "    print(3)\n",
    "elif (x > 0) and (y < 0):\n",
    "    print(4)\n",
    "\n"
   ]
  },
  {
   "cell_type": "code",
   "execution_count": null,
   "metadata": {},
   "outputs": [],
   "source": [
    "H, M = list(map(int, input().split(' ')))\n",
    "C = int(input())\n",
    "timing = 60 * H + M + C\n",
    "if timing >= 1440:\n",
    "    timing -= 1440\n",
    "H = timing // 60\n",
    "M = timing % 60\n",
    "\n",
    "print(H, M)"
   ]
  },
  {
   "cell_type": "code",
   "execution_count": null,
   "metadata": {},
   "outputs": [],
   "source": [
    "money_list = list(map(int, input().split(' ')))\n",
    "len(set(money_list))\n",
    "money = 0\n",
    "if len(set(money_list)) == 1:\n",
    "    money += 10000 + money_list[0] * 1000\n",
    "\n",
    "elif len(set(money_list)) == 2:\n",
    "    if money_list.count(money_list[0]) == 2:\n",
    "        money += 1000 + 100 * money_list[0]\n",
    "    elif money_list.count(money_list[1]) == 2:\n",
    "        money += 1000 + 100 * money_list[1]\n",
    "    elif money_list.count(money_list[2]) == 2:\n",
    "        money += 1000 + 100 * money_list[2]\n",
    "\n",
    "elif len(set(money_list)) == 3:\n",
    "    money += max(money_list) * 100\n",
    "\n",
    "print(money) \n"
   ]
  },
  {
   "cell_type": "code",
   "execution_count": null,
   "metadata": {},
   "outputs": [],
   "source": []
  },
  {
   "cell_type": "code",
   "execution_count": null,
   "metadata": {},
   "outputs": [],
   "source": [
    "money_list = [1, 6, 6]\n",
    "\n",
    "temp = 0\n",
    "for idx, x in enumerate(money_list):\n",
    "    if x == money_list[idx]:\n",
    "        temp = x\n",
    "print(temp)\n",
    "    "
   ]
  },
  {
   "cell_type": "code",
   "execution_count": null,
   "metadata": {},
   "outputs": [],
   "source": [
    "ord('K')"
   ]
  },
  {
   "cell_type": "code",
   "execution_count": null,
   "metadata": {},
   "outputs": [],
   "source": [
    "num = int(input())\n",
    "\n",
    "for _ in range(num):\n",
    "    scores = 0\n",
    "    score1 = 0\n",
    "    string_ = input()\n",
    "    for x in string_:\n",
    "        swit = True\n",
    "        if (x == 'O') & (swit == True):\n",
    "            score1 += 1\n",
    "            scores += score1\n",
    "        elif (x == 'O') & (swit == False):\n",
    "            swit = True\n",
    "            score1 += 1\n",
    "            scores += score1\n",
    "        elif x == 'X':\n",
    "            score1 = 0\n",
    "            swit = False\n",
    "    print(scores)\n",
    "\n",
    "\n"
   ]
  },
  {
   "cell_type": "code",
   "execution_count": null,
   "metadata": {},
   "outputs": [],
   "source": [
    "list_ = [1,2,4,3]\n",
    "sorted(list_)[::-1]\n"
   ]
  },
  {
   "cell_type": "code",
   "execution_count": null,
   "metadata": {},
   "outputs": [],
   "source": [
    "count = int(input())\n",
    "num = input()\n",
    "sum = 0\n",
    "for x in num:\n",
    "    sum += int(x)\n",
    "print(sum)\n"
   ]
  },
  {
   "cell_type": "code",
   "execution_count": null,
   "metadata": {},
   "outputs": [],
   "source": [
    "num = int(input())\n",
    "for _ in range(num):\n",
    "    h, w, n = list(map(int,input().split()))\n",
    "    dict_ = {}\n",
    "\n",
    "    for x in range(1, w + 1):\n",
    "        for y in range(1, h + 1):\n",
    "            if len(str(x)) == 1 :\n",
    "                dict_[str(y) + '0' + str(x)] = (y, x)\n",
    "            elif len(str(x)) == 2:\n",
    "                dict_[str(y) + str(x)] = (y,x)\n",
    "\n",
    "    for idx, i in enumerate(dict_):\n",
    "        if idx + 1 == n:\n",
    "            print(i)"
   ]
  },
  {
   "cell_type": "code",
   "execution_count": null,
   "metadata": {},
   "outputs": [],
   "source": []
  },
  {
   "cell_type": "code",
   "execution_count": null,
   "metadata": {},
   "outputs": [],
   "source": [
    "import math\n",
    "x, y, w, h = tuple(map(int, input().split()))\n",
    "\n",
    "list_ = []\n",
    "for garo in [0, w]:\n",
    "    for sero in range(h + 1):\n",
    "        list_.append(tuple((garo, sero)))\n",
    "\n",
    "for garo in range(1, w):\n",
    "    for sero in [0, h]:\n",
    "        list_.append(tuple((garo,sero)))\n",
    "\n",
    "# print(list_)\n",
    "for idx, one_point in enumerate(list_):\n",
    "    list_[idx] = math.sqrt((x - one_point[0]) ** 2 + (y - one_point[1]) ** 2)\n",
    "\n",
    "print(int(min(list_)))"
   ]
  },
  {
   "cell_type": "code",
   "execution_count": null,
   "metadata": {},
   "outputs": [],
   "source": [
    "for garo in [1, w]:\n",
    "    for sero in range(h +1):\n",
    "        list_.append(tuple((garo, sero)))\n",
    "\n",
    "for garo in range(w + 1):\n",
    "    for sero in range(1, h):\n",
    "        list_.append(tuple((garo,sero)))\n"
   ]
  },
  {
   "cell_type": "code",
   "execution_count": null,
   "metadata": {},
   "outputs": [],
   "source": []
  },
  {
   "cell_type": "code",
   "execution_count": null,
   "metadata": {},
   "outputs": [],
   "source": [
    "import itertools\n",
    "\n",
    "n, m = tuple(map(int, input().split()))\n",
    "numbers = tuple(map(int, input().split()))\n",
    "nCr = itertools.combinations(numbers, 3)\n",
    "list_ = []\n",
    "for x in list(nCr):\n",
    "    if m - sum(x) >= 0:\n",
    "        list_.append(sum(x))\n",
    "print(max(list_))"
   ]
  },
  {
   "cell_type": "code",
   "execution_count": null,
   "metadata": {},
   "outputs": [],
   "source": [
    "n, k  = tuple(map(int,input().split()))\n",
    "\n",
    "sum1 = 1\n",
    "for i in range(1, n + 1):\n",
    "    sum1 = sum1 * i\n",
    "\n",
    "sum2 = 1\n",
    "for j in range(1, k + 1):\n",
    "    sum2 = sum2 * j\n",
    "\n",
    "sum3 = 1\n",
    "for z in range(1, (n - k) + 1):\n",
    "    sum3 = sum3 * z\n",
    "\n",
    "print(int(sum1 / (sum2 * sum3)))\n"
   ]
  },
  {
   "cell_type": "code",
   "execution_count": null,
   "metadata": {},
   "outputs": [],
   "source": [
    "WBWBWBWB\n",
    "BWBWBWBW\n",
    "WBWBWBWB\n",
    "BWBBBWBW\n",
    "WBWBWBWB\n",
    "BWBWBWBW\n",
    "WBWBWBWB\n",
    "BWBWBWBW"
   ]
  },
  {
   "cell_type": "code",
   "execution_count": null,
   "metadata": {},
   "outputs": [],
   "source": [
    "n = 10\n",
    "m = 13\n",
    "string = 'BBBBBBBBWBWBWBBBBBBBBBWBWBBBBBBBBBWBWBWBBBBBBBBBWBWBBBBBBBBBWBWBWBBBBBBBBBWBWBBBBBBBBBWBWBWBBBBBBBBBWBWBWWWWWWWWWWBWBWWWWWWWWWWBWB'\n",
    "# for _ in range(n):\n",
    "#     string += input()\n",
    "\n",
    "\n"
   ]
  },
  {
   "cell_type": "code",
   "execution_count": null,
   "metadata": {},
   "outputs": [],
   "source": [
    "len(bigyo)"
   ]
  },
  {
   "cell_type": "code",
   "execution_count": null,
   "metadata": {},
   "outputs": [],
   "source": [
    "print(bigyo[0:13])\n",
    "print(bigyo[13:26])\n",
    "print(bigyo[26:39])"
   ]
  },
  {
   "cell_type": "code",
   "execution_count": null,
   "metadata": {},
   "outputs": [],
   "source": [
    "count = 0\n",
    "for idx, s in enumerate(string):\n",
    "    if s != bigyo[idx]:\n",
    "        print(count, idx,  s, bigyo[idx])\n",
    "        count += 1"
   ]
  },
  {
   "cell_type": "code",
   "execution_count": null,
   "metadata": {},
   "outputs": [],
   "source": []
  },
  {
   "cell_type": "code",
   "execution_count": null,
   "metadata": {},
   "outputs": [],
   "source": [
    "n = int(input())\n",
    "list_ = []\n",
    "list2 = []\n",
    "dict_ = {}\n",
    "for _ in range(n):\n",
    "    string = input()\n",
    "    list_.append(string)\n",
    "    list2.append(len(string))\n",
    "\n",
    "dict_ = {}\n",
    "for i in set(list2):\n",
    "    dict_[i] = []\n",
    "\n",
    "for idx, i in enumerate(list2):\n",
    "    dict_[i].append(list_[idx])\n",
    "    \n",
    "for k, v in dict_.items():\n",
    "    v.sort()\n",
    "\n",
    "\n",
    "temp_s = ''\n",
    "for k, v in sorted(dict_.items()):\n",
    "    for item in v:\n",
    "        if temp_s != item:\n",
    "            print(item)\n",
    "            temp_s = item\n",
    "        else:\n",
    "            pass"
   ]
  },
  {
   "cell_type": "code",
   "execution_count": null,
   "metadata": {},
   "outputs": [],
   "source": [
    "ever\n"
   ]
  },
  {
   "cell_type": "code",
   "execution_count": null,
   "metadata": {},
   "outputs": [],
   "source": [
    "import math\n",
    "a, b = map(int,input().split())\n",
    "print(math.gcd(a,b))\n",
    "print(int(a * b / math.gcd(a,b)))"
   ]
  },
  {
   "cell_type": "code",
   "execution_count": null,
   "metadata": {},
   "outputs": [],
   "source": [
    "import sys\n",
    "num = int(sys.stdin.readline())\n",
    "list_ = []\n",
    "[list_.append(int(sys.stdin.readline())) for _ in range(num)]\n",
    "list_ = sorted(list(set(list_)))\n",
    "[print(x) for x in list_]"
   ]
  },
  {
   "cell_type": "code",
   "execution_count": null,
   "metadata": {},
   "outputs": [],
   "source": [
    "\n",
    "num = int(input())\n",
    "name_list = []\n",
    "for idx, _ in enumerate(range(num)):\n",
    "    age, name = input().split()\n",
    "    name_list.append([int(age), name, idx])\n",
    "name_list = sorted(name_list, key = lambda name_list : [name_list[0], name_list[2]])\n",
    "for x in name_list:\n",
    "    print(x[0], x[1])\n"
   ]
  },
  {
   "cell_type": "code",
   "execution_count": null,
   "metadata": {},
   "outputs": [],
   "source": [
    "import sys\n",
    "num = int(sys.stdin.readline())\n",
    "list_ = []\n",
    "for _ in range(num):\n",
    "    list_.append(sys.stdin.readline().strip().split())"
   ]
  },
  {
   "cell_type": "code",
   "execution_count": null,
   "metadata": {},
   "outputs": [],
   "source": [
    "import sys\n",
    "num = int(sys.stdin.readline())\n",
    "list_ = []\n",
    "for _ in range(num):\n",
    "    list_.append(list(map(int,sys.stdin.readline().strip().split())))\n",
    "for x in sorted(list_, key = lambda list_ : [list_[0], list_[1]]):\n",
    "    print(x[0], x[1])\n"
   ]
  },
  {
   "cell_type": "code",
   "execution_count": null,
   "metadata": {},
   "outputs": [],
   "source": [
    "import sys\n",
    "sys.stdin.readline()\n",
    "nums_list = list(map(int, sys.stdin.readline().split()))\n",
    "sys.stdin.readline()\n",
    "nums_list2 = list(map(int, sys.stdin.readline().split()))\n",
    "for x in nums_list2:\n",
    "    if x in nums_list:\n",
    "        print(1)\n",
    "    else:\n",
    "        print(0)\n"
   ]
  },
  {
   "cell_type": "code",
   "execution_count": null,
   "metadata": {},
   "outputs": [],
   "source": [
    "import sys\n",
    "num = int(input())\n",
    "num_list = tuple(map(int, input().split()))\n",
    "real_count = 0\n",
    "for x in num_list:\n",
    "    count = 0\n",
    "    for j in range(1,x + 1):\n",
    "        if x % j == 0:\n",
    "            count += 1\n",
    "    if count == 2:\n",
    "        real_count += 1\n",
    "print(real_count)\n"
   ]
  },
  {
   "cell_type": "code",
   "execution_count": null,
   "metadata": {},
   "outputs": [],
   "source": [
    "import sys\n",
    "from collections import deque\n",
    "\n",
    "num = int(input())\n",
    "list_ = []\n",
    "for x in range(1, num + 1):\n",
    "    list_.append(x)\n",
    "\n",
    "queue = deque(list_)\n",
    "\n",
    "while len(queue) > 1:\n",
    "    queue.popleft()\n",
    "    first_one = queue.popleft()\n",
    "    queue.append(first_one)\n",
    "print(queue[0])"
   ]
  },
  {
   "cell_type": "code",
   "execution_count": null,
   "metadata": {},
   "outputs": [],
   "source": [
    "queue"
   ]
  },
  {
   "cell_type": "code",
   "execution_count": null,
   "metadata": {},
   "outputs": [],
   "source": [
    "print(sum(list(range(1,int(input()) + 1))))"
   ]
  },
  {
   "cell_type": "code",
   "execution_count": null,
   "metadata": {},
   "outputs": [],
   "source": [
    "total_price = int(input())\n",
    "num = int(input())\n",
    "sum = 0\n",
    "for _ in range(num):\n",
    "    a, b = map(int,input().split())\n",
    "    sum += a * b\n",
    "\n",
    "if sum == total_price:\n",
    "    print('Yes')\n",
    "else:\n",
    "    print('No')"
   ]
  },
  {
   "cell_type": "code",
   "execution_count": null,
   "metadata": {},
   "outputs": [],
   "source": [
    "import sys\n",
    "count = int(sys.stdin.readline())\n",
    "for _ in range(count):\n",
    "    a, b = tuple(map(int,sys.stdin.readline().split()))\n",
    "    print(f'Case #{_ + 1}: {a} + {b} = {a + b}')"
   ]
  },
  {
   "cell_type": "code",
   "execution_count": null,
   "metadata": {},
   "outputs": [],
   "source": [
    "num = int(input())\n",
    "for _ in range(1, num + 1):\n",
    "    print(' ' * (num - _) + '*' * _)"
   ]
  },
  {
   "cell_type": "code",
   "execution_count": null,
   "metadata": {},
   "outputs": [],
   "source": [
    "num = input()\n",
    "if int(num) < 10:\n",
    "    num = '0' + num\n",
    "a, b = num\n",
    "count = 0\n",
    "while True:\n",
    "    new_num = int(a) + int(b)\n",
    "    if new_num < 10:\n",
    "        new_num = '0' + str(new_num)\n",
    "    new_num = b + str(new_num)[1]\n",
    "    a, b = new_num\n",
    "    count += 1\n",
    "    if num == new_num:\n",
    "        print(count)\n",
    "        break\n",
    "\n",
    "\n"
   ]
  },
  {
   "cell_type": "code",
   "execution_count": 38,
   "metadata": {},
   "outputs": [
    {
     "name": "stdout",
     "output_type": "stream",
     "text": [
      "20\n"
     ]
    },
    {
     "ename": "TypeError",
     "evalue": "'int' object is not callable",
     "output_type": "error",
     "traceback": [
      "\u001b[1;31m---------------------------------------------------------------------------\u001b[0m",
      "\u001b[1;31mTypeError\u001b[0m                                 Traceback (most recent call last)",
      "\u001b[1;32m~\\AppData\\Local\\Temp\\ipykernel_81860\\3279845895.py\u001b[0m in \u001b[0;36m<module>\u001b[1;34m\u001b[0m\n\u001b[0;32m      7\u001b[0m     \u001b[1;32mfor\u001b[0m \u001b[0mx\u001b[0m \u001b[1;32min\u001b[0m \u001b[0mstu_list\u001b[0m\u001b[1;33m:\u001b[0m\u001b[1;33m\u001b[0m\u001b[1;33m\u001b[0m\u001b[0m\n\u001b[0;32m      8\u001b[0m         \u001b[0mprint\u001b[0m\u001b[1;33m(\u001b[0m\u001b[0mx\u001b[0m\u001b[1;33m)\u001b[0m\u001b[1;33m\u001b[0m\u001b[1;33m\u001b[0m\u001b[0m\n\u001b[1;32m----> 9\u001b[1;33m         \u001b[1;32mif\u001b[0m \u001b[0mx\u001b[0m \u001b[1;33m>\u001b[0m \u001b[1;33m(\u001b[0m\u001b[0msum\u001b[0m\u001b[1;33m(\u001b[0m\u001b[0mstu_list\u001b[0m\u001b[1;33m)\u001b[0m \u001b[1;33m/\u001b[0m \u001b[0mstu_count\u001b[0m\u001b[1;33m)\u001b[0m\u001b[1;33m:\u001b[0m\u001b[1;33m\u001b[0m\u001b[1;33m\u001b[0m\u001b[0m\n\u001b[0m\u001b[0;32m     10\u001b[0m             \u001b[0mcount\u001b[0m \u001b[1;33m+=\u001b[0m \u001b[1;36m1\u001b[0m\u001b[1;33m\u001b[0m\u001b[1;33m\u001b[0m\u001b[0m\n\u001b[0;32m     11\u001b[0m     \u001b[0mprint\u001b[0m\u001b[1;33m(\u001b[0m\u001b[0mcount\u001b[0m\u001b[1;33m/\u001b[0m\u001b[0mstu_count\u001b[0m\u001b[1;33m)\u001b[0m\u001b[1;33m\u001b[0m\u001b[1;33m\u001b[0m\u001b[0m\n",
      "\u001b[1;31mTypeError\u001b[0m: 'int' object is not callable"
     ]
    }
   ],
   "source": [
    "num = int(input())\n",
    "for _ in range(num):\n",
    "    stu = list(map(int,input().split()))\n",
    "    stu_count = stu[0]\n",
    "    stu_list = stu[1:]\n",
    "    count = 0\n",
    "    for x in stu_list:\n",
    "        print(x)\n",
    "        if x > (sum(stu_list) / stu_count):\n",
    "            count += 1\n",
    "    print(count/stu_count)"
   ]
  },
  {
   "cell_type": "code",
   "execution_count": null,
   "metadata": {},
   "outputs": [],
   "source": [
    "a = [2,3,4]\n",
    "sum(a)"
   ]
  },
  {
   "cell_type": "code",
   "execution_count": null,
   "metadata": {},
   "outputs": [],
   "source": []
  }
 ],
 "metadata": {
  "kernelspec": {
   "display_name": "base",
   "language": "python",
   "name": "python3"
  },
  "language_info": {
   "codemirror_mode": {
    "name": "ipython",
    "version": 3
   },
   "file_extension": ".py",
   "mimetype": "text/x-python",
   "name": "python",
   "nbconvert_exporter": "python",
   "pygments_lexer": "ipython3",
   "version": "3.9.13 (main, Aug 25 2022, 23:51:50) [MSC v.1916 64 bit (AMD64)]"
  },
  "orig_nbformat": 4,
  "vscode": {
   "interpreter": {
    "hash": "54f843e2d25d3a59c86748e7da2acead36750f0d182112685aa834d50ad6fdc4"
   }
  }
 },
 "nbformat": 4,
 "nbformat_minor": 2
}
