{
 "cells": [
  {
   "cell_type": "markdown",
   "id": "b2eca8df-8d0f-4a9a-9c96-e213cf1e4e78",
   "metadata": {},
   "source": [
    "### Cell 이라고 한다. 종류로는 Code / Markdown / Raw가 존재합니다.\n",
    "### 아래쪽에서 오른쪽 하단에 종류를 확인할 수 있고 Cell에 대한 명령어를 입력할 수 있습니다.\n",
    "#### (M - 마크다운 , R - 로우 , B - 코드)"
   ]
  },
  {
   "cell_type": "code",
   "execution_count": 1,
   "id": "dae2395c-013d-401c-b073-f6af458c7064",
   "metadata": {},
   "outputs": [
    {
     "name": "stdout",
     "output_type": "stream",
     "text": [
      "hi\n"
     ]
    }
   ],
   "source": [
    "print('hi')"
   ]
  },
  {
   "cell_type": "code",
   "execution_count": 6,
   "id": "3016a969-8824-4bb9-84b1-f73a562639a5",
   "metadata": {},
   "outputs": [
    {
     "name": "stdout",
     "output_type": "stream",
     "text": [
      "b\n"
     ]
    }
   ],
   "source": [
    "print('b')"
   ]
  },
  {
   "cell_type": "code",
   "execution_count": 11,
   "id": "621b1bbe-5662-4468-b0c0-cf6563db6357",
   "metadata": {},
   "outputs": [
    {
     "data": {
      "text/plain": [
       "'# 이것은 주석이 아닙니다. 따옴표 안은 문자열 리터럴입니다.'"
      ]
     },
     "execution_count": 11,
     "metadata": {},
     "output_type": "execute_result"
    }
   ],
   "source": [
    "# 주석 사용하기\n",
    "x = 1 # 여기서 =(등호) 기호는 수학의 같다와는 의미와 다르다.\n",
    "      # .... 우측 변의 리터럴을 좌측 변의 변수에 대입한다는 의미다.\n",
    "text = '# 이것은 주석이 아닙니다. 따옴표 안은 문자열 리터럴입니다.'\n",
    "text"
   ]
  },
  {
   "cell_type": "markdown",
   "id": "64f5cd6e-28e1-41a6-9692-061b1878836e",
   "metadata": {},
   "source": [
    "리터럴은 값 자체입니다. 숫자, 문자열, True, False와 같은 값을 의미합니다.<br>\n",
    "x = 1<br>\n",
    "1은 숫자형 리터럴입니다.<br>\n",
    "앞의 코드에서 '# 이것은 주석이 아닙니다. 따옴표 안은 문자열 리터럴입니다.\"는 문자열 리터럴입니다.<br>\n",
    "변수는 변화할 수 있는 값을 메모리 상에 저장하고 활용할 수 있도록 하는 공간입니다.<br>\n",
    "메모리 상에 저장한다는 것은 프로그램이 실행 되어있는 동안에만 저장된다는 의미입니다.<br>\n",
    "위에선 x가 변수가 됩니다. 등호 기호를 통해 1이란 리터럴을 메모리에 할당받고 있습니다.<br>"
   ]
  },
  {
   "cell_type": "code",
   "execution_count": 16,
   "id": "ebac1198-6b64-4c5a-a728-8f1982cde379",
   "metadata": {},
   "outputs": [],
   "source": [
    "x = 1\n",
    "# 대입 연산자를 통해서 1이라는 숫자를 x에 할당\n",
    "# ram(메모리) 전기신호(0,1)로 저장되어 있는 것을 x라는 변수에 할당\n",
    "# 32bit(8byte), 숫자 -> int\n",
    "# type -> 크기(bit), 종류\n",
    "# value -> 값"
   ]
  },
  {
   "cell_type": "code",
   "execution_count": 21,
   "id": "5d01fb1b-b35f-4f24-8e63-71944d474a1b",
   "metadata": {},
   "outputs": [
    {
     "name": "stdout",
     "output_type": "stream",
     "text": [
      "1\n",
      "# 이것은 주석이 아닙니다. 따옴표 안은 문자열 리터럴입니다.\n"
     ]
    }
   ],
   "source": [
    "print(x)\n",
    "print(text)\n",
    "# print()는 Parameter로 받은 값을 모니터에 출력해주는 함수입니다.\n",
    "# () 소괄호에는 Parameter를 작성합니다."
   ]
  },
  {
   "cell_type": "markdown",
   "id": "ca457a43-94bd-4681-9f44-072454074ef3",
   "metadata": {},
   "source": [
    "# print 함수\n",
    "### print(x)는 x 변수를 화면에 출력해주는 함수입니다.\n",
    "### print는 함수의 이름입니다. 함수는 소괄호 안에 arguments를 넣어 호출합니다."
   ]
  },
  {
   "cell_type": "markdown",
   "id": "13c83c11-8466-47ec-8821-a1eef42ea787",
   "metadata": {},
   "source": [
    "## 연습문제\n",
    "### 실행결과가 아래와 같이 출력되도록 하나의 셀에 파이썬 코드를 작성해보세요\n",
    "Hello, world!<br>\n",
    "Hello, world!<br>\n",
    "Python Programming"
   ]
  },
  {
   "cell_type": "code",
   "execution_count": 23,
   "id": "cf60a6aa-cc4a-44a5-8d37-d94acf826151",
   "metadata": {},
   "outputs": [
    {
     "name": "stdout",
     "output_type": "stream",
     "text": [
      "Hello, world!\n",
      "Hello, world!\n",
      "Python Programming\n"
     ]
    }
   ],
   "source": [
    "print('Hello, world!')\n",
    "print('Hello, world!')\n",
    "print('Python Programming')"
   ]
  },
  {
   "cell_type": "code",
   "execution_count": 27,
   "id": "fd83a7f4-1e08-45b9-b188-aed8fa89d58f",
   "metadata": {},
   "outputs": [
    {
     "name": "stdout",
     "output_type": "stream",
     "text": [
      "Hello, world!\n",
      "Hello, world!\n",
      "Python Programming\n"
     ]
    }
   ],
   "source": [
    "print('Hello, world!\\nHello, world!\\nPython Programming')"
   ]
  },
  {
   "cell_type": "code",
   "execution_count": 1,
   "id": "4159e4bf-b3b8-45ed-9c00-f88f21eaa967",
   "metadata": {},
   "outputs": [
    {
     "name": "stdout",
     "output_type": "stream",
     "text": [
      "Hello, world!\n",
      "Hello, world!\n",
      "Python Programming\n"
     ]
    }
   ],
   "source": [
    "text = 'Hello, world!'\n",
    "i = 0 \n",
    "while i < 2:\n",
    "    print(text)\n",
    "    i += 1\n",
    "print('Python Programming')"
   ]
  },
  {
   "cell_type": "markdown",
   "id": "6e7476b0-1f07-431a-a3d2-d387655e691f",
   "metadata": {},
   "source": [
    "# 파이썬을 계산기처럼! 연산자 사용해보기\n",
    "### 파이썬을 간단한 계산기로 활용가능합니다."
   ]
  },
  {
   "cell_type": "code",
   "execution_count": 4,
   "id": "2bf60238-ecfa-43f5-8239-6aa14fe48751",
   "metadata": {},
   "outputs": [
    {
     "name": "stdout",
     "output_type": "stream",
     "text": [
      "4\n",
      "1\n",
      "20\n",
      "2.0\n"
     ]
    }
   ],
   "source": [
    "print(2+2) #정수\n",
    "print(3-2) #정수\n",
    "print(4*5) #정수\n",
    "print(4/2) #항상 실수 / 나누기는 항상 실수가 나온다."
   ]
  },
  {
   "cell_type": "code",
   "execution_count": 6,
   "id": "d6552e86-7239-49ff-b1a7-c1e4d2210433",
   "metadata": {},
   "outputs": [
    {
     "name": "stdout",
     "output_type": "stream",
     "text": [
      "89\n",
      "28.2\n"
     ]
    }
   ],
   "source": [
    "print(13 + (22 - 3) * 4)\n",
    "print(13 + ((22 - 3) * 4) / 5)"
   ]
  },
  {
   "cell_type": "code",
   "execution_count": 11,
   "id": "375da4ed-5af0-4452-8412-740f14f92f57",
   "metadata": {},
   "outputs": [
    {
     "name": "stdout",
     "output_type": "stream",
     "text": [
      "3\n",
      "1\n",
      "128\n",
      "1.7320508075688772\n"
     ]
    }
   ],
   "source": [
    "print(7 // 2) # 몫 구하기\n",
    "print(3 % 2) # 나머지가 나온다.\n",
    "print(2 ** 7) # 정수\n",
    "print(3 ** (1/2)) # 실수, 소괄호 순서에 유의한다."
   ]
  },
  {
   "cell_type": "code",
   "execution_count": 15,
   "id": "858b0c34-70e4-4227-b56d-212c53b4319c",
   "metadata": {},
   "outputs": [
    {
     "name": "stdout",
     "output_type": "stream",
     "text": [
      "3\n",
      "2.5\n",
      "104\n",
      "3.0\n",
      "16.0\n",
      "3.334\n"
     ]
    }
   ],
   "source": [
    "# 타입변환, int(정수로 변환할 것)\n",
    "print(int(3.3))\n",
    "print(5/2)\n",
    "print(int('104'))\n",
    "\n",
    "# 타입변환, float(실수로 변환할 것)\n",
    "print(float(3))\n",
    "print(float(4*4))\n",
    "print(float('3.334'))"
   ]
  },
  {
   "cell_type": "code",
   "execution_count": 17,
   "id": "e22378af-40b3-4070-a039-e9c22ed3a883",
   "metadata": {},
   "outputs": [
    {
     "ename": "ValueError",
     "evalue": "invalid literal for int() with base 10: '문자열'",
     "output_type": "error",
     "traceback": [
      "\u001b[1;31m---------------------------------------------------------------------------\u001b[0m",
      "\u001b[1;31mValueError\u001b[0m                                Traceback (most recent call last)",
      "\u001b[1;32m~\\AppData\\Local\\Temp\\ipykernel_15316\\2881795099.py\u001b[0m in \u001b[0;36m<module>\u001b[1;34m\u001b[0m\n\u001b[0;32m      1\u001b[0m \u001b[1;31m# 정수로 바꿀 수 없는 문자열을 변환하는 경우\u001b[0m\u001b[1;33m\u001b[0m\u001b[1;33m\u001b[0m\u001b[0m\n\u001b[1;32m----> 2\u001b[1;33m \u001b[0mint\u001b[0m\u001b[1;33m(\u001b[0m\u001b[1;34m'문자열'\u001b[0m\u001b[1;33m)\u001b[0m \u001b[1;31m# 에러가 발생한다 유효하지 않은 literal(리터럴)을 넣었다 - 리터럴은 객체 같은 말이라고 생각하면 됨\u001b[0m\u001b[1;33m\u001b[0m\u001b[1;33m\u001b[0m\u001b[0m\n\u001b[0m",
      "\u001b[1;31mValueError\u001b[0m: invalid literal for int() with base 10: '문자열'"
     ]
    }
   ],
   "source": [
    "# 정수로 바꿀 수 없는 문자열을 변환하는 경우\n",
    "int('문자열') # 에러가 발생한다 유효하지 않은 literal(리터럴)을 넣었다 - 리터럴은 객체 같은 말이라고 생각하면 됨"
   ]
  },
  {
   "cell_type": "code",
   "execution_count": 8,
   "id": "07ef1025-ea97-4b24-8844-6dac75fc2212",
   "metadata": {},
   "outputs": [
    {
     "name": "stdout",
     "output_type": "stream",
     "text": [
      "가장 시끄러운 층은 = 7 층\n"
     ]
    }
   ],
   "source": [
    "# 연습문제 1번\n",
    "# 국립환경과학원에서는 아파트에서 소음이 가장 심한 층수를 구하는 계산식을 발표했습니다. 소음이 가장 심한층은\n",
    "# 0.2467 * 도로와의 거리(m) + 4.159입니다. 이 때 소음이 가장 심한 층수를 구해보세요(단 층수는 정수로 표현하세요)\n",
    "print('가장 시끄러운 층은 =', int(0.2467 * 12 + 4.159), '층')\n",
    "# 답은 7층입니다!"
   ]
  },
  {
   "cell_type": "code",
   "execution_count": 7,
   "id": "a9ef9ad1-2941-492a-b23d-6a6f2dc58134",
   "metadata": {},
   "outputs": [
    {
     "name": "stdout",
     "output_type": "stream",
     "text": [
      "냉장고의 총 가격은 1272000원입니다.\n"
     ]
    }
   ],
   "source": [
    "# 연습문제 2번\n",
    "# 헬로우마트에서 냉장고를 월 53000원에 무이자 24개월 할부 조건으로 판매하고 있습니다. 냉장고의 총 금액을 아래와 같이 출력해보세요.\n",
    "print(f\"냉장고의 총 가격은 {53000 * 24}원입니다.\")"
   ]
  },
  {
   "cell_type": "code",
   "execution_count": 10,
   "id": "ee585246",
   "metadata": {},
   "outputs": [
    {
     "name": "stdout",
     "output_type": "stream",
     "text": [
      "총 지불해야하는 금액은 16500000원 입니다.\n"
     ]
    }
   ],
   "source": [
    "# 연습문제 3번\n",
    "price = 20000\n",
    "people = 250\n",
    "each_person = 3\n",
    "tax = 0.1\n",
    "\n",
    "total_price = int(price * each_person  * people * (1 + tax))\n",
    "print(f'총 지불해야하는 금액은 {total_price}원 입니다.')"
   ]
  },
  {
   "cell_type": "code",
   "execution_count": 12,
   "id": "c1af61ba",
   "metadata": {},
   "outputs": [
    {
     "data": {
      "text/plain": [
       "0.0012345"
      ]
     },
     "execution_count": 12,
     "metadata": {},
     "output_type": "execute_result"
    }
   ],
   "source": [
    "1.2345e10 # 1.2345 * 10의 10승과 같다\n",
    "1.2345e-3 # 1.2345 8 10의 -3승과 같다"
   ]
  },
  {
   "cell_type": "code",
   "execution_count": 14,
   "id": "849264a3",
   "metadata": {},
   "outputs": [
    {
     "name": "stdout",
     "output_type": "stream",
     "text": [
      "17\n",
      "46\n",
      "0b10001\n",
      "0b10110\n"
     ]
    }
   ],
   "source": [
    "# 2진법 표기 => 숫자 0과 알파벳 b(비)\n",
    "print(0b10001) # 이진법 형태를 숫자로\n",
    "print(0b101110) # 이진법 형태를 숫자로\n",
    "print(bin(17)) # 17을 이진법 형태로\n",
    "print(bin(22)) # 22를 이진법 형태로"
   ]
  },
  {
   "cell_type": "code",
   "execution_count": 17,
   "id": "1441a3c5",
   "metadata": {},
   "outputs": [
    {
     "name": "stdout",
     "output_type": "stream",
     "text": [
      "17\n",
      "22\n",
      "0o21\n",
      "0o26\n"
     ]
    }
   ],
   "source": [
    "# 8진법 표기 -> 숫자 0과 알파벳 o(오)\n",
    "print(0o21) # 팔진법 형태를 숫자로\n",
    "print(0o26) # 팔진법 형태를 숫자로\n",
    "print(oct(17)) # 17을 팔진법 형태로\n",
    "print(oct(22)) # 22를 팔진법 형태로\n",
    "\n"
   ]
  },
  {
   "cell_type": "code",
   "execution_count": 21,
   "id": "0703ecbb",
   "metadata": {},
   "outputs": [
    {
     "name": "stdout",
     "output_type": "stream",
     "text": [
      "31\n",
      "22\n",
      "0x1f\n",
      "0x16\n"
     ]
    }
   ],
   "source": [
    "# 16진수 표기 -> 숫자 0과 알파벳 x(엑스)\n",
    "print(0x1f) # 십육진법 형태를 숫자로\n",
    "print(0x16) # 십육진법 형태를 숫자로\n",
    "print(hex(31))  # 31을 십육진법 형태로\n",
    "print(hex(22))  # 22을 십육진법 형태로"
   ]
  },
  {
   "cell_type": "code",
   "execution_count": 25,
   "id": "cd1188a1",
   "metadata": {},
   "outputs": [
    {
     "name": "stdout",
     "output_type": "stream",
     "text": [
      "453.0\n"
     ]
    }
   ],
   "source": [
    "# AP가 380일 때 스킬피해량을 구하시오\n",
    "def skill(AP):\n",
    "    return AP * 0.6 + 225\n",
    "\n",
    "print(skill(380))"
   ]
  },
  {
   "cell_type": "code",
   "execution_count": null,
   "id": "fcea4edd",
   "metadata": {},
   "outputs": [],
   "source": [
    "# 변수(Variable) 복습\n",
    "# 변수는 변화할 수 있는 값을 메모리상에 저장하고 활용할 수 있또록 하는 공간입니다.\n",
    "# 변수에 리터럴을 저장하는 것에 대한 도식화\n",
    "# 메모리상에 대입\n",
    "\n",
    "# 변수명은 문자, 숫자, 언더바를 통해 만듭니다.\n",
    "# 숫자로 시작하는 변수명은 만들 수 없습니다.\n",
    "# 대소문자를 구분합니다.\n",
    "# 공백을 포함할 수 없습니다.\n",
    "# 예약어는 변수명으로 사용할 수 없습니다.\n",
    "# 보통 snake_case를 활용하여 명명하도록 권장하고 있습니다."
   ]
  },
  {
   "cell_type": "code",
   "execution_count": 27,
   "id": "bd2f2ddd",
   "metadata": {},
   "outputs": [
    {
     "ename": "NameError",
     "evalue": "name 'x' is not defined",
     "output_type": "error",
     "traceback": [
      "\u001b[1;31m---------------------------------------------------------------------------\u001b[0m",
      "\u001b[1;31mNameError\u001b[0m                                 Traceback (most recent call last)",
      "\u001b[1;32m~\\AppData\\Local\\Temp\\ipykernel_17812\\2657173569.py\u001b[0m in \u001b[0;36m<module>\u001b[1;34m\u001b[0m\n\u001b[0;32m      1\u001b[0m \u001b[0mx\u001b[0m \u001b[1;33m=\u001b[0m \u001b[1;36m1\u001b[0m\u001b[1;33m\u001b[0m\u001b[1;33m\u001b[0m\u001b[0m\n\u001b[0;32m      2\u001b[0m \u001b[1;32mdel\u001b[0m \u001b[0mx\u001b[0m\u001b[1;33m\u001b[0m\u001b[1;33m\u001b[0m\u001b[0m\n\u001b[1;32m----> 3\u001b[1;33m \u001b[0mprint\u001b[0m\u001b[1;33m(\u001b[0m\u001b[0mx\u001b[0m\u001b[1;33m)\u001b[0m\u001b[1;33m\u001b[0m\u001b[1;33m\u001b[0m\u001b[0m\n\u001b[0m",
      "\u001b[1;31mNameError\u001b[0m: name 'x' is not defined"
     ]
    }
   ],
   "source": [
    "x = 1\n",
    "del x\n",
    "print(x)"
   ]
  },
  {
   "cell_type": "code",
   "execution_count": 28,
   "id": "60b4e57a",
   "metadata": {},
   "outputs": [
    {
     "name": "stdout",
     "output_type": "stream",
     "text": [
      "30\n",
      "40\n"
     ]
    }
   ],
   "source": [
    "a = 10\n",
    "a += 20\n",
    "print(a)\n",
    "\n",
    "a += 10\n",
    "print(a)"
   ]
  },
  {
   "cell_type": "code",
   "execution_count": 29,
   "id": "f2aec067",
   "metadata": {},
   "outputs": [
    {
     "name": "stdout",
     "output_type": "stream",
     "text": [
      "None\n"
     ]
    }
   ],
   "source": [
    "# 변수에 빈 값 할당하기\n",
    "# 변수의 값을 없앨 땐 None를 할당하면 됩니다. (문자열 'None'이 아닙니다.)\n",
    "# 보통 다른 언어에서의 null(널)과 같습니다.\n",
    "\n",
    "a = None\n",
    "print(a)"
   ]
  },
  {
   "cell_type": "code",
   "execution_count": null,
   "id": "370f443b",
   "metadata": {},
   "outputs": [],
   "source": [
    "# 상수 : 변수와 상반되며 변하지 않는 것ㅇ비니다.\n",
    "# 다만 파이썬에선 키워드를 통해 상수를 만드는 방법은 없습니다.(나중에 배울 클래스를 통해 구현 가능합니다.)\n",
    "# 보통 대문자로만 된 SANAKE_CASE를 활용하여 상수명을 만들어 씁니다.\n",
    "# (참고) 자바에서는 final 키워드를 활용하여 상수를 만들 수 있습니다.\n",
    "\n",
    "# bool literal\n",
    "# 파이썬 bool type의 리터럴은 True와 False가 있다.\n",
    "# 대소문자를 구분하며 true/false 혹은 TRUE/FALSE처럼 표기할 수 없고 반드시 첫글자를 대문자로 하고 나머지는 소문자로 하는 True, False로만 입력 가능하다."
   ]
  },
  {
   "cell_type": "code",
   "execution_count": null,
   "id": "5aa8bc42",
   "metadata": {},
   "outputs": [],
   "source": [
    "# 그럼 true, false는 변수로 사용가능할까?\n",
    "# 네 아래와 같이 사용가능합니다.\n",
    "# 하지만 쓰지마십쇼"
   ]
  },
  {
   "cell_type": "code",
   "execution_count": null,
   "id": "d5a247ef",
   "metadata": {},
   "outputs": [],
   "source": [
    "# 논리연산자(Logical operateor)\n",
    "# 명제의 논리와 같은 맥락입니다.\n",
    "# and , A와 B 모두 참일 때만 참, 나머지는 거짓\n",
    "# or, A or B A와 B중 단 하나라도 참이면 참, 둘 다 거짓일 때만 거짓\n",
    "# not (논리부정) A가 참이면 거짓이고, 거짓이면 참\n",
    "# 소괄호만 잘쓰면댐"
   ]
  },
  {
   "cell_type": "code",
   "execution_count": 31,
   "id": "2f06cd46",
   "metadata": {},
   "outputs": [
    {
     "name": "stdout",
     "output_type": "stream",
     "text": [
      "이것은 문자열입니다.\n",
      "<class 'str'>\n",
      "이것은 문자열입니다.\n",
      "<class 'str'>\n"
     ]
    }
   ],
   "source": [
    "text = '이것은 문자열입니다.'\n",
    "text2 = \"이것은 문자열입니다.\"\n",
    "\n",
    "print(text)\n",
    "print(type(text))\n",
    "print(text2)\n",
    "print(type(text2))\n"
   ]
  },
  {
   "cell_type": "code",
   "execution_count": 32,
   "id": "b6f4be35",
   "metadata": {},
   "outputs": [
    {
     "name": "stdout",
     "output_type": "stream",
     "text": [
      "\"안녕\"이라는 그 인사를 듣고 나는 '누구지?'라고 생각했다.\n"
     ]
    }
   ],
   "source": [
    "text = '\\\"안녕\\\"이라는 그 인사를 듣고 나는 \\'누구지?\\'라고 생각했다.'\n",
    "print(text)"
   ]
  },
  {
   "cell_type": "code",
   "execution_count": 34,
   "id": "e1fb0598",
   "metadata": {},
   "outputs": [
    {
     "name": "stdout",
     "output_type": "stream",
     "text": [
      "First line.\n",
      "Second line.\n"
     ]
    }
   ],
   "source": [
    "s = 'First line.\\nSecond line.'\n",
    "print(s)"
   ]
  },
  {
   "cell_type": "code",
   "execution_count": 38,
   "id": "0a2b59bc",
   "metadata": {},
   "outputs": [
    {
     "name": "stdout",
     "output_type": "stream",
     "text": [
      "c:\\name\n",
      "c:\\name\n"
     ]
    }
   ],
   "source": [
    "# 1. raw string으로 표현 가능합니다. raw string으로 문자열 리터럴을 만들려면 r을 맨 앞에 붙입니다.\n",
    "# 2. \\를 앞에 붙여 \\를 문자 그대로 출력합니다.\n",
    "s1 = r'c:\\name'\n",
    "s2 = 'c:\\\\name'\n",
    "\n",
    "print(s1)\n",
    "print(s2)"
   ]
  },
  {
   "cell_type": "code",
   "execution_count": 52,
   "id": "476bd646",
   "metadata": {},
   "outputs": [
    {
     "name": "stdout",
     "output_type": "stream",
     "text": [
      "\"안녕하세요.\"\n",
      "나는 파이썬을 공부하고 있습니다.\n",
      "반갑습니다.\n"
     ]
    }
   ],
   "source": [
    "s3 = \"\"\"\\\n",
    "\\\"안녕하세요.\\\"\n",
    "나는 파이썬을 공부하고 있습니다.\n",
    "반갑습니다.\\\n",
    "\"\"\"\n",
    "print(s3)"
   ]
  },
  {
   "cell_type": "code",
   "execution_count": 55,
   "id": "bcff1d0c",
   "metadata": {},
   "outputs": [
    {
     "data": {
      "text/plain": [
       "'너무 너무 너무 너무 너무 너무 너무 파이썬 공부가 즐겁습니다.'"
      ]
     },
     "execution_count": 55,
     "metadata": {},
     "output_type": "execute_result"
    }
   ],
   "source": [
    "\"너무 \" * 7 + \"파이썬 공부가 즐겁습니다.\""
   ]
  },
  {
   "cell_type": "code",
   "execution_count": 66,
   "id": "a69f5fd5",
   "metadata": {},
   "outputs": [
    {
     "name": "stdout",
     "output_type": "stream",
     "text": [
      "P\n"
     ]
    }
   ],
   "source": [
    "word = \"Python\"\n",
    "print(word[0])"
   ]
  },
  {
   "cell_type": "code",
   "execution_count": 67,
   "id": "c9e015ea",
   "metadata": {},
   "outputs": [],
   "source": [
    "# 시퀀스 자료형 순방향으로 인덱스 접근하기(0, 양수)\n",
    "yo = 'Python'\n",
    "list_ = [0,80,72,65,22,2] # 파이썬의 리스트는 모든 자료형이 섞여서 들어갈 수 있다.\n",
    "tuple = (32,20,21,72,35,47,21,72)\n",
    "range = range(6)"
   ]
  },
  {
   "cell_type": "code",
   "execution_count": 71,
   "id": "8afc4af2",
   "metadata": {},
   "outputs": [
    {
     "data": {
      "text/plain": [
       "0"
      ]
     },
     "execution_count": 71,
     "metadata": {},
     "output_type": "execute_result"
    }
   ],
   "source": [
    "range[0]"
   ]
  },
  {
   "cell_type": "code",
   "execution_count": null,
   "id": "e5b562c2",
   "metadata": {},
   "outputs": [],
   "source": [
    "# 인덱스 에러 : 인덱스는 시퀀스 자료형이 갖는 범위 내에서만 사용 가능합니다. 이 범위를 넘는 경우에는 indexError가 발생됩니다."
   ]
  },
  {
   "cell_type": "code",
   "execution_count": 74,
   "id": "b325a7d3",
   "metadata": {},
   "outputs": [
    {
     "name": "stdout",
     "output_type": "stream",
     "text": [
      "꺾\n"
     ]
    }
   ],
   "source": [
    "sentence = '중요한 것은 꺾이지 않는 마음'\n",
    "print(sentence[7]) #이건 character가 아니고 문자열 1개 짜리가 리턴된 결과다"
   ]
  },
  {
   "cell_type": "code",
   "execution_count": 76,
   "id": "42d45886",
   "metadata": {},
   "outputs": [
    {
     "name": "stdout",
     "output_type": "stream",
     "text": [
      "Py\n",
      "Py\n",
      "Py\n",
      "on\n",
      "on\n",
      "on\n",
      "yt\n",
      "yt\n"
     ]
    }
   ],
   "source": [
    "word = 'Python'\n",
    "print(word[0:2])\n",
    "print(word[:2])\n",
    "print(word[:-4])\n",
    "print(word[4:6])\n",
    "print(word[4:])\n",
    "print(word[-2:])\n",
    "print(word[1:3])\n",
    "print(word[-5:-3])"
   ]
  },
  {
   "cell_type": "code",
   "execution_count": 78,
   "id": "9640324f",
   "metadata": {},
   "outputs": [
    {
     "name": "stdout",
     "output_type": "stream",
     "text": [
      "Pto\n"
     ]
    }
   ],
   "source": [
    "    # 변수명[시작숫자(이상):끝숫자(미만):증감크기]\n",
    "    print(word[::2])\n",
    "    # 앞뒤에 아무것도 안쓰면 전체범위에서 2개씩 두칸씩 늘어나기"
   ]
  },
  {
   "cell_type": "code",
   "execution_count": 82,
   "id": "c1cbce69",
   "metadata": {},
   "outputs": [
    {
     "name": "stdout",
     "output_type": "stream",
     "text": [
      "\n",
      "한 것은 꺾이지 않는 마음\n"
     ]
    }
   ],
   "source": [
    "sentence = '중요한 것은 꺾이지 않는 마음'\n",
    "# 슬라이싱은 인덱스 범위를 벗어나도 유연하게 처리됩니다. 만약 인덱스 에러처럼 존재하는 인덱스에 대해서 표현 가능하다면 값을 포함하지 않는 '끝숫자'의 범위가 표현 불가능해진다.\n",
    "print(sentence[42:])\n",
    "print(sentence[2:42])"
   ]
  },
  {
   "cell_type": "code",
   "execution_count": 86,
   "id": "98ff4d29",
   "metadata": {},
   "outputs": [
    {
     "data": {
      "text/plain": [
       "'꺾이지 않는 마음'"
      ]
     },
     "execution_count": 86,
     "metadata": {},
     "output_type": "execute_result"
    }
   ],
   "source": [
    "sentence = '중요한 것은 꺾이지 않는 마음'\n",
    "sentence[7:]"
   ]
  },
  {
   "cell_type": "code",
   "execution_count": 90,
   "id": "bc025119",
   "metadata": {},
   "outputs": [
    {
     "data": {
      "text/plain": [
       "'한요중'"
      ]
     },
     "execution_count": 90,
     "metadata": {},
     "output_type": "execute_result"
    }
   ],
   "source": [
    "sentence[-14:-17:-1]"
   ]
  },
  {
   "cell_type": "code",
   "execution_count": 91,
   "id": "4d7f5bc0",
   "metadata": {},
   "outputs": [
    {
     "data": {
      "text/plain": [
       "'음마 는않 지이꺾 은것 한요중'"
      ]
     },
     "execution_count": 91,
     "metadata": {},
     "output_type": "execute_result"
    }
   ],
   "source": [
    "sentence[::-1]"
   ]
  },
  {
   "cell_type": "code",
   "execution_count": 93,
   "id": "68056a31",
   "metadata": {},
   "outputs": [
    {
     "name": "stdout",
     "output_type": "stream",
     "text": [
      "재밌어요재밌어요재밌어요재밌어요재밌어요재밌어요재밌어요재밌어요재밌어요재밌어요\n",
      "40\n"
     ]
    }
   ],
   "source": [
    "s7 = \"재밌어요\" * 10\n",
    "print(s7)\n",
    "print(len(s7))"
   ]
  },
  {
   "cell_type": "code",
   "execution_count": 99,
   "id": "79744a6b",
   "metadata": {},
   "outputs": [
    {
     "name": "stdout",
     "output_type": "stream",
     "text": [
      "4\n"
     ]
    }
   ],
   "source": [
    "squares = [1,2,3,4,5,6]\n",
    "squares[0]\n",
    "squares[-1]\n",
    "\n",
    "print(squares[-3])"
   ]
  },
  {
   "cell_type": "code",
   "execution_count": 100,
   "id": "1a4d1b9d",
   "metadata": {},
   "outputs": [
    {
     "data": {
      "text/plain": [
       "135"
      ]
     },
     "execution_count": 100,
     "metadata": {},
     "output_type": "execute_result"
    }
   ],
   "source": [
    "7 + 3 * 2 ** 7 - 256"
   ]
  },
  {
   "cell_type": "code",
   "execution_count": 104,
   "id": "13b9d34d",
   "metadata": {},
   "outputs": [
    {
     "name": "stdout",
     "output_type": "stream",
     "text": [
      "t t l\n"
     ]
    }
   ],
   "source": [
    "x = \"Don't want no riddle\"\n"
   ]
  },
  {
   "cell_type": "code",
   "execution_count": 118,
   "id": "82f93d46",
   "metadata": {},
   "outputs": [
    {
     "data": {
      "text/plain": [
       "'zxvtrpnlj'"
      ]
     },
     "execution_count": 118,
     "metadata": {},
     "output_type": "execute_result"
    }
   ],
   "source": [
    "letters = 'abcdefghijklmnopqrstuvwxyz'\n",
    "print(letters[:-18:-2])\n"
   ]
  },
  {
   "cell_type": "code",
   "execution_count": null,
   "id": "81a2f9cb",
   "metadata": {},
   "outputs": [],
   "source": []
  }
 ],
 "metadata": {
  "kernelspec": {
   "display_name": "base",
   "language": "python",
   "name": "python3"
  },
  "language_info": {
   "codemirror_mode": {
    "name": "ipython",
    "version": 3
   },
   "file_extension": ".py",
   "mimetype": "text/x-python",
   "name": "python",
   "nbconvert_exporter": "python",
   "pygments_lexer": "ipython3",
   "version": "3.9.13"
  },
  "vscode": {
   "interpreter": {
    "hash": "54f843e2d25d3a59c86748e7da2acead36750f0d182112685aa834d50ad6fdc4"
   }
  }
 },
 "nbformat": 4,
 "nbformat_minor": 5
}
