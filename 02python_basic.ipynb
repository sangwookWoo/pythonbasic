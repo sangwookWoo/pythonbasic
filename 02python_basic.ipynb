{
 "cells": [
  {
   "cell_type": "markdown",
   "id": "b2eca8df-8d0f-4a9a-9c96-e213cf1e4e78",
   "metadata": {},
   "source": [
    "### Cell 이라고 한다. 종류로는 Code / Markdown / Raw가 존재합니다.\n",
    "### 아래쪽에서 오른쪽 하단에 종류를 확인할 수 있고 Cell에 대한 명령어를 입력할 수 있습니다.\n",
    "#### (M - 마크다운 , R - 로우 , B - 코드)"
   ]
  },
  {
   "cell_type": "code",
   "execution_count": 1,
   "id": "dae2395c-013d-401c-b073-f6af458c7064",
   "metadata": {},
   "outputs": [
    {
     "name": "stdout",
     "output_type": "stream",
     "text": [
      "hi\n"
     ]
    }
   ],
   "source": [
    "print('hi')"
   ]
  },
  {
   "cell_type": "code",
   "execution_count": 6,
   "id": "3016a969-8824-4bb9-84b1-f73a562639a5",
   "metadata": {},
   "outputs": [
    {
     "name": "stdout",
     "output_type": "stream",
     "text": [
      "b\n"
     ]
    }
   ],
   "source": [
    "print('b')"
   ]
  },
  {
   "cell_type": "code",
   "execution_count": 11,
   "id": "621b1bbe-5662-4468-b0c0-cf6563db6357",
   "metadata": {},
   "outputs": [
    {
     "data": {
      "text/plain": [
       "'# 이것은 주석이 아닙니다. 따옴표 안은 문자열 리터럴입니다.'"
      ]
     },
     "execution_count": 11,
     "metadata": {},
     "output_type": "execute_result"
    }
   ],
   "source": [
    "# 주석 사용하기\n",
    "x = 1 # 여기서 =(등호) 기호는 수학의 같다와는 의미와 다르다.\n",
    "      # .... 우측 변의 리터럴을 좌측 변의 변수에 대입한다는 의미다.\n",
    "text = '# 이것은 주석이 아닙니다. 따옴표 안은 문자열 리터럴입니다.'\n",
    "text"
   ]
  },
  {
   "cell_type": "markdown",
   "id": "64f5cd6e-28e1-41a6-9692-061b1878836e",
   "metadata": {},
   "source": [
    "리터럴은 값 자체입니다. 숫자, 문자열, True, False와 같은 값을 의미합니다.<br>\n",
    "x = 1<br>\n",
    "1은 숫자형 리터럴입니다.<br>\n",
    "앞의 코드에서 '# 이것은 주석이 아닙니다. 따옴표 안은 문자열 리터럴입니다.\"는 문자열 리터럴입니다.<br>\n",
    "변수는 변화할 수 있는 값을 메모리 상에 저장하고 활용할 수 있도록 하는 공간입니다.<br>\n",
    "메모리 상에 저장한다는 것은 프로그램이 실행 되어있는 동안에만 저장된다는 의미입니다.<br>\n",
    "위에선 x가 변수가 됩니다. 등호 기호를 통해 1이란 리터럴을 메모리에 할당받고 있습니다.<br>"
   ]
  },
  {
   "cell_type": "code",
   "execution_count": 16,
   "id": "ebac1198-6b64-4c5a-a728-8f1982cde379",
   "metadata": {},
   "outputs": [],
   "source": [
    "x = 1\n",
    "# 대입 연산자를 통해서 1이라는 숫자를 x에 할당\n",
    "# ram(메모리) 전기신호(0,1)로 저장되어 있는 것을 x라는 변수에 할당\n",
    "# 32bit(8byte), 숫자 -> int\n",
    "# type -> 크기(bit), 종류\n",
    "# value -> 값"
   ]
  },
  {
   "cell_type": "code",
   "execution_count": 21,
   "id": "5d01fb1b-b35f-4f24-8e63-71944d474a1b",
   "metadata": {},
   "outputs": [
    {
     "name": "stdout",
     "output_type": "stream",
     "text": [
      "1\n",
      "# 이것은 주석이 아닙니다. 따옴표 안은 문자열 리터럴입니다.\n"
     ]
    }
   ],
   "source": [
    "print(x)\n",
    "print(text)\n",
    "# print()는 Parameter로 받은 값을 모니터에 출력해주는 함수입니다.\n",
    "# () 소괄호에는 Parameter를 작성합니다."
   ]
  },
  {
   "cell_type": "markdown",
   "id": "ca457a43-94bd-4681-9f44-072454074ef3",
   "metadata": {},
   "source": [
    "# print 함수\n",
    "### print(x)는 x 변수를 화면에 출력해주는 함수입니다.\n",
    "### print는 함수의 이름입니다. 함수는 소괄호 안에 arguments를 넣어 호출합니다."
   ]
  },
  {
   "cell_type": "markdown",
   "id": "13c83c11-8466-47ec-8821-a1eef42ea787",
   "metadata": {},
   "source": [
    "## 연습문제\n",
    "### 실행결과가 아래와 같이 출력되도록 하나의 셀에 파이썬 코드를 작성해보세요\n",
    "Hello, world!<br>\n",
    "Hello, world!<br>\n",
    "Python Programming"
   ]
  },
  {
   "cell_type": "code",
   "execution_count": 23,
   "id": "cf60a6aa-cc4a-44a5-8d37-d94acf826151",
   "metadata": {},
   "outputs": [
    {
     "name": "stdout",
     "output_type": "stream",
     "text": [
      "Hello, world!\n",
      "Hello, world!\n",
      "Python Programming\n"
     ]
    }
   ],
   "source": [
    "print('Hello, world!')\n",
    "print('Hello, world!')\n",
    "print('Python Programming')"
   ]
  },
  {
   "cell_type": "code",
   "execution_count": 27,
   "id": "fd83a7f4-1e08-45b9-b188-aed8fa89d58f",
   "metadata": {},
   "outputs": [
    {
     "name": "stdout",
     "output_type": "stream",
     "text": [
      "Hello, world!\n",
      "Hello, world!\n",
      "Python Programming\n"
     ]
    }
   ],
   "source": [
    "print('Hello, world!\\nHello, world!\\nPython Programming')"
   ]
  },
  {
   "cell_type": "code",
   "execution_count": 1,
   "id": "4159e4bf-b3b8-45ed-9c00-f88f21eaa967",
   "metadata": {},
   "outputs": [
    {
     "name": "stdout",
     "output_type": "stream",
     "text": [
      "Hello, world!\n",
      "Hello, world!\n",
      "Python Programming\n"
     ]
    }
   ],
   "source": [
    "text = 'Hello, world!'\n",
    "i = 0 \n",
    "while i < 2:\n",
    "    print(text)\n",
    "    i += 1\n",
    "print('Python Programming')"
   ]
  },
  {
   "cell_type": "markdown",
   "id": "6e7476b0-1f07-431a-a3d2-d387655e691f",
   "metadata": {},
   "source": [
    "# 파이썬을 계산기처럼! 연산자 사용해보기\n",
    "### 파이썬을 간단한 계산기로 활용가능합니다."
   ]
  },
  {
   "cell_type": "code",
   "execution_count": 4,
   "id": "2bf60238-ecfa-43f5-8239-6aa14fe48751",
   "metadata": {},
   "outputs": [
    {
     "name": "stdout",
     "output_type": "stream",
     "text": [
      "4\n",
      "1\n",
      "20\n",
      "2.0\n"
     ]
    }
   ],
   "source": [
    "print(2+2) #정수\n",
    "print(3-2) #정수\n",
    "print(4*5) #정수\n",
    "print(4/2) #항상 실수 / 나누기는 항상 실수가 나온다."
   ]
  },
  {
   "cell_type": "code",
   "execution_count": 6,
   "id": "d6552e86-7239-49ff-b1a7-c1e4d2210433",
   "metadata": {},
   "outputs": [
    {
     "name": "stdout",
     "output_type": "stream",
     "text": [
      "89\n",
      "28.2\n"
     ]
    }
   ],
   "source": [
    "print(13 + (22 - 3) * 4)\n",
    "print(13 + ((22 - 3) * 4) / 5)"
   ]
  },
  {
   "cell_type": "code",
   "execution_count": 11,
   "id": "375da4ed-5af0-4452-8412-740f14f92f57",
   "metadata": {},
   "outputs": [
    {
     "name": "stdout",
     "output_type": "stream",
     "text": [
      "3\n",
      "1\n",
      "128\n",
      "1.7320508075688772\n"
     ]
    }
   ],
   "source": [
    "print(7 // 2) # 몫 구하기\n",
    "print(3 % 2) # 나머지가 나온다.\n",
    "print(2 ** 7) # 정수\n",
    "print(3 ** (1/2)) # 실수, 소괄호 순서에 유의한다."
   ]
  },
  {
   "cell_type": "code",
   "execution_count": null,
   "id": "924733dd-c338-43ab-97a4-46a634d97397",
   "metadata": {},
   "outputs": [],
   "source": []
  }
 ],
 "metadata": {
  "kernelspec": {
   "display_name": "Python 3 (ipykernel)",
   "language": "python",
   "name": "python3"
  },
  "language_info": {
   "codemirror_mode": {
    "name": "ipython",
    "version": 3
   },
   "file_extension": ".py",
   "mimetype": "text/x-python",
   "name": "python",
   "nbconvert_exporter": "python",
   "pygments_lexer": "ipython3",
   "version": "3.9.13"
  }
 },
 "nbformat": 4,
 "nbformat_minor": 5
}
