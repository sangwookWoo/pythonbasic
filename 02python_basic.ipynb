{
 "cells": [
  {
   "cell_type": "markdown",
   "id": "b2eca8df-8d0f-4a9a-9c96-e213cf1e4e78",
   "metadata": {},
   "source": [
    "### Cell 이라고 한다. 종류로는 Code / Markdown / Raw가 존재합니다.\n",
    "### 아래쪽에서 오른쪽 하단에 종류를 확인할 수 있고 Cell에 대한 명령어를 입력할 수 있습니다.\n",
    "#### (M - 마크다운 , R - 로우 , B - 코드)"
   ]
  },
  {
   "cell_type": "code",
   "execution_count": 1,
   "id": "dae2395c-013d-401c-b073-f6af458c7064",
   "metadata": {},
   "outputs": [
    {
     "name": "stdout",
     "output_type": "stream",
     "text": [
      "hi\n"
     ]
    }
   ],
   "source": [
    "print('hi')"
   ]
  },
  {
   "cell_type": "code",
   "execution_count": 6,
   "id": "3016a969-8824-4bb9-84b1-f73a562639a5",
   "metadata": {},
   "outputs": [
    {
     "name": "stdout",
     "output_type": "stream",
     "text": [
      "b\n"
     ]
    }
   ],
   "source": [
    "print('b')"
   ]
  },
  {
   "cell_type": "code",
   "execution_count": 11,
   "id": "621b1bbe-5662-4468-b0c0-cf6563db6357",
   "metadata": {},
   "outputs": [
    {
     "data": {
      "text/plain": [
       "'# 이것은 주석이 아닙니다. 따옴표 안은 문자열 리터럴입니다.'"
      ]
     },
     "execution_count": 11,
     "metadata": {},
     "output_type": "execute_result"
    }
   ],
   "source": [
    "# 주석 사용하기\n",
    "x = 1 # 여기서 =(등호) 기호는 수학의 같다와는 의미와 다르다.\n",
    "      # .... 우측 변의 리터럴을 좌측 변의 변수에 대입한다는 의미다.\n",
    "text = '# 이것은 주석이 아닙니다. 따옴표 안은 문자열 리터럴입니다.'\n",
    "text"
   ]
  },
  {
   "cell_type": "markdown",
   "id": "64f5cd6e-28e1-41a6-9692-061b1878836e",
   "metadata": {},
   "source": [
    "리터럴은 값 자체입니다. 숫자, 문자열, True, False와 같은 값을 의미합니다.<br>\n",
    "x = 1<br>\n",
    "1은 숫자형 리터럴입니다.<br>\n",
    "앞의 코드에서 '# 이것은 주석이 아닙니다. 따옴표 안은 문자열 리터럴입니다.\"는 문자열 리터럴입니다.<br>\n",
    "변수는 변화할 수 있는 값을 메모리 상에 저장하고 활용할 수 있도록 하는 공간입니다.<br>\n",
    "메모리 상에 저장한다는 것은 프로그램이 실행 되어있는 동안에만 저장된다는 의미입니다.<br>\n",
    "위에선 x가 변수가 됩니다. 등호 기호를 통해 1이란 리터럴을 메모리에 할당받고 있습니다.<br>"
   ]
  },
  {
   "cell_type": "code",
   "execution_count": 16,
   "id": "ebac1198-6b64-4c5a-a728-8f1982cde379",
   "metadata": {},
   "outputs": [],
   "source": [
    "x = 1\n",
    "# 대입 연산자를 통해서 1이라는 숫자를 x에 할당\n",
    "# ram(메모리) 전기신호(0,1)로 저장되어 있는 것을 x라는 변수에 할당\n",
    "# 32bit(8byte), 숫자 -> int\n",
    "# type -> 크기(bit), 종류\n",
    "# value -> 값"
   ]
  },
  {
   "cell_type": "code",
   "execution_count": 21,
   "id": "5d01fb1b-b35f-4f24-8e63-71944d474a1b",
   "metadata": {},
   "outputs": [
    {
     "name": "stdout",
     "output_type": "stream",
     "text": [
      "1\n",
      "# 이것은 주석이 아닙니다. 따옴표 안은 문자열 리터럴입니다.\n"
     ]
    }
   ],
   "source": [
    "print(x)\n",
    "print(text)\n",
    "# print()는 Parameter로 받은 값을 모니터에 출력해주는 함수입니다.\n",
    "# () 소괄호에는 Parameter를 작성합니다."
   ]
  },
  {
   "cell_type": "markdown",
   "id": "ca457a43-94bd-4681-9f44-072454074ef3",
   "metadata": {},
   "source": [
    "# print 함수\n",
    "### print(x)는 x 변수를 화면에 출력해주는 함수입니다.\n",
    "### print는 함수의 이름입니다. 함수는 소괄호 안에 arguments를 넣어 호출합니다."
   ]
  },
  {
   "cell_type": "markdown",
   "id": "13c83c11-8466-47ec-8821-a1eef42ea787",
   "metadata": {},
   "source": [
    "## 연습문제\n",
    "### 실행결과가 아래와 같이 출력되도록 하나의 셀에 파이썬 코드를 작성해보세요\n",
    "Hello, world!<br>\n",
    "Hello, world!<br>\n",
    "Python Programming"
   ]
  },
  {
   "cell_type": "code",
   "execution_count": 23,
   "id": "cf60a6aa-cc4a-44a5-8d37-d94acf826151",
   "metadata": {},
   "outputs": [
    {
     "name": "stdout",
     "output_type": "stream",
     "text": [
      "Hello, world!\n",
      "Hello, world!\n",
      "Python Programming\n"
     ]
    }
   ],
   "source": [
    "print('Hello, world!')\n",
    "print('Hello, world!')\n",
    "print('Python Programming')"
   ]
  },
  {
   "cell_type": "code",
   "execution_count": 27,
   "id": "fd83a7f4-1e08-45b9-b188-aed8fa89d58f",
   "metadata": {},
   "outputs": [
    {
     "name": "stdout",
     "output_type": "stream",
     "text": [
      "Hello, world!\n",
      "Hello, world!\n",
      "Python Programming\n"
     ]
    }
   ],
   "source": [
    "print('Hello, world!\\nHello, world!\\nPython Programming')"
   ]
  },
  {
   "cell_type": "code",
   "execution_count": 1,
   "id": "4159e4bf-b3b8-45ed-9c00-f88f21eaa967",
   "metadata": {},
   "outputs": [
    {
     "name": "stdout",
     "output_type": "stream",
     "text": [
      "Hello, world!\n",
      "Hello, world!\n",
      "Python Programming\n"
     ]
    }
   ],
   "source": [
    "text = 'Hello, world!'\n",
    "i = 0 \n",
    "while i < 2:\n",
    "    print(text)\n",
    "    i += 1\n",
    "print('Python Programming')"
   ]
  },
  {
   "cell_type": "markdown",
   "id": "6e7476b0-1f07-431a-a3d2-d387655e691f",
   "metadata": {},
   "source": [
    "# 파이썬을 계산기처럼! 연산자 사용해보기\n",
    "### 파이썬을 간단한 계산기로 활용가능합니다."
   ]
  },
  {
   "cell_type": "code",
   "execution_count": 4,
   "id": "2bf60238-ecfa-43f5-8239-6aa14fe48751",
   "metadata": {},
   "outputs": [
    {
     "name": "stdout",
     "output_type": "stream",
     "text": [
      "4\n",
      "1\n",
      "20\n",
      "2.0\n"
     ]
    }
   ],
   "source": [
    "print(2+2) #정수\n",
    "print(3-2) #정수\n",
    "print(4*5) #정수\n",
    "print(4/2) #항상 실수 / 나누기는 항상 실수가 나온다."
   ]
  },
  {
   "cell_type": "code",
   "execution_count": 6,
   "id": "d6552e86-7239-49ff-b1a7-c1e4d2210433",
   "metadata": {},
   "outputs": [
    {
     "name": "stdout",
     "output_type": "stream",
     "text": [
      "89\n",
      "28.2\n"
     ]
    }
   ],
   "source": [
    "print(13 + (22 - 3) * 4)\n",
    "print(13 + ((22 - 3) * 4) / 5)"
   ]
  },
  {
   "cell_type": "code",
   "execution_count": 11,
   "id": "375da4ed-5af0-4452-8412-740f14f92f57",
   "metadata": {},
   "outputs": [
    {
     "name": "stdout",
     "output_type": "stream",
     "text": [
      "3\n",
      "1\n",
      "128\n",
      "1.7320508075688772\n"
     ]
    }
   ],
   "source": [
    "print(7 // 2) # 몫 구하기\n",
    "print(3 % 2) # 나머지가 나온다.\n",
    "print(2 ** 7) # 정수\n",
    "print(3 ** (1/2)) # 실수, 소괄호 순서에 유의한다."
   ]
  },
  {
   "cell_type": "code",
   "execution_count": 15,
   "id": "858b0c34-70e4-4227-b56d-212c53b4319c",
   "metadata": {},
   "outputs": [
    {
     "name": "stdout",
     "output_type": "stream",
     "text": [
      "3\n",
      "2.5\n",
      "104\n",
      "3.0\n",
      "16.0\n",
      "3.334\n"
     ]
    }
   ],
   "source": [
    "# 타입변환, int(정수로 변환할 것)\n",
    "print(int(3.3))\n",
    "print(5/2)\n",
    "print(int('104'))\n",
    "\n",
    "# 타입변환, float(실수로 변환할 것)\n",
    "print(float(3))\n",
    "print(float(4*4))\n",
    "print(float('3.334'))"
   ]
  },
  {
   "cell_type": "code",
   "execution_count": 17,
   "id": "e22378af-40b3-4070-a039-e9c22ed3a883",
   "metadata": {},
   "outputs": [
    {
     "ename": "ValueError",
     "evalue": "invalid literal for int() with base 10: '문자열'",
     "output_type": "error",
     "traceback": [
      "\u001b[1;31m---------------------------------------------------------------------------\u001b[0m",
      "\u001b[1;31mValueError\u001b[0m                                Traceback (most recent call last)",
      "\u001b[1;32m~\\AppData\\Local\\Temp\\ipykernel_15316\\2881795099.py\u001b[0m in \u001b[0;36m<module>\u001b[1;34m\u001b[0m\n\u001b[0;32m      1\u001b[0m \u001b[1;31m# 정수로 바꿀 수 없는 문자열을 변환하는 경우\u001b[0m\u001b[1;33m\u001b[0m\u001b[1;33m\u001b[0m\u001b[0m\n\u001b[1;32m----> 2\u001b[1;33m \u001b[0mint\u001b[0m\u001b[1;33m(\u001b[0m\u001b[1;34m'문자열'\u001b[0m\u001b[1;33m)\u001b[0m \u001b[1;31m# 에러가 발생한다 유효하지 않은 literal(리터럴)을 넣었다 - 리터럴은 객체 같은 말이라고 생각하면 됨\u001b[0m\u001b[1;33m\u001b[0m\u001b[1;33m\u001b[0m\u001b[0m\n\u001b[0m",
      "\u001b[1;31mValueError\u001b[0m: invalid literal for int() with base 10: '문자열'"
     ]
    }
   ],
   "source": [
    "# 정수로 바꿀 수 없는 문자열을 변환하는 경우\n",
    "int('문자열') # 에러가 발생한다 유효하지 않은 literal(리터럴)을 넣었다 - 리터럴은 객체 같은 말이라고 생각하면 됨"
   ]
  },
  {
   "cell_type": "code",
   "execution_count": 24,
   "id": "07ef1025-ea97-4b24-8844-6dac75fc2212",
   "metadata": {},
   "outputs": [
    {
     "name": "stdout",
     "output_type": "stream",
     "text": [
      "가장 시끄러운 층은 = 7 층\n"
     ]
    }
   ],
   "source": [
    "# 국립환경과학원에서는 아파트에서 소음이 가장 심한 층수를 구하는 계산식을 발표했습니다. 소음이 가장 심한층은\n",
    "# 0.2467 * 도로와의 거리(m) + 4.159입니다. 이 때 소음이 가장 심한 층수를 구해보세요(단 층수는 정수로 표현하세요)\n",
    "print('가장 시끄러운 층은 =', int(0.2467 * 12 + 4.159), '층')\n",
    "# 답은 7층입니다!"
   ]
  },
  {
   "cell_type": "code",
   "execution_count": 3,
   "id": "a9ef9ad1-2941-492a-b23d-6a6f2dc58134",
   "metadata": {},
   "outputs": [
    {
     "name": "stdout",
     "output_type": "stream",
     "text": [
      "냉장고의 총 가격은 1272000원입니다.\n"
     ]
    }
   ],
   "source": [
    "# 헬로우마트에서 냉장고를 월 53000원에 무이자 24개월 할부 조건으로 판매하고 있습니다. 냉장고의 총 금액을 아래와 같이 출력해보세요.\n",
    "print(f\"냉장고의 총 가격은 {53000 * 24}원입니다.\")"
   ]
  },
  {
   "cell_type": "code",
   "execution_count": 5,
   "id": "ee585246",
   "metadata": {},
   "outputs": [
    {
     "name": "stdout",
     "output_type": "stream",
     "text": [
      "총 지불해야하는 금액은 13500000.0원 입니다.\n"
     ]
    }
   ],
   "source": [
    "price = 20000\n",
    "people = 250\n",
    "each_person = 3\n",
    "tax = 0.1\n",
    "\n",
    "total_price = price * each_person  * people * (1-tax)\n",
    "print(f'총 지불해야하는 금액은 {total_price}원 입니다.')"
   ]
  },
  {
   "cell_type": "code",
   "execution_count": null,
   "id": "c1af61ba",
   "metadata": {},
   "outputs": [],
   "source": []
  }
 ],
 "metadata": {
  "kernelspec": {
   "display_name": "base",
   "language": "python",
   "name": "python3"
  },
  "language_info": {
   "codemirror_mode": {
    "name": "ipython",
    "version": 3
   },
   "file_extension": ".py",
   "mimetype": "text/x-python",
   "name": "python",
   "nbconvert_exporter": "python",
   "pygments_lexer": "ipython3",
   "version": "3.9.13"
  },
  "vscode": {
   "interpreter": {
    "hash": "54f843e2d25d3a59c86748e7da2acead36750f0d182112685aa834d50ad6fdc4"
   }
  }
 },
 "nbformat": 4,
 "nbformat_minor": 5
}
