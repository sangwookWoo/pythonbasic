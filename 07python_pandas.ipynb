{
 "cells": [
  {
   "cell_type": "code",
   "execution_count": null,
   "metadata": {},
   "outputs": [],
   "source": [
    "import numpy as np\n",
    "import pandas as pd"
   ]
  },
  {
   "cell_type": "code",
   "execution_count": null,
   "metadata": {},
   "outputs": [],
   "source": [
    "series = pd.Series(['하나', '둘', '셋', '넷', '다섯', '여섯', '일곱',' 여덟', '아홉', '열'], index = [_ for _ in range(1,11)])\n",
    "series\n",
    "\n",
    "## object 객체는 최상위의 객체, 모든 걸 포괄할 수 있는 객체 "
   ]
  },
  {
   "cell_type": "code",
   "execution_count": null,
   "metadata": {},
   "outputs": [],
   "source": [
    "s = pd.Series([9_904_312, 3_448_737, 2_890_451, 2_466_052], index = ['서울', '부산', '인천', '대구'])\n",
    "s.index\n",
    "s.values"
   ]
  },
  {
   "cell_type": "code",
   "execution_count": null,
   "metadata": {},
   "outputs": [],
   "source": [
    "s.name = \"인구\"\n",
    "s.index.name = \"도시\""
   ]
  },
  {
   "cell_type": "code",
   "execution_count": null,
   "metadata": {},
   "outputs": [],
   "source": [
    "s"
   ]
  },
  {
   "cell_type": "code",
   "execution_count": null,
   "metadata": {},
   "outputs": [],
   "source": [
    "dict = {'a' : 1, 'b' : 2, 'c' : 3}\n",
    "ser = pd.Series(data = dict, index = ['x','y','z'])\n",
    "ser"
   ]
  },
  {
   "cell_type": "code",
   "execution_count": null,
   "metadata": {},
   "outputs": [],
   "source": [
    "s2 = pd.Series({'서울' : 9_904_312,\n",
    "                '부산' : 3_448_737,\n",
    "                '인천' : 2_890_451,\n",
    "                '대구' : 2_466_052})\n",
    "s2"
   ]
  },
  {
   "cell_type": "code",
   "execution_count": null,
   "metadata": {},
   "outputs": [],
   "source": [
    "s = pd.Series([99040312, 3448737, 2890452, 2466052], index = ['서울','부산','인천','대구'])"
   ]
  },
  {
   "cell_type": "code",
   "execution_count": null,
   "metadata": {},
   "outputs": [],
   "source": [
    "s - s2"
   ]
  },
  {
   "cell_type": "code",
   "execution_count": null,
   "metadata": {},
   "outputs": [],
   "source": [
    "rs = pd.Series([1.636984, 2.832690, 9.818107], index = ['부산','서울','인천'])\n",
    "rs['부산'] = 1.63\n",
    "rs"
   ]
  },
  {
   "cell_type": "code",
   "execution_count": null,
   "metadata": {},
   "outputs": [],
   "source": [
    "rs['대구'] = 1.41\n",
    "rs\n"
   ]
  },
  {
   "cell_type": "code",
   "execution_count": null,
   "metadata": {},
   "outputs": [],
   "source": [
    "del rs['서울']\n",
    "rs"
   ]
  },
  {
   "cell_type": "code",
   "execution_count": null,
   "metadata": {},
   "outputs": [],
   "source": [
    "fin1 = {'카카오':60010, '삼성전자':61000, 'LG전자':90000}\n",
    "fin2_value = [60200, 61200, 200100]\n",
    "fin2_index = ['카카오','삼성전자','네이버']\n",
    "\n",
    "ser_finance1 = pd.Series(fin1)\n",
    "ser_finance2 = pd.Series(fin2_value, index = fin2_index)"
   ]
  },
  {
   "cell_type": "code",
   "execution_count": null,
   "metadata": {},
   "outputs": [],
   "source": [
    "result = ser_finance1 - ser_finance2\n",
    "result[result.notnull()]"
   ]
  },
  {
   "cell_type": "code",
   "execution_count": null,
   "metadata": {},
   "outputs": [],
   "source": [
    "ser_finance1 + ser_finance2"
   ]
  },
  {
   "cell_type": "code",
   "execution_count": null,
   "metadata": {},
   "outputs": [],
   "source": [
    "ser_finance1 * ser_finance2"
   ]
  },
  {
   "cell_type": "code",
   "execution_count": null,
   "metadata": {},
   "outputs": [],
   "source": [
    "ser_finance1 / ser_finance2"
   ]
  },
  {
   "cell_type": "code",
   "execution_count": null,
   "metadata": {},
   "outputs": [],
   "source": [
    "d = {'col1' : [1,2], 'col2' : [3, 4]}\n",
    "df = pd.DataFrame(data = d)\n",
    "df"
   ]
  },
  {
   "cell_type": "code",
   "execution_count": null,
   "metadata": {},
   "outputs": [],
   "source": [
    "data = {\n",
    "    \"2015\": [9904312, 3448737, 2890451, 2466052],\n",
    "    \"2010\": [9631482, 3393191, 2632035, 2431774],\n",
    "    \"2005\": [9762546, 3512547, 2517680, 2456016],\n",
    "    \"2000\": [9853972, 3655437, 2466338, 2473990],\n",
    "    \"지역\": [\"수도권\", \"경상권\", \"수도권\", \"경상권\"],\n",
    "    \"2010-2015 증가율\": [0.0283, 0.0163, 0.0982, 0.0141]\n",
    "}\n",
    "columns = [\"지역\", \"2015\", \"2010\", \"2005\", \"2000\", \"2010-2015 증가율\"]\n",
    "index = [\"서울\", \"부산\", \"인천\", \"대구\"]\n",
    "df = pd.DataFrame(data, index=index, columns=columns)\n",
    "df"
   ]
  },
  {
   "cell_type": "code",
   "execution_count": null,
   "metadata": {},
   "outputs": [],
   "source": [
    "dict_ = {'코스피' : ['하락', '하락', '상승', '상승', '하락'],\n",
    "        '코스피 지수' : [2359.53, 2365.10, 2386.09, 2399.86, 2379.39],\n",
    "        '두산에너빌리티' : [16400, 16900, 17150, 16500, 16300],\n",
    "        '삼성전자' : [60500, 60500, 60800, 61100, 61000],\n",
    "        '셀바스AI' : [8250, 7980, 8510, 8600, 8820],\n",
    "        '레인보우로보틱스' : [53700, 49750, 54700, 56700, 63200],\n",
    "        }\n",
    "df = pd.DataFrame(dict_, index = ['2023.01.11', '2023.01.12', '2023.01.13', '2023.01.16', '2023.01.17'])\n",
    "# df.columns.name = '주가'\n",
    "# df.index.name = '날짜'\n",
    "df"
   ]
  },
  {
   "cell_type": "code",
   "execution_count": null,
   "metadata": {},
   "outputs": [],
   "source": [
    "df.head(1)"
   ]
  },
  {
   "cell_type": "code",
   "execution_count": null,
   "metadata": {},
   "outputs": [],
   "source": [
    "df[:1]"
   ]
  },
  {
   "cell_type": "code",
   "execution_count": null,
   "metadata": {},
   "outputs": [],
   "source": [
    "df[1:3]"
   ]
  },
  {
   "cell_type": "code",
   "execution_count": null,
   "metadata": {},
   "outputs": [],
   "source": [
    "data = {\n",
    "    \"국어\": [80, 90, 70, 30],\n",
    "    \"영어\": [90, 70, 60, 40],\n",
    "    \"수학\": [90, 60, 80, 70],\n",
    "}\n",
    "columns = [\"국어\", \"영어\", \"수학\"]\n",
    "index = [\"춘향\", \"몽룡\", \"향단\", \"방자\"]\n",
    "df = pd.DataFrame(data, index=index, columns=columns)"
   ]
  },
  {
   "cell_type": "code",
   "execution_count": null,
   "metadata": {},
   "outputs": [],
   "source": [
    "# 1번\n",
    "df['수학']\n",
    "\n",
    "# 2번\n",
    "df[['국어','영어']]\n",
    "\n",
    "# 3번\n",
    "df['평균' ] = (df['국어'] + df['영어'] + df['수학']) / 3\n",
    "\n",
    "# 4번\n",
    "df['영어']['방자'] = 80\n",
    "df['평균' ] = (df['국어'] + df['영어'] + df['수학']) / 3\n",
    "\n",
    "# 5번\n",
    "df['춘향':'춘향']\n",
    "\n",
    "# 6번\n",
    "df.T['향단']"
   ]
  },
  {
   "cell_type": "code",
   "execution_count": null,
   "metadata": {},
   "outputs": [],
   "source": [
    "df.T['향단']"
   ]
  },
  {
   "cell_type": "code",
   "execution_count": null,
   "metadata": {},
   "outputs": [],
   "source": [
    "df"
   ]
  },
  {
   "cell_type": "code",
   "execution_count": null,
   "metadata": {},
   "outputs": [],
   "source": []
  },
  {
   "cell_type": "code",
   "execution_count": null,
   "metadata": {},
   "outputs": [],
   "source": [
    "np.random.seed(0)\n",
    "pd.DataFrame(np.random.randn(6,4), index = pd.date_range(\"20130206\", periods = 6), columns = ['A', 'B','C','D'])"
   ]
  },
  {
   "cell_type": "code",
   "execution_count": null,
   "metadata": {},
   "outputs": [],
   "source": []
  },
  {
   "cell_type": "code",
   "execution_count": null,
   "metadata": {},
   "outputs": [],
   "source": [
    "class Team:\n",
    "    \n",
    "    ### 클래스 속성\n",
    "    '''팀 객체를 만듭니다'''\n",
    "    count = 0\n",
    "    order = []\n",
    "    def __init__(self, number, name = None,  member = set()):\n",
    "        \n",
    "        ### 인스턴스 속성\n",
    "        self.number = number\n",
    "        self.name = name\n",
    "        self.member = member\n",
    "        Team.count += 1\n",
    "        Team.order.append(number)\n",
    "        \n",
    "    def add_member(self, name):\n",
    "        '''팀원을 추가합니다'''\n",
    "        # 해당 이름이 팀에 없을 경우\n",
    "        if name not in self.member:\n",
    "            self.member.add(name)\n",
    "            print(f'{name}님을 팀 {self.number}에 추가했습니다.')\n",
    "            \n",
    "        # 해당 이름이 팀에 있을 경우\n",
    "        else:\n",
    "            print(f'{name}님은 이미 팀에 있습니다.')\n",
    "            \n",
    "    def rm_member(self, name):\n",
    "        '''팀원을 삭제합니다'''\n",
    "        if name in self.member:\n",
    "            self.member.remove(name)\n",
    "            print(f'{name}님을 팀에서 삭제했습니다.')\n",
    "        else :\n",
    "            print(f'{name}님은 해당 팀에 없습니다.')\n",
    "            \n",
    "    def get_count(self):\n",
    "        '''팀의 수를 리턴합니다'''\n",
    "        return Team.count\n",
    "\n",
    "    def get_order(self):\n",
    "        '''팀 생성 순서를 받습니다'''\n",
    "        return Team.order\n",
    "    \n",
    "    def set_order(self, x):\n",
    "        '''팀 순서를 조정합니다'''\n",
    "        if x in Team.order:\n",
    "            Team.order.remove(x)\n",
    "            Team.order.append(x)\n",
    "        else :\n",
    "            Team.order.append(x)\n",
    "    \n",
    "    def __len__(self):\n",
    "        '''각 팀의 멤버 수를 리턴합니다'''\n",
    "        return len(self.member) "
   ]
  },
  {
   "cell_type": "code",
   "execution_count": null,
   "metadata": {},
   "outputs": [],
   "source": [
    "s = '서울특별시'\n",
    "if '서울' in s :\n",
    "    print('hi')"
   ]
  },
  {
   "cell_type": "code",
   "execution_count": null,
   "metadata": {},
   "outputs": [],
   "source": [
    "import pandas as pd\n",
    "data = pd.Series([963122133, 51561512, 515485 , 19815152], index = ['서울', '부산', '인천', '대구'])"
   ]
  },
  {
   "cell_type": "code",
   "execution_count": null,
   "metadata": {},
   "outputs": [],
   "source": [
    "data.index.name = '도시'"
   ]
  },
  {
   "cell_type": "code",
   "execution_count": null,
   "metadata": {},
   "outputs": [],
   "source": [
    "data"
   ]
  },
  {
   "cell_type": "code",
   "execution_count": null,
   "metadata": {},
   "outputs": [],
   "source": []
  },
  {
   "cell_type": "code",
   "execution_count": null,
   "metadata": {},
   "outputs": [],
   "source": [
    "dict_ = {'c1' : [1,2,'누락'], 'c2' : [1.11, '', '3.33'], 'c3' : ['one', 'two', 'three']}\n",
    "df = pd.DataFrame(dict_)\n",
    "df.to_csv('data/sample1.csv', index = False, encoding = 'utf-8-sig')\n",
    "# df.to_csv('C:/python/data/sample1.csv')"
   ]
  },
  {
   "cell_type": "code",
   "execution_count": null,
   "metadata": {},
   "outputs": [],
   "source": [
    "df_read = pd.read_csv('data/sample1.csv')\n",
    "df_read"
   ]
  },
  {
   "cell_type": "code",
   "execution_count": null,
   "metadata": {},
   "outputs": [],
   "source": [
    "df.to_csv('data/sample2.csv', index = False, header = False)"
   ]
  },
  {
   "cell_type": "code",
   "execution_count": null,
   "metadata": {},
   "outputs": [],
   "source": [
    "df = pd.read_csv('data/sample2.csv', self.members = ['c1','c2','c3'])"
   ]
  },
  {
   "cell_type": "code",
   "execution_count": null,
   "metadata": {},
   "outputs": [],
   "source": [
    "%%writefile sample3.txt\n",
    "c1        c2        c3        c4\n",
    "0.179181 -1.538472  1.347553  0.43381\n",
    "1.024209  0.087307 -1.281997  0.49265\n",
    "0.417899 -2.002308  0.255245 -1.10515"
   ]
  },
  {
   "cell_type": "code",
   "execution_count": null,
   "metadata": {},
   "outputs": [],
   "source": [
    "df = pd.read_table('sample3.txt', sep = '\\s+')"
   ]
  },
  {
   "cell_type": "code",
   "execution_count": null,
   "metadata": {},
   "outputs": [],
   "source": [
    "%%writefile sample4.txt\n",
    "파일 제목: sample4.txt\n",
    "데이터 포맷의 설명:\n",
    "c1, c2, c3\n",
    "1, 1.11, one\n",
    "2, 2.22, two\n",
    "3, 3.33, three"
   ]
  },
  {
   "cell_type": "code",
   "execution_count": null,
   "metadata": {},
   "outputs": [],
   "source": [
    "pd.read_csv('sample4.txt', skiprows = [0,1])"
   ]
  },
  {
   "cell_type": "code",
   "execution_count": null,
   "metadata": {},
   "outputs": [],
   "source": [
    "df_na_val = pd.read_csv('data/sample1.csv', na_values = ['누락'])\n",
    "df_na_val"
   ]
  },
  {
   "cell_type": "code",
   "execution_count": null,
   "metadata": {},
   "outputs": [],
   "source": [
    "df_na_val.to_csv('sample5.txt', sep = '|')"
   ]
  },
  {
   "cell_type": "code",
   "execution_count": null,
   "metadata": {},
   "outputs": [],
   "source": [
    "df_na_val.to_csv('sample5.txt', na_rep ='누락')"
   ]
  },
  {
   "cell_type": "code",
   "execution_count": null,
   "metadata": {},
   "outputs": [],
   "source": [
    "tt = pd.read_csv('https://storage.googleapis.com/tf-datasets/titanic/train.csv')"
   ]
  },
  {
   "cell_type": "code",
   "execution_count": null,
   "metadata": {},
   "outputs": [],
   "source": [
    "tt"
   ]
  },
  {
   "cell_type": "code",
   "execution_count": null,
   "metadata": {},
   "outputs": [],
   "source": [
    "import numpy as np\n",
    "df = pd.DataFrame(np.array(range(10,22)).reshape(3,4),\n",
    "                index = ['a','b','c'],\n",
    "                columns = ['A','B','C','D'])\n",
    "df"
   ]
  },
  {
   "cell_type": "code",
   "execution_count": null,
   "metadata": {},
   "outputs": [],
   "source": [
    "df.loc['a']"
   ]
  },
  {
   "cell_type": "code",
   "execution_count": null,
   "metadata": {},
   "outputs": [],
   "source": [
    "df.loc[[\"b\",\"c\"]]"
   ]
  },
  {
   "cell_type": "code",
   "execution_count": null,
   "metadata": {},
   "outputs": [],
   "source": [
    "df[\"b\":\"c\"]"
   ]
  },
  {
   "cell_type": "code",
   "execution_count": null,
   "metadata": {},
   "outputs": [],
   "source": [
    "df.A"
   ]
  },
  {
   "cell_type": "code",
   "execution_count": null,
   "metadata": {},
   "outputs": [],
   "source": [
    "import seaborn as sns\n",
    "titanic = sns.load_dataset(\"titanic\")\n",
    "titanic.head(5)"
   ]
  },
  {
   "cell_type": "code",
   "execution_count": null,
   "metadata": {},
   "outputs": [],
   "source": [
    "titanic['sex'].value_counts()\n",
    "titanic['sex'].sort_values(ascending = False)\n",
    "titanic['age'].value_counts()\n",
    "titanic['age'].sort_values(ascending = False)\n",
    "titanic['class'].value_counts()\n",
    "titanic['class'].sort_values(ascending = False)\n",
    "titanic['alive'].value_counts()\n",
    "titanic['alive'].sort_values(ascending = False)\n"
   ]
  },
  {
   "cell_type": "code",
   "execution_count": null,
   "metadata": {},
   "outputs": [],
   "source": [
    "titanic.count()"
   ]
  },
  {
   "cell_type": "code",
   "execution_count": null,
   "metadata": {},
   "outputs": [],
   "source": [
    "s2 = pd.Series(np.random.randint(6, size = 100))"
   ]
  },
  {
   "cell_type": "code",
   "execution_count": null,
   "metadata": {},
   "outputs": [],
   "source": [
    "s2.value_counts().sort_index()"
   ]
  },
  {
   "cell_type": "code",
   "execution_count": null,
   "metadata": {},
   "outputs": [],
   "source": [
    "titanic.value_counts(subset = 'sex')"
   ]
  },
  {
   "cell_type": "code",
   "execution_count": null,
   "metadata": {},
   "outputs": [],
   "source": [
    "titanic['age'].mean()\n",
    "titanic.loc[titanic['sex'] == 'female', 'age'].mean()\n",
    "titanic.loc[(titanic['pclass'] == 1) & (titanic['sex'] == 'female'), 'age'].mean()"
   ]
  },
  {
   "cell_type": "code",
   "execution_count": null,
   "metadata": {},
   "outputs": [],
   "source": [
    "class TeamBuilder:\n",
    "    '''1번에 1개의 팀의 정보를 갖고 있는 클래스입니다'''\n",
    "    has_team = False\n",
    "    teams = []\n",
    "    def __init__(self, member, team_count = 0):\n",
    "        self.member = member\n",
    "        self.team_count = team_count\n",
    "    def create_team(self):\n",
    "        if has_team == True:\n",
    "            teams = []\n",
    "        else:\n",
    "            return TeamBuilder.has_team\n",
    "    \n",
    "\n",
    "    "
   ]
  },
  {
   "cell_type": "code",
   "execution_count": 352,
   "metadata": {},
   "outputs": [],
   "source": [
    "class Team:\n",
    "    ### 클래스 속성\n",
    "    '''팀 객체를 만듭니다'''\n",
    "    count = 0\n",
    "    order = []\n",
    "    def __init__(self, number, name = None,  member = set()):\n",
    "\n",
    "        ### 인스턴스 속성\n",
    "        self.number = number\n",
    "        self.name = name\n",
    "        self.member = member\n",
    "        Team.count += 1\n",
    "        Team.order.append(number)\n",
    "\n",
    "    def add_member(self, name):\n",
    "        '''팀원을 추가합니다'''\n",
    "        # 해당 이름이 팀에 없을 경우\n",
    "        if name not in self.member:\n",
    "            self.member.add(name)\n",
    "            print(f'{name}님을 팀 {self.number}에 추가했습니다.')\n",
    "\n",
    "        # 해당 이름이 팀에 있을 경우\n",
    "        else:\n",
    "            print(f'{name}님은 이미 팀에 있습니다.')\n",
    "\n",
    "    def rm_member(self, name):\n",
    "        '''팀원을 삭제합니다'''\n",
    "        if name in self.member:\n",
    "            self.member.remove(name)\n",
    "            print(f'{name}님을 팀에서 삭제했습니다.')\n",
    "        else :\n",
    "            print(f'{name}님은 해당 팀에 없습니다.')\n",
    "\n",
    "    def get_count(self):\n",
    "        '''팀의 수를 리턴합니다'''\n",
    "        return Team.count\n",
    "\n",
    "    def get_order(self):\n",
    "        '''팀 생성 순서를 받습니다'''\n",
    "        return Team.order\n",
    "\n",
    "    def set_order(self, x):\n",
    "        '''팀 순서를 조정합니다'''\n",
    "        if x in Team.order:\n",
    "            Team.order.remove(x)\n",
    "            Team.order.append(x)\n",
    "        else :\n",
    "            Team.order.append(x)\n",
    "\n",
    "    # 내장함수(Built-in-function) Len(Team()) --> 파이썬이 __len__(self)를 찾아서 실행\n",
    "    def __len__(self):\n",
    "        '''각 팀의 멤버 수를 리턴합니다'''\n",
    "        return len(self.member) "
   ]
  },
  {
   "cell_type": "code",
   "execution_count": 356,
   "metadata": {},
   "outputs": [
    {
     "name": "stdout",
     "output_type": "stream",
     "text": [
      "우상욱님을 팀 1에 추가했습니다.\n"
     ]
    },
    {
     "data": {
      "text/plain": [
       "{'우상욱'}"
      ]
     },
     "execution_count": 356,
     "metadata": {},
     "output_type": "execute_result"
    }
   ],
   "source": [
    "a = Team(1)\n",
    "a.add_member('우상욱')\n",
    "a.member"
   ]
  },
  {
   "cell_type": "code",
   "execution_count": 449,
   "metadata": {},
   "outputs": [],
   "source": [
    "def team_extractor(names, team_count):\n",
    "    team_count_list = [len(names) // team_count for x in range(team_count)]\n",
    "    for idx, i in enumerate(range(0, len(names) % team_count)):\n",
    "        team_count_list[idx] += 1\n",
    "    random_team_list = []\n",
    "    for x in team_count_list:\n",
    "        samplelist = random.sample(names, x)\n",
    "        for name in samplelist:\n",
    "            names.remove(name)\n",
    "        # print(samplelist)\n",
    "        random_team_list.append(samplelist)\n",
    "    return random_team_list\n",
    "\n",
    "class TeamBuilder():\n",
    "    has_team = False\n",
    "    teams = []\n",
    "\n",
    "    def __init__(self, members, teams_count):\n",
    "        self.members = members\n",
    "        self.teams_count = team_count\n",
    "    \n",
    "    def creat_team(self):\n",
    "        if TeamBuilder.has_team == False:\n",
    "            random_team_list = team_extractor(self.members, self.teams_count)\n",
    "            [TeamBuilder.teams.append(x) for x in random_team_list]\n",
    "            print(random_team_list)\n",
    "            print(f'팀을 {len(random_team_list)}개 생성했습니다')\n",
    "            TeamBuilder.has_team = True\n",
    "        else :\n",
    "            TeamBuilder.teams = []\n",
    "            print('기존의 팀 정보를 지우고 새로 생성합니다.')\n",
    "            random_team_list = team_extractor(self.members, self.teams_count)\n",
    "            print(random_team_list)\n",
    "            [TeamBuilder.teams.append(x) for x in random_team_list]\n",
    "            print(f'팀을 {len(random_team_list)}개 생성했습니다')\n",
    "            \n",
    "    def show_team_info(self):\n",
    "        for team_num, team in enumerate(TeamBuilder.teams):\n",
    "            print(f\"{team_num + 1}팀은 {' '.join(team)} 입니다.\")\n"
   ]
  },
  {
   "cell_type": "code",
   "execution_count": 453,
   "metadata": {},
   "outputs": [],
   "source": [
    "members = \"강지인 김강직 김경목 김기훈 김민수 김예린 김유림 김호영 도강현 맹지호 민병창 서영호 신제우 우상욱 윤규헌 이민호 이병호 이선주 이호진 허경모 황도희\".split()"
   ]
  },
  {
   "cell_type": "code",
   "execution_count": 454,
   "metadata": {},
   "outputs": [
    {
     "name": "stdout",
     "output_type": "stream",
     "text": [
      "기존의 팀 정보를 지우고 새로 생성합니다.\n",
      "[['도강현', '김강직', '김민수', '이민호', '김유림', '김예린'], ['우상욱', '강지인', '허경모', '황도희', '서영호'], ['김호영', '김경목', '윤규헌', '민병창', '이호진'], ['신제우', '맹지호', '김기훈', '이병호', '이선주']]\n",
      "팀을 4개 생성했습니다\n",
      "1팀은 도강현 김강직 김민수 이민호 김유림 김예린 입니다.\n",
      "2팀은 우상욱 강지인 허경모 황도희 서영호 입니다.\n",
      "3팀은 김호영 김경목 윤규헌 민병창 이호진 입니다.\n",
      "4팀은 신제우 맹지호 김기훈 이병호 이선주 입니다.\n"
     ]
    },
    {
     "data": {
      "text/plain": [
       "[['도강현', '김강직', '김민수', '이민호', '김유림', '김예린'],\n",
       " ['우상욱', '강지인', '허경모', '황도희', '서영호'],\n",
       " ['김호영', '김경목', '윤규헌', '민병창', '이호진'],\n",
       " ['신제우', '맹지호', '김기훈', '이병호', '이선주']]"
      ]
     },
     "execution_count": 454,
     "metadata": {},
     "output_type": "execute_result"
    }
   ],
   "source": [
    "tb = TeamBuilder(members, 7)\n",
    "tb.creat_team()\n",
    "tb.show_team_info()\n"
   ]
  },
  {
   "cell_type": "code",
   "execution_count": 400,
   "metadata": {},
   "outputs": [],
   "source": [
    "members = \"강지인 김강직 김경목 김기훈 김민수 김예린 김유림 김호영 도강현 맹지호 민병창 서영호 신제우 우상욱 윤규헌 이민호 이병호 이선주 이호진 허경모 황도희\".split()"
   ]
  },
  {
   "cell_type": "code",
   "execution_count": null,
   "metadata": {},
   "outputs": [],
   "source": [
    "import random\n",
    "class TeamBuilder():\n",
    "    has_team = False\n",
    "    teams = []\n",
    "\n",
    "    def __init__(self, members, team_count):\n",
    "        self.members = members\n",
    "        self.team_count = team_count\n",
    "\n",
    "    def create(self):\n",
    "        # 멤버스 섞기\n",
    "        random.shuffle(self.members)\n",
    "        team_count_list = [len(self.members) // self.team_count for x in range(self.team_count)]\n",
    "        for i in range(len(self.members) % self.team_count):\n",
    "            team_count_list[i] += 1\n",
    "        num = 0\n",
    "        # 섞은 멤버 숫자에 맞춰 뽑기\n",
    "        for team_count in team_count_list:\n",
    "            TeamBuilder.teams.append(self.members[num : num + team_count])\n",
    "            num += team_count\n",
    "        \n",
    "        # Teams에 있는 팀원 추가하기\n",
    "        for team_number, team in enumerate(TeamBuilder.teams):\n",
    "            globals()[f'{team_number}team'] = Team(team_number)\n",
    "            for person in team:\n",
    "                globals()[f'{team_number}team'].add_member(person)\n",
    "            print(globals()[f'{team_number}team'].member)\n",
    "            "
   ]
  },
  {
   "cell_type": "code",
   "execution_count": null,
   "metadata": {},
   "outputs": [],
   "source": [
    "tb = TeamBuilder(members, 7)"
   ]
  },
  {
   "cell_type": "code",
   "execution_count": null,
   "metadata": {},
   "outputs": [],
   "source": [
    "tb.create()"
   ]
  },
  {
   "cell_type": "code",
   "execution_count": null,
   "metadata": {},
   "outputs": [],
   "source": [
    "members = \"강지인 김강직 김경목 김기훈 김민수 김예린 김유림 김호영 도강현 맹지호 민병창 서영호 신제우 우상욱 윤규헌 이민호 이병호 이선주 이호진 허경모 황도희\".split()"
   ]
  },
  {
   "cell_type": "code",
   "execution_count": null,
   "metadata": {},
   "outputs": [],
   "source": [
    "team_count_list = [len(names) // team_count for x in range(team_count)]\n",
    "    for idx, i in enumerate(range(0, len(names) % team_count)):\n",
    "        team_count_list[idx] += 1\n",
    "    random_team_list = []\n"
   ]
  },
  {
   "cell_type": "code",
   "execution_count": null,
   "metadata": {},
   "outputs": [],
   "source": [
    "\n",
    "def team_extractor(names, team_count):\n",
    "    team_count_list = [len(names) // team_count for x in range(team_count)]\n",
    "    for idx, i in enumerate(range(0, len(names) % team_count)):\n",
    "        team_count_list[idx] += 1\n",
    "    random_team_list = []\n",
    "    for x in team_count_list:\n",
    "        samplelist = random.sample(names, x)\n",
    "        for name in samplelist:\n",
    "            names.remove(name)\n",
    "        # print(samplelist)\n",
    "        random_team_list.append(samplelist)\n",
    "    return random_team_list"
   ]
  },
  {
   "cell_type": "code",
   "execution_count": null,
   "metadata": {},
   "outputs": [],
   "source": [
    "class TeamBuilder:\n",
    "    '''1번에 1개의 팀의 정보를 갖고 있는 클래스입니다'''\n",
    "    has_team = False\n",
    "    teams = []\n",
    "    def __init__(self, members, team_count):\n",
    "        self.members = members\n",
    "        self.team_count = team_count\n",
    "\n",
    "    def create_team(self):\n",
    "        Team(self.members\n"
   ]
  },
  {
   "cell_type": "code",
   "execution_count": 351,
   "metadata": {},
   "outputs": [
    {
     "ename": "AttributeError",
     "evalue": "'TeamBuilder' object has no attribute 'create_team'",
     "output_type": "error",
     "traceback": [
      "\u001b[1;31m---------------------------------------------------------------------------\u001b[0m",
      "\u001b[1;31mAttributeError\u001b[0m                            Traceback (most recent call last)",
      "\u001b[1;32m~\\AppData\\Local\\Temp\\ipykernel_67272\\1083256128.py\u001b[0m in \u001b[0;36m<module>\u001b[1;34m\u001b[0m\n\u001b[0;32m      1\u001b[0m \u001b[0mmembers\u001b[0m \u001b[1;33m=\u001b[0m \u001b[1;34m\"강지인 김강직 김경목 김기훈 김민수 김예린 김유림 김호영 도강현 맹지호 민병창 서영호 신제우 우상욱 윤규헌 이민호 이병호 이선주 이호진 허경모 황도희\"\u001b[0m\u001b[1;33m.\u001b[0m\u001b[0msplit\u001b[0m\u001b[1;33m(\u001b[0m\u001b[1;33m)\u001b[0m\u001b[1;33m\u001b[0m\u001b[1;33m\u001b[0m\u001b[0m\n\u001b[0;32m      2\u001b[0m \u001b[0mtb\u001b[0m \u001b[1;33m=\u001b[0m \u001b[0mTeamBuilder\u001b[0m\u001b[1;33m(\u001b[0m\u001b[0mmembers\u001b[0m\u001b[1;33m,\u001b[0m \u001b[1;36m5\u001b[0m\u001b[1;33m)\u001b[0m\u001b[1;33m\u001b[0m\u001b[1;33m\u001b[0m\u001b[0m\n\u001b[1;32m----> 3\u001b[1;33m \u001b[0mtb\u001b[0m\u001b[1;33m.\u001b[0m\u001b[0mcreate_team\u001b[0m\u001b[1;33m(\u001b[0m\u001b[1;33m)\u001b[0m\u001b[1;33m\u001b[0m\u001b[1;33m\u001b[0m\u001b[0m\n\u001b[0m\u001b[0;32m      4\u001b[0m \u001b[0mtb\u001b[0m\u001b[1;33m.\u001b[0m\u001b[0mshow_team_info\u001b[0m\u001b[1;33m(\u001b[0m\u001b[1;33m)\u001b[0m\u001b[1;33m\u001b[0m\u001b[1;33m\u001b[0m\u001b[0m\n",
      "\u001b[1;31mAttributeError\u001b[0m: 'TeamBuilder' object has no attribute 'create_team'"
     ]
    }
   ],
   "source": [
    "members = \"강지인 김강직 김경목 김기훈 김민수 김예린 김유림 김호영 도강현 맹지호 민병창 서영호 신제우 우상욱 윤규헌 이민호 이병호 이선주 이호진 허경모 황도희\".split()\n",
    "tb = TeamBuilder(members, 5)\n",
    "tb.create_team()\n",
    "tb.show_team_info()"
   ]
  },
  {
   "cell_type": "code",
   "execution_count": null,
   "metadata": {},
   "outputs": [],
   "source": [
    "Team.__dict__"
   ]
  },
  {
   "cell_type": "code",
   "execution_count": null,
   "metadata": {},
   "outputs": [],
   "source": [
    "a.create_team()"
   ]
  },
  {
   "cell_type": "code",
   "execution_count": null,
   "metadata": {},
   "outputs": [],
   "source": [
    "a"
   ]
  },
  {
   "cell_type": "code",
   "execution_count": null,
   "metadata": {},
   "outputs": [],
   "source": [
    "print()"
   ]
  },
  {
   "cell_type": "code",
   "execution_count": null,
   "metadata": {},
   "outputs": [],
   "source": [
    "members = \"강지인 김강직 김경목 김기훈 김민수 김예린 김유림 김호영 도강현 맹지호 민병창 서영호 신제우 우상욱 윤규헌 이민호 이병호 이선주 이호진 허경모 황도희\".split()\n",
    "team_extractor(self.members, 4)\n",
    "def team_extractor(names, team_count):\n",
    "    team_count_list = [len(names) // team_count for x in range(team_count)]\n",
    "    for idx, i in enumerate(range(0, len(names) % team_count)):\n",
    "        team_count_list[idx] += 1\n",
    "    random_team_list = []\n",
    "    for x in team_count_list:\n",
    "        samplelist = random.sample(names, x)\n",
    "        for name in samplelist:\n",
    "            names.remove(name)\n",
    "        # print(samplelist)\n",
    "        random_team_list.append(samplelist)\n",
    "    return random_team_list"
   ]
  },
  {
   "cell_type": "code",
   "execution_count": null,
   "metadata": {},
   "outputs": [],
   "source": [
    "\n",
    "# 이 때 팀을 짜야겠죠? 근데 팀간에 인원이 최대 1명 초과로 차이나지 않게\n",
    "\n",
    "import math\n",
    "def Team_builder(self.members, team_count):\n",
    "    minimum_number = math.floor(len(self.members) / team_count)\n",
    "    list_ = [x for x in [minimum_number] * team_count]\n",
    "    for idx, x in enumerate(range(1, len(self.members) - minimum_number * team_count)):\n",
    "        list_[idx] += 1\n",
    "    return list_\n"
   ]
  },
  {
   "cell_type": "code",
   "execution_count": null,
   "metadata": {},
   "outputs": [],
   "source": [
    "Team_builder(self.members, 5)"
   ]
  },
  {
   "cell_type": "code",
   "execution_count": null,
   "metadata": {},
   "outputs": [],
   "source": [
    "for x in list_:\n",
    "    samplelist = random.sample(self.members, x)\n",
    "    for name in samplelist:\n",
    "        self.members.remove(name)\n",
    "    print(samplelist)"
   ]
  },
  {
   "cell_type": "code",
   "execution_count": null,
   "metadata": {},
   "outputs": [],
   "source": [
    "list_ = [x for x in [minimum_number] * team_count]\n",
    "for idx, x in enumerate(range(len(self.members) - minimum_number * team_count)):\n",
    "    list_[idx] += 1"
   ]
  },
  {
   "cell_type": "code",
   "execution_count": null,
   "metadata": {},
   "outputs": [],
   "source": [
    "list_"
   ]
  },
  {
   "cell_type": "code",
   "execution_count": null,
   "metadata": {},
   "outputs": [],
   "source": [
    "print(input() + '??!')"
   ]
  },
  {
   "cell_type": "code",
   "execution_count": null,
   "metadata": {},
   "outputs": [],
   "source": [
    "print(int(input()) - 543)"
   ]
  },
  {
   "cell_type": "code",
   "execution_count": null,
   "metadata": {},
   "outputs": [],
   "source": [
    "base_list = [1, 1, 2, 2, 2, 8]\n",
    "list_ = list(map(int,input().split(' ')))\n",
    "\n",
    "for idx, i in enumerate(list_):\n",
    "    base_list[idx] -= i\n",
    "for x in base_list:\n",
    "    print(x, end = ' ')"
   ]
  },
  {
   "cell_type": "code",
   "execution_count": 350,
   "metadata": {},
   "outputs": [
    {
     "ename": "TypeError",
     "evalue": "'TeamBuilder' object is not subscriptable",
     "output_type": "error",
     "traceback": [
      "\u001b[1;31m---------------------------------------------------------------------------\u001b[0m",
      "\u001b[1;31mTypeError\u001b[0m                                 Traceback (most recent call last)",
      "\u001b[1;32m~\\AppData\\Local\\Temp\\ipykernel_67272\\3275856257.py\u001b[0m in \u001b[0;36m<module>\u001b[1;34m\u001b[0m\n\u001b[0;32m      2\u001b[0m \u001b[0mB\u001b[0m \u001b[1;33m=\u001b[0m \u001b[0minput\u001b[0m\u001b[1;33m(\u001b[0m\u001b[1;33m)\u001b[0m\u001b[1;33m\u001b[0m\u001b[1;33m\u001b[0m\u001b[0m\n\u001b[0;32m      3\u001b[0m \u001b[1;33m\u001b[0m\u001b[0m\n\u001b[1;32m----> 4\u001b[1;33m \u001b[0mprint\u001b[0m\u001b[1;33m(\u001b[0m\u001b[0mint\u001b[0m\u001b[1;33m(\u001b[0m\u001b[0mA\u001b[0m\u001b[1;33m)\u001b[0m \u001b[1;33m*\u001b[0m \u001b[0mint\u001b[0m\u001b[1;33m(\u001b[0m\u001b[0mb\u001b[0m\u001b[1;33m[\u001b[0m\u001b[1;33m-\u001b[0m\u001b[1;36m1\u001b[0m\u001b[1;33m]\u001b[0m\u001b[1;33m)\u001b[0m\u001b[1;33m)\u001b[0m\u001b[1;33m\u001b[0m\u001b[1;33m\u001b[0m\u001b[0m\n\u001b[0m\u001b[0;32m      5\u001b[0m \u001b[0mprint\u001b[0m\u001b[1;33m(\u001b[0m\u001b[0mint\u001b[0m\u001b[1;33m(\u001b[0m\u001b[0mA\u001b[0m\u001b[1;33m)\u001b[0m \u001b[1;33m*\u001b[0m \u001b[0mint\u001b[0m\u001b[1;33m(\u001b[0m\u001b[0mb\u001b[0m\u001b[1;33m[\u001b[0m\u001b[1;33m-\u001b[0m\u001b[1;36m2\u001b[0m\u001b[1;33m]\u001b[0m\u001b[1;33m)\u001b[0m\u001b[1;33m)\u001b[0m\u001b[1;33m\u001b[0m\u001b[1;33m\u001b[0m\u001b[0m\n\u001b[0;32m      6\u001b[0m \u001b[0mprint\u001b[0m\u001b[1;33m(\u001b[0m\u001b[0mint\u001b[0m\u001b[1;33m(\u001b[0m\u001b[0mA\u001b[0m\u001b[1;33m)\u001b[0m \u001b[1;33m*\u001b[0m \u001b[0mint\u001b[0m\u001b[1;33m(\u001b[0m\u001b[0mb\u001b[0m\u001b[1;33m[\u001b[0m\u001b[1;36m0\u001b[0m\u001b[1;33m]\u001b[0m\u001b[1;33m)\u001b[0m\u001b[1;33m)\u001b[0m\u001b[1;33m\u001b[0m\u001b[1;33m\u001b[0m\u001b[0m\n",
      "\u001b[1;31mTypeError\u001b[0m: 'TeamBuilder' object is not subscriptable"
     ]
    }
   ],
   "source": [
    "A = input()\n",
    "B = input()\n",
    "\n",
    "print(int(A) * int(b[-1]))\n",
    "print(int(A) * int(b[-2]))\n",
    "print(int(A) * int(b[0]))\n",
    "print(int(A) * int(b))\n"
   ]
  },
  {
   "cell_type": "code",
   "execution_count": null,
   "metadata": {},
   "outputs": [],
   "source": [
    "킹 1개, 퀸 1개, 룩 2개, 비숍 2개, 나이트 2개, 폰 8개\n",
    "\n",
    "[1, 1, 2, 2, 2, 8]"
   ]
  }
 ],
 "metadata": {
  "kernelspec": {
   "display_name": "base",
   "language": "python",
   "name": "python3"
  },
  "language_info": {
   "codemirror_mode": {
    "name": "ipython",
    "version": 3
   },
   "file_extension": ".py",
   "mimetype": "text/x-python",
   "name": "python",
   "nbconvert_exporter": "python",
   "pygments_lexer": "ipython3",
   "version": "3.9.13"
  },
  "orig_nbformat": 4,
  "vscode": {
   "interpreter": {
    "hash": "54f843e2d25d3a59c86748e7da2acead36750f0d182112685aa834d50ad6fdc4"
   }
  }
 },
 "nbformat": 4,
 "nbformat_minor": 2
}
