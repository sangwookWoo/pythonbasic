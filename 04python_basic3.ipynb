{
 "cells": [
  {
   "cell_type": "code",
   "execution_count": null,
   "metadata": {},
   "outputs": [],
   "source": [
    "even_numbers = list(range(2, 100, 2))\n",
    "print(even_numbers)"
   ]
  },
  {
   "cell_type": "code",
   "execution_count": null,
   "metadata": {},
   "outputs": [],
   "source": [
    "count = int(input('인사 몇 번 해드릴까요?'))\n",
    "for i in range(count):\n",
    "    print('Hello world')"
   ]
  },
  {
   "cell_type": "code",
   "execution_count": null,
   "metadata": {},
   "outputs": [],
   "source": [
    "print(list(range(5,10)))\n",
    "print(list(range(0,10,3)))\n",
    "print(list(range(-10,-71, -30)))"
   ]
  },
  {
   "cell_type": "code",
   "execution_count": null,
   "metadata": {},
   "outputs": [],
   "source": [
    "num = int(input(\"자연수 하나 입력해주세요 : \"))\n",
    "for j in range(0, num):\n",
    "    ending = '\\t'\n",
    "    for i in range(0, num):\n",
    "        if i == num - 1:\n",
    "            ending = '\\n'\n",
    "        print(num, end = ending)\n",
    "    num -= 1\n",
    "    "
   ]
  },
  {
   "cell_type": "code",
   "execution_count": null,
   "metadata": {},
   "outputs": [],
   "source": [
    "for _ in list(range(0,10)):\n",
    "    if _ in [0,9]:\n",
    "        print('*' * 10)\n",
    "    else:\n",
    "        print('*' + ' ' * 8 + '*')"
   ]
  },
  {
   "cell_type": "code",
   "execution_count": null,
   "metadata": {},
   "outputs": [],
   "source": [
    "num = int(input('자연수를 입력해주세요 : '))\n",
    "sum = 0\n",
    "text = ''\n",
    "for i in range(1,num):\n",
    "    if i % 2 == 1:\n",
    "        sum += i\n",
    "        text += (str(i) + ' + ')\n",
    "text = text[0:-3]\n",
    "text += (' = ' + str(sum))\n",
    "print(text)"
   ]
  },
  {
   "cell_type": "code",
   "execution_count": null,
   "metadata": {},
   "outputs": [],
   "source": [
    "num = int(input('계승을 구할 숫자를 입력하세요. : '))\n",
    "result = 1\n",
    "for i in range(1,num + 1):\n",
    "    result = result * i\n",
    "print(result)"
   ]
  },
  {
   "cell_type": "code",
   "execution_count": null,
   "metadata": {},
   "outputs": [],
   "source": [
    "x = [10, -42, 25, 103, 21, 77, 24]\n",
    "for i in x:\n",
    "    print(i * 10, end = ' ')"
   ]
  },
  {
   "cell_type": "code",
   "execution_count": null,
   "metadata": {},
   "outputs": [],
   "source": [
    "num = int(input('구구단을 알려드립니다. 숫자를 입력하세요'))\n",
    "for i in range(1,num + 1):\n",
    "    print(f'{num} * {i} = {num * i}')"
   ]
  },
  {
   "cell_type": "code",
   "execution_count": null,
   "metadata": {},
   "outputs": [],
   "source": [
    "num = int(input('자연수를 입력해주세요 : '))\n",
    "sum = 0\n",
    "for i in range(1, num + 1):\n",
    "    sum += i\n",
    "print(sum)"
   ]
  },
  {
   "cell_type": "code",
   "execution_count": null,
   "metadata": {},
   "outputs": [],
   "source": [
    "for i in [1,2,3]:\n",
    "    print(i)"
   ]
  },
  {
   "cell_type": "code",
   "execution_count": null,
   "metadata": {},
   "outputs": [],
   "source": [
    "nowtime = input('현재 시간을 입력하세요.')\n",
    "if nowtime.split(':')[1] == \"00\":\n",
    "    print('정각입니다.')\n",
    "else :\n",
    "    print('정각이 아닙니다.')"
   ]
  },
  {
   "cell_type": "code",
   "execution_count": null,
   "metadata": {},
   "outputs": [],
   "source": [
    "list_a = [1,2,3,4,5,6,7,8,9,10]\n",
    "list_a[2::3] = ['짝','짝','짝']"
   ]
  },
  {
   "cell_type": "code",
   "execution_count": null,
   "metadata": {},
   "outputs": [],
   "source": [
    "list_a"
   ]
  },
  {
   "cell_type": "code",
   "execution_count": null,
   "metadata": {},
   "outputs": [],
   "source": [
    "[0] * 10"
   ]
  },
  {
   "cell_type": "code",
   "execution_count": null,
   "metadata": {},
   "outputs": [],
   "source": [
    "\"10 1\".split()"
   ]
  },
  {
   "cell_type": "code",
   "execution_count": null,
   "metadata": {},
   "outputs": [],
   "source": [
    "sum = 0\n",
    "for i in range(1,11):\n",
    "    if i % 2 == 1:\n",
    "        sum += i\n",
    "print(f'1부터 10까지 홀수의 합은 {sum}입니다.')"
   ]
  },
  {
   "cell_type": "code",
   "execution_count": null,
   "metadata": {},
   "outputs": [],
   "source": [
    "tuple(range(-10,10,3))"
   ]
  },
  {
   "cell_type": "code",
   "execution_count": null,
   "metadata": {},
   "outputs": [],
   "source": [
    "print('Python[0:4:2]')"
   ]
  },
  {
   "cell_type": "code",
   "execution_count": null,
   "metadata": {},
   "outputs": [],
   "source": [
    "a = 3\n",
    "for i in range(1,3):\n",
    "    print(i)"
   ]
  },
  {
   "cell_type": "code",
   "execution_count": null,
   "metadata": {},
   "outputs": [],
   "source": [
    "for i in range(1,10):\n",
    "    print(i)"
   ]
  },
  {
   "cell_type": "code",
   "execution_count": null,
   "metadata": {},
   "outputs": [],
   "source": [
    "for i in range(1,10):\n",
    "    print(i)"
   ]
  },
  {
   "cell_type": "code",
   "execution_count": null,
   "metadata": {},
   "outputs": [],
   "source": [
    "for i in range(1,11):\n",
    "    print(i)"
   ]
  },
  {
   "cell_type": "code",
   "execution_count": null,
   "metadata": {},
   "outputs": [],
   "source": [
    "for _ in reversed(\"일이삼사오육칠팔구십\"):\n",
    "    print(_, end = ' ')"
   ]
  },
  {
   "cell_type": "code",
   "execution_count": null,
   "metadata": {},
   "outputs": [],
   "source": [
    "for _ in range(0,5):\n",
    "    for i in range(0,5):\n",
    "        ending = \"\"\n",
    "        if i == 4:\n",
    "            ending = \"\\n\"\n",
    "        print( \"*\", end = ending)"
   ]
  },
  {
   "cell_type": "code",
   "execution_count": null,
   "metadata": {},
   "outputs": [],
   "source": [
    "for _ in range(0,5):\n",
    "    for i in range(0,5):\n",
    "        print(\"*\", end = '')\n",
    "    print()"
   ]
  },
  {
   "cell_type": "code",
   "execution_count": null,
   "metadata": {},
   "outputs": [],
   "source": [
    "for _ in range(0,5):\n",
    "    print(\"*\" * 5)"
   ]
  },
  {
   "cell_type": "code",
   "execution_count": null,
   "metadata": {},
   "outputs": [],
   "source": [
    "i = 0\n",
    "while i < 10:\n",
    "    print(\"hello world\")\n",
    "    i += 1"
   ]
  },
  {
   "cell_type": "code",
   "execution_count": null,
   "metadata": {},
   "outputs": [],
   "source": [
    "count = int(input('반복할 횟수를 입력하세요: '))\n",
    "while count > 0:\n",
    "    print(\"hello world\", count)\n",
    "    count -= 1"
   ]
  },
  {
   "cell_type": "code",
   "execution_count": 21,
   "metadata": {},
   "outputs": [
    {
     "name": "stdout",
     "output_type": "stream",
     "text": [
      "123123123 * 1 = 123123123\n",
      "123123123 * 2 = 246246246\n",
      "123123123 * 3 = 369369369\n",
      "123123123 * 4 = 492492492\n",
      "123123123 * 5 = 615615615\n",
      "123123123 * 6 = 738738738\n",
      "123123123 * 7 = 861861861\n",
      "123123123 * 8 = 984984984\n",
      "123123123 * 9 = 1108108107\n"
     ]
    }
   ],
   "source": [
    "num = int(input('숫자를 입력하세요'))\n",
    "count = 1\n",
    "while count <= 9:\n",
    "    print(f'{num} * {count} = {num * count}')\n",
    "    count += 1"
   ]
  },
  {
   "cell_type": "code",
   "execution_count": 50,
   "metadata": {},
   "outputs": [
    {
     "name": "stdout",
     "output_type": "stream",
     "text": [
      "평균 : 88.0점\n"
     ]
    }
   ],
   "source": [
    "stu_count = int(input('학생의 수를 입력하세요: '))\n",
    "count = 1\n",
    "sum = 0\n",
    "while count <= stu_count:\n",
    "    score = int(input(f'{count}번 학생의 점수 : '))\n",
    "    sum += score\n",
    "    count += 1\n",
    "print('평균 : ' + str(sum / stu_count) + '점')"
   ]
  },
  {
   "cell_type": "code",
   "execution_count": 55,
   "metadata": {},
   "outputs": [
    {
     "name": "stdout",
     "output_type": "stream",
     "text": [
      "97\n",
      "100\n",
      "77\n"
     ]
    }
   ],
   "source": [
    "scores = (97, 100, 77)\n",
    "for _ in range(len(scores)):\n",
    "    print(scores[_])"
   ]
  },
  {
   "cell_type": "code",
   "execution_count": 63,
   "metadata": {},
   "outputs": [
    {
     "name": "stdout",
     "output_type": "stream",
     "text": [
      "1\n",
      "2\n",
      "3\n",
      "4\n",
      "5\n",
      "6\n",
      "7\n",
      "8\n",
      "9\n"
     ]
    }
   ],
   "source": [
    "for i in [1,2,3,4,5,6,7,8,9]:\n",
    "    print(i)"
   ]
  },
  {
   "cell_type": "code",
   "execution_count": 71,
   "metadata": {},
   "outputs": [
    {
     "name": "stdout",
     "output_type": "stream",
     "text": [
      "79.0\n"
     ]
    }
   ],
   "source": [
    "class_a = (70,60,55,75,95,90,80,80,85,100)\n",
    "sum = 0\n",
    "for i in range(len(class_a)):\n",
    "    sum += class_a[i]\n",
    "print(sum / len(class_a))"
   ]
  },
  {
   "cell_type": "code",
   "execution_count": 79,
   "metadata": {},
   "outputs": [
    {
     "name": "stdout",
     "output_type": "stream",
     "text": [
      "79.0\n"
     ]
    }
   ],
   "source": [
    "class_a = (70,60,55,75,95,90,80,80,85,100)\n",
    "sum = 0\n",
    "i = 0\n",
    "while i < len(class_a):\n",
    "    sum += class_a[i]\n",
    "    i += 1\n",
    "print(sum / len(class_a))"
   ]
  },
  {
   "cell_type": "code",
   "execution_count": 106,
   "metadata": {},
   "outputs": [
    {
     "name": "stdout",
     "output_type": "stream",
     "text": [
      "5050\n"
     ]
    }
   ],
   "source": [
    "i = 0\n",
    "total = 0\n",
    "while True:\n",
    "    if i == 101:\n",
    "        break\n",
    "    total += i\n",
    "    i += 1\n",
    "print(total)\n",
    "    "
   ]
  },
  {
   "cell_type": "code",
   "execution_count": 15,
   "metadata": {},
   "outputs": [
    {
     "name": "stdout",
     "output_type": "stream",
     "text": [
      "3 13 23 33 43 53 63 73 83 93 "
     ]
    }
   ],
   "source": [
    "i = 0\n",
    "while True:\n",
    "    if i == 101:\n",
    "        break\n",
    "    if i % 10 != 3:\n",
    "        i += 1\n",
    "        continue\n",
    "    print(i , end = ' ')\n",
    "    i += 1\n",
    "    "
   ]
  },
  {
   "cell_type": "code",
   "execution_count": 29,
   "metadata": {},
   "outputs": [
    {
     "name": "stdout",
     "output_type": "stream",
     "text": [
      "1 2 3 4 5 6 7 8 9 10 \n",
      "1 2 3 4 5 6 7 8 9 10 "
     ]
    }
   ],
   "source": [
    "# for문\n",
    "for i in range(1,11):\n",
    "    print(i, end = \" \")\n",
    "\n",
    "\n",
    "print()\n",
    "# while문\n",
    "count = 1\n",
    "while count <= 10:\n",
    "    print(count, end = \" \")\n",
    "    count += 1"
   ]
  },
  {
   "cell_type": "code",
   "execution_count": 55,
   "metadata": {},
   "outputs": [
    {
     "name": "stdout",
     "output_type": "stream",
     "text": [
      "1부터 10까지의 합은 55입니다.\n"
     ]
    }
   ],
   "source": [
    "# for 문\n",
    "start = int(input('시작하는 정수 입력 :'))\n",
    "end = int(input('끝나는 정수 입력: '))\n",
    "sum = 0\n",
    "for i in range(start, end + 1):\n",
    "    sum += i\n",
    "print(f'{start}부터 {end}까지의 합은 {sum}입니다.')"
   ]
  },
  {
   "cell_type": "code",
   "execution_count": 58,
   "metadata": {},
   "outputs": [
    {
     "name": "stdout",
     "output_type": "stream",
     "text": [
      "2부터 20까지의 합은 209입니다.\n"
     ]
    }
   ],
   "source": [
    "# while 문\n",
    "start = int(input('시작하는 정수 입력 :'))\n",
    "temp_start = start\n",
    "end = int(input('끝나는 정수 입력: '))\n",
    "sum_ = 0\n",
    "while temp_start <= end:\n",
    "    sum_ += temp_start\n",
    "    temp_start += 1\n",
    "print(f'{start}부터 {end}까지의 합은 {sum_}입니다.')"
   ]
  },
  {
   "cell_type": "code",
   "execution_count": 78,
   "metadata": {},
   "outputs": [
    {
     "name": "stdout",
     "output_type": "stream",
     "text": [
      "15부터 68 사이의 짝수 제곱의 합은 54180입니다.\n",
      "15부터 68 사이의 짝수 제곱의 합은 54180입니다.\n"
     ]
    }
   ],
   "source": [
    "start = int(input('시작하는 정수 입력 :'))\n",
    "end = int(input('끝나는 정수 입력: '))\n",
    "\n",
    "#### for문\n",
    "total = 0\n",
    "for i in range(start, end + 1):\n",
    "    if i % 2 == 0:\n",
    "        total += i**2\n",
    "print(f'{start}부터 {end} 사이의 짝수 제곱의 합은 {total}입니다.')\n",
    "\n",
    "\n",
    "#### while문\n",
    "total = 0\n",
    "temp_start = start\n",
    "while temp_start <= end:\n",
    "    if temp_start % 2 == 0:\n",
    "        total += temp_start ** 2\n",
    "    temp_start += 1\n",
    "print(f'{start}부터 {end} 사이의 짝수 제곱의 합은 {total}입니다.')"
   ]
  },
  {
   "cell_type": "code",
   "execution_count": 92,
   "metadata": {},
   "outputs": [
    {
     "name": "stdout",
     "output_type": "stream",
     "text": [
      "3\n"
     ]
    }
   ],
   "source": [
    "print(3)"
   ]
  },
  {
   "cell_type": "code",
   "execution_count": 102,
   "metadata": {},
   "outputs": [
    {
     "data": {
      "text/plain": [
       "datetime.datetime(2023, 1, 9, 16, 17, 41, 552322, tzinfo=<DstTzInfo 'Asia/Seoul' KST+9:00:00 STD>)"
      ]
     },
     "execution_count": 102,
     "metadata": {},
     "output_type": "execute_result"
    }
   ],
   "source": [
    "from pytz import timezone\n",
    "from datetime import datetime, timedelta\n",
    "base_date = datetime.now(timezone('Asia/Seoul')) - timedelta(minutes = 30)"
   ]
  },
  {
   "cell_type": "code",
   "execution_count": 103,
   "metadata": {},
   "outputs": [
    {
     "name": "stdout",
     "output_type": "stream",
     "text": [
      "79.0\n"
     ]
    }
   ],
   "source": [
    "Kor = [70, 60, 55, 75, 95, 90, 80, 80, 85, 100]\n",
    "total = 0\n",
    "for i in Kor:\n",
    "    total += i\n",
    "print(total / len(Kor))"
   ]
  },
  {
   "cell_type": "code",
   "execution_count": 105,
   "metadata": {},
   "outputs": [
    {
     "name": "stdout",
     "output_type": "stream",
     "text": [
      "79.0\n"
     ]
    }
   ],
   "source": [
    "Kor = [70, 60, 55, 75, 95, 90, 80, 80, 85, 100]\n",
    "total = 0\n",
    "count = 0\n",
    "while count < len(Kor):\n",
    "    total += Kor[count]\n",
    "    count += 1\n",
    "print(total/ len(Kor))"
   ]
  },
  {
   "cell_type": "code",
   "execution_count": 13,
   "metadata": {},
   "outputs": [
    {
     "name": "stdout",
     "output_type": "stream",
     "text": [
      "이 학생의 평균 점수는 79.0입니다.\n"
     ]
    }
   ],
   "source": [
    "Scores = list(map(int, input('실기점수를 입력하세요: ').split()))\n",
    "total = 0\n",
    "max_score = 0\n",
    "min_score = 100\n",
    "for score in Scores:\n",
    "    total += score\n",
    "    if score > max_score:\n",
    "        max_score = score\n",
    "    if score < min_score:\n",
    "        min_score = score\n",
    "\n",
    "print(f'이 학생의 평균 점수는 {(total - max_score - min_score) / (len(Scores) - 2)}입니다.')"
   ]
  },
  {
   "cell_type": "code",
   "execution_count": 17,
   "metadata": {},
   "outputs": [
    {
     "name": "stdout",
     "output_type": "stream",
     "text": [
      "[2, 1, 1, 1, 0]\n"
     ]
    }
   ],
   "source": [
    "Scores = [86,72,98,60,45]\n",
    "A_grade, B_grade, C_grade, D_grade, F_grade = [0, 0, 0, 0, 0]\n",
    "\n",
    "for score in Scores:\n",
    "    if 85 <= score <= 100:\n",
    "        A_grade += 1\n",
    "    elif 70 <= score <= 84:\n",
    "        B_grade += 1\n",
    "    elif 55 <= score <= 69:\n",
    "        C_grade += 1\n",
    "    elif 40 <= score <= 54:\n",
    "        D_grade += 1\n",
    "    elif 0 <= score <= 39:\n",
    "        F_grade += 1\n",
    "\n",
    "print([A_grade, B_grade, C_grade, D_grade, F_grade])\n"
   ]
  },
  {
   "cell_type": "code",
   "execution_count": 18,
   "metadata": {},
   "outputs": [
    {
     "name": "stdout",
     "output_type": "stream",
     "text": [
      "[2, 1, 1, 1, 0]\n"
     ]
    }
   ],
   "source": [
    "Scores = [86,72,98,60,45]\n",
    "grade_counter = [0, 0, 0, 0, 0]\n",
    "\n",
    "for score in Scores:\n",
    "    if 85 <= score <= 100:\n",
    "        grade_counter[0] += 1\n",
    "    elif 70 <= score <= 84:\n",
    "        grade_counter[1] += 1\n",
    "    elif 55 <= score <= 69:\n",
    "        grade_counter[2] += 1\n",
    "    elif 40 <= score <= 54:\n",
    "        grade_counter[3] += 1\n",
    "    elif 0 <= score <= 39:\n",
    "        grade_counter[4] += 1\n",
    "\n",
    "print(grade_counter)\n"
   ]
  },
  {
   "cell_type": "code",
   "execution_count": 21,
   "metadata": {},
   "outputs": [
    {
     "name": "stdout",
     "output_type": "stream",
     "text": [
      "1\t2\tFizz\t4\tBuzz\tFizz\t7\t8\tFizz\tBuzz\t11\tFizz\t13\t14\tFizzBuzz\t16\t17\tFizz\t19\tBuzz\tFizz\t22\t23\tFizz\tBuzz\t26\tFizz\t28\t29\tFizzBuzz\t31\t32\tFizz\t34\tBuzz\tFizz\t37\t38\tFizz\tBuzz\t41\tFizz\t43\t44\tFizzBuzz\t46\t47\tFizz\t49\tBuzz\tFizz\t52\t53\tFizz\tBuzz\t56\tFizz\t58\t59\tFizzBuzz\t61\t62\tFizz\t64\tBuzz\tFizz\t67\t68\tFizz\tBuzz\t71\tFizz\t73\t74\tFizzBuzz\t76\t77\tFizz\t79\tBuzz\tFizz\t82\t83\tFizz\tBuzz\t86\tFizz\t88\t89\tFizzBuzz\t91\t92\tFizz\t94\tBuzz\tFizz\t97\t98\tFizz\tBuzz\t"
     ]
    }
   ],
   "source": [
    "for i in range(1,101):\n",
    "    if (i % 3 == 0) & (i % 5 == 0):\n",
    "        i = 'FizzBuzz'\n",
    "    elif (i % 3 == 0):\n",
    "        i = 'Fizz'\n",
    "    elif (i % 5 == 0):\n",
    "        i = 'Buzz'\n",
    "    print(i, end = '\\t')"
   ]
  },
  {
   "cell_type": "code",
   "execution_count": 40,
   "metadata": {},
   "outputs": [
    {
     "name": "stdout",
     "output_type": "stream",
     "text": [
      "1\n",
      "2\n",
      "Fizz\n",
      "4\n",
      "Buzz\n",
      "Fizz\n",
      "7\n",
      "8\n",
      "Fizz\n",
      "Buzz\n",
      "11\n",
      "Fizz\n",
      "13\n",
      "14\n",
      "FizzBuzz\n",
      "16\n",
      "17\n",
      "Fizz\n",
      "19\n",
      "Buzz\n",
      "Fizz\n",
      "22\n",
      "23\n",
      "Fizz\n",
      "Buzz\n",
      "26\n",
      "Fizz\n",
      "28\n",
      "29\n",
      "FizzBuzz\n",
      "31\n",
      "32\n",
      "Fizz\n",
      "34\n",
      "Buzz\n",
      "Fizz\n",
      "37\n",
      "38\n",
      "Fizz\n",
      "Buzz\n",
      "41\n",
      "Fizz\n",
      "43\n",
      "44\n",
      "FizzBuzz\n",
      "46\n",
      "47\n",
      "Fizz\n",
      "49\n",
      "Buzz\n",
      "Fizz\n",
      "52\n",
      "53\n",
      "Fizz\n",
      "Buzz\n",
      "56\n",
      "Fizz\n",
      "58\n",
      "59\n",
      "FizzBuzz\n",
      "61\n",
      "62\n",
      "Fizz\n",
      "64\n",
      "Buzz\n",
      "Fizz\n",
      "67\n",
      "68\n",
      "Fizz\n",
      "Buzz\n",
      "71\n",
      "Fizz\n",
      "73\n",
      "74\n",
      "FizzBuzz\n",
      "76\n",
      "77\n",
      "Fizz\n",
      "79\n",
      "Buzz\n",
      "Fizz\n",
      "82\n",
      "83\n",
      "Fizz\n",
      "Buzz\n",
      "86\n",
      "Fizz\n",
      "88\n",
      "89\n",
      "FizzBuzz\n",
      "91\n",
      "92\n",
      "Fizz\n",
      "94\n",
      "Buzz\n",
      "Fizz\n",
      "97\n",
      "98\n",
      "Fizz\n",
      "Buzz\n"
     ]
    }
   ],
   "source": [
    "for i in range(1,101):\n",
    "    print(\"Fizz\" * (i % 3 == 0) + \"Buzz\" * (i % 5 == 0) or i)"
   ]
  },
  {
   "cell_type": "code",
   "execution_count": 39,
   "metadata": {},
   "outputs": [
    {
     "name": "stdout",
     "output_type": "stream",
     "text": [
      "1\t2\tFizz\t4\tBuzz\tFizz\t7\t8\tFizz\tBuzz\t11\tFizz\t13\t14\tFizzBuzz\t16\t17\tFizz\t19\tBuzz\tFizz\t22\t23\tFizz\tBuzz\t26\tFizz\t28\t29\tFizzBuzz\t31\t32\tFizz\t34\tBuzz\tFizz\t37\t38\tFizz\tBuzz\t41\tFizz\t43\t44\tFizzBuzz\t46\t47\tFizz\t49\tBuzz\tFizz\t52\t53\tFizz\tBuzz\t56\tFizz\t58\t59\tFizzBuzz\t61\t62\tFizz\t64\tBuzz\tFizz\t67\t68\tFizz\tBuzz\t71\tFizz\t73\t74\tFizzBuzz\t76\t77\tFizz\t79\tBuzz\tFizz\t82\t83\tFizz\tBuzz\t86\tFizz\t88\t89\tFizzBuzz\t91\t92\tFizz\t94\tBuzz\tFizz\t97\t98\tFizz\tBuzz\t"
     ]
    }
   ],
   "source": [
    "dic_ = {'00': 'g', '10' : 'Fizz', '01' : 'Buzz', '11' : 'FizzBuzz'}\n",
    "for i in range(1,101):\n",
    "    a = dic_[f'{int(i % 3 == 0)}{int(i % 5 == 0)}']\n",
    "    if a == 'g':\n",
    "        a = i\n",
    "    print(a, end = '\\t')"
   ]
  },
  {
   "cell_type": "code",
   "execution_count": 42,
   "metadata": {},
   "outputs": [
    {
     "name": "stdout",
     "output_type": "stream",
     "text": [
      "m 또는 h가 이름에 포함된 사람은 3 명입니다.\n"
     ]
    }
   ],
   "source": [
    "name_list = ['matthew', 'mark', 'luke', 'john', 'paul', 'peter']\n",
    "count = 0\n",
    "for name in name_list:\n",
    "    if ('m' in name) or ('h' in name):\n",
    "        count += 1\n",
    "print(f'm 또는 h가 이름에 포함된 사람은 {count} 명입니다.')"
   ]
  },
  {
   "cell_type": "code",
   "execution_count": 55,
   "metadata": {},
   "outputs": [
    {
     "name": "stdout",
     "output_type": "stream",
     "text": [
      "1번 학생 축하합니다. 합격입니다.\n",
      "3번 학생 축하합니다. 합격입니다.\n",
      "5번 학생 축하합니다. 합격입니다.\n",
      "1번 학생 축하합니다. 합격입니다.\n"
     ]
    },
    {
     "ename": "KeyboardInterrupt",
     "evalue": "",
     "output_type": "error",
     "traceback": [
      "\u001b[1;31m---------------------------------------------------------------------------\u001b[0m",
      "\u001b[1;31mKeyboardInterrupt\u001b[0m                         Traceback (most recent call last)",
      "\u001b[1;32m~\\AppData\\Local\\Temp\\ipykernel_35268\\2110179138.py\u001b[0m in \u001b[0;36m<module>\u001b[1;34m\u001b[0m\n\u001b[0;32m      9\u001b[0m \u001b[0mcount\u001b[0m \u001b[1;33m=\u001b[0m \u001b[1;36m0\u001b[0m\u001b[1;33m\u001b[0m\u001b[1;33m\u001b[0m\u001b[0m\n\u001b[0;32m     10\u001b[0m \u001b[0mseq\u001b[0m \u001b[1;33m=\u001b[0m \u001b[1;36m0\u001b[0m\u001b[1;33m\u001b[0m\u001b[1;33m\u001b[0m\u001b[0m\n\u001b[1;32m---> 11\u001b[1;33m \u001b[1;32mwhile\u001b[0m \u001b[0mcount\u001b[0m \u001b[1;33m<\u001b[0m \u001b[0mlen\u001b[0m\u001b[1;33m(\u001b[0m\u001b[0mmarks\u001b[0m\u001b[1;33m)\u001b[0m\u001b[1;33m:\u001b[0m\u001b[1;33m\u001b[0m\u001b[1;33m\u001b[0m\u001b[0m\n\u001b[0m\u001b[0;32m     12\u001b[0m     \u001b[0mseq\u001b[0m \u001b[1;33m+=\u001b[0m \u001b[1;36m1\u001b[0m\u001b[1;33m\u001b[0m\u001b[1;33m\u001b[0m\u001b[0m\n\u001b[0;32m     13\u001b[0m     \u001b[1;32mif\u001b[0m \u001b[0mmarks\u001b[0m\u001b[1;33m[\u001b[0m\u001b[0mcount\u001b[0m\u001b[1;33m]\u001b[0m \u001b[1;33m>=\u001b[0m \u001b[1;36m60\u001b[0m\u001b[1;33m:\u001b[0m\u001b[1;33m\u001b[0m\u001b[1;33m\u001b[0m\u001b[0m\n",
      "\u001b[1;31mKeyboardInterrupt\u001b[0m: "
     ]
    }
   ],
   "source": [
    "marks = [90, 25, 67, 45, 80]\n",
    "\n",
    "# for문\n",
    "for mark_idx in range(len(marks)):\n",
    "    if marks[mark_idx] >= 60:\n",
    "        print(f'{mark_idx + 1}번 학생 축하합니다. 합격입니다.')\n",
    "        \n",
    "# while 문\n",
    "count = 0\n",
    "seq = 0\n",
    "while count < len(marks):\n",
    "    seq += 1\n",
    "    if marks[count] >= 60:\n",
    "        print(f'{seq}번 학생 축하합니다. 합격입니다.')\n",
    "    count += 1"
   ]
  },
  {
   "cell_type": "code",
   "execution_count": 57,
   "metadata": {},
   "outputs": [
    {
     "name": "stdout",
     "output_type": "stream",
     "text": [
      "1번 학생 축하합니다. 합격입니다.\n",
      "3번 학생 축하합니다. 합격입니다.\n",
      "5번 학생 축하합니다. 합격입니다.\n",
      "1번 학생 축하합니다. 합격입니다.\n",
      "3번 학생 축하합니다. 합격입니다.\n",
      "5번 학생 축하합니다. 합격입니다.\n"
     ]
    }
   ],
   "source": [
    "marks = [90, 25, 67, 45, 80]\n",
    "\n",
    "# for문\n",
    "for mark_idx in range(len(marks)):\n",
    "    if marks[mark_idx] < 60:\n",
    "        continue\n",
    "    print(f'{mark_idx + 1}번 학생 축하합니다. 합격입니다.')\n",
    "        \n",
    "# while 문\n",
    "count = 0\n",
    "seq = 0\n",
    "while count < len(marks):\n",
    "    seq += 1\n",
    "    if marks[count] < 60:\n",
    "        count += 1\n",
    "        continue\n",
    "    print(f'{seq}번 학생 축하합니다. 합격입니다.')\n",
    "    count += 1"
   ]
  },
  {
   "cell_type": "code",
   "execution_count": 70,
   "metadata": {},
   "outputs": [
    {
     "name": "stdout",
     "output_type": "stream",
     "text": [
      "변환된 arr은 [3, 2, 4, 1] 입니다\n"
     ]
    }
   ],
   "source": [
    "arr = [1, 4, 2, 3]\n",
    "left, right = 0, len(arr) - 1\n",
    "while left <= right:\n",
    "    arr[left], arr[right] = arr[right], arr[left]\n",
    "    left += 1\n",
    "    right -= 1\n",
    "\n",
    "print(\"변환된 arr은\", arr, \"입니다\")"
   ]
  },
  {
   "cell_type": "code",
   "execution_count": 81,
   "metadata": {},
   "outputs": [
    {
     "name": "stdout",
     "output_type": "stream",
     "text": [
      "2x1=2\t3x1=3\t4x1=4\t5x1=5\t6x1=6\t7x1=7\t8x1=8\t9x1=9\t\n",
      "2x2=4\t3x2=6\t4x2=8\t5x2=10\t6x2=12\t7x2=14\t8x2=16\t9x2=18\t\n",
      "2x3=6\t3x3=9\t4x3=12\t5x3=15\t6x3=18\t7x3=21\t8x3=24\t9x3=27\t\n",
      "2x4=8\t3x4=12\t4x4=16\t5x4=20\t6x4=24\t7x4=28\t8x4=32\t9x4=36\t\n",
      "2x5=10\t3x5=15\t4x5=20\t5x5=25\t6x5=30\t7x5=35\t8x5=40\t9x5=45\t\n",
      "2x6=12\t3x6=18\t4x6=24\t5x6=30\t6x6=36\t7x6=42\t8x6=48\t9x6=54\t\n",
      "2x7=14\t3x7=21\t4x7=28\t5x7=35\t6x7=42\t7x7=49\t8x7=56\t9x7=63\t\n",
      "2x8=16\t3x8=24\t4x8=32\t5x8=40\t6x8=48\t7x8=56\t8x8=64\t9x8=72\t\n",
      "2x9=18\t3x9=27\t4x9=36\t5x9=45\t6x9=54\t7x9=63\t8x9=72\t9x9=81\t\n"
     ]
    }
   ],
   "source": [
    "for i in range(1,10):\n",
    "    for j in range(2,10):\n",
    "        print(f'{j}x{i}={i * j}', end = '\\t')\n",
    "    print('')"
   ]
  },
  {
   "cell_type": "code",
   "execution_count": 82,
   "metadata": {},
   "outputs": [],
   "source": [
    "dic = {1: 3, 1: 4}"
   ]
  },
  {
   "cell_type": "code",
   "execution_count": 83,
   "metadata": {},
   "outputs": [
    {
     "data": {
      "text/plain": [
       "{1: 4}"
      ]
     },
     "execution_count": 83,
     "metadata": {},
     "output_type": "execute_result"
    }
   ],
   "source": [
    "dic"
   ]
  },
  {
   "cell_type": "code",
   "execution_count": 11,
   "metadata": {},
   "outputs": [
    {
     "name": "stdout",
     "output_type": "stream",
     "text": [
      "사과의 가격은 1000원입니다.\n"
     ]
    }
   ],
   "source": [
    "fruit = input('좋아하는 과일을 입력하세요: ')\n",
    "fruits = ['사과', '바나나', '오렌지', '파인애플']\n",
    "price = [1000, 700, 1500, 2000]\n",
    "price_dic = dict(zip(fruits,price))\n",
    "print(f'사과의 가격은 {price_dic[fruit]}원 입니다.')"
   ]
  },
  {
   "cell_type": "code",
   "execution_count": 14,
   "metadata": {},
   "outputs": [
    {
     "name": "stdout",
     "output_type": "stream",
     "text": [
      "{'뽀로로': 33.2, '우상욱': 44.5, '스누피': 66.6, '강형욱': 32.2}\n"
     ]
    }
   ],
   "source": [
    "names = input('이름을 기입해주세요').split()\n",
    "weight = map(float, input('몸무게를 입력해주세요').split())\n",
    "info = dict(zip(names, weight))\n",
    "print(info)"
   ]
  },
  {
   "cell_type": "code",
   "execution_count": 16,
   "metadata": {},
   "outputs": [],
   "source": [
    "names = input('이름을 기입해주세요').split()\n",
    "weight = map(float, input('몸무게를 입력해주세요').split())\n"
   ]
  },
  {
   "cell_type": "code",
   "execution_count": 17,
   "metadata": {},
   "outputs": [
    {
     "data": {
      "text/plain": [
       "{'스누피': 123, '뽀로로': 232, '만리장성': 2323}"
      ]
     },
     "execution_count": 17,
     "metadata": {},
     "output_type": "execute_result"
    }
   ],
   "source": [
    "names = ['스누피', '뽀로로', '만리장성']\n",
    "weight = [123, 232, 2323]\n",
    "dict = {}\n",
    "for idx, name in enumerate(names):\n",
    "    dict[name] = weight[idx]\n",
    "dict\n",
    "    "
   ]
  },
  {
   "cell_type": "code",
   "execution_count": 27,
   "metadata": {},
   "outputs": [
    {
     "data": {
      "text/plain": [
       "['a', 'b', 'c', 'd']"
      ]
     },
     "execution_count": 27,
     "metadata": {},
     "output_type": "execute_result"
    }
   ],
   "source": [
    "\"a b c d\".split()"
   ]
  },
  {
   "cell_type": "code",
   "execution_count": 44,
   "metadata": {},
   "outputs": [],
   "source": [
    "list_a = list(range(1,9516165))"
   ]
  },
  {
   "cell_type": "code",
   "execution_count": 47,
   "metadata": {},
   "outputs": [],
   "source": [
    "for idx, _ in enumerate(list_a):\n",
    "    list_a[idx] = _ **2\n",
    "    "
   ]
  },
  {
   "cell_type": "code",
   "execution_count": 48,
   "metadata": {},
   "outputs": [],
   "source": [
    "\n",
    "list_a = [_ ** 2 for _ in list_a]"
   ]
  },
  {
   "cell_type": "code",
   "execution_count": 49,
   "metadata": {},
   "outputs": [
    {
     "name": "stdout",
     "output_type": "stream",
     "text": [
      "<class 'list'>\n",
      "[1, 4, 9, 16, 25, 36, 49, 64, 81]\n"
     ]
    }
   ],
   "source": [
    "prac_result = [_ ** 2 for _ in list(range(1,10))]\n",
    "print(type(prac_result))\n",
    "print(prac_result)"
   ]
  },
  {
   "cell_type": "code",
   "execution_count": 51,
   "metadata": {},
   "outputs": [
    {
     "name": "stdout",
     "output_type": "stream",
     "text": [
      "[13.8, 16.8, 21.8, 28.8, 37.8, 48.8, 61.8, 76.8, 93.8]\n"
     ]
    }
   ],
   "source": [
    "def calculator(x):\n",
    "    return x ** 2 + 35 - 22.2\n",
    "\n",
    "prac_result = [calculator(x) for x in list(range(1,10))]\n",
    "print(prac_result)"
   ]
  },
  {
   "cell_type": "code",
   "execution_count": 37,
   "metadata": {},
   "outputs": [
    {
     "name": "stdout",
     "output_type": "stream",
     "text": [
      "김태형 후보가 총 4표를 얻어 당선되었습니다.\n"
     ]
    }
   ],
   "source": [
    "votes = [2,5,3,4,1,5,1,5,5,3]\n",
    "candidates = [\"\",\"전정국\", \"김남준\", \"박지민\", \"정호석\", \"김태형\"]\n",
    "list_ = (0,0,0,0,0,0)\n",
    "candidates_dict = dict(zip(candidates, list_))\n",
    "\n",
    "for vote in votes:\n",
    "    candidates_dict[candidates[vote]] += 1\n",
    "\n",
    "winner_vote = 0\n",
    "for i in candidates_dict:\n",
    "    if  winner_vote < candidates_dict[i]:\n",
    "        winner_vote = candidates_dict[i]\n",
    "        winner = i\n",
    "\n",
    "print(f'{winner} 후보가 총 {winner_vote}표를 얻어 당선되었습니다.')"
   ]
  },
  {
   "cell_type": "code",
   "execution_count": 47,
   "metadata": {},
   "outputs": [
    {
     "name": "stdout",
     "output_type": "stream",
     "text": [
      "김태형 후보가 총 4표를 얻어 당선되었습니다.\n"
     ]
    }
   ],
   "source": [
    "votes = [2,5,3,4,1,5,1,5,5,3]\n",
    "candidates = [\"\",\"전정국\", \"김남준\", \"박지민\", \"정호석\", \"김태형\"]\n",
    "list_ = [0, 0, 0, 0, 0, 0]\n",
    "\n",
    "for idx in votes:\n",
    "    list_[idx] += 1\n",
    "    \n",
    "winner_votes_count = max(list_)\n",
    "winner = candidates[list_.index(winner_votes_count)]\n",
    "\n",
    "print(f'{winner} 후보가 총 {winner_votes_count}표를 얻어 당선되었습니다.')"
   ]
  },
  {
   "cell_type": "code",
   "execution_count": 55,
   "metadata": {},
   "outputs": [
    {
     "data": {
      "text/plain": [
       "(4, '김태형')"
      ]
     },
     "execution_count": 55,
     "metadata": {},
     "output_type": "execute_result"
    }
   ],
   "source": [
    "winner_votes = 0\n",
    "for idx, i in enumerate(list_):\n",
    "    if i > winner_votes:\n",
    "        winner_votes = i\n",
    "        winner = idx\n",
    "winner_votes, candidates[winner]"
   ]
  },
  {
   "cell_type": "code",
   "execution_count": 57,
   "metadata": {},
   "outputs": [
    {
     "name": "stdout",
     "output_type": "stream",
     "text": [
      "내 이름은 우 사 ㅇ 욱\n"
     ]
    }
   ],
   "source": [
    "print(\"내 이름은 우 사 ㅇ 욱\")"
   ]
  },
  {
   "cell_type": "code",
   "execution_count": 58,
   "metadata": {},
   "outputs": [
    {
     "name": "stdout",
     "output_type": "stream",
     "text": [
      "s\n",
      "u\n",
      "p\n",
      "e\n",
      "r\n",
      "v\n",
      "a\n",
      "l\n",
      "u\n",
      "e\n"
     ]
    }
   ],
   "source": [
    "for i in 'supervalue':\n",
    "    print(i)"
   ]
  },
  {
   "cell_type": "code",
   "execution_count": 60,
   "metadata": {},
   "outputs": [
    {
     "data": {
      "text/plain": [
       "[1, 3, 5, 7, 9]"
      ]
     },
     "execution_count": 60,
     "metadata": {},
     "output_type": "execute_result"
    }
   ],
   "source": [
    "prac_result2 = [x for x in range(1,10) if x % 2 == 1]\n",
    "prac_result2"
   ]
  },
  {
   "cell_type": "code",
   "execution_count": 62,
   "metadata": {},
   "outputs": [
    {
     "name": "stdout",
     "output_type": "stream",
     "text": [
      "['a', 'b', 'c', 'd', 'e', 'f', 'g', 'h', 'i', 'j', 'k', 'l', 'm', 'n', 'o', 'p', 'q', 'r', 's', 't', 'u', 'v', 'w', 'x', 'y', 'z']\n"
     ]
    }
   ],
   "source": [
    "alphabets = 'abcdefghijklmnopqrstuvwxyz'\n",
    "prac_result3 = [x for x in alphabets]\n",
    "print(prac_result3)"
   ]
  },
  {
   "cell_type": "code",
   "execution_count": 84,
   "metadata": {},
   "outputs": [
    {
     "name": "stdout",
     "output_type": "stream",
     "text": [
      "['2', '3', '4', '5', '6', '7', '8', '9', '10', 'J', 'Q', 'K', 'A']\n"
     ]
    }
   ],
   "source": [
    "prac_result4 = [str(x) for x in list(range(2,11))] + [x for x in 'JQKA']\n",
    "# prac_result4[0] = 'two'\n",
    "print(prac_result4)"
   ]
  },
  {
   "cell_type": "code",
   "execution_count": 85,
   "metadata": {},
   "outputs": [
    {
     "name": "stdout",
     "output_type": "stream",
     "text": [
      "[['2', '3', '4', '5', '6', '7', '8', '9', '10', 'J', 'Q', 'K', 'A'], ['2', '3', '4', '5', '6', '7', '8', '9', '10', 'J', 'Q', 'K', 'A'], ['2', '3', '4', '5', '6', '7', '8', '9', '10', 'J', 'Q', 'K', 'A'], ['2', '3', '4', '5', '6', '7', '8', '9', '10', 'J', 'Q', 'K', 'A']]\n"
     ]
    }
   ],
   "source": [
    "prac_result5 = [prac_result4 for x in range(1,5)]\n",
    "print(prac_result5)"
   ]
  },
  {
   "cell_type": "code",
   "execution_count": 86,
   "metadata": {},
   "outputs": [],
   "source": [
    "prac_result4[0] = 'two'"
   ]
  },
  {
   "cell_type": "code",
   "execution_count": 87,
   "metadata": {},
   "outputs": [
    {
     "data": {
      "text/plain": [
       "[['two', '3', '4', '5', '6', '7', '8', '9', '10', 'J', 'Q', 'K', 'A'],\n",
       " ['two', '3', '4', '5', '6', '7', '8', '9', '10', 'J', 'Q', 'K', 'A'],\n",
       " ['two', '3', '4', '5', '6', '7', '8', '9', '10', 'J', 'Q', 'K', 'A'],\n",
       " ['two', '3', '4', '5', '6', '7', '8', '9', '10', 'J', 'Q', 'K', 'A']]"
      ]
     },
     "execution_count": 87,
     "metadata": {},
     "output_type": "execute_result"
    }
   ],
   "source": [
    "prac_result5"
   ]
  },
  {
   "cell_type": "code",
   "execution_count": 89,
   "metadata": {},
   "outputs": [
    {
     "name": "stdout",
     "output_type": "stream",
     "text": [
      "[['two', '3', '4', '5', '6', '7', '8', '9', '10', 'J', 'Q', 'K', 'A'], ['two', '3', '4', '5', '6', '7', '8', '9', '10', 'J', 'Q', 'K', 'A'], ['two', '3', '4', '5', '6', '7', '8', '9', '10', 'J', 'Q', 'K', 'A'], ['two', '3', '4', '5', '6', '7', '8', '9', '10', 'J', 'Q', 'K', 'A']]\n"
     ]
    }
   ],
   "source": [
    "# 메모리에 담긴 리스트를 부를 때, 메모리의 리스트 주소값으로 찾으러감\n",
    "# 객체 안에 주소가 있었음\n",
    "prac_result5 = [prac_result4 for x in range(4)]\n",
    "print(prac_result5)\n",
    "\n",
    "# 그래서 prac_result4라는 주소를 가져온 것임(동일한 애를 가르키고 있는 주소였던 것)\n",
    "# prac_result5[0] = prac_result4(주소 가지고 있음)\n",
    "# prac_result5[1] = prac_result4(주소 가지고 있음)\n",
    "# prac_result5[2] = prac_result4(주소 가지고 있음)\n",
    "# prac_result5[3] = prac_result4(주소 가지고 있음)\n",
    "\n",
    "# 그래서 prac_result4를 변경하면, 그 값 자체의 주소를 저장하고 있기 때문에\n",
    "# 그 주소를 찾아가면 변수를 보고 있으니까 메모리를 최대한 효율적으로 쓰기 위해 이런 결과가 발생한다.\n",
    "#\n"
   ]
  },
  {
   "cell_type": "code",
   "execution_count": null,
   "metadata": {},
   "outputs": [],
   "source": [
    "False\n",
    "True"
   ]
  },
  {
   "cell_type": "code",
   "execution_count": 91,
   "metadata": {},
   "outputs": [
    {
     "name": "stdout",
     "output_type": "stream",
     "text": [
      "2566027092288\n",
      "2566027325504\n",
      "False\n",
      "True\n"
     ]
    }
   ],
   "source": [
    "old_list = list(range(10))\n",
    "new_list = old_list[:]\n",
    "print(id(old_list))\n",
    "print(id(new_list))\n",
    "print(old_list is new_list)\n",
    "print(old_list == new_list)"
   ]
  },
  {
   "cell_type": "code",
   "execution_count": 97,
   "metadata": {},
   "outputs": [
    {
     "name": "stdout",
     "output_type": "stream",
     "text": [
      "True\n"
     ]
    }
   ],
   "source": [
    "str_sample = \"This is str\"\n",
    "str2 = str_sample[:]\n",
    "print(id(str_sample) == id(str2))"
   ]
  },
  {
   "cell_type": "code",
   "execution_count": 133,
   "metadata": {},
   "outputs": [
    {
     "name": "stdout",
     "output_type": "stream",
     "text": [
      "1 2 3 4 5 \n",
      "2 3 4 5 1 \n",
      "3 4 5 1 2 \n",
      "4 5 1 2 3 \n",
      "5 1 2 3 4 \n"
     ]
    }
   ],
   "source": [
    "length = int(input('순환할 숫자를 입력하세요'))\n",
    "count = 0\n",
    "while count < length:\n",
    "    list_ = [x + count - length if x + count > length else x + count for x in range(1, length + 1)]\n",
    "    for i in list_:\n",
    "        print(i, end = ' ')\n",
    "    print()\n",
    "    count += 1"
   ]
  },
  {
   "cell_type": "code",
   "execution_count": 176,
   "metadata": {},
   "outputs": [
    {
     "name": "stdout",
     "output_type": "stream",
     "text": [
      "['alpha', 'bravo', 'delta', 'hotel', 'india']\n"
     ]
    }
   ],
   "source": [
    "a = ['alpha', 'bravo', 'charlie', 'delta', 'echo', 'foxtrot', 'golf', 'hotel', 'india']\n",
    "b = [x for x in a if len(x) == 5]\n",
    "print(b)\n"
   ]
  },
  {
   "cell_type": "code",
   "execution_count": 166,
   "metadata": {},
   "outputs": [
    {
     "data": {
      "text/plain": [
       "[2, 3, 4, 5, 6, 7, 8, 9, 1, 10]"
      ]
     },
     "execution_count": 166,
     "metadata": {},
     "output_type": "execute_result"
    }
   ],
   "source": [
    "list_"
   ]
  },
  {
   "cell_type": "code",
   "execution_count": 200,
   "metadata": {},
   "outputs": [
    {
     "name": "stdout",
     "output_type": "stream",
     "text": [
      "[1024]\n"
     ]
    }
   ],
   "source": [
    "while True:\n",
    "    a, b = list(map(int, input('정수 두개 입력하세요').split()))\n",
    "    if a < 1 or a > 20:\n",
    "        print('첫번째 값의 범위는 1 ~ 20입니다.')\n",
    "        continue\n",
    "    if b < 10 or b > 30:\n",
    "        print('두번째 값의 범위는 10 ~ 30입니다.')\n",
    "        continue\n",
    "    if a > b:\n",
    "        print('첫번째 입력 값은 두번째 입력 값보다 작게 입력하세요.')\n",
    "        continue\n",
    "    break\n",
    "new_list = list(range(a, b + 1))\n",
    "print([2 ** x for idx, x in enumerate(new_list) if idx not in [1,len(new_list) - 2]])"
   ]
  },
  {
   "cell_type": "code",
   "execution_count": 207,
   "metadata": {},
   "outputs": [
    {
     "name": "stdout",
     "output_type": "stream",
     "text": [
      "- 1 + 4 - 9 + 16 - 25 + 36 - 49 + 64 - 81 + 100 \n",
      "- 121 + 144 - 169 + 196 - 225 + 256 - 289 + 324 - 361 + 400 \n",
      "- 441 + 484 - 529 + 576 - 625 + 676 - 729 + 784 - 841 + 900 \n",
      "- 961 + 1024 - 1089 + 1156 - 1225 + 1296 - 1369 + 1444 - 1521 + 1600 \n",
      "- 1681 + 1764 - 1849 + 1936 - 2025 + 2116 - 2209 + 2304 - 2401 + 2500 \n",
      "- 2601 + 2704 - 2809 + 2916 - 3025 + 3136 - 3249 + 3364 - 3481 + 3600 \n",
      "- 3721 + 3844 - 3969 + 4096 - 4225 + 4356 - 4489 + 4624 - 4761 + 4900 \n",
      "- 5041 + 5184 - 5329 + 5476 - 5625 + 5776 - 5929 + 6084 - 6241 + 6400 \n",
      "- 6561 + 6724 - 6889 + 7056 - 7225 + 7396 - 7569 + 7744 - 7921 + 8100 \n",
      "- 8281 + 8464 - 8649 + 8836 - 9025 + 9216 - 9409 + 9604 - 9801 + 10000 \n",
      "= 5050 입니다.\n"
     ]
    }
   ],
   "source": [
    "num = 1\n",
    "total = 0\n",
    "while num <= 100:\n",
    "    if num % 2 == 0:\n",
    "        total += num ** 2\n",
    "        print(f'+ {num ** 2}', end = ' ')\n",
    "    elif num % 2 == 1:\n",
    "        total -= num ** 2\n",
    "        print(f'- {num ** 2}', end = ' ')\n",
    "    if num % 10 == 0:\n",
    "        print()\n",
    "    num += 1\n",
    "print(f'= {total} 입니다.')"
   ]
  },
  {
   "cell_type": "code",
   "execution_count": 3,
   "metadata": {},
   "outputs": [
    {
     "data": {
      "text/plain": [
       "False"
      ]
     },
     "execution_count": 3,
     "metadata": {},
     "output_type": "execute_result"
    }
   ],
   "source": [
    "a = ['b']\n",
    "b = ['b']\n",
    "\n",
    "a is b"
   ]
  },
  {
   "cell_type": "code",
   "execution_count": 17,
   "metadata": {},
   "outputs": [
    {
     "name": "stdout",
     "output_type": "stream",
     "text": [
      "[2, 2, 7, 10, 19, 24]\n",
      "[3, 11, 17, 26, 28, 41]\n",
      "[15, 16, 18, 26, 40, 42]\n",
      "[9, 20, 25, 26, 29, 30]\n",
      "[12, 17, 25, 26, 34, 40]\n",
      "[4, 17, 19, 25, 26, 33]\n"
     ]
    }
   ],
   "source": [
    "import random\n",
    "\n",
    "for i in range(count):\n",
    "    lotto_list = [random.randint(1,45) for _ in range(6)]\n",
    "    lotto_list.sort()\n",
    "    print(lotto_list)"
   ]
  },
  {
   "cell_type": "code",
   "execution_count": 52,
   "metadata": {},
   "outputs": [
    {
     "name": "stdout",
     "output_type": "stream",
     "text": [
      "[10, 11, 14, 16, 17, 19]\n",
      "[10, 12, 19, 32, 33, 38]\n",
      "[11, 19, 21, 26, 27, 37]\n",
      "[6, 12, 22, 25, 30, 34]\n",
      "[7, 26, 35, 36, 37, 40]\n",
      "[3, 6, 14, 21, 30, 39]\n",
      "[13, 15, 24, 35, 38, 45]\n",
      "[1, 10, 17, 20, 37, 42]\n",
      "[6, 10, 19, 32, 41, 42]\n",
      "[3, 4, 13, 15, 23, 30]\n",
      "[14, 15, 27, 39, 40, 42]\n",
      "[14, 24, 25, 35, 36, 45]\n",
      "[3, 20, 24, 38, 39, 41]\n",
      "[8, 9, 10, 22, 28, 44]\n",
      "[9, 20, 32, 33, 41, 44]\n",
      "[22, 26, 36, 38, 40, 41]\n",
      "[5, 13, 28, 36, 39, 45]\n",
      "[2, 22, 23, 27, 37, 39]\n",
      "[12, 15, 23, 26, 29, 38]\n",
      "[9, 10, 23, 25, 28, 34]\n",
      "[5, 18, 25, 29, 39, 44]\n",
      "[6, 8, 22, 26, 28, 39]\n",
      "[5, 7, 8, 12, 17, 45]\n"
     ]
    }
   ],
   "source": [
    "import random\n",
    "count = int(input('로또 번호 몇 개 드릴까요?'))\n",
    "\n",
    "for i in range(count):\n",
    "    # 초기화\n",
    "    lotto_list = []\n",
    "    for _ in range(6):\n",
    "        # 중복되면 다시 뽑기\n",
    "        while True:\n",
    "            lotto_num = random.randint(1,45)\n",
    "            if lotto_num not in lotto_list:\n",
    "                lotto_list.append(lotto_num)\n",
    "                break\n",
    "        # 로또 리스트 정렬\n",
    "        lotto_list.sort()\n",
    "    print(lotto_list)"
   ]
  },
  {
   "cell_type": "code",
   "execution_count": 53,
   "metadata": {},
   "outputs": [
    {
     "ename": "SyntaxError",
     "evalue": "invalid syntax (3729233263.py, line 6)",
     "output_type": "error",
     "traceback": [
      "\u001b[1;36m  File \u001b[1;32m\"C:\\Users\\wjddm\\AppData\\Local\\Temp\\ipykernel_17928\\3729233263.py\"\u001b[1;36m, line \u001b[1;32m6\u001b[0m\n\u001b[1;33m    {random.randint(1, 45) for x in x range(6)}\u001b[0m\n\u001b[1;37m                                      ^\u001b[0m\n\u001b[1;31mSyntaxError\u001b[0m\u001b[1;31m:\u001b[0m invalid syntax\n"
     ]
    }
   ],
   "source": [
    "import random\n",
    "count = int(input('로또 번호 몇 개 드릴까요?'))\n",
    "\n",
    "for i in range(count):\n",
    "    # 초기화\n",
    "    \n",
    "    for _ in range(6):"
   ]
  },
  {
   "cell_type": "code",
   "execution_count": 68,
   "metadata": {},
   "outputs": [
    {
     "name": "stdout",
     "output_type": "stream",
     "text": [
      "[5, 15, 32, 35, 39, 42]\n",
      "[5, 11, 12, 28, 32, 36]\n",
      "[9, 11, 12, 14, 30, 33]\n",
      "[3, 9, 19, 21, 28, 38]\n",
      "[8, 20, 24, 25, 36, 44]\n",
      "[2, 9, 29, 36, 44, 45]\n",
      "[7, 23, 28, 31, 32, 33]\n",
      "[13, 26, 29, 30, 41, 42]\n"
     ]
    }
   ],
   "source": [
    "import random\n",
    "count = int(input('로또 번호 몇 개 드릴까요?'))\n",
    "\n",
    "for i in range(count):\n",
    "    # 초기화\n",
    "    lotto_list = set()\n",
    "    while len(lotto_list) < 6:\n",
    "        lotto_num = random.randint(1,45)\n",
    "        lotto_list.add(lotto_num)\n",
    "        # 로또 리스트 정렬\n",
    "    lotto_list = list(lotto_list)\n",
    "    lotto_list.sort()\n",
    "    print(lotto_list)"
   ]
  },
  {
   "cell_type": "code",
   "execution_count": 72,
   "metadata": {},
   "outputs": [
    {
     "name": "stdout",
     "output_type": "stream",
     "text": [
      "{1, 2, 3, 4}\n"
     ]
    }
   ],
   "source": [
    "list_sample = [1,2,2,3,3,3,4,4,4,4]\n",
    "print(set(list_sample))"
   ]
  },
  {
   "cell_type": "code",
   "execution_count": 82,
   "metadata": {},
   "outputs": [
    {
     "name": "stdout",
     "output_type": "stream",
     "text": [
      "{75, 45, 15, 90, 60, 30}\n"
     ]
    }
   ],
   "source": [
    "set_3 = {x for x in range(1,101) if x % 3 == 0}\n",
    "set_5 = {x for x in range(1,101) if x % 5 == 0}\n",
    "result_set = set_3 & set_5\n",
    "print(result_set)"
   ]
  },
  {
   "cell_type": "code",
   "execution_count": 85,
   "metadata": {},
   "outputs": [
    {
     "name": "stdout",
     "output_type": "stream",
     "text": [
      "w 0\n",
      "o 1\n",
      "o 2\n",
      "s 3\n",
      "a 4\n",
      "n 5\n",
      "g 6\n",
      "w 7\n",
      "o 8\n",
      "o 9\n",
      "k 10\n"
     ]
    }
   ],
   "source": [
    "for idx, i in enumerate('woosangwook'):\n",
    "    print(i, idx)"
   ]
  },
  {
   "cell_type": "code",
   "execution_count": 104,
   "metadata": {},
   "outputs": [
    {
     "name": "stdout",
     "output_type": "stream",
     "text": [
      "개인정보 조회, 구매 관리, 근태 관리, 시스템 관리, 인사 관리, 회계 관리\n"
     ]
    }
   ],
   "source": [
    "role_admin = (\"회계 관리\", \"인사 관리\", \"구매 관리\", \"시스템 관리\")\n",
    "role_hr = (\"인사 관리\", \"개인정보 조회\", \"회계 관리\", \"근태 관리\")\n",
    "rol_user = (\"개인정보 조회\", \"근태 관리\")\n",
    "\n",
    "role_list = list(set(role_admin + role_hr + rol_user))\n",
    "role_list.sort()\n",
    "\n",
    "# 출력\n",
    "for idx, role in enumerate(role_list):\n",
    "    if idx == len(role_list) - 1:\n",
    "        print(role)\n",
    "    else :\n",
    "        print(role, end = ', ')"
   ]
  },
  {
   "cell_type": "code",
   "execution_count": 120,
   "metadata": {},
   "outputs": [
    {
     "name": "stdout",
     "output_type": "stream",
     "text": [
      "2부터 입력하신 수까지의 모든 소수를 찾는 프로그램입니다.\n",
      "\n",
      "2 3 5 7 11 13 17 \n",
      "19 23 29 31 37 41 43 \n",
      "47 53 59 61 67 71 73 \n",
      "79 83 89 97 "
     ]
    }
   ],
   "source": [
    "print(\"2부터 입력하신 수까지의 모든 소수를 찾는 프로그램입니다.\")\n",
    "range_num = int(input('찾는 범위를 입력하세요 : '))\n",
    "list_ = []\n",
    "\n",
    "for i in range(2, range_num + 1):\n",
    "    count = 0\n",
    "    for j in range(1, i + 1):\n",
    "        if i % j == 0:\n",
    "            count += 1\n",
    "            # print(j)\n",
    "    if count == 2:\n",
    "        list_.append(i)\n",
    "\n",
    "for idx, sosu in enumerate(list_):\n",
    "    if idx % 7 == 0:\n",
    "        print()\n",
    "    print(sosu, end = ' ')"
   ]
  },
  {
   "cell_type": "code",
   "execution_count": 125,
   "metadata": {},
   "outputs": [
    {
     "name": "stdout",
     "output_type": "stream",
     "text": [
      "1 2 3 4 5 6\n"
     ]
    }
   ],
   "source": [
    "print(\"1\",\"2\", \"3\", \"4\", \"5\", \"6\")"
   ]
  },
  {
   "cell_type": "code",
   "execution_count": 126,
   "metadata": {},
   "outputs": [],
   "source": [
    "# 함수 정의절\n",
    "def function_name(positional, positional2, *args, keyword1 = 1, **keyword_args):\n",
    "    pass # body"
   ]
  },
  {
   "cell_type": "code",
   "execution_count": 129,
   "metadata": {},
   "outputs": [
    {
     "name": "stdout",
     "output_type": "stream",
     "text": [
      "2 3 5 7 11 13 17 \n",
      "19 23 29 31 37 41 43 \n",
      "47 53 59 61 67 "
     ]
    }
   ],
   "source": [
    "def isPrime(num):\n",
    "    primes = [False, False] + [True]*(num-1)\n",
    "    for i in range(2, num+1):\n",
    "        if primes[i]:\n",
    "            for _ in range(i * 2, num+1, i):\n",
    "                primes[_] = False\n",
    "    return primes[num]\n",
    "get = int(input(\"찾는 범위: \"))\n",
    "lst = [_ for _ in range(2, get) if isPrime(_)]\n",
    "count = 0\n",
    "for _ in lst:\n",
    "    count+=1\n",
    "    print(_,end=\" \")\n",
    "    if count%7 == 0:\n",
    "        print()"
   ]
  },
  {
   "cell_type": "code",
   "execution_count": 137,
   "metadata": {},
   "outputs": [],
   "source": [
    "def get_grade(score):\n",
    "    '''\n",
    "    숫자로 된 정수를 넣으시면 학점의 결과를 반환합니다.\n",
    "    '''\n",
    "    if 85 <= score <= 100:\n",
    "        return \"A\"\n",
    "    elif 70 <= score <= 84:\n",
    "        return \"B\"\n",
    "    elif 55 <= score <= 69:\n",
    "        return \"C\"\n",
    "    elif 40 <= score <= 54:\n",
    "        return \"D\"\n",
    "    elif 0 <= score <= 39:\n",
    "        return \"F\""
   ]
  },
  {
   "cell_type": "code",
   "execution_count": 139,
   "metadata": {},
   "outputs": [
    {
     "data": {
      "text/plain": [
       "'\\n    숫자로 된 정수를 넣으시면 학점의 결과를 반환합니다.\\n    '"
      ]
     },
     "execution_count": 139,
     "metadata": {},
     "output_type": "execute_result"
    }
   ],
   "source": [
    "get_grade.__doc__"
   ]
  },
  {
   "cell_type": "code",
   "execution_count": 150,
   "metadata": {},
   "outputs": [
    {
     "name": "stdout",
     "output_type": "stream",
     "text": [
      "['F', 'F', 'D', 'C', 'B', 'F', 'C', 'F', 'F', 'F', 'A', 'F', 'F', 'F', 'C', 'F', 'F', 'F', 'C', 'F']\n"
     ]
    }
   ],
   "source": [
    "import random\n",
    "\n",
    "def get_grade(score = 0):\n",
    "    '''\n",
    "    숫자로 된 정수를 넣으시면 학점의 결과를 반환합니다.\n",
    "    '''\n",
    "    if 85 <= score <= 100:\n",
    "        return \"A\"\n",
    "    elif 70 <= score <= 84:\n",
    "        return \"B\"\n",
    "    elif 55 <= score <= 69:\n",
    "        return \"C\"\n",
    "    elif 40 <= score <= 54:\n",
    "        return \"D\"\n",
    "    elif 0 <= score <= 39:\n",
    "        return \"F\"\n",
    "    \n",
    "\n",
    "# 20명의 점수를 시스템에 입력\n",
    "scores = [random.randint(1,100) for _ in range(20)]\n",
    "scores = list(map(get_grade, scores))\n",
    "print(scores)"
   ]
  },
  {
   "cell_type": "code",
   "execution_count": 151,
   "metadata": {},
   "outputs": [
    {
     "data": {
      "text/plain": [
       "'F'"
      ]
     },
     "execution_count": 151,
     "metadata": {},
     "output_type": "execute_result"
    }
   ],
   "source": [
    "get_grade()"
   ]
  },
  {
   "cell_type": "code",
   "execution_count": 166,
   "metadata": {},
   "outputs": [],
   "source": [
    "def get_grade(score,  student_number, name = '홍길동',):\n",
    "    '''\n",
    "    숫자로 된 정수를 넣으시면 학점의 결과를 반환합니다.\n",
    "    '''\n",
    "    print(f\"{student_number} {name}의 성적을 확인합니다.\")\n",
    "    if 85 <= score <= 100:\n",
    "        return \"A\"\n",
    "    elif 70 <= score <= 84:\n",
    "        return \"B\"\n",
    "    elif 55 <= score <= 69:\n",
    "        return \"C\"\n",
    "    elif 40 <= score <= 54:\n",
    "        return \"D\"\n",
    "    elif 0 <= score <= 39:\n",
    "        return \"F\"\n",
    "    \n",
    "\n",
    "# # 20명의 점수를 시스템에 입력\n",
    "# scores = [random.randint(1,100) for _ in range(20)]\n",
    "# scores = list(map(get_grade, scores))\n",
    "# print(scores, '우상욱', '2015111498')"
   ]
  },
  {
   "cell_type": "code",
   "execution_count": 171,
   "metadata": {},
   "outputs": [
    {
     "name": "stdout",
     "output_type": "stream",
     "text": [
      "2015111498 김길동의 성적을 확인합니다.\n"
     ]
    },
    {
     "data": {
      "text/plain": [
       "'F'"
      ]
     },
     "execution_count": 171,
     "metadata": {},
     "output_type": "execute_result"
    }
   ],
   "source": [
    "get_grade(1, name = '김길동', student_number = '2015111498')"
   ]
  },
  {
   "cell_type": "code",
   "execution_count": 184,
   "metadata": {},
   "outputs": [
    {
     "name": "stdout",
     "output_type": "stream",
     "text": [
      "78\n"
     ]
    }
   ],
   "source": [
    "# 인자(매개변수, parameter) - non-default, default 종류\n",
    "# positional only : / 문자 기준으로 왼편에 온다(콤마 찍고 인자 처럼 / 넣기)\n",
    "def add_number(number2, number1 = 3, / ):\n",
    "    '''\n",
    "    숫자 number1과 숫자 number2를 전달 받아 더한 결과를 반환합니다.\n",
    "    '''\n",
    "    return number1 + number2\n",
    "\n",
    "# 인수(argument) - positional argument, keyword argument\n",
    "result = add_number(number2 = 45, number1 = 33) # 키워드 방식이 적용되지 않는 것을 볼 수 있다. positional only로 설정해주었기 때문이다.\n",
    "### Error 반환\n",
    "print(result)"
   ]
  },
  {
   "cell_type": "code",
   "execution_count": 190,
   "metadata": {},
   "outputs": [
    {
     "data": {
      "text/plain": [
       "15"
      ]
     },
     "execution_count": 190,
     "metadata": {},
     "output_type": "execute_result"
    }
   ],
   "source": [
    "# keyword-only : * 문자를 기준으로 오른편에 온다.\n",
    "def minus_number(number1 , / , *, number2 = 3):\n",
    "    '''\n",
    "    숫자 number1과 숫자 number2를 전달 받아 뺀 결과를 반환합니다.\n",
    "    '''\n",
    "    return number1 - number2\n",
    "\n",
    "# 함수를 호출\n",
    "# 인수(argument) - positional arguemnt, keyword argument\n",
    "minus_number(20, number2 = 5)\n",
    "### 에러 발생, 키워드를 채우지 않았기 때문"
   ]
  },
  {
   "cell_type": "code",
   "execution_count": 196,
   "metadata": {},
   "outputs": [
    {
     "name": "stdout",
     "output_type": "stream",
     "text": [
      "************************구분************************\n",
      "------------------------------------------------절취선-------------------------------------------------\n"
     ]
    }
   ],
   "source": [
    "def string_line(str_value, /, str_len = 70, *, sep = \"#\"):\n",
    "    '''\n",
    "    str_value는 가운데 오는 텍스트입니다.\n",
    "    str_len은 텍스트의 설정할 길이입니다.\n",
    "    sep은 구분선을 그을 때 쓰는 문자입니다.\n",
    "    '''\n",
    "    print(str_value.center(str_len, sep))\n",
    "    # 여기서 파라미터 str_len은 과연 무엇일까\n",
    "    # 위치 방식(positional), 키워드 방식(keyword) 전부 가능하다. \n",
    "    # str_value 는 / 왼편에 오므로, 위치방식\n",
    "    # sep는 * 오른편에 오므로, 키워드 방식\n",
    "string_line(\"구분\", 50, sep = \"*\")\n",
    "string_line(\"절취선\", str_len = 100, sep = \"-\")\n",
    "    \n",
    "    "
   ]
  },
  {
   "cell_type": "code",
   "execution_count": 200,
   "metadata": {},
   "outputs": [
    {
     "name": "stdout",
     "output_type": "stream",
     "text": [
      "1 1 1 1 1 1 1 1 1 1 1 1 1 1 1 1 1 1 1 1 1\n"
     ]
    }
   ],
   "source": [
    "# 가변위치(var positional)\n",
    "# 위치 매개변수 앞에 추가적인 위치 매개변수를 개수에 상관없이 받는다.\n",
    "# 변수명 앞에 *를 하나 붙여 표기합니다.\n",
    "print(\"1\",\"1\",\"1\",\"1\",\"1\",\"1\",\"1\",\"1\",\"1\",\"1\",\"1\",\"1\",\"1\",\"1\",\"1\",\"1\",\"1\",\"1\",\"1\",\"1\",\"1\")"
   ]
  },
  {
   "cell_type": "code",
   "execution_count": 210,
   "metadata": {},
   "outputs": [
    {
     "name": "stdout",
     "output_type": "stream",
     "text": [
      "a : a 위치입니다 - b : b 위치입니다 - c : c 위치입니다\n",
      "<class 'tuple'>\n",
      "('여기는', '어딜까요', '몇개', '더')\n"
     ]
    }
   ],
   "source": [
    "# *args : var positional 가변 위치\n",
    "def test_func(a, b, c, *args,):\n",
    "    print(f\"a : {a} - b : {b} - c : {c}\")\n",
    "    print(type(args))\n",
    "    print(args)\n",
    "test_func(\"a 위치입니다\", \"b 위치입니다\", \"c 위치입니다\", \"여기는\", \"어딜까요\", \"몇개\", \"더\") # args는 튜플로 자동 패킹"
   ]
  },
  {
   "cell_type": "code",
   "execution_count": 213,
   "metadata": {},
   "outputs": [],
   "source": [
    "# **kargs : var keyword 가변 키워드\n",
    "def test_func(a = \"a\", b = \"b\", **kargs):\n",
    "    print(a,b)\n",
    "    print(type(kargs))\n",
    "    print(kargs)\n",
    "    \n",
    "test_func(1,2, key = 'value', key2 = 'value2')\n",
    "# 결과값\n",
    "# 1 2\n",
    "# <class 'dict'>\n",
    "# {'key': 'value', 'key2': 'value2'}\n",
    "# kargs 값을 딕셔너리로 패킹해서 받는다."
   ]
  },
  {
   "cell_type": "code",
   "execution_count": 217,
   "metadata": {},
   "outputs": [
    {
     "data": {
      "text/plain": [
       "30"
      ]
     },
     "execution_count": 217,
     "metadata": {},
     "output_type": "execute_result"
    }
   ],
   "source": [
    "def plus_ten(x):\n",
    "    return x + 10\n"
   ]
  },
  {
   "cell_type": "code",
   "execution_count": 16,
   "metadata": {},
   "outputs": [
    {
     "name": "stdout",
     "output_type": "stream",
     "text": [
      "그보다 큽니다.\n",
      "그보다 작습니다.\n",
      "그보다 큽니다.\n",
      "그보다 큽니다.\n",
      "그보다 큽니다.\n",
      "그보다 큽니다.\n",
      "그보다 큽니다.\n",
      "맞췄습니다!\n",
      "8번 만에 맞추셨습니다!\n",
      "입력한 숫자는 다음과 같습니다 50,75,65,66,70,72,73,74\n"
     ]
    }
   ],
   "source": [
    "import random\n",
    "\n",
    "target_num = random.randint(1, 100)\n",
    "\n",
    "answer_list = []\n",
    "count = 0\n",
    "while True:\n",
    "    answer_num = int(input('값을 입력해주세요 : '))\n",
    "    answer_list.append(answer_num)\n",
    "    if answer_num < 1 or answer_num > 100:\n",
    "        print('1~100 사이의 숫자를 입력하세요.')\n",
    "        count += 1\n",
    "        continue\n",
    "    if target_num < answer_num:\n",
    "        print('그보다 작습니다.')\n",
    "        count += 1\n",
    "        continue\n",
    "    elif target_num > answer_num:\n",
    "        print('그보다 큽니다.')\n",
    "        count += 1\n",
    "        continue\n",
    "    else:\n",
    "        print('맞췄습니다!')\n",
    "        count += 1\n",
    "        break\n",
    "print(f\"{count}번 만에 맞추셨습니다!\")\n",
    "answer_list = list(map(str,answer_list))\n",
    "print(f\"입력한 숫자는 다음과 같습니다 {','.join(answer_list)}\")\n",
    "        \n",
    "        "
   ]
  },
  {
   "cell_type": "code",
   "execution_count": 4,
   "metadata": {},
   "outputs": [
    {
     "data": {
      "text/plain": [
       "33"
      ]
     },
     "execution_count": 4,
     "metadata": {},
     "output_type": "execute_result"
    }
   ],
   "source": [
    "target_num"
   ]
  },
  {
   "cell_type": "code",
   "execution_count": null,
   "metadata": {},
   "outputs": [],
   "source": []
  }
 ],
 "metadata": {
  "kernelspec": {
   "display_name": "base",
   "language": "python",
   "name": "python3"
  },
  "language_info": {
   "codemirror_mode": {
    "name": "ipython",
    "version": 3
   },
   "file_extension": ".py",
   "mimetype": "text/x-python",
   "name": "python",
   "nbconvert_exporter": "python",
   "pygments_lexer": "ipython3",
   "version": "3.9.13 (main, Aug 25 2022, 23:51:50) [MSC v.1916 64 bit (AMD64)]"
  },
  "orig_nbformat": 4,
  "vscode": {
   "interpreter": {
    "hash": "54f843e2d25d3a59c86748e7da2acead36750f0d182112685aa834d50ad6fdc4"
   }
  }
 },
 "nbformat": 4,
 "nbformat_minor": 2
}
