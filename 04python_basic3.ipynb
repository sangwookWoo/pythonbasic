{
 "cells": [
  {
   "cell_type": "code",
   "execution_count": null,
   "metadata": {},
   "outputs": [],
   "source": [
    "even_numbers = list(range(2, 100, 2))\n",
    "print(even_numbers)"
   ]
  },
  {
   "cell_type": "code",
   "execution_count": null,
   "metadata": {},
   "outputs": [],
   "source": [
    "count = int(input('인사 몇 번 해드릴까요?'))\n",
    "for i in range(count):\n",
    "    print('Hello world')"
   ]
  },
  {
   "cell_type": "code",
   "execution_count": 4,
   "metadata": {},
   "outputs": [
    {
     "name": "stdout",
     "output_type": "stream",
     "text": [
      "[5, 6, 7, 8, 9]\n",
      "[0, 3, 6, 9]\n",
      "[-10, -40, -70]\n"
     ]
    }
   ],
   "source": [
    "print(list(range(5,10)))\n",
    "print(list(range(0,10,3)))\n",
    "print(list(range(-10,-71, -30)))"
   ]
  },
  {
   "cell_type": "code",
   "execution_count": 47,
   "metadata": {},
   "outputs": [
    {
     "name": "stdout",
     "output_type": "stream",
     "text": [
      "10\t10\t10\t10\t10\t10\t10\t10\t10\t10\n",
      "9\t9\t9\t9\t9\t9\t9\t9\t9\n",
      "8\t8\t8\t8\t8\t8\t8\t8\n",
      "7\t7\t7\t7\t7\t7\t7\n",
      "6\t6\t6\t6\t6\t6\n",
      "5\t5\t5\t5\t5\n",
      "4\t4\t4\t4\n",
      "3\t3\t3\n",
      "2\t2\n",
      "1\n"
     ]
    }
   ],
   "source": [
    "num = int(input(\"자연수 하나 입력해주세요 : \"))\n",
    "for j in range(0, num):\n",
    "    ending = '\\t'\n",
    "    for i in range(0, num):\n",
    "        if i == num - 1:\n",
    "            ending = '\\n'\n",
    "        print(num, end = ending)\n",
    "    num -= 1\n",
    "    "
   ]
  },
  {
   "cell_type": "code",
   "execution_count": 72,
   "metadata": {},
   "outputs": [
    {
     "name": "stdout",
     "output_type": "stream",
     "text": [
      "**********\n",
      "*        *\n",
      "*        *\n",
      "*        *\n",
      "*        *\n",
      "*        *\n",
      "*        *\n",
      "*        *\n",
      "*        *\n",
      "**********\n"
     ]
    }
   ],
   "source": [
    "for _ in list(range(0,10)):\n",
    "    if _ in [0,9]:\n",
    "        print('*' * 10)\n",
    "    else:\n",
    "        print('*' + ' ' * 8 + '*')"
   ]
  },
  {
   "cell_type": "code",
   "execution_count": 82,
   "metadata": {},
   "outputs": [
    {
     "name": "stdout",
     "output_type": "stream",
     "text": [
      "1 + 3 + 5 + 7 + 9 + 11 + 13 + 15 + 17 + 19 + 21 + 23 + 25 + 27 + 29 + 31 + 33 + 35 + 37 + 39 + 41 + 43 + 45 + 47 + 49 + 51 + 53 + 55 + 57 + 59 + 61 + 63 + 65 + 67 + 69 + 71 + 73 + 75 + 77 + 79 + 81 + 83 + 85 + 87 + 89 + 91 + 93 + 95 + 97 + 99 = 2500\n"
     ]
    }
   ],
   "source": [
    "num = int(input('자연수를 입력해주세요 : '))\n",
    "sum = 0\n",
    "text = ''\n",
    "for i in range(1,num):\n",
    "    if i % 2 == 1:\n",
    "        sum += i\n",
    "        text += (str(i) + ' + ')\n",
    "text = text[0:-3]\n",
    "text += (' = ' + str(sum))\n",
    "print(text)"
   ]
  },
  {
   "cell_type": "code",
   "execution_count": 94,
   "metadata": {},
   "outputs": [
    {
     "name": "stdout",
     "output_type": "stream",
     "text": [
      "5040\n"
     ]
    }
   ],
   "source": [
    "num = int(input('계승을 구할 숫자를 입력하세요. : '))\n",
    "result = 1\n",
    "for i in range(1,num + 1):\n",
    "    result = result * i\n",
    "print(result)"
   ]
  },
  {
   "cell_type": "code",
   "execution_count": null,
   "metadata": {},
   "outputs": [],
   "source": []
  }
 ],
 "metadata": {
  "kernelspec": {
   "display_name": "base",
   "language": "python",
   "name": "python3"
  },
  "language_info": {
   "codemirror_mode": {
    "name": "ipython",
    "version": 3
   },
   "file_extension": ".py",
   "mimetype": "text/x-python",
   "name": "python",
   "nbconvert_exporter": "python",
   "pygments_lexer": "ipython3",
   "version": "3.9.13"
  },
  "orig_nbformat": 4,
  "vscode": {
   "interpreter": {
    "hash": "54f843e2d25d3a59c86748e7da2acead36750f0d182112685aa834d50ad6fdc4"
   }
  }
 },
 "nbformat": 4,
 "nbformat_minor": 2
}
