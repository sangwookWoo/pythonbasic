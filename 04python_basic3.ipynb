{
 "cells": [
  {
   "cell_type": "code",
   "execution_count": null,
   "metadata": {},
   "outputs": [],
   "source": [
    "even_numbers = list(range(2, 100, 2))\n",
    "print(even_numbers)"
   ]
  },
  {
   "cell_type": "code",
   "execution_count": null,
   "metadata": {},
   "outputs": [],
   "source": [
    "count = int(input('인사 몇 번 해드릴까요?'))\n",
    "for i in range(count):\n",
    "    print('Hello world')"
   ]
  },
  {
   "cell_type": "code",
   "execution_count": null,
   "metadata": {},
   "outputs": [],
   "source": [
    "print(list(range(5,10)))\n",
    "print(list(range(0,10,3)))\n",
    "print(list(range(-10,-71, -30)))"
   ]
  },
  {
   "cell_type": "code",
   "execution_count": null,
   "metadata": {},
   "outputs": [],
   "source": [
    "num = int(input(\"자연수 하나 입력해주세요 : \"))\n",
    "for j in range(0, num):\n",
    "    ending = '\\t'\n",
    "    for i in range(0, num):\n",
    "        if i == num - 1:\n",
    "            ending = '\\n'\n",
    "        print(num, end = ending)\n",
    "    num -= 1\n",
    "    "
   ]
  },
  {
   "cell_type": "code",
   "execution_count": null,
   "metadata": {},
   "outputs": [],
   "source": [
    "for _ in list(range(0,10)):\n",
    "    if _ in [0,9]:\n",
    "        print('*' * 10)\n",
    "    else:\n",
    "        print('*' + ' ' * 8 + '*')"
   ]
  },
  {
   "cell_type": "code",
   "execution_count": null,
   "metadata": {},
   "outputs": [],
   "source": [
    "num = int(input('자연수를 입력해주세요 : '))\n",
    "sum = 0\n",
    "text = ''\n",
    "for i in range(1,num):\n",
    "    if i % 2 == 1:\n",
    "        sum += i\n",
    "        text += (str(i) + ' + ')\n",
    "text = text[0:-3]\n",
    "text += (' = ' + str(sum))\n",
    "print(text)"
   ]
  },
  {
   "cell_type": "code",
   "execution_count": null,
   "metadata": {},
   "outputs": [],
   "source": [
    "num = int(input('계승을 구할 숫자를 입력하세요. : '))\n",
    "result = 1\n",
    "for i in range(1,num + 1):\n",
    "    result = result * i\n",
    "print(result)"
   ]
  },
  {
   "cell_type": "code",
   "execution_count": null,
   "metadata": {},
   "outputs": [],
   "source": [
    "x = [10, -42, 25, 103, 21, 77, 24]\n",
    "for i in x:\n",
    "    print(i * 10, end = ' ')"
   ]
  },
  {
   "cell_type": "code",
   "execution_count": null,
   "metadata": {},
   "outputs": [],
   "source": [
    "num = int(input('구구단을 알려드립니다. 숫자를 입력하세요'))\n",
    "for i in range(1,num + 1):\n",
    "    print(f'{num} * {i} = {num * i}')"
   ]
  },
  {
   "cell_type": "code",
   "execution_count": null,
   "metadata": {},
   "outputs": [],
   "source": [
    "num = int(input('자연수를 입력해주세요 : '))\n",
    "sum = 0\n",
    "for i in range(1, num + 1):\n",
    "    sum += i\n",
    "print(sum)"
   ]
  },
  {
   "cell_type": "code",
   "execution_count": null,
   "metadata": {},
   "outputs": [],
   "source": [
    "for i in [1,2,3]:\n",
    "    print(i)"
   ]
  },
  {
   "cell_type": "code",
   "execution_count": null,
   "metadata": {},
   "outputs": [],
   "source": [
    "nowtime = input('현재 시간을 입력하세요.')\n",
    "if nowtime.split(':')[1] == \"00\":\n",
    "    print('정각입니다.')\n",
    "else :\n",
    "    print('정각이 아닙니다.')"
   ]
  },
  {
   "cell_type": "code",
   "execution_count": null,
   "metadata": {},
   "outputs": [],
   "source": [
    "list_a = [1,2,3,4,5,6,7,8,9,10]\n",
    "list_a[2::3] = ['짝','짝','짝']"
   ]
  },
  {
   "cell_type": "code",
   "execution_count": null,
   "metadata": {},
   "outputs": [],
   "source": [
    "list_a"
   ]
  },
  {
   "cell_type": "code",
   "execution_count": null,
   "metadata": {},
   "outputs": [],
   "source": [
    "[0] * 10"
   ]
  },
  {
   "cell_type": "code",
   "execution_count": null,
   "metadata": {},
   "outputs": [],
   "source": [
    "\"10 1\".split()"
   ]
  },
  {
   "cell_type": "code",
   "execution_count": null,
   "metadata": {},
   "outputs": [],
   "source": [
    "sum = 0\n",
    "for i in range(1,11):\n",
    "    if i % 2 == 1:\n",
    "        sum += i\n",
    "print(f'1부터 10까지 홀수의 합은 {sum}입니다.')"
   ]
  },
  {
   "cell_type": "code",
   "execution_count": null,
   "metadata": {},
   "outputs": [],
   "source": [
    "tuple(range(-10,10,3))"
   ]
  },
  {
   "cell_type": "code",
   "execution_count": null,
   "metadata": {},
   "outputs": [],
   "source": [
    "print('Python[0:4:2]')"
   ]
  },
  {
   "cell_type": "code",
   "execution_count": null,
   "metadata": {},
   "outputs": [],
   "source": [
    "a = 3\n",
    "for i in range(1,3):\n",
    "    print(i)"
   ]
  },
  {
   "cell_type": "code",
   "execution_count": null,
   "metadata": {},
   "outputs": [],
   "source": [
    "for i in range(1,10):\n",
    "    print(i)"
   ]
  },
  {
   "cell_type": "code",
   "execution_count": null,
   "metadata": {},
   "outputs": [],
   "source": [
    "for i in range(1,10):\n",
    "    print(i)"
   ]
  },
  {
   "cell_type": "code",
   "execution_count": null,
   "metadata": {},
   "outputs": [],
   "source": [
    "for i in range(1,11):\n",
    "    print(i)"
   ]
  },
  {
   "cell_type": "code",
   "execution_count": null,
   "metadata": {},
   "outputs": [],
   "source": [
    "for _ in reversed(\"일이삼사오육칠팔구십\"):\n",
    "    print(_, end = ' ')"
   ]
  },
  {
   "cell_type": "code",
   "execution_count": null,
   "metadata": {},
   "outputs": [],
   "source": [
    "for _ in range(0,5):\n",
    "    for i in range(0,5):\n",
    "        ending = \"\"\n",
    "        if i == 4:\n",
    "            ending = \"\\n\"\n",
    "        print( \"*\", end = ending)"
   ]
  },
  {
   "cell_type": "code",
   "execution_count": null,
   "metadata": {},
   "outputs": [],
   "source": [
    "for _ in range(0,5):\n",
    "    for i in range(0,5):\n",
    "        print(\"*\", end = '')\n",
    "    print()"
   ]
  },
  {
   "cell_type": "code",
   "execution_count": null,
   "metadata": {},
   "outputs": [],
   "source": [
    "for _ in range(0,5):\n",
    "    print(\"*\" * 5)"
   ]
  },
  {
   "cell_type": "code",
   "execution_count": null,
   "metadata": {},
   "outputs": [],
   "source": [
    "i = 0\n",
    "while i < 10:\n",
    "    print(\"hello world\")\n",
    "    i += 1"
   ]
  },
  {
   "cell_type": "code",
   "execution_count": null,
   "metadata": {},
   "outputs": [],
   "source": [
    "count = int(input('반복할 횟수를 입력하세요: '))\n",
    "while count > 0:\n",
    "    print(\"hello world\", count)\n",
    "    count -= 1"
   ]
  },
  {
   "cell_type": "code",
   "execution_count": 21,
   "metadata": {},
   "outputs": [
    {
     "name": "stdout",
     "output_type": "stream",
     "text": [
      "123123123 * 1 = 123123123\n",
      "123123123 * 2 = 246246246\n",
      "123123123 * 3 = 369369369\n",
      "123123123 * 4 = 492492492\n",
      "123123123 * 5 = 615615615\n",
      "123123123 * 6 = 738738738\n",
      "123123123 * 7 = 861861861\n",
      "123123123 * 8 = 984984984\n",
      "123123123 * 9 = 1108108107\n"
     ]
    }
   ],
   "source": [
    "num = int(input('숫자를 입력하세요'))\n",
    "count = 1\n",
    "while count <= 9:\n",
    "    print(f'{num} * {count} = {num * count}')\n",
    "    count += 1"
   ]
  },
  {
   "cell_type": "code",
   "execution_count": 50,
   "metadata": {},
   "outputs": [
    {
     "name": "stdout",
     "output_type": "stream",
     "text": [
      "평균 : 88.0점\n"
     ]
    }
   ],
   "source": [
    "stu_count = int(input('학생의 수를 입력하세요: '))\n",
    "count = 1\n",
    "sum = 0\n",
    "while count <= stu_count:\n",
    "    score = int(input(f'{count}번 학생의 점수 : '))\n",
    "    sum += score\n",
    "    count += 1\n",
    "print('평균 : ' + str(sum / stu_count) + '점')"
   ]
  },
  {
   "cell_type": "code",
   "execution_count": 55,
   "metadata": {},
   "outputs": [
    {
     "name": "stdout",
     "output_type": "stream",
     "text": [
      "97\n",
      "100\n",
      "77\n"
     ]
    }
   ],
   "source": [
    "scores = (97, 100, 77)\n",
    "for _ in range(len(scores)):\n",
    "    print(scores[_])"
   ]
  },
  {
   "cell_type": "code",
   "execution_count": 63,
   "metadata": {},
   "outputs": [
    {
     "name": "stdout",
     "output_type": "stream",
     "text": [
      "1\n",
      "2\n",
      "3\n",
      "4\n",
      "5\n",
      "6\n",
      "7\n",
      "8\n",
      "9\n"
     ]
    }
   ],
   "source": [
    "for i in [1,2,3,4,5,6,7,8,9]:\n",
    "    print(i)"
   ]
  },
  {
   "cell_type": "code",
   "execution_count": 71,
   "metadata": {},
   "outputs": [
    {
     "name": "stdout",
     "output_type": "stream",
     "text": [
      "79.0\n"
     ]
    }
   ],
   "source": [
    "class_a = (70,60,55,75,95,90,80,80,85,100)\n",
    "sum = 0\n",
    "for i in range(len(class_a)):\n",
    "    sum += class_a[i]\n",
    "print(sum / len(class_a))"
   ]
  },
  {
   "cell_type": "code",
   "execution_count": 79,
   "metadata": {},
   "outputs": [
    {
     "name": "stdout",
     "output_type": "stream",
     "text": [
      "79.0\n"
     ]
    }
   ],
   "source": [
    "class_a = (70,60,55,75,95,90,80,80,85,100)\n",
    "sum = 0\n",
    "i = 0\n",
    "while i < len(class_a):\n",
    "    sum += class_a[i]\n",
    "    i += 1\n",
    "print(sum / len(class_a))"
   ]
  },
  {
   "cell_type": "code",
   "execution_count": 106,
   "metadata": {},
   "outputs": [
    {
     "name": "stdout",
     "output_type": "stream",
     "text": [
      "5050\n"
     ]
    }
   ],
   "source": [
    "i = 0\n",
    "total = 0\n",
    "while True:\n",
    "    if i == 101:\n",
    "        break\n",
    "    total += i\n",
    "    i += 1\n",
    "print(total)\n",
    "    "
   ]
  },
  {
   "cell_type": "code",
   "execution_count": 15,
   "metadata": {},
   "outputs": [
    {
     "name": "stdout",
     "output_type": "stream",
     "text": [
      "3 13 23 33 43 53 63 73 83 93 "
     ]
    }
   ],
   "source": [
    "i = 0\n",
    "while True:\n",
    "    if i == 101:\n",
    "        break\n",
    "    if i % 10 != 3:\n",
    "        i += 1\n",
    "        continue\n",
    "    print(i , end = ' ')\n",
    "    i += 1\n",
    "    "
   ]
  },
  {
   "cell_type": "code",
   "execution_count": 29,
   "metadata": {},
   "outputs": [
    {
     "name": "stdout",
     "output_type": "stream",
     "text": [
      "1 2 3 4 5 6 7 8 9 10 \n",
      "1 2 3 4 5 6 7 8 9 10 "
     ]
    }
   ],
   "source": [
    "# for문\n",
    "for i in range(1,11):\n",
    "    print(i, end = \" \")\n",
    "\n",
    "\n",
    "print()\n",
    "# while문\n",
    "count = 1\n",
    "while count <= 10:\n",
    "    print(count, end = \" \")\n",
    "    count += 1"
   ]
  },
  {
   "cell_type": "code",
   "execution_count": 55,
   "metadata": {},
   "outputs": [
    {
     "name": "stdout",
     "output_type": "stream",
     "text": [
      "1부터 10까지의 합은 55입니다.\n"
     ]
    }
   ],
   "source": [
    "# for 문\n",
    "start = int(input('시작하는 정수 입력 :'))\n",
    "end = int(input('끝나는 정수 입력: '))\n",
    "sum = 0\n",
    "for i in range(start, end + 1):\n",
    "    sum += i\n",
    "print(f'{start}부터 {end}까지의 합은 {sum}입니다.')"
   ]
  },
  {
   "cell_type": "code",
   "execution_count": 58,
   "metadata": {},
   "outputs": [
    {
     "name": "stdout",
     "output_type": "stream",
     "text": [
      "2부터 20까지의 합은 209입니다.\n"
     ]
    }
   ],
   "source": [
    "# while 문\n",
    "start = int(input('시작하는 정수 입력 :'))\n",
    "temp_start = start\n",
    "end = int(input('끝나는 정수 입력: '))\n",
    "sum_ = 0\n",
    "while temp_start <= end:\n",
    "    sum_ += temp_start\n",
    "    temp_start += 1\n",
    "print(f'{start}부터 {end}까지의 합은 {sum_}입니다.')"
   ]
  },
  {
   "cell_type": "code",
   "execution_count": 78,
   "metadata": {},
   "outputs": [
    {
     "name": "stdout",
     "output_type": "stream",
     "text": [
      "15부터 68 사이의 짝수 제곱의 합은 54180입니다.\n",
      "15부터 68 사이의 짝수 제곱의 합은 54180입니다.\n"
     ]
    }
   ],
   "source": [
    "start = int(input('시작하는 정수 입력 :'))\n",
    "end = int(input('끝나는 정수 입력: '))\n",
    "\n",
    "#### for문\n",
    "total = 0\n",
    "for i in range(start, end + 1):\n",
    "    if i % 2 == 0:\n",
    "        total += i**2\n",
    "print(f'{start}부터 {end} 사이의 짝수 제곱의 합은 {total}입니다.')\n",
    "\n",
    "\n",
    "#### while문\n",
    "total = 0\n",
    "temp_start = start\n",
    "while temp_start <= end:\n",
    "    if temp_start % 2 == 0:\n",
    "        total += temp_start ** 2\n",
    "    temp_start += 1\n",
    "print(f'{start}부터 {end} 사이의 짝수 제곱의 합은 {total}입니다.')"
   ]
  },
  {
   "cell_type": "code",
   "execution_count": 92,
   "metadata": {},
   "outputs": [
    {
     "name": "stdout",
     "output_type": "stream",
     "text": [
      "3\n"
     ]
    }
   ],
   "source": [
    "print(3)"
   ]
  },
  {
   "cell_type": "code",
   "execution_count": 102,
   "metadata": {},
   "outputs": [
    {
     "data": {
      "text/plain": [
       "datetime.datetime(2023, 1, 9, 16, 17, 41, 552322, tzinfo=<DstTzInfo 'Asia/Seoul' KST+9:00:00 STD>)"
      ]
     },
     "execution_count": 102,
     "metadata": {},
     "output_type": "execute_result"
    }
   ],
   "source": [
    "from pytz import timezone\n",
    "from datetime import datetime, timedelta\n",
    "base_date = datetime.now(timezone('Asia/Seoul')) - timedelta(minutes = 30)"
   ]
  },
  {
   "cell_type": "code",
   "execution_count": 103,
   "metadata": {},
   "outputs": [
    {
     "name": "stdout",
     "output_type": "stream",
     "text": [
      "79.0\n"
     ]
    }
   ],
   "source": [
    "Kor = [70, 60, 55, 75, 95, 90, 80, 80, 85, 100]\n",
    "total = 0\n",
    "for i in Kor:\n",
    "    total += i\n",
    "print(total / len(Kor))"
   ]
  },
  {
   "cell_type": "code",
   "execution_count": 105,
   "metadata": {},
   "outputs": [
    {
     "name": "stdout",
     "output_type": "stream",
     "text": [
      "79.0\n"
     ]
    }
   ],
   "source": [
    "Kor = [70, 60, 55, 75, 95, 90, 80, 80, 85, 100]\n",
    "total = 0\n",
    "count = 0\n",
    "while count < len(Kor):\n",
    "    total += Kor[count]\n",
    "    count += 1\n",
    "print(total/ len(Kor))"
   ]
  },
  {
   "cell_type": "code",
   "execution_count": 13,
   "metadata": {},
   "outputs": [
    {
     "name": "stdout",
     "output_type": "stream",
     "text": [
      "이 학생의 평균 점수는 79.0입니다.\n"
     ]
    }
   ],
   "source": [
    "Scores = list(map(int, input('실기점수를 입력하세요: ').split()))\n",
    "total = 0\n",
    "max_score = 0\n",
    "min_score = 100\n",
    "for score in Scores:\n",
    "    total += score\n",
    "    if score > max_score:\n",
    "        max_score = score\n",
    "    if score < min_score:\n",
    "        min_score = score\n",
    "\n",
    "print(f'이 학생의 평균 점수는 {(total - max_score - min_score) / (len(Scores) - 2)}입니다.')"
   ]
  },
  {
   "cell_type": "code",
   "execution_count": 17,
   "metadata": {},
   "outputs": [
    {
     "name": "stdout",
     "output_type": "stream",
     "text": [
      "[2, 1, 1, 1, 0]\n"
     ]
    }
   ],
   "source": [
    "Scores = [86,72,98,60,45]\n",
    "A_grade, B_grade, C_grade, D_grade, F_grade = [0, 0, 0, 0, 0]\n",
    "\n",
    "for score in Scores:\n",
    "    if 85 <= score <= 100:\n",
    "        A_grade += 1\n",
    "    elif 70 <= score <= 84:\n",
    "        B_grade += 1\n",
    "    elif 55 <= score <= 69:\n",
    "        C_grade += 1\n",
    "    elif 40 <= score <= 54:\n",
    "        D_grade += 1\n",
    "    elif 0 <= score <= 39:\n",
    "        F_grade += 1\n",
    "\n",
    "print([A_grade, B_grade, C_grade, D_grade, F_grade])\n"
   ]
  },
  {
   "cell_type": "code",
   "execution_count": 18,
   "metadata": {},
   "outputs": [
    {
     "name": "stdout",
     "output_type": "stream",
     "text": [
      "[2, 1, 1, 1, 0]\n"
     ]
    }
   ],
   "source": [
    "Scores = [86,72,98,60,45]\n",
    "grade_counter = [0, 0, 0, 0, 0]\n",
    "\n",
    "for score in Scores:\n",
    "    if 85 <= score <= 100:\n",
    "        grade_counter[0] += 1\n",
    "    elif 70 <= score <= 84:\n",
    "        grade_counter[1] += 1\n",
    "    elif 55 <= score <= 69:\n",
    "        grade_counter[2] += 1\n",
    "    elif 40 <= score <= 54:\n",
    "        grade_counter[3] += 1\n",
    "    elif 0 <= score <= 39:\n",
    "        grade_counter[4] += 1\n",
    "\n",
    "print(grade_counter)\n"
   ]
  },
  {
   "cell_type": "code",
   "execution_count": 21,
   "metadata": {},
   "outputs": [
    {
     "name": "stdout",
     "output_type": "stream",
     "text": [
      "1\t2\tFizz\t4\tBuzz\tFizz\t7\t8\tFizz\tBuzz\t11\tFizz\t13\t14\tFizzBuzz\t16\t17\tFizz\t19\tBuzz\tFizz\t22\t23\tFizz\tBuzz\t26\tFizz\t28\t29\tFizzBuzz\t31\t32\tFizz\t34\tBuzz\tFizz\t37\t38\tFizz\tBuzz\t41\tFizz\t43\t44\tFizzBuzz\t46\t47\tFizz\t49\tBuzz\tFizz\t52\t53\tFizz\tBuzz\t56\tFizz\t58\t59\tFizzBuzz\t61\t62\tFizz\t64\tBuzz\tFizz\t67\t68\tFizz\tBuzz\t71\tFizz\t73\t74\tFizzBuzz\t76\t77\tFizz\t79\tBuzz\tFizz\t82\t83\tFizz\tBuzz\t86\tFizz\t88\t89\tFizzBuzz\t91\t92\tFizz\t94\tBuzz\tFizz\t97\t98\tFizz\tBuzz\t"
     ]
    }
   ],
   "source": [
    "for i in range(1,101):\n",
    "    if (i % 3 == 0) & (i % 5 == 0):\n",
    "        i = 'FizzBuzz'\n",
    "    elif (i % 3 == 0):\n",
    "        i = 'Fizz'\n",
    "    elif (i % 5 == 0):\n",
    "        i = 'Buzz'\n",
    "    print(i, end = '\\t')"
   ]
  },
  {
   "cell_type": "code",
   "execution_count": 40,
   "metadata": {},
   "outputs": [
    {
     "name": "stdout",
     "output_type": "stream",
     "text": [
      "1\n",
      "2\n",
      "Fizz\n",
      "4\n",
      "Buzz\n",
      "Fizz\n",
      "7\n",
      "8\n",
      "Fizz\n",
      "Buzz\n",
      "11\n",
      "Fizz\n",
      "13\n",
      "14\n",
      "FizzBuzz\n",
      "16\n",
      "17\n",
      "Fizz\n",
      "19\n",
      "Buzz\n",
      "Fizz\n",
      "22\n",
      "23\n",
      "Fizz\n",
      "Buzz\n",
      "26\n",
      "Fizz\n",
      "28\n",
      "29\n",
      "FizzBuzz\n",
      "31\n",
      "32\n",
      "Fizz\n",
      "34\n",
      "Buzz\n",
      "Fizz\n",
      "37\n",
      "38\n",
      "Fizz\n",
      "Buzz\n",
      "41\n",
      "Fizz\n",
      "43\n",
      "44\n",
      "FizzBuzz\n",
      "46\n",
      "47\n",
      "Fizz\n",
      "49\n",
      "Buzz\n",
      "Fizz\n",
      "52\n",
      "53\n",
      "Fizz\n",
      "Buzz\n",
      "56\n",
      "Fizz\n",
      "58\n",
      "59\n",
      "FizzBuzz\n",
      "61\n",
      "62\n",
      "Fizz\n",
      "64\n",
      "Buzz\n",
      "Fizz\n",
      "67\n",
      "68\n",
      "Fizz\n",
      "Buzz\n",
      "71\n",
      "Fizz\n",
      "73\n",
      "74\n",
      "FizzBuzz\n",
      "76\n",
      "77\n",
      "Fizz\n",
      "79\n",
      "Buzz\n",
      "Fizz\n",
      "82\n",
      "83\n",
      "Fizz\n",
      "Buzz\n",
      "86\n",
      "Fizz\n",
      "88\n",
      "89\n",
      "FizzBuzz\n",
      "91\n",
      "92\n",
      "Fizz\n",
      "94\n",
      "Buzz\n",
      "Fizz\n",
      "97\n",
      "98\n",
      "Fizz\n",
      "Buzz\n"
     ]
    }
   ],
   "source": [
    "for i in range(1,101):\n",
    "    print(\"Fizz\" * (i % 3 == 0) + \"Buzz\" * (i % 5 == 0) or i)"
   ]
  },
  {
   "cell_type": "code",
   "execution_count": 39,
   "metadata": {},
   "outputs": [
    {
     "name": "stdout",
     "output_type": "stream",
     "text": [
      "1\t2\tFizz\t4\tBuzz\tFizz\t7\t8\tFizz\tBuzz\t11\tFizz\t13\t14\tFizzBuzz\t16\t17\tFizz\t19\tBuzz\tFizz\t22\t23\tFizz\tBuzz\t26\tFizz\t28\t29\tFizzBuzz\t31\t32\tFizz\t34\tBuzz\tFizz\t37\t38\tFizz\tBuzz\t41\tFizz\t43\t44\tFizzBuzz\t46\t47\tFizz\t49\tBuzz\tFizz\t52\t53\tFizz\tBuzz\t56\tFizz\t58\t59\tFizzBuzz\t61\t62\tFizz\t64\tBuzz\tFizz\t67\t68\tFizz\tBuzz\t71\tFizz\t73\t74\tFizzBuzz\t76\t77\tFizz\t79\tBuzz\tFizz\t82\t83\tFizz\tBuzz\t86\tFizz\t88\t89\tFizzBuzz\t91\t92\tFizz\t94\tBuzz\tFizz\t97\t98\tFizz\tBuzz\t"
     ]
    }
   ],
   "source": [
    "dic_ = {'00': 'g', '10' : 'Fizz', '01' : 'Buzz', '11' : 'FizzBuzz'}\n",
    "for i in range(1,101):\n",
    "    a = dic_[f'{int(i % 3 == 0)}{int(i % 5 == 0)}']\n",
    "    if a == 'g':\n",
    "        a = i\n",
    "    print(a, end = '\\t')"
   ]
  },
  {
   "cell_type": "code",
   "execution_count": 42,
   "metadata": {},
   "outputs": [
    {
     "name": "stdout",
     "output_type": "stream",
     "text": [
      "m 또는 h가 이름에 포함된 사람은 3 명입니다.\n"
     ]
    }
   ],
   "source": [
    "name_list = ['matthew', 'mark', 'luke', 'john', 'paul', 'peter']\n",
    "count = 0\n",
    "for name in name_list:\n",
    "    if ('m' in name) or ('h' in name):\n",
    "        count += 1\n",
    "print(f'm 또는 h가 이름에 포함된 사람은 {count} 명입니다.')"
   ]
  },
  {
   "cell_type": "code",
   "execution_count": 55,
   "metadata": {},
   "outputs": [
    {
     "name": "stdout",
     "output_type": "stream",
     "text": [
      "1번 학생 축하합니다. 합격입니다.\n",
      "3번 학생 축하합니다. 합격입니다.\n",
      "5번 학생 축하합니다. 합격입니다.\n",
      "1번 학생 축하합니다. 합격입니다.\n"
     ]
    },
    {
     "ename": "KeyboardInterrupt",
     "evalue": "",
     "output_type": "error",
     "traceback": [
      "\u001b[1;31m---------------------------------------------------------------------------\u001b[0m",
      "\u001b[1;31mKeyboardInterrupt\u001b[0m                         Traceback (most recent call last)",
      "\u001b[1;32m~\\AppData\\Local\\Temp\\ipykernel_35268\\2110179138.py\u001b[0m in \u001b[0;36m<module>\u001b[1;34m\u001b[0m\n\u001b[0;32m      9\u001b[0m \u001b[0mcount\u001b[0m \u001b[1;33m=\u001b[0m \u001b[1;36m0\u001b[0m\u001b[1;33m\u001b[0m\u001b[1;33m\u001b[0m\u001b[0m\n\u001b[0;32m     10\u001b[0m \u001b[0mseq\u001b[0m \u001b[1;33m=\u001b[0m \u001b[1;36m0\u001b[0m\u001b[1;33m\u001b[0m\u001b[1;33m\u001b[0m\u001b[0m\n\u001b[1;32m---> 11\u001b[1;33m \u001b[1;32mwhile\u001b[0m \u001b[0mcount\u001b[0m \u001b[1;33m<\u001b[0m \u001b[0mlen\u001b[0m\u001b[1;33m(\u001b[0m\u001b[0mmarks\u001b[0m\u001b[1;33m)\u001b[0m\u001b[1;33m:\u001b[0m\u001b[1;33m\u001b[0m\u001b[1;33m\u001b[0m\u001b[0m\n\u001b[0m\u001b[0;32m     12\u001b[0m     \u001b[0mseq\u001b[0m \u001b[1;33m+=\u001b[0m \u001b[1;36m1\u001b[0m\u001b[1;33m\u001b[0m\u001b[1;33m\u001b[0m\u001b[0m\n\u001b[0;32m     13\u001b[0m     \u001b[1;32mif\u001b[0m \u001b[0mmarks\u001b[0m\u001b[1;33m[\u001b[0m\u001b[0mcount\u001b[0m\u001b[1;33m]\u001b[0m \u001b[1;33m>=\u001b[0m \u001b[1;36m60\u001b[0m\u001b[1;33m:\u001b[0m\u001b[1;33m\u001b[0m\u001b[1;33m\u001b[0m\u001b[0m\n",
      "\u001b[1;31mKeyboardInterrupt\u001b[0m: "
     ]
    }
   ],
   "source": [
    "marks = [90, 25, 67, 45, 80]\n",
    "\n",
    "# for문\n",
    "for mark_idx in range(len(marks)):\n",
    "    if marks[mark_idx] >= 60:\n",
    "        print(f'{mark_idx + 1}번 학생 축하합니다. 합격입니다.')\n",
    "        \n",
    "# while 문\n",
    "count = 0\n",
    "seq = 0\n",
    "while count < len(marks):\n",
    "    seq += 1\n",
    "    if marks[count] >= 60:\n",
    "        print(f'{seq}번 학생 축하합니다. 합격입니다.')\n",
    "    count += 1"
   ]
  },
  {
   "cell_type": "code",
   "execution_count": 57,
   "metadata": {},
   "outputs": [
    {
     "name": "stdout",
     "output_type": "stream",
     "text": [
      "1번 학생 축하합니다. 합격입니다.\n",
      "3번 학생 축하합니다. 합격입니다.\n",
      "5번 학생 축하합니다. 합격입니다.\n",
      "1번 학생 축하합니다. 합격입니다.\n",
      "3번 학생 축하합니다. 합격입니다.\n",
      "5번 학생 축하합니다. 합격입니다.\n"
     ]
    }
   ],
   "source": [
    "marks = [90, 25, 67, 45, 80]\n",
    "\n",
    "# for문\n",
    "for mark_idx in range(len(marks)):\n",
    "    if marks[mark_idx] < 60:\n",
    "        continue\n",
    "    print(f'{mark_idx + 1}번 학생 축하합니다. 합격입니다.')\n",
    "        \n",
    "# while 문\n",
    "count = 0\n",
    "seq = 0\n",
    "while count < len(marks):\n",
    "    seq += 1\n",
    "    if marks[count] < 60:\n",
    "        count += 1\n",
    "        continue\n",
    "    print(f'{seq}번 학생 축하합니다. 합격입니다.')\n",
    "    count += 1"
   ]
  },
  {
   "cell_type": "code",
   "execution_count": 70,
   "metadata": {},
   "outputs": [
    {
     "name": "stdout",
     "output_type": "stream",
     "text": [
      "변환된 arr은 [3, 2, 4, 1] 입니다\n"
     ]
    }
   ],
   "source": [
    "arr = [1, 4, 2, 3]\n",
    "left, right = 0, len(arr) - 1\n",
    "while left <= right:\n",
    "    arr[left], arr[right] = arr[right], arr[left]\n",
    "    left += 1\n",
    "    right -= 1\n",
    "\n",
    "print(\"변환된 arr은\", arr, \"입니다\")"
   ]
  },
  {
   "cell_type": "code",
   "execution_count": 81,
   "metadata": {},
   "outputs": [
    {
     "name": "stdout",
     "output_type": "stream",
     "text": [
      "2x1=2\t3x1=3\t4x1=4\t5x1=5\t6x1=6\t7x1=7\t8x1=8\t9x1=9\t\n",
      "2x2=4\t3x2=6\t4x2=8\t5x2=10\t6x2=12\t7x2=14\t8x2=16\t9x2=18\t\n",
      "2x3=6\t3x3=9\t4x3=12\t5x3=15\t6x3=18\t7x3=21\t8x3=24\t9x3=27\t\n",
      "2x4=8\t3x4=12\t4x4=16\t5x4=20\t6x4=24\t7x4=28\t8x4=32\t9x4=36\t\n",
      "2x5=10\t3x5=15\t4x5=20\t5x5=25\t6x5=30\t7x5=35\t8x5=40\t9x5=45\t\n",
      "2x6=12\t3x6=18\t4x6=24\t5x6=30\t6x6=36\t7x6=42\t8x6=48\t9x6=54\t\n",
      "2x7=14\t3x7=21\t4x7=28\t5x7=35\t6x7=42\t7x7=49\t8x7=56\t9x7=63\t\n",
      "2x8=16\t3x8=24\t4x8=32\t5x8=40\t6x8=48\t7x8=56\t8x8=64\t9x8=72\t\n",
      "2x9=18\t3x9=27\t4x9=36\t5x9=45\t6x9=54\t7x9=63\t8x9=72\t9x9=81\t\n"
     ]
    }
   ],
   "source": [
    "for i in range(1,10):\n",
    "    for j in range(2,10):\n",
    "        print(f'{j}x{i}={i * j}', end = '\\t')\n",
    "    print('')"
   ]
  },
  {
   "cell_type": "code",
   "execution_count": 82,
   "metadata": {},
   "outputs": [],
   "source": [
    "dic = {1: 3, 1: 4}"
   ]
  },
  {
   "cell_type": "code",
   "execution_count": 83,
   "metadata": {},
   "outputs": [
    {
     "data": {
      "text/plain": [
       "{1: 4}"
      ]
     },
     "execution_count": 83,
     "metadata": {},
     "output_type": "execute_result"
    }
   ],
   "source": [
    "dic"
   ]
  },
  {
   "cell_type": "code",
   "execution_count": 11,
   "metadata": {},
   "outputs": [
    {
     "name": "stdout",
     "output_type": "stream",
     "text": [
      "사과의 가격은 1000원입니다.\n"
     ]
    }
   ],
   "source": [
    "fruit = input('좋아하는 과일을 입력하세요: ')\n",
    "fruits = ['사과', '바나나', '오렌지', '파인애플']\n",
    "price = [1000, 700, 1500, 2000]\n",
    "price_dic = dict(zip(fruits,price))\n",
    "print(f'사과의 가격은 {price_dic[fruit]}원 입니다.')"
   ]
  },
  {
   "cell_type": "code",
   "execution_count": 14,
   "metadata": {},
   "outputs": [
    {
     "name": "stdout",
     "output_type": "stream",
     "text": [
      "{'뽀로로': 33.2, '우상욱': 44.5, '스누피': 66.6, '강형욱': 32.2}\n"
     ]
    }
   ],
   "source": [
    "names = input('이름을 기입해주세요').split()\n",
    "weight = map(float, input('몸무게를 입력해주세요').split())\n",
    "info = dict(zip(names, weight))\n",
    "print(info)"
   ]
  },
  {
   "cell_type": "code",
   "execution_count": 16,
   "metadata": {},
   "outputs": [],
   "source": [
    "names = input('이름을 기입해주세요').split()\n",
    "weight = map(float, input('몸무게를 입력해주세요').split())\n"
   ]
  },
  {
   "cell_type": "code",
   "execution_count": 17,
   "metadata": {},
   "outputs": [
    {
     "data": {
      "text/plain": [
       "{'스누피': 123, '뽀로로': 232, '만리장성': 2323}"
      ]
     },
     "execution_count": 17,
     "metadata": {},
     "output_type": "execute_result"
    }
   ],
   "source": [
    "names = ['스누피', '뽀로로', '만리장성']\n",
    "weight = [123, 232, 2323]\n",
    "dict = {}\n",
    "for idx, name in enumerate(names):\n",
    "    dict[name] = weight[idx]\n",
    "dict\n",
    "    "
   ]
  },
  {
   "cell_type": "code",
   "execution_count": null,
   "metadata": {},
   "outputs": [],
   "source": []
  }
 ],
 "metadata": {
  "kernelspec": {
   "display_name": "base",
   "language": "python",
   "name": "python3"
  },
  "language_info": {
   "codemirror_mode": {
    "name": "ipython",
    "version": 3
   },
   "file_extension": ".py",
   "mimetype": "text/x-python",
   "name": "python",
   "nbconvert_exporter": "python",
   "pygments_lexer": "ipython3",
   "version": "3.9.13"
  },
  "orig_nbformat": 4,
  "vscode": {
   "interpreter": {
    "hash": "54f843e2d25d3a59c86748e7da2acead36750f0d182112685aa834d50ad6fdc4"
   }
  }
 },
 "nbformat": 4,
 "nbformat_minor": 2
}
