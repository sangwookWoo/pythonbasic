{
 "cells": [
  {
   "cell_type": "code",
   "execution_count": null,
   "metadata": {},
   "outputs": [],
   "source": [
    "even_numbers = list(range(2, 100, 2))\n",
    "print(even_numbers)"
   ]
  },
  {
   "cell_type": "code",
   "execution_count": null,
   "metadata": {},
   "outputs": [],
   "source": [
    "count = int(input('인사 몇 번 해드릴까요?'))\n",
    "for i in range(count):\n",
    "    print('Hello world')"
   ]
  },
  {
   "cell_type": "code",
   "execution_count": null,
   "metadata": {},
   "outputs": [],
   "source": [
    "print(list(range(5,10)))\n",
    "print(list(range(0,10,3)))\n",
    "print(list(range(-10,-71, -30)))"
   ]
  },
  {
   "cell_type": "code",
   "execution_count": null,
   "metadata": {},
   "outputs": [],
   "source": [
    "num = int(input(\"자연수 하나 입력해주세요 : \"))\n",
    "for j in range(0, num):\n",
    "    ending = '\\t'\n",
    "    for i in range(0, num):\n",
    "        if i == num - 1:\n",
    "            ending = '\\n'\n",
    "        print(num, end = ending)\n",
    "    num -= 1\n",
    "    "
   ]
  },
  {
   "cell_type": "code",
   "execution_count": null,
   "metadata": {},
   "outputs": [],
   "source": [
    "for _ in list(range(0,10)):\n",
    "    if _ in [0,9]:\n",
    "        print('*' * 10)\n",
    "    else:\n",
    "        print('*' + ' ' * 8 + '*')"
   ]
  },
  {
   "cell_type": "code",
   "execution_count": null,
   "metadata": {},
   "outputs": [],
   "source": [
    "num = int(input('자연수를 입력해주세요 : '))\n",
    "sum = 0\n",
    "text = ''\n",
    "for i in range(1,num):\n",
    "    if i % 2 == 1:\n",
    "        sum += i\n",
    "        text += (str(i) + ' + ')\n",
    "text = text[0:-3]\n",
    "text += (' = ' + str(sum))\n",
    "print(text)"
   ]
  },
  {
   "cell_type": "code",
   "execution_count": null,
   "metadata": {},
   "outputs": [],
   "source": [
    "num = int(input('계승을 구할 숫자를 입력하세요. : '))\n",
    "result = 1\n",
    "for i in range(1,num + 1):\n",
    "    result = result * i\n",
    "print(result)"
   ]
  },
  {
   "cell_type": "code",
   "execution_count": null,
   "metadata": {},
   "outputs": [],
   "source": [
    "x = [10, -42, 25, 103, 21, 77, 24]\n",
    "for i in x:\n",
    "    print(i * 10, end = ' ')"
   ]
  },
  {
   "cell_type": "code",
   "execution_count": null,
   "metadata": {},
   "outputs": [],
   "source": [
    "num = int(input('구구단을 알려드립니다. 숫자를 입력하세요'))\n",
    "for i in range(1,num + 1):\n",
    "    print(f'{num} * {i} = {num * i}')"
   ]
  },
  {
   "cell_type": "code",
   "execution_count": null,
   "metadata": {},
   "outputs": [],
   "source": [
    "num = int(input('자연수를 입력해주세요 : '))\n",
    "sum = 0\n",
    "for i in range(1, num + 1):\n",
    "    sum += i\n",
    "print(sum)"
   ]
  },
  {
   "cell_type": "code",
   "execution_count": null,
   "metadata": {},
   "outputs": [],
   "source": [
    "for i in [1,2,3]:\n",
    "    print(i)"
   ]
  },
  {
   "cell_type": "code",
   "execution_count": null,
   "metadata": {},
   "outputs": [],
   "source": [
    "nowtime = input('현재 시간을 입력하세요.')\n",
    "if nowtime.split(':')[1] == \"00\":\n",
    "    print('정각입니다.')\n",
    "else :\n",
    "    print('정각이 아닙니다.')"
   ]
  },
  {
   "cell_type": "code",
   "execution_count": null,
   "metadata": {},
   "outputs": [],
   "source": [
    "list_a = [1,2,3,4,5,6,7,8,9,10]\n",
    "list_a[2::3] = ['짝','짝','짝']"
   ]
  },
  {
   "cell_type": "code",
   "execution_count": null,
   "metadata": {},
   "outputs": [],
   "source": [
    "list_a"
   ]
  },
  {
   "cell_type": "code",
   "execution_count": null,
   "metadata": {},
   "outputs": [],
   "source": [
    "[0] * 10"
   ]
  },
  {
   "cell_type": "code",
   "execution_count": null,
   "metadata": {},
   "outputs": [],
   "source": [
    "\"10 1\".split()"
   ]
  },
  {
   "cell_type": "code",
   "execution_count": null,
   "metadata": {},
   "outputs": [],
   "source": [
    "sum = 0\n",
    "for i in range(1,11):\n",
    "    if i % 2 == 1:\n",
    "        sum += i\n",
    "print(f'1부터 10까지 홀수의 합은 {sum}입니다.')"
   ]
  },
  {
   "cell_type": "code",
   "execution_count": null,
   "metadata": {},
   "outputs": [],
   "source": [
    "tuple(range(-10,10,3))"
   ]
  },
  {
   "cell_type": "code",
   "execution_count": null,
   "metadata": {},
   "outputs": [],
   "source": [
    "print('Python[0:4:2]')"
   ]
  },
  {
   "cell_type": "code",
   "execution_count": null,
   "metadata": {},
   "outputs": [],
   "source": [
    "a = 3\n",
    "for i in range(1,3):\n",
    "    print(i)"
   ]
  },
  {
   "cell_type": "code",
   "execution_count": null,
   "metadata": {},
   "outputs": [],
   "source": [
    "for i in range(1,10):\n",
    "    print(i)"
   ]
  },
  {
   "cell_type": "code",
   "execution_count": null,
   "metadata": {},
   "outputs": [],
   "source": [
    "for i in range(1,10):\n",
    "    print(i)"
   ]
  },
  {
   "cell_type": "code",
   "execution_count": null,
   "metadata": {},
   "outputs": [],
   "source": [
    "for i in range(1,11):\n",
    "    print(i)"
   ]
  },
  {
   "cell_type": "code",
   "execution_count": null,
   "metadata": {},
   "outputs": [],
   "source": [
    "for _ in reversed(\"일이삼사오육칠팔구십\"):\n",
    "    print(_, end = ' ')"
   ]
  },
  {
   "cell_type": "code",
   "execution_count": null,
   "metadata": {},
   "outputs": [],
   "source": [
    "for _ in range(0,5):\n",
    "    for i in range(0,5):\n",
    "        ending = \"\"\n",
    "        if i == 4:\n",
    "            ending = \"\\n\"\n",
    "        print( \"*\", end = ending)"
   ]
  },
  {
   "cell_type": "code",
   "execution_count": null,
   "metadata": {},
   "outputs": [],
   "source": [
    "for _ in range(0,5):\n",
    "    for i in range(0,5):\n",
    "        print(\"*\", end = '')\n",
    "    print()"
   ]
  },
  {
   "cell_type": "code",
   "execution_count": null,
   "metadata": {},
   "outputs": [],
   "source": [
    "for _ in range(0,5):\n",
    "    print(\"*\" * 5)"
   ]
  },
  {
   "cell_type": "code",
   "execution_count": null,
   "metadata": {},
   "outputs": [],
   "source": [
    "i = 0\n",
    "while i < 10:\n",
    "    print(\"hello world\")\n",
    "    i += 1"
   ]
  },
  {
   "cell_type": "code",
   "execution_count": null,
   "metadata": {},
   "outputs": [],
   "source": [
    "count = int(input('반복할 횟수를 입력하세요: '))\n",
    "while count > 0:\n",
    "    print(\"hello world\", count)\n",
    "    count -= 1"
   ]
  },
  {
   "cell_type": "code",
   "execution_count": 21,
   "metadata": {},
   "outputs": [
    {
     "name": "stdout",
     "output_type": "stream",
     "text": [
      "123123123 * 1 = 123123123\n",
      "123123123 * 2 = 246246246\n",
      "123123123 * 3 = 369369369\n",
      "123123123 * 4 = 492492492\n",
      "123123123 * 5 = 615615615\n",
      "123123123 * 6 = 738738738\n",
      "123123123 * 7 = 861861861\n",
      "123123123 * 8 = 984984984\n",
      "123123123 * 9 = 1108108107\n"
     ]
    }
   ],
   "source": [
    "num = int(input('숫자를 입력하세요'))\n",
    "count = 1\n",
    "while count <= 9:\n",
    "    print(f'{num} * {count} = {num * count}')\n",
    "    count += 1"
   ]
  },
  {
   "cell_type": "code",
   "execution_count": 50,
   "metadata": {},
   "outputs": [
    {
     "name": "stdout",
     "output_type": "stream",
     "text": [
      "평균 : 88.0점\n"
     ]
    }
   ],
   "source": [
    "stu_count = int(input('학생의 수를 입력하세요: '))\n",
    "count = 1\n",
    "sum = 0\n",
    "while count <= stu_count:\n",
    "    score = int(input(f'{count}번 학생의 점수 : '))\n",
    "    sum += score\n",
    "    count += 1\n",
    "print('평균 : ' + str(sum / stu_count) + '점')"
   ]
  },
  {
   "cell_type": "code",
   "execution_count": 55,
   "metadata": {},
   "outputs": [
    {
     "name": "stdout",
     "output_type": "stream",
     "text": [
      "97\n",
      "100\n",
      "77\n"
     ]
    }
   ],
   "source": [
    "scores = (97, 100, 77)\n",
    "for _ in range(len(scores)):\n",
    "    print(scores[_])"
   ]
  },
  {
   "cell_type": "code",
   "execution_count": 62,
   "metadata": {},
   "outputs": [
    {
     "name": "stdout",
     "output_type": "stream",
     "text": [
      "34 34 34 34\n",
      "34 34 34 56\n",
      "34 34 34 32\n",
      "34 34 56 34\n",
      "34 34 56 56\n",
      "34 34 56 32\n",
      "34 34 32 34\n",
      "34 34 32 56\n",
      "34 34 32 32\n",
      "34 56 34 34\n",
      "34 56 34 56\n",
      "34 56 34 32\n",
      "34 56 56 34\n",
      "34 56 56 56\n",
      "34 56 56 32\n",
      "34 56 32 34\n",
      "34 56 32 56\n",
      "34 56 32 32\n",
      "34 32 34 34\n",
      "34 32 34 56\n",
      "34 32 34 32\n",
      "34 32 56 34\n",
      "34 32 56 56\n",
      "34 32 56 32\n",
      "34 32 32 34\n",
      "34 32 32 56\n",
      "34 32 32 32\n",
      "56 34 34 34\n",
      "56 34 34 56\n",
      "56 34 34 32\n",
      "56 34 56 34\n",
      "56 34 56 56\n",
      "56 34 56 32\n",
      "56 34 32 34\n",
      "56 34 32 56\n",
      "56 34 32 32\n",
      "56 56 34 34\n",
      "56 56 34 56\n",
      "56 56 34 32\n",
      "56 56 56 34\n",
      "56 56 56 56\n",
      "56 56 56 32\n",
      "56 56 32 34\n",
      "56 56 32 56\n",
      "56 56 32 32\n",
      "56 32 34 34\n",
      "56 32 34 56\n",
      "56 32 34 32\n",
      "56 32 56 34\n",
      "56 32 56 56\n",
      "56 32 56 32\n",
      "56 32 32 34\n",
      "56 32 32 56\n",
      "56 32 32 32\n",
      "32 34 34 34\n",
      "32 34 34 56\n",
      "32 34 34 32\n",
      "32 34 56 34\n",
      "32 34 56 56\n",
      "32 34 56 32\n",
      "32 34 32 34\n",
      "32 34 32 56\n",
      "32 34 32 32\n",
      "32 56 34 34\n",
      "32 56 34 56\n",
      "32 56 34 32\n",
      "32 56 56 34\n",
      "32 56 56 56\n",
      "32 56 56 32\n",
      "32 56 32 34\n",
      "32 56 32 56\n",
      "32 56 32 32\n",
      "32 32 34 34\n",
      "32 32 34 56\n",
      "32 32 34 32\n",
      "32 32 56 34\n",
      "32 32 56 56\n",
      "32 32 56 32\n",
      "32 32 32 34\n",
      "32 32 32 56\n",
      "32 32 32 32\n"
     ]
    }
   ],
   "source": [
    "scores = [34,56,32]\n",
    "for i in scores:\n",
    "    for j in scores:\n",
    "        for h in scores:\n",
    "            for _ in scores:\n",
    "                print(i, j, h, _)"
   ]
  },
  {
   "cell_type": "code",
   "execution_count": null,
   "metadata": {},
   "outputs": [],
   "source": []
  }
 ],
 "metadata": {
  "kernelspec": {
   "display_name": "base",
   "language": "python",
   "name": "python3"
  },
  "language_info": {
   "codemirror_mode": {
    "name": "ipython",
    "version": 3
   },
   "file_extension": ".py",
   "mimetype": "text/x-python",
   "name": "python",
   "nbconvert_exporter": "python",
   "pygments_lexer": "ipython3",
   "version": "3.9.13"
  },
  "orig_nbformat": 4,
  "vscode": {
   "interpreter": {
    "hash": "54f843e2d25d3a59c86748e7da2acead36750f0d182112685aa834d50ad6fdc4"
   }
  }
 },
 "nbformat": 4,
 "nbformat_minor": 2
}
