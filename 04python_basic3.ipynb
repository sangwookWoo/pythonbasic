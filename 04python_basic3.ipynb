{
 "cells": [
  {
   "cell_type": "code",
   "execution_count": null,
   "metadata": {},
   "outputs": [],
   "source": [
    "even_numbers = list(range(2, 100, 2))\n",
    "print(even_numbers)"
   ]
  },
  {
   "cell_type": "code",
   "execution_count": null,
   "metadata": {},
   "outputs": [],
   "source": [
    "count = int(input('인사 몇 번 해드릴까요?'))\n",
    "for i in range(count):\n",
    "    print('Hello world')"
   ]
  },
  {
   "cell_type": "code",
   "execution_count": 4,
   "metadata": {},
   "outputs": [
    {
     "name": "stdout",
     "output_type": "stream",
     "text": [
      "[5, 6, 7, 8, 9]\n",
      "[0, 3, 6, 9]\n",
      "[-10, -40, -70]\n"
     ]
    }
   ],
   "source": [
    "print(list(range(5,10)))\n",
    "print(list(range(0,10,3)))\n",
    "print(list(range(-10,-71, -30)))"
   ]
  },
  {
   "cell_type": "code",
   "execution_count": 47,
   "metadata": {},
   "outputs": [
    {
     "name": "stdout",
     "output_type": "stream",
     "text": [
      "10\t10\t10\t10\t10\t10\t10\t10\t10\t10\n",
      "9\t9\t9\t9\t9\t9\t9\t9\t9\n",
      "8\t8\t8\t8\t8\t8\t8\t8\n",
      "7\t7\t7\t7\t7\t7\t7\n",
      "6\t6\t6\t6\t6\t6\n",
      "5\t5\t5\t5\t5\n",
      "4\t4\t4\t4\n",
      "3\t3\t3\n",
      "2\t2\n",
      "1\n"
     ]
    }
   ],
   "source": [
    "num = int(input(\"자연수 하나 입력해주세요 : \"))\n",
    "for j in range(0, num):\n",
    "    ending = '\\t'\n",
    "    for i in range(0, num):\n",
    "        if i == num - 1:\n",
    "            ending = '\\n'\n",
    "        print(num, end = ending)\n",
    "    num -= 1\n",
    "    "
   ]
  },
  {
   "cell_type": "code",
   "execution_count": 72,
   "metadata": {},
   "outputs": [
    {
     "name": "stdout",
     "output_type": "stream",
     "text": [
      "**********\n",
      "*        *\n",
      "*        *\n",
      "*        *\n",
      "*        *\n",
      "*        *\n",
      "*        *\n",
      "*        *\n",
      "*        *\n",
      "**********\n"
     ]
    }
   ],
   "source": [
    "for _ in list(range(0,10)):\n",
    "    if _ in [0,9]:\n",
    "        print('*' * 10)\n",
    "    else:\n",
    "        print('*' + ' ' * 8 + '*')"
   ]
  },
  {
   "cell_type": "code",
   "execution_count": 82,
   "metadata": {},
   "outputs": [
    {
     "name": "stdout",
     "output_type": "stream",
     "text": [
      "1 + 3 + 5 + 7 + 9 + 11 + 13 + 15 + 17 + 19 + 21 + 23 + 25 + 27 + 29 + 31 + 33 + 35 + 37 + 39 + 41 + 43 + 45 + 47 + 49 + 51 + 53 + 55 + 57 + 59 + 61 + 63 + 65 + 67 + 69 + 71 + 73 + 75 + 77 + 79 + 81 + 83 + 85 + 87 + 89 + 91 + 93 + 95 + 97 + 99 = 2500\n"
     ]
    }
   ],
   "source": [
    "num = int(input('자연수를 입력해주세요 : '))\n",
    "sum = 0\n",
    "text = ''\n",
    "for i in range(1,num):\n",
    "    if i % 2 == 1:\n",
    "        sum += i\n",
    "        text += (str(i) + ' + ')\n",
    "text = text[0:-3]\n",
    "text += (' = ' + str(sum))\n",
    "print(text)"
   ]
  },
  {
   "cell_type": "code",
   "execution_count": 100,
   "metadata": {},
   "outputs": [
    {
     "name": "stdout",
     "output_type": "stream",
     "text": [
      "3628800\n"
     ]
    }
   ],
   "source": [
    "num = int(input('계승을 구할 숫자를 입력하세요. : '))\n",
    "result = 1\n",
    "for i in range(1,num + 1):\n",
    "    result = result * i\n",
    "print(result)"
   ]
  },
  {
   "cell_type": "code",
   "execution_count": 101,
   "metadata": {},
   "outputs": [
    {
     "name": "stdout",
     "output_type": "stream",
     "text": [
      "100 -420 250 1030 210 770 240 "
     ]
    }
   ],
   "source": [
    "x = [10, -42, 25, 103, 21, 77, 24]\n",
    "for i in x:\n",
    "    print(i * 10, end = ' ')"
   ]
  },
  {
   "cell_type": "code",
   "execution_count": 121,
   "metadata": {},
   "outputs": [
    {
     "name": "stdout",
     "output_type": "stream",
     "text": [
      "98 * 1 = 98\n",
      "98 * 2 = 196\n",
      "98 * 3 = 294\n",
      "98 * 4 = 392\n",
      "98 * 5 = 490\n",
      "98 * 6 = 588\n",
      "98 * 7 = 686\n",
      "98 * 8 = 784\n",
      "98 * 9 = 882\n",
      "98 * 10 = 980\n",
      "98 * 11 = 1078\n",
      "98 * 12 = 1176\n",
      "98 * 13 = 1274\n",
      "98 * 14 = 1372\n",
      "98 * 15 = 1470\n",
      "98 * 16 = 1568\n",
      "98 * 17 = 1666\n",
      "98 * 18 = 1764\n",
      "98 * 19 = 1862\n",
      "98 * 20 = 1960\n",
      "98 * 21 = 2058\n",
      "98 * 22 = 2156\n",
      "98 * 23 = 2254\n",
      "98 * 24 = 2352\n",
      "98 * 25 = 2450\n",
      "98 * 26 = 2548\n",
      "98 * 27 = 2646\n",
      "98 * 28 = 2744\n",
      "98 * 29 = 2842\n",
      "98 * 30 = 2940\n",
      "98 * 31 = 3038\n",
      "98 * 32 = 3136\n",
      "98 * 33 = 3234\n",
      "98 * 34 = 3332\n",
      "98 * 35 = 3430\n",
      "98 * 36 = 3528\n",
      "98 * 37 = 3626\n",
      "98 * 38 = 3724\n",
      "98 * 39 = 3822\n",
      "98 * 40 = 3920\n",
      "98 * 41 = 4018\n",
      "98 * 42 = 4116\n",
      "98 * 43 = 4214\n",
      "98 * 44 = 4312\n",
      "98 * 45 = 4410\n",
      "98 * 46 = 4508\n",
      "98 * 47 = 4606\n",
      "98 * 48 = 4704\n",
      "98 * 49 = 4802\n",
      "98 * 50 = 4900\n",
      "98 * 51 = 4998\n",
      "98 * 52 = 5096\n",
      "98 * 53 = 5194\n",
      "98 * 54 = 5292\n",
      "98 * 55 = 5390\n",
      "98 * 56 = 5488\n",
      "98 * 57 = 5586\n",
      "98 * 58 = 5684\n",
      "98 * 59 = 5782\n",
      "98 * 60 = 5880\n",
      "98 * 61 = 5978\n",
      "98 * 62 = 6076\n",
      "98 * 63 = 6174\n",
      "98 * 64 = 6272\n",
      "98 * 65 = 6370\n",
      "98 * 66 = 6468\n",
      "98 * 67 = 6566\n",
      "98 * 68 = 6664\n",
      "98 * 69 = 6762\n",
      "98 * 70 = 6860\n",
      "98 * 71 = 6958\n",
      "98 * 72 = 7056\n",
      "98 * 73 = 7154\n",
      "98 * 74 = 7252\n",
      "98 * 75 = 7350\n",
      "98 * 76 = 7448\n",
      "98 * 77 = 7546\n",
      "98 * 78 = 7644\n",
      "98 * 79 = 7742\n",
      "98 * 80 = 7840\n",
      "98 * 81 = 7938\n",
      "98 * 82 = 8036\n",
      "98 * 83 = 8134\n",
      "98 * 84 = 8232\n",
      "98 * 85 = 8330\n",
      "98 * 86 = 8428\n",
      "98 * 87 = 8526\n",
      "98 * 88 = 8624\n",
      "98 * 89 = 8722\n",
      "98 * 90 = 8820\n",
      "98 * 91 = 8918\n",
      "98 * 92 = 9016\n",
      "98 * 93 = 9114\n",
      "98 * 94 = 9212\n",
      "98 * 95 = 9310\n",
      "98 * 96 = 9408\n",
      "98 * 97 = 9506\n",
      "98 * 98 = 9604\n"
     ]
    }
   ],
   "source": [
    "num = int(input('구구단을 알려드립니다. 숫자를 입력하세요'))\n",
    "for i in range(1,num + 1):\n",
    "    print(f'{num} * {i} = {num * i}')"
   ]
  },
  {
   "cell_type": "code",
   "execution_count": null,
   "metadata": {},
   "outputs": [],
   "source": []
  }
 ],
 "metadata": {
  "kernelspec": {
   "display_name": "base",
   "language": "python",
   "name": "python3"
  },
  "language_info": {
   "codemirror_mode": {
    "name": "ipython",
    "version": 3
   },
   "file_extension": ".py",
   "mimetype": "text/x-python",
   "name": "python",
   "nbconvert_exporter": "python",
   "pygments_lexer": "ipython3",
   "version": "3.9.13"
  },
  "orig_nbformat": 4,
  "vscode": {
   "interpreter": {
    "hash": "54f843e2d25d3a59c86748e7da2acead36750f0d182112685aa834d50ad6fdc4"
   }
  }
 },
 "nbformat": 4,
 "nbformat_minor": 2
}
