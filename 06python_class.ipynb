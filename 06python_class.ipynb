{
 "cells": [
  {
   "cell_type": "code",
   "execution_count": 11,
   "metadata": {},
   "outputs": [],
   "source": [
    "class Student:\n",
    "    def __init__(self):\n",
    "        print('냠냠')"
   ]
  },
  {
   "cell_type": "code",
   "execution_count": 12,
   "metadata": {},
   "outputs": [
    {
     "name": "stdout",
     "output_type": "stream",
     "text": [
      "냠냠\n"
     ]
    }
   ],
   "source": [
    "gh = Student() # 독립적인 값을 보장하는 인스턴스로 생성\n",
    "gh.eat_food()"
   ]
  },
  {
   "cell_type": "code",
   "execution_count": 17,
   "metadata": {},
   "outputs": [],
   "source": [
    "class Person:\n",
    "    def __init__(self):\n",
    "        self.hello = \"안녕하세요\""
   ]
  },
  {
   "cell_type": "code",
   "execution_count": 18,
   "metadata": {},
   "outputs": [
    {
     "data": {
      "text/plain": [
       "'안녕하세요'"
      ]
     },
     "execution_count": 18,
     "metadata": {},
     "output_type": "execute_result"
    }
   ],
   "source": [
    "james = Person()\n",
    "james.hello"
   ]
  },
  {
   "cell_type": "code",
   "execution_count": 20,
   "metadata": {},
   "outputs": [
    {
     "data": {
      "text/plain": [
       "'안녕하세요'"
      ]
     },
     "execution_count": 20,
     "metadata": {},
     "output_type": "execute_result"
    }
   ],
   "source": [
    "bebe = Person()\n",
    "bebe.hello"
   ]
  },
  {
   "cell_type": "code",
   "execution_count": 18,
   "metadata": {},
   "outputs": [
    {
     "name": "stdout",
     "output_type": "stream",
     "text": [
      "set() <class 'set'>\n"
     ]
    }
   ],
   "source": [
    "set_variable = set()\n",
    "print(set_variable, type(set_variable))"
   ]
  },
  {
   "cell_type": "code",
   "execution_count": 19,
   "metadata": {},
   "outputs": [],
   "source": [
    "A = {_ for _ in range(1,5)}\n",
    "B = {_ for _ in range(2,6) if _ != 3}"
   ]
  },
  {
   "cell_type": "code",
   "execution_count": 25,
   "metadata": {},
   "outputs": [],
   "source": [
    "class Student:\n",
    "    def __init__(self):\n",
    "        self.hello = '안녕하세요'\n",
    "    def greeting(self):\n",
    "        print(self.hello)"
   ]
  },
  {
   "cell_type": "code",
   "execution_count": 26,
   "metadata": {},
   "outputs": [],
   "source": [
    "stu_a = Student()\n",
    "stu_b = Student()"
   ]
  },
  {
   "cell_type": "code",
   "execution_count": 30,
   "metadata": {},
   "outputs": [],
   "source": [
    "class Person:\n",
    "    def __init__(self, name, age):\n",
    "        self.name = name\n",
    "        self.age = age\n",
    "        "
   ]
  },
  {
   "cell_type": "code",
   "execution_count": 31,
   "metadata": {},
   "outputs": [],
   "source": [
    "stu_a = Person('sangwook', 35)"
   ]
  },
  {
   "cell_type": "code",
   "execution_count": 34,
   "metadata": {},
   "outputs": [
    {
     "data": {
      "text/plain": [
       "35"
      ]
     },
     "execution_count": 34,
     "metadata": {},
     "output_type": "execute_result"
    }
   ],
   "source": [
    "stu_a.age"
   ]
  },
  {
   "cell_type": "code",
   "execution_count": 52,
   "metadata": {},
   "outputs": [
    {
     "name": "stdout",
     "output_type": "stream",
     "text": [
      "안녕하세요 제 이름은 마리아입니다.\n",
      "{'hello': '안녕하세요', 'name': '마리아', 'age': 23, 'adress': '서울시 마포구'}\n"
     ]
    }
   ],
   "source": [
    "class Person2:\n",
    "    def __init__(self, name, age, adress):\n",
    "        self.hello = '안녕하세요'\n",
    "        self.name = name\n",
    "        self.age = age\n",
    "        self.adress = adress\n",
    "    def greeting(self):\n",
    "        print(f'{self.hello} 제 이름은 {self.name}입니다.')\n",
    "        \n",
    "maria = Person2('마리아', 23, '서울시 마포구')\n",
    "maria.greeting()\n",
    "print(maria.__dict__)\n",
    "print(maria.name)\n",
    "print(maria.name)\n",
    "print(maria.name)\n"
   ]
  },
  {
   "cell_type": "code",
   "execution_count": 48,
   "metadata": {},
   "outputs": [],
   "source": []
  },
  {
   "cell_type": "code",
   "execution_count": 49,
   "metadata": {},
   "outputs": [
    {
     "name": "stdout",
     "output_type": "stream",
     "text": [
      "안녕하세요 제 이름은 마리아입니다.\n"
     ]
    }
   ],
   "source": [
    "maria.greeting()"
   ]
  },
  {
   "cell_type": "code",
   "execution_count": 66,
   "metadata": {},
   "outputs": [
    {
     "name": "stdout",
     "output_type": "stream",
     "text": [
      "1 name ㅇ\n",
      "2 age ㅇ\n",
      "3 adress ㅇ\n",
      "첫번째 이름 : ㅇ\n",
      "첫번째 나이 : ㅇ\n",
      "첫번째 주소 : ㅇ\n",
      "두번째 이름 : ㅇ\n",
      "두번째 나이 : ㅇ\n",
      "두번째 주소 : ㅇ\n"
     ]
    }
   ],
   "source": [
    "class Person:\n",
    "    def __init__(self, name, age, adress):\n",
    "        self.name = name\n",
    "        self.age = age\n",
    "        self.adress = adress\n",
    "        \n",
    "a = Person(input('이름은 무엇인가요?'), input('나이는 무엇인가요?'), input('주소는 무엇인가요?'))\n",
    "b = Person(input('이름은 무엇인가요?'), input('나이는 무엇인가요?'), input('주소는 무엇인가요?'))\n",
    "\n",
    "print(f\"첫번째 이름 : {a.name}\")\n",
    "print(f\"첫번째 나이 : {a.age}\")\n",
    "print(f\"첫번째 주소 : {a.adress}\")\n",
    "print(f\"두번째 이름 : {b.name}\")\n",
    "print(f\"두번째 나이 : {b.age}\")\n",
    "print(f\"두번째 주소 : {b.adress}\")\n"
   ]
  },
  {
   "cell_type": "code",
   "execution_count": 59,
   "metadata": {},
   "outputs": [
    {
     "data": {
      "text/plain": [
       "{'name': '제임스', 'age': '21', 'adress': '서울시 구로구'}"
      ]
     },
     "execution_count": 59,
     "metadata": {},
     "output_type": "execute_result"
    }
   ],
   "source": [
    "a.__dict__\n",
    "b.__dict__"
   ]
  },
  {
   "cell_type": "code",
   "execution_count": null,
   "metadata": {},
   "outputs": [],
   "source": [
    "class ClassName:\n",
    "    def __init__(self, param1, param2):\n",
    "        self.attr1 = param1\n",
    "        self.__attr2 = param2 # 비공개 속성"
   ]
  },
  {
   "cell_type": "code",
   "execution_count": 87,
   "metadata": {},
   "outputs": [],
   "source": [
    "class Person3:\n",
    "    org = 'abcdefg'\n",
    "    def __init__(self, name, age, address, wallet):\n",
    "        self.hello = \"안녕하세요.\"\n",
    "        self.name = name\n",
    "        self.age = age\n",
    "        self.address = address\n",
    "        self.__wallet = wallet\n",
    "    def greeting(self):\n",
    "        print(f\"{self.hello} 제 이름은 {self.name}입니다.\")\n",
    "        \n",
    "    def amount(self):\n",
    "        print(self.__wallet)\n",
    "        \n",
    "    def pay(self, amount):\n",
    "        if self.__wallet < amount:\n",
    "            print('돈이 모자랍니다.')\n",
    "            return\n",
    "        self.__wallet -= amount\n",
    "    \n",
    "    @staticmethod\n",
    "    # 객체와 상관없이 동작하는 메서드, class, self 둘 다 안씀\n",
    "    def pay(amount):\n",
    "        pass\n",
    "    \n",
    "    @classmethod\n",
    "    # 클래스 자체에 동작하는 메서드(self 안씀)\n",
    "    def from_string(cls, string):\n",
    "        name, age , address, __wallet = string.split(',')\n",
    "        return cls(name, age, address, __wallet) # cls는 클래스의 줄임말\n",
    "    \n",
    "    "
   ]
  },
  {
   "cell_type": "code",
   "execution_count": null,
   "metadata": {},
   "outputs": [],
   "source": [
    "Person3.org = "
   ]
  },
  {
   "cell_type": "code",
   "execution_count": 75,
   "metadata": {},
   "outputs": [],
   "source": [
    "iks = Person3(\"이기수\", 88, \"경기도 시흥\", 20000)"
   ]
  },
  {
   "cell_type": "code",
   "execution_count": 80,
   "metadata": {},
   "outputs": [],
   "source": [
    "iks.pay(2000)"
   ]
  },
  {
   "cell_type": "code",
   "execution_count": 81,
   "metadata": {},
   "outputs": [
    {
     "name": "stdout",
     "output_type": "stream",
     "text": [
      "5000\n"
     ]
    }
   ],
   "source": [
    "iks.amount()"
   ]
  },
  {
   "cell_type": "code",
   "execution_count": 86,
   "metadata": {},
   "outputs": [
    {
     "ename": "ValueError",
     "evalue": "not enough values to unpack (expected 3, got 1)",
     "output_type": "error",
     "traceback": [
      "\u001b[1;31m---------------------------------------------------------------------------\u001b[0m",
      "\u001b[1;31mValueError\u001b[0m                                Traceback (most recent call last)",
      "\u001b[1;32m~\\AppData\\Local\\Temp\\ipykernel_24292\\129695611.py\u001b[0m in \u001b[0;36m<module>\u001b[1;34m\u001b[0m\n\u001b[0;32m      8\u001b[0m         \u001b[1;32mreturn\u001b[0m \u001b[0mself\u001b[0m\u001b[1;33m.\u001b[0m\u001b[0map\u001b[0m \u001b[1;33m*\u001b[0m \u001b[1;36m0.65\u001b[0m \u001b[1;33m+\u001b[0m \u001b[1;36m400\u001b[0m\u001b[1;33m\u001b[0m\u001b[1;33m\u001b[0m\u001b[0m\n\u001b[0;32m      9\u001b[0m \u001b[1;33m\u001b[0m\u001b[0m\n\u001b[1;32m---> 10\u001b[1;33m \u001b[0mhp\u001b[0m\u001b[1;33m,\u001b[0m \u001b[0mmp\u001b[0m\u001b[1;33m,\u001b[0m \u001b[0map\u001b[0m \u001b[1;33m=\u001b[0m \u001b[0mmap\u001b[0m\u001b[1;33m(\u001b[0m\u001b[0mfloat\u001b[0m\u001b[1;33m,\u001b[0m \u001b[0minput\u001b[0m\u001b[1;33m(\u001b[0m\u001b[1;34m'체력, 마나, AP를 입력하세요'\u001b[0m\u001b[1;33m)\u001b[0m\u001b[1;33m.\u001b[0m\u001b[0msplit\u001b[0m\u001b[1;33m(\u001b[0m\u001b[1;33m)\u001b[0m\u001b[1;33m)\u001b[0m\u001b[1;33m\u001b[0m\u001b[1;33m\u001b[0m\u001b[0m\n\u001b[0m\u001b[0;32m     11\u001b[0m \u001b[0mannie\u001b[0m \u001b[1;33m=\u001b[0m \u001b[0mCharacter\u001b[0m\u001b[1;33m(\u001b[0m\u001b[0mhp\u001b[0m\u001b[1;33m,\u001b[0m \u001b[0mmp\u001b[0m\u001b[1;33m,\u001b[0m \u001b[0map\u001b[0m\u001b[1;33m)\u001b[0m\u001b[1;33m\u001b[0m\u001b[1;33m\u001b[0m\u001b[0m\n\u001b[0;32m     12\u001b[0m \u001b[0mprint\u001b[0m\u001b[1;33m(\u001b[0m\u001b[1;34mf'티버: 피해량 {annie.tibbers()}'\u001b[0m\u001b[1;33m)\u001b[0m\u001b[1;33m\u001b[0m\u001b[1;33m\u001b[0m\u001b[0m\n",
      "\u001b[1;31mValueError\u001b[0m: not enough values to unpack (expected 3, got 1)"
     ]
    }
   ],
   "source": [
    "class Character:\n",
    "    def __init__(self, hp, mp, ap):\n",
    "        self.hp = hp\n",
    "        self.mp = mp\n",
    "        self.ap = ap\n",
    "    def tibbers(self):\n",
    "        return self.ap * 0.65 + 400\n",
    "    \n",
    "hp, mp, ap = map(float, input('체력, 마나, AP를 입력하세요').split())\n",
    "annie = Character(hp, mp, ap)\n",
    "print(f'티버: 피해량 {annie.tibbers()}')"
   ]
  },
  {
   "cell_type": "code",
   "execution_count": 97,
   "metadata": {},
   "outputs": [],
   "source": [
    "import numpy as np\n",
    "arr = [1,2,3,5,3,23,]\n",
    "ar = np.array([_ for _ in arr])\n",
    "\n",
    "# 'U8' 유니코드 8글자 자료형을 명시적으로 선언\n",
    "# 그래서 시퀀스 자료 중 제일 큰 값이 <U5지만 <U8로 타입이 지정 되었다.\n",
    "ar5 = np.array(['가나다리바사', '바사아' ,'자',' 차카'], 'U8')"
   ]
  },
  {
   "cell_type": "code",
   "execution_count": 99,
   "metadata": {},
   "outputs": [
    {
     "name": "stdout",
     "output_type": "stream",
     "text": [
      "[12 24 36]\n",
      "[False  True False]\n",
      "[False  True  True]\n",
      "[False  True False]\n"
     ]
    }
   ],
   "source": [
    "a = np.array([1,2,3])\n",
    "b = np.array([10,20,30])\n",
    "print(2 * a + b)\n",
    "# array([12,24,36])\n",
    "print(a == 2)\n",
    "# array([False, True, False])\n",
    "print(b > 10)\n",
    "# array([False, True, True])\n",
    "print((a == 2) & (b > 10))\n",
    "# array([False, True, False))"
   ]
  },
  {
   "cell_type": "code",
   "execution_count": 113,
   "metadata": {},
   "outputs": [
    {
     "name": "stdout",
     "output_type": "stream",
     "text": [
      "(2, 3)\n",
      "[[1 2 3]\n",
      " [4 5 6]]\n"
     ]
    }
   ],
   "source": [
    "c = np.array([[1,2,3],[4,5,6]]) # 2 x 3 array\n",
    "print(c.shape)\n",
    "print(c)"
   ]
  },
  {
   "cell_type": "code",
   "execution_count": 114,
   "metadata": {},
   "outputs": [
    {
     "data": {
      "text/plain": [
       "3"
      ]
     },
     "execution_count": 114,
     "metadata": {},
     "output_type": "execute_result"
    }
   ],
   "source": [
    "len(c[0])"
   ]
  },
  {
   "cell_type": "code",
   "execution_count": 116,
   "metadata": {},
   "outputs": [
    {
     "data": {
      "text/plain": [
       "array([[10, 20, 30, 40],\n",
       "       [50, 60, 70, 80]])"
      ]
     },
     "execution_count": 116,
     "metadata": {},
     "output_type": "execute_result"
    }
   ],
   "source": [
    "np.array([[10,20,30,40],[50,60,70,80]])"
   ]
  },
  {
   "cell_type": "code",
   "execution_count": 119,
   "metadata": {},
   "outputs": [
    {
     "data": {
      "text/plain": [
       "array([[0, 1, 2, 3],\n",
       "       [4, 5, 6, 7]])"
      ]
     },
     "execution_count": 119,
     "metadata": {},
     "output_type": "execute_result"
    }
   ],
   "source": [
    "np.array([_ for _ in range(8)]).reshape(2, 4)"
   ]
  },
  {
   "cell_type": "code",
   "execution_count": 135,
   "metadata": {},
   "outputs": [
    {
     "name": "stdout",
     "output_type": "stream",
     "text": [
      "[[ 0  1  2  3  4]\n",
      " [ 5  6  7  8  9]\n",
      " [10 11 12 13 14]]\n",
      "7\n",
      "14\n",
      "[6 7]\n",
      "[ 7 12]\n"
     ]
    },
    {
     "data": {
      "text/plain": [
       "array([[3, 4],\n",
       "       [8, 9]])"
      ]
     },
     "execution_count": 135,
     "metadata": {},
     "output_type": "execute_result"
    }
   ],
   "source": [
    "\n",
    "m = np.array([_ for _ in range(15)]).reshape(3,5)\n",
    "print(m)\n",
    "print(m[1,2])\n",
    "print(m[2,4])\n",
    "print(m[1,1:3])\n",
    "print(m[1:3, 2])\n",
    "print(m[0:2, 3:])"
   ]
  },
  {
   "cell_type": "code",
   "execution_count": 137,
   "metadata": {},
   "outputs": [
    {
     "data": {
      "text/plain": [
       "array([  0.        ,   5.26315789,  10.52631579,  15.78947368,\n",
       "        21.05263158,  26.31578947,  31.57894737,  36.84210526,\n",
       "        42.10526316,  47.36842105,  52.63157895,  57.89473684,\n",
       "        63.15789474,  68.42105263,  73.68421053,  78.94736842,\n",
       "        84.21052632,  89.47368421,  94.73684211, 100.        ])"
      ]
     },
     "execution_count": 137,
     "metadata": {},
     "output_type": "execute_result"
    }
   ],
   "source": [
    "ex = np.linspace(0, 100, 20)\n",
    "ex"
   ]
  },
  {
   "cell_type": "code",
   "execution_count": 149,
   "metadata": {},
   "outputs": [
    {
     "data": {
      "text/plain": [
       "array([[  0.,   0.,   0.,   1.,   1.],\n",
       "       [  0.,   0.,   0.,   1.,   1.],\n",
       "       [  0.,   0.,   0.,   1.,   1.],\n",
       "       [ 10.,  20.,  30.,  40.,  50.],\n",
       "       [ 60.,  70.,  80.,  90., 100.],\n",
       "       [110., 120., 130., 140., 150.],\n",
       "       [  0.,   0.,   0.,   1.,   1.],\n",
       "       [  0.,   0.,   0.,   1.,   1.],\n",
       "       [  0.,   0.,   0.,   1.,   1.],\n",
       "       [ 10.,  20.,  30.,  40.,  50.],\n",
       "       [ 60.,  70.,  80.,  90., 100.],\n",
       "       [110., 120., 130., 140., 150.]])"
      ]
     },
     "execution_count": 149,
     "metadata": {},
     "output_type": "execute_result"
    }
   ],
   "source": [
    "array1 = np.zeros(9).reshape(3,3)\n",
    "array2 = np.ones(6).reshape(3,2)\n",
    "zeroone = np.hstack((array1, array2))\n",
    "array4 = np.array([_ for _ in range(10, 151, 10)]).reshape(3,5)\n",
    "np.vstack((zeroone,array4,zeroone,array4))"
   ]
  },
  {
   "cell_type": "code",
   "execution_count": 88,
   "metadata": {},
   "outputs": [],
   "source": [
    "import numpy as np\n",
    "class Calculator:\n",
    "    def __init__(self):\n",
    "        self.value = 0\n",
    "    def add(self, *args):\n",
    "        if len(args) == 0:\n",
    "            print('숫자를 입력해주세요')\n",
    "        else:\n",
    "            self.value += np.sum(args)\n",
    "        \n",
    "    def minus(self, *args):\n",
    "        if len(args) == 0:\n",
    "            print('숫자를 입력해주세요')\n",
    "        else:\n",
    "            self.value -= np.sum(args)\n",
    "    def show_value(self):\n",
    "        print(f'현재 값은 {self.value}입니다.')\n",
    "    "
   ]
  },
  {
   "cell_type": "code",
   "execution_count": 89,
   "metadata": {},
   "outputs": [],
   "source": [
    "c = Calculator()"
   ]
  },
  {
   "cell_type": "code",
   "execution_count": 105,
   "metadata": {},
   "outputs": [],
   "source": [
    "c.add(100)"
   ]
  },
  {
   "cell_type": "code",
   "execution_count": 107,
   "metadata": {},
   "outputs": [
    {
     "name": "stdout",
     "output_type": "stream",
     "text": [
      "현재 값은 345입니다.\n"
     ]
    }
   ],
   "source": [
    "c.show_value()"
   ]
  },
  {
   "cell_type": "code",
   "execution_count": 91,
   "metadata": {},
   "outputs": [
    {
     "name": "stdout",
     "output_type": "stream",
     "text": [
      "(20,)\n"
     ]
    }
   ],
   "source": [
    "c.minus(20)"
   ]
  },
  {
   "cell_type": "code",
   "execution_count": 92,
   "metadata": {},
   "outputs": [
    {
     "name": "stdout",
     "output_type": "stream",
     "text": [
      "현재 값은 80입니다.\n"
     ]
    }
   ],
   "source": [
    "c.show_value()"
   ]
  },
  {
   "cell_type": "code",
   "execution_count": 93,
   "metadata": {},
   "outputs": [
    {
     "name": "stdout",
     "output_type": "stream",
     "text": [
      "숫자를 입력해주세요\n"
     ]
    }
   ],
   "source": [
    "c.add()"
   ]
  },
  {
   "cell_type": "code",
   "execution_count": 94,
   "metadata": {},
   "outputs": [
    {
     "name": "stdout",
     "output_type": "stream",
     "text": [
      "(20, 30)\n"
     ]
    }
   ],
   "source": [
    "c.minus(20, 30)"
   ]
  },
  {
   "cell_type": "code",
   "execution_count": 95,
   "metadata": {},
   "outputs": [
    {
     "name": "stdout",
     "output_type": "stream",
     "text": [
      "현재 값은 30입니다.\n"
     ]
    }
   ],
   "source": [
    "c.show_value()"
   ]
  },
  {
   "cell_type": "code",
   "execution_count": 96,
   "metadata": {},
   "outputs": [],
   "source": [
    "c.add([70,80])"
   ]
  },
  {
   "cell_type": "code",
   "execution_count": 97,
   "metadata": {},
   "outputs": [
    {
     "name": "stdout",
     "output_type": "stream",
     "text": [
      "현재 값은 180입니다.\n"
     ]
    }
   ],
   "source": [
    "c.show_value()"
   ]
  },
  {
   "cell_type": "code",
   "execution_count": 98,
   "metadata": {},
   "outputs": [],
   "source": [
    "c.add(50)"
   ]
  },
  {
   "cell_type": "code",
   "execution_count": 99,
   "metadata": {},
   "outputs": [
    {
     "name": "stdout",
     "output_type": "stream",
     "text": [
      "현재 값은 230입니다.\n"
     ]
    }
   ],
   "source": [
    "c.show_value()"
   ]
  },
  {
   "cell_type": "code",
   "execution_count": 102,
   "metadata": {},
   "outputs": [],
   "source": [
    "c.add(range(1,6))"
   ]
  },
  {
   "cell_type": "code",
   "execution_count": 103,
   "metadata": {},
   "outputs": [
    {
     "name": "stdout",
     "output_type": "stream",
     "text": [
      "현재 값은 245입니다.\n"
     ]
    }
   ],
   "source": [
    "c.show_value()"
   ]
  },
  {
   "cell_type": "code",
   "execution_count": 108,
   "metadata": {},
   "outputs": [],
   "source": [
    "practice = np.array([[1.1, 7.1, 8.0, 2.1, 6.5, 7.2],\n",
    "                     [2.7, 5.2, 3.3, 9.0, 7.7, 2.8],\n",
    "                     [0.7, 8.8, 4.2, 8.9, 4.3, 7.4],\n",
    "                     [8.2, 1.1, 5.4, 2.9, 6.9, 0.2],\n",
    "                     [7.4, 4.8, 2.7, 3.1, 2.8, 8.9]])"
   ]
  },
  {
   "cell_type": "code",
   "execution_count": 116,
   "metadata": {},
   "outputs": [
    {
     "data": {
      "text/plain": [
       "array([0.7, 1.1, 2.7, 2.1, 2.8, 0.2])"
      ]
     },
     "execution_count": 116,
     "metadata": {},
     "output_type": "execute_result"
    }
   ],
   "source": [
    "print(practice.max())\n",
    "print(practice.sum(axis = 0))\n",
    "print(practice.max(axis = 0))\n",
    "print(practice.mean(axis = 1))\n",
    "print(practice.min(axis = 1))"
   ]
  },
  {
   "cell_type": "code",
   "execution_count": 117,
   "metadata": {},
   "outputs": [
    {
     "data": {
      "text/html": [
       "<div>\n",
       "<style scoped>\n",
       "    .dataframe tbody tr th:only-of-type {\n",
       "        vertical-align: middle;\n",
       "    }\n",
       "\n",
       "    .dataframe tbody tr th {\n",
       "        vertical-align: top;\n",
       "    }\n",
       "\n",
       "    .dataframe thead th {\n",
       "        text-align: right;\n",
       "    }\n",
       "</style>\n",
       "<table border=\"1\" class=\"dataframe\">\n",
       "  <thead>\n",
       "    <tr style=\"text-align: right;\">\n",
       "      <th></th>\n",
       "      <th>0</th>\n",
       "      <th>1</th>\n",
       "      <th>2</th>\n",
       "      <th>3</th>\n",
       "      <th>4</th>\n",
       "      <th>5</th>\n",
       "    </tr>\n",
       "  </thead>\n",
       "  <tbody>\n",
       "    <tr>\n",
       "      <th>0</th>\n",
       "      <td>1.1</td>\n",
       "      <td>7.1</td>\n",
       "      <td>8.0</td>\n",
       "      <td>2.1</td>\n",
       "      <td>6.5</td>\n",
       "      <td>7.2</td>\n",
       "    </tr>\n",
       "    <tr>\n",
       "      <th>1</th>\n",
       "      <td>2.7</td>\n",
       "      <td>5.2</td>\n",
       "      <td>3.3</td>\n",
       "      <td>9.0</td>\n",
       "      <td>7.7</td>\n",
       "      <td>2.8</td>\n",
       "    </tr>\n",
       "    <tr>\n",
       "      <th>2</th>\n",
       "      <td>0.7</td>\n",
       "      <td>8.8</td>\n",
       "      <td>4.2</td>\n",
       "      <td>8.9</td>\n",
       "      <td>4.3</td>\n",
       "      <td>7.4</td>\n",
       "    </tr>\n",
       "    <tr>\n",
       "      <th>3</th>\n",
       "      <td>8.2</td>\n",
       "      <td>1.1</td>\n",
       "      <td>5.4</td>\n",
       "      <td>2.9</td>\n",
       "      <td>6.9</td>\n",
       "      <td>0.2</td>\n",
       "    </tr>\n",
       "    <tr>\n",
       "      <th>4</th>\n",
       "      <td>7.4</td>\n",
       "      <td>4.8</td>\n",
       "      <td>2.7</td>\n",
       "      <td>3.1</td>\n",
       "      <td>2.8</td>\n",
       "      <td>8.9</td>\n",
       "    </tr>\n",
       "  </tbody>\n",
       "</table>\n",
       "</div>"
      ],
      "text/plain": [
       "     0    1    2    3    4    5\n",
       "0  1.1  7.1  8.0  2.1  6.5  7.2\n",
       "1  2.7  5.2  3.3  9.0  7.7  2.8\n",
       "2  0.7  8.8  4.2  8.9  4.3  7.4\n",
       "3  8.2  1.1  5.4  2.9  6.9  0.2\n",
       "4  7.4  4.8  2.7  3.1  2.8  8.9"
      ]
     },
     "execution_count": 117,
     "metadata": {},
     "output_type": "execute_result"
    }
   ],
   "source": [
    "import pandas as pd\n",
    "pd.DataFrame(practice)"
   ]
  },
  {
   "cell_type": "code",
   "execution_count": 130,
   "metadata": {},
   "outputs": [],
   "source": [
    "a = np.array([4,3,5,7])\n",
    "\n"
   ]
  },
  {
   "cell_type": "code",
   "execution_count": 132,
   "metadata": {},
   "outputs": [
    {
     "data": {
      "text/plain": [
       "array([3, 4, 5, 7])"
      ]
     },
     "execution_count": 132,
     "metadata": {},
     "output_type": "execute_result"
    }
   ],
   "source": [
    "# 정렬이 아니라 순서만\n",
    "a[np.argsort(a)]\n"
   ]
  },
  {
   "cell_type": "code",
   "execution_count": 134,
   "metadata": {},
   "outputs": [],
   "source": [
    "scores = np.array([[1,2,3,4],\n",
    "                  [46,99,100,71],\n",
    "                  [81, 59, 90, 100]])"
   ]
  },
  {
   "cell_type": "code",
   "execution_count": 152,
   "metadata": {},
   "outputs": [
    {
     "data": {
      "text/plain": [
       "array([[  1,   4,   2,   3],\n",
       "       [ 46,  71,  99, 100],\n",
       "       [ 81, 100,  59,  90]])"
      ]
     },
     "execution_count": 152,
     "metadata": {},
     "output_type": "execute_result"
    }
   ],
   "source": [
    "scores[:, np.argsort(scores)[1]]"
   ]
  },
  {
   "cell_type": "code",
   "execution_count": 148,
   "metadata": {},
   "outputs": [
    {
     "data": {
      "text/plain": [
       "array([[  1,   2,   3,   4],\n",
       "       [ 46,  99, 100,  71],\n",
       "       [ 81,  59,  90, 100]])"
      ]
     },
     "execution_count": 148,
     "metadata": {},
     "output_type": "execute_result"
    }
   ],
   "source": [
    "scores"
   ]
  },
  {
   "cell_type": "code",
   "execution_count": 153,
   "metadata": {},
   "outputs": [
    {
     "ename": "TypeError",
     "evalue": "'str' object does not support item assignment",
     "output_type": "error",
     "traceback": [
      "\u001b[1;31m---------------------------------------------------------------------------\u001b[0m",
      "\u001b[1;31mTypeError\u001b[0m                                 Traceback (most recent call last)",
      "\u001b[1;32m~\\AppData\\Local\\Temp\\ipykernel_31612\\3092074167.py\u001b[0m in \u001b[0;36m<module>\u001b[1;34m\u001b[0m\n\u001b[0;32m      1\u001b[0m \u001b[0ma\u001b[0m \u001b[1;33m=\u001b[0m \u001b[1;34m'321'\u001b[0m\u001b[1;33m\u001b[0m\u001b[1;33m\u001b[0m\u001b[0m\n\u001b[1;32m----> 2\u001b[1;33m \u001b[0ma\u001b[0m\u001b[1;33m[\u001b[0m\u001b[1;36m1\u001b[0m\u001b[1;33m]\u001b[0m \u001b[1;33m=\u001b[0m \u001b[1;34m'1'\u001b[0m\u001b[1;33m\u001b[0m\u001b[1;33m\u001b[0m\u001b[0m\n\u001b[0m",
      "\u001b[1;31mTypeError\u001b[0m: 'str' object does not support item assignment"
     ]
    }
   ],
   "source": [
    "a = '321'\n",
    "a[1] = '1'"
   ]
  },
  {
   "cell_type": "code",
   "execution_count": 179,
   "metadata": {},
   "outputs": [
    {
     "ename": "TypeError",
     "evalue": "'bool' object is not iterable",
     "output_type": "error",
     "traceback": [
      "\u001b[1;31m---------------------------------------------------------------------------\u001b[0m",
      "\u001b[1;31mTypeError\u001b[0m                                 Traceback (most recent call last)",
      "\u001b[1;32m~\\AppData\\Local\\Temp\\ipykernel_31612\\1708791015.py\u001b[0m in \u001b[0;36m<module>\u001b[1;34m\u001b[0m\n\u001b[0;32m      1\u001b[0m \u001b[0mnp\u001b[0m\u001b[1;33m.\u001b[0m\u001b[0mrandom\u001b[0m\u001b[1;33m.\u001b[0m\u001b[0mseed\u001b[0m\u001b[1;33m(\u001b[0m\u001b[1;36m0\u001b[0m\u001b[1;33m)\u001b[0m\u001b[1;33m\u001b[0m\u001b[1;33m\u001b[0m\u001b[0m\n\u001b[1;32m----> 2\u001b[1;33m \u001b[0mprint\u001b[0m\u001b[1;33m(\u001b[0m\u001b[1;34mf'{sum(np.random.binomial(n = 1000, p = 0.5) == 1)/100}'\u001b[0m\u001b[1;33m)\u001b[0m\u001b[1;33m\u001b[0m\u001b[1;33m\u001b[0m\u001b[0m\n\u001b[0m",
      "\u001b[1;31mTypeError\u001b[0m: 'bool' object is not iterable"
     ]
    }
   ],
   "source": [
    "np.random.seed(0)\n",
    "print(f'{sum(np.random.binomial(n = 1000, p = 0.5) == 1)/100}')"
   ]
  },
  {
   "cell_type": "code",
   "execution_count": 13,
   "metadata": {},
   "outputs": [
    {
     "name": "stdout",
     "output_type": "stream",
     "text": [
      "49.0%\n"
     ]
    }
   ],
   "source": [
    "import numpy as np\n",
    "size = 100\n",
    "np.random.seed(0)\n",
    "print(f'{sum(np.random.binomial(n = 1, p = 0.5, size = size)) / size * 100}%')"
   ]
  },
  {
   "cell_type": "code",
   "execution_count": 25,
   "metadata": {},
   "outputs": [
    {
     "data": {
      "text/plain": [
       "2.96"
      ]
     },
     "execution_count": 25,
     "metadata": {},
     "output_type": "execute_result"
    }
   ],
   "source": [
    "np.random.seed(0)\n",
    "sum((np.random.randint(1,6) for x in range(100))) / 100"
   ]
  },
  {
   "cell_type": "code",
   "execution_count": 28,
   "metadata": {},
   "outputs": [
    {
     "data": {
      "text/plain": [
       "2.96"
      ]
     },
     "execution_count": 28,
     "metadata": {},
     "output_type": "execute_result"
    }
   ],
   "source": [
    "np.random.seed(0)\n",
    "size = 100\n",
    "np.random.randint(1,6, size).sum() / size"
   ]
  },
  {
   "cell_type": "code",
   "execution_count": null,
   "metadata": {},
   "outputs": [],
   "source": []
  }
 ],
 "metadata": {
  "kernelspec": {
   "display_name": "base",
   "language": "python",
   "name": "python3"
  },
  "language_info": {
   "codemirror_mode": {
    "name": "ipython",
    "version": 3
   },
   "file_extension": ".py",
   "mimetype": "text/x-python",
   "name": "python",
   "nbconvert_exporter": "python",
   "pygments_lexer": "ipython3",
   "version": "3.9.13"
  },
  "orig_nbformat": 4,
  "vscode": {
   "interpreter": {
    "hash": "54f843e2d25d3a59c86748e7da2acead36750f0d182112685aa834d50ad6fdc4"
   }
  }
 },
 "nbformat": 4,
 "nbformat_minor": 2
}
