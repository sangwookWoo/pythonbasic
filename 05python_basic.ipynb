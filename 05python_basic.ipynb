{
 "cells": [
  {
   "cell_type": "code",
   "execution_count": 2,
   "metadata": {},
   "outputs": [
    {
     "name": "stdout",
     "output_type": "stream",
     "text": [
      "그보다 작습니다.\n",
      "그보다 큽니다.\n",
      "그보다 작습니다.\n",
      "그보다 작습니다.\n",
      "그보다 작습니다.\n",
      "그보다 작습니다.\n",
      "그보다 작습니다.\n",
      "그보다 큽니다.\n",
      "그보다 큽니다.\n",
      "그보다 작습니다.\n",
      "그보다 작습니다.\n",
      "그보다 작습니다.\n",
      "맞췄습니다!\n",
      "13번 만에 맞추셨습니다!\n",
      "입력한 숫자는 다음과 같습니다 50, 25, 35, 30, 32, 75, 75, 25, 22, 35, 34, 30, 29\n"
     ]
    }
   ],
   "source": [
    "import random\n",
    "\n",
    "target_num = random.randint(1, 100)\n",
    "\n",
    "answer_list = []\n",
    "count = 0\n",
    "while True:\n",
    "    answer_num = int(input('값을 입력해주세요 : '))\n",
    "    answer_list.append(answer_num)\n",
    "    if answer_num < 1 or answer_num > 100:\n",
    "        print('1~100 사이의 숫자를 입력하세요.')\n",
    "        count += 1\n",
    "        continue\n",
    "    if target_num < answer_num:\n",
    "        print('그보다 작습니다.')\n",
    "        count += 1\n",
    "        continue\n",
    "    elif target_num > answer_num:\n",
    "        print('그보다 큽니다.')\n",
    "        count += 1\n",
    "        continue\n",
    "    else:\n",
    "        print('맞췄습니다!')\n",
    "        count += 1\n",
    "        break\n",
    "print(f\"{count}번 만에 맞추셨습니다!\")\n",
    "answer_list = list(map(str,answer_list))\n",
    "print(f\"입력한 숫자는 다음과 같습니다 {', '.join(answer_list)}\")"
   ]
  },
  {
   "cell_type": "code",
   "execution_count": 4,
   "metadata": {},
   "outputs": [
    {
     "data": {
      "text/plain": [
       "15"
      ]
     },
     "execution_count": 4,
     "metadata": {},
     "output_type": "execute_result"
    }
   ],
   "source": [
    "sum((1,2,3,4,5))"
   ]
  },
  {
   "cell_type": "code",
   "execution_count": 5,
   "metadata": {},
   "outputs": [
    {
     "data": {
      "text/plain": [
       "15"
      ]
     },
     "execution_count": 5,
     "metadata": {},
     "output_type": "execute_result"
    }
   ],
   "source": [
    "def var_positional(*args):\n",
    "    return sum(args)\n",
    "\n",
    "var_positional(1,2,3,4,5)"
   ]
  },
  {
   "cell_type": "code",
   "execution_count": 9,
   "metadata": {},
   "outputs": [
    {
     "data": {
      "text/plain": [
       "21.11111111111111"
      ]
     },
     "execution_count": 9,
     "metadata": {},
     "output_type": "execute_result"
    }
   ],
   "source": [
    "def to_celsius(fahrenheit):\n",
    "    return (fahrenheit - 32) * 5 / 9\n",
    "\n",
    "to_celsius(70)"
   ]
  },
  {
   "cell_type": "code",
   "execution_count": 35,
   "metadata": {},
   "outputs": [
    {
     "name": "stdout",
     "output_type": "stream",
     "text": [
      "None\n"
     ]
    }
   ],
   "source": [
    "def odd_even(x):\n",
    "    '''자연수에 대해서만 \"짝수\", \"홀수\" 반환합니다.'''\n",
    "    if type(x) is not int or x <= 0:\n",
    "        return\n",
    "    if x % 2 == 1:\n",
    "        return \"홀수\"\n",
    "    else :\n",
    "        return \"짝수\"\n",
    "\n",
    "print(odd_even(\"가\"))"
   ]
  },
  {
   "cell_type": "code",
   "execution_count": 36,
   "metadata": {},
   "outputs": [],
   "source": [
    "def check_leap_year(x):\n",
    "    if (x % 100 == 0) & (x % 400 != 0):\n",
    "        return \"평년\"\n",
    "    elif x % 4 == 0:\n",
    "        return \"윤년\"\n",
    "    else:\n",
    "        return \"평년\""
   ]
  },
  {
   "cell_type": "code",
   "execution_count": 41,
   "metadata": {},
   "outputs": [
    {
     "data": {
      "text/plain": [
       "'평년'"
      ]
     },
     "execution_count": 41,
     "metadata": {},
     "output_type": "execute_result"
    }
   ],
   "source": [
    "check_leap_year(1900)"
   ]
  },
  {
   "cell_type": "code",
   "execution_count": 67,
   "metadata": {},
   "outputs": [],
   "source": [
    "def days(year, month):\n",
    "    if month in (1,3,5,7,8,10,12):\n",
    "        return 31\n",
    "    elif month in (4,6,9,11):\n",
    "        return 30\n",
    "    elif month == 2: \n",
    "        if ((year % 100 == 0) & (year % 400 != 0)) or (year % 4 != 0):\n",
    "            return 28\n",
    "        else :\n",
    "            return 29\n",
    "\n",
    "    \n",
    "def check_leap_year(year):\n",
    "    if ((year % 100 == 0) & (year % 400 != 0)) or (year % 4 != 0):\n",
    "        return \"평년\"\n",
    "    else :\n",
    "        return \"윤년\""
   ]
  },
  {
   "cell_type": "code",
   "execution_count": 61,
   "metadata": {},
   "outputs": [
    {
     "data": {
      "text/plain": [
       "28"
      ]
     },
     "execution_count": 61,
     "metadata": {},
     "output_type": "execute_result"
    }
   ],
   "source": [
    "days(1950,2)"
   ]
  },
  {
   "cell_type": "code",
   "execution_count": 60,
   "metadata": {},
   "outputs": [
    {
     "data": {
      "text/plain": [
       "'평년'"
      ]
     },
     "execution_count": 60,
     "metadata": {},
     "output_type": "execute_result"
    }
   ],
   "source": [
    "check_leap_year(1950)"
   ]
  },
  {
   "cell_type": "code",
   "execution_count": 57,
   "metadata": {},
   "outputs": [
    {
     "data": {
      "text/plain": [
       "28"
      ]
     },
     "execution_count": 57,
     "metadata": {},
     "output_type": "execute_result"
    }
   ],
   "source": [
    "def days(month):\n",
    "    if month in (1,3,5,7,8,10,12):\n",
    "        return 31\n",
    "    elif month in (4,6,9,11):\n",
    "        return 30\n",
    "    elif month == 2:\n",
    "        return 28\n",
    "days(2)\n"
   ]
  },
  {
   "cell_type": "code",
   "execution_count": 62,
   "metadata": {},
   "outputs": [],
   "source": [
    "def days(year, month):\n",
    "    if month in (1,3,5,7,8,10,12):\n",
    "        return 31\n",
    "    elif month in (4,6,9,11):\n",
    "        return 30\n",
    "    elif month == 2: \n",
    "        if ((year % 100 == 0) & (year % 400 != 0)) or (year % 4 != 0):\n",
    "            return 28\n",
    "        else :\n",
    "            return 29"
   ]
  },
  {
   "cell_type": "code",
   "execution_count": 66,
   "metadata": {},
   "outputs": [
    {
     "data": {
      "text/plain": [
       "29"
      ]
     },
     "execution_count": 66,
     "metadata": {},
     "output_type": "execute_result"
    }
   ],
   "source": [
    "days(2000,2)"
   ]
  },
  {
   "cell_type": "code",
   "execution_count": 72,
   "metadata": {},
   "outputs": [
    {
     "name": "stdout",
     "output_type": "stream",
     "text": [
      "5 0\n"
     ]
    }
   ],
   "source": [
    "x = 10\n",
    "y = 4\n",
    "\n",
    "def get_quotient_remainder(x, y):\n",
    "    return x // y, x % y\n",
    "\n",
    "quitient, remainder = get_quotient_remainder(x, y)\n",
    "print(quitient, remainder)"
   ]
  },
  {
   "cell_type": "code",
   "execution_count": null,
   "metadata": {},
   "outputs": [],
   "source": []
  }
 ],
 "metadata": {
  "kernelspec": {
   "display_name": "base",
   "language": "python",
   "name": "python3"
  },
  "language_info": {
   "codemirror_mode": {
    "name": "ipython",
    "version": 3
   },
   "file_extension": ".py",
   "mimetype": "text/x-python",
   "name": "python",
   "nbconvert_exporter": "python",
   "pygments_lexer": "ipython3",
   "version": "3.9.13"
  },
  "orig_nbformat": 4,
  "vscode": {
   "interpreter": {
    "hash": "54f843e2d25d3a59c86748e7da2acead36750f0d182112685aa834d50ad6fdc4"
   }
  }
 },
 "nbformat": 4,
 "nbformat_minor": 2
}
