{
 "cells": [
  {
   "cell_type": "code",
   "execution_count": 2,
   "metadata": {},
   "outputs": [
    {
     "name": "stdout",
     "output_type": "stream",
     "text": [
      "그보다 작습니다.\n",
      "그보다 큽니다.\n",
      "그보다 작습니다.\n",
      "그보다 작습니다.\n",
      "그보다 작습니다.\n",
      "그보다 작습니다.\n",
      "그보다 작습니다.\n",
      "그보다 큽니다.\n",
      "그보다 큽니다.\n",
      "그보다 작습니다.\n",
      "그보다 작습니다.\n",
      "그보다 작습니다.\n",
      "맞췄습니다!\n",
      "13번 만에 맞추셨습니다!\n",
      "입력한 숫자는 다음과 같습니다 50, 25, 35, 30, 32, 75, 75, 25, 22, 35, 34, 30, 29\n"
     ]
    }
   ],
   "source": [
    "import random\n",
    "\n",
    "target_num = random.randint(1, 100)\n",
    "\n",
    "answer_list = []\n",
    "count = 0\n",
    "while True:\n",
    "    answer_num = int(input('값을 입력해주세요 : '))\n",
    "    answer_list.append(answer_num)\n",
    "    if answer_num < 1 or answer_num > 100:\n",
    "        print('1~100 사이의 숫자를 입력하세요.')\n",
    "        count += 1\n",
    "        continue\n",
    "    if target_num < answer_num:\n",
    "        print('그보다 작습니다.')\n",
    "        count += 1\n",
    "        continue\n",
    "    elif target_num > answer_num:\n",
    "        print('그보다 큽니다.')\n",
    "        count += 1\n",
    "        continue\n",
    "    else:\n",
    "        print('맞췄습니다!')\n",
    "        count += 1\n",
    "        break\n",
    "print(f\"{count}번 만에 맞추셨습니다!\")\n",
    "answer_list = list(map(str,answer_list))\n",
    "print(f\"입력한 숫자는 다음과 같습니다 {', '.join(answer_list)}\")"
   ]
  },
  {
   "cell_type": "code",
   "execution_count": null,
   "metadata": {},
   "outputs": [],
   "source": []
  }
 ],
 "metadata": {
  "kernelspec": {
   "display_name": "base",
   "language": "python",
   "name": "python3"
  },
  "language_info": {
   "codemirror_mode": {
    "name": "ipython",
    "version": 3
   },
   "file_extension": ".py",
   "mimetype": "text/x-python",
   "name": "python",
   "nbconvert_exporter": "python",
   "pygments_lexer": "ipython3",
   "version": "3.9.13"
  },
  "orig_nbformat": 4,
  "vscode": {
   "interpreter": {
    "hash": "54f843e2d25d3a59c86748e7da2acead36750f0d182112685aa834d50ad6fdc4"
   }
  }
 },
 "nbformat": 4,
 "nbformat_minor": 2
}
