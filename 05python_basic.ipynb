{
 "cells": [
  {
   "cell_type": "code",
   "execution_count": 2,
   "metadata": {},
   "outputs": [
    {
     "name": "stdout",
     "output_type": "stream",
     "text": [
      "그보다 작습니다.\n",
      "그보다 큽니다.\n",
      "그보다 작습니다.\n",
      "그보다 작습니다.\n",
      "그보다 작습니다.\n",
      "그보다 작습니다.\n",
      "그보다 작습니다.\n",
      "그보다 큽니다.\n",
      "그보다 큽니다.\n",
      "그보다 작습니다.\n",
      "그보다 작습니다.\n",
      "그보다 작습니다.\n",
      "맞췄습니다!\n",
      "13번 만에 맞추셨습니다!\n",
      "입력한 숫자는 다음과 같습니다 50, 25, 35, 30, 32, 75, 75, 25, 22, 35, 34, 30, 29\n"
     ]
    }
   ],
   "source": [
    "import random\n",
    "\n",
    "target_num = random.randint(1, 100)\n",
    "\n",
    "answer_list = []\n",
    "count = 0\n",
    "while True:\n",
    "    answer_num = int(input('값을 입력해주세요 : '))\n",
    "    answer_list.append(answer_num)\n",
    "    if answer_num < 1 or answer_num > 100:\n",
    "        print('1~100 사이의 숫자를 입력하세요.')\n",
    "        count += 1\n",
    "        continue\n",
    "    if target_num < answer_num:\n",
    "        print('그보다 작습니다.')\n",
    "        count += 1\n",
    "        continue\n",
    "    elif target_num > answer_num:\n",
    "        print('그보다 큽니다.')\n",
    "        count += 1\n",
    "        continue\n",
    "    else:\n",
    "        print('맞췄습니다!')\n",
    "        count += 1\n",
    "        break\n",
    "print(f\"{count}번 만에 맞추셨습니다!\")\n",
    "answer_list = list(map(str,answer_list))\n",
    "print(f\"입력한 숫자는 다음과 같습니다 {', '.join(answer_list)}\")"
   ]
  },
  {
   "cell_type": "code",
   "execution_count": 4,
   "metadata": {},
   "outputs": [
    {
     "data": {
      "text/plain": [
       "15"
      ]
     },
     "execution_count": 4,
     "metadata": {},
     "output_type": "execute_result"
    }
   ],
   "source": [
    "sum((1,2,3,4,5))"
   ]
  },
  {
   "cell_type": "code",
   "execution_count": 5,
   "metadata": {},
   "outputs": [
    {
     "data": {
      "text/plain": [
       "15"
      ]
     },
     "execution_count": 5,
     "metadata": {},
     "output_type": "execute_result"
    }
   ],
   "source": [
    "def var_positional(*args):\n",
    "    return sum(args)\n",
    "\n",
    "var_positional(1,2,3,4,5)"
   ]
  },
  {
   "cell_type": "code",
   "execution_count": 9,
   "metadata": {},
   "outputs": [
    {
     "data": {
      "text/plain": [
       "21.11111111111111"
      ]
     },
     "execution_count": 9,
     "metadata": {},
     "output_type": "execute_result"
    }
   ],
   "source": [
    "def to_celsius(fahrenheit):\n",
    "    return (fahrenheit - 32) * 5 / 9\n",
    "\n",
    "to_celsius(70)"
   ]
  },
  {
   "cell_type": "code",
   "execution_count": 35,
   "metadata": {},
   "outputs": [
    {
     "name": "stdout",
     "output_type": "stream",
     "text": [
      "None\n"
     ]
    }
   ],
   "source": [
    "def odd_even(x):\n",
    "    '''자연수에 대해서만 \"짝수\", \"홀수\" 반환합니다.'''\n",
    "    if type(x) is not int or x <= 0:\n",
    "        return\n",
    "    if x % 2 == 1:\n",
    "        return \"홀수\"\n",
    "    else :\n",
    "        return \"짝수\"\n",
    "\n",
    "print(odd_even(\"가\"))"
   ]
  },
  {
   "cell_type": "code",
   "execution_count": 36,
   "metadata": {},
   "outputs": [],
   "source": [
    "def check_leap_year(x):\n",
    "    if (x % 100 == 0) & (x % 400 != 0):\n",
    "        return \"평년\"\n",
    "    elif x % 4 == 0:\n",
    "        return \"윤년\"\n",
    "    else:\n",
    "        return \"평년\""
   ]
  },
  {
   "cell_type": "code",
   "execution_count": 41,
   "metadata": {},
   "outputs": [
    {
     "data": {
      "text/plain": [
       "'평년'"
      ]
     },
     "execution_count": 41,
     "metadata": {},
     "output_type": "execute_result"
    }
   ],
   "source": [
    "check_leap_year(1900)"
   ]
  },
  {
   "cell_type": "code",
   "execution_count": 67,
   "metadata": {},
   "outputs": [],
   "source": [
    "def days(year, month):\n",
    "    if month in (1,3,5,7,8,10,12):\n",
    "        return 31\n",
    "    elif month in (4,6,9,11):\n",
    "        return 30\n",
    "    elif month == 2: \n",
    "        if ((year % 100 == 0) & (year % 400 != 0)) or (year % 4 != 0):\n",
    "            return 28\n",
    "        else :\n",
    "            return 29\n",
    "\n",
    "    \n",
    "def check_leap_year(year):\n",
    "    if ((year % 100 == 0) & (year % 400 != 0)) or (year % 4 != 0):\n",
    "        return \"평년\"\n",
    "    else :\n",
    "        return \"윤년\""
   ]
  },
  {
   "cell_type": "code",
   "execution_count": 61,
   "metadata": {},
   "outputs": [
    {
     "data": {
      "text/plain": [
       "28"
      ]
     },
     "execution_count": 61,
     "metadata": {},
     "output_type": "execute_result"
    }
   ],
   "source": [
    "days(1950,2)"
   ]
  },
  {
   "cell_type": "code",
   "execution_count": 60,
   "metadata": {},
   "outputs": [
    {
     "data": {
      "text/plain": [
       "'평년'"
      ]
     },
     "execution_count": 60,
     "metadata": {},
     "output_type": "execute_result"
    }
   ],
   "source": [
    "check_leap_year(1950)"
   ]
  },
  {
   "cell_type": "code",
   "execution_count": 57,
   "metadata": {},
   "outputs": [
    {
     "data": {
      "text/plain": [
       "28"
      ]
     },
     "execution_count": 57,
     "metadata": {},
     "output_type": "execute_result"
    }
   ],
   "source": [
    "def days(month):\n",
    "    if month in (1,3,5,7,8,10,12):\n",
    "        return 31\n",
    "    elif month in (4,6,9,11):\n",
    "        return 30\n",
    "    elif month == 2:\n",
    "        return 28\n",
    "days(2)\n"
   ]
  },
  {
   "cell_type": "code",
   "execution_count": 62,
   "metadata": {},
   "outputs": [],
   "source": [
    "def days(year, month):\n",
    "    if month in (1,3,5,7,8,10,12):\n",
    "        return 31\n",
    "    elif month in (4,6,9,11):\n",
    "        return 30\n",
    "    elif month == 2: \n",
    "        if ((year % 100 == 0) & (year % 400 != 0)) or (year % 4 != 0):\n",
    "            return 28\n",
    "        else :\n",
    "            return 29"
   ]
  },
  {
   "cell_type": "code",
   "execution_count": 66,
   "metadata": {},
   "outputs": [
    {
     "data": {
      "text/plain": [
       "29"
      ]
     },
     "execution_count": 66,
     "metadata": {},
     "output_type": "execute_result"
    }
   ],
   "source": [
    "days(2000,2)"
   ]
  },
  {
   "cell_type": "code",
   "execution_count": 72,
   "metadata": {},
   "outputs": [
    {
     "name": "stdout",
     "output_type": "stream",
     "text": [
      "5 0\n"
     ]
    }
   ],
   "source": [
    "x = 10\n",
    "y = 4\n",
    "\n",
    "def get_quotient_remainder(x, y):\n",
    "    return x // y, x % y\n",
    "\n",
    "quitient, remainder = get_quotient_remainder(x, y)\n",
    "print(quitient, remainder)"
   ]
  },
  {
   "cell_type": "code",
   "execution_count": null,
   "metadata": {},
   "outputs": [],
   "source": [
    "# 튜플에서 소괄호가 생략가능하다. return에서 값을 두개 준것 같지만 튜플로 하나를 준거다. 그래서 찢을 때는 unpacking으로 뺀거임"
   ]
  },
  {
   "cell_type": "code",
   "execution_count": 75,
   "metadata": {},
   "outputs": [
    {
     "name": "stdout",
     "output_type": "stream",
     "text": [
      "전역 변수입니다.\n"
     ]
    }
   ],
   "source": [
    "global_v = \"전역 변수입니다.\"\n",
    "\n",
    "def local_scope():\n",
    "    print(global_v)\n",
    "    \n",
    "local_scope()"
   ]
  },
  {
   "cell_type": "code",
   "execution_count": 79,
   "metadata": {},
   "outputs": [
    {
     "name": "stdout",
     "output_type": "stream",
     "text": [
      "전역 변수입니다.\n"
     ]
    }
   ],
   "source": [
    "global_v = \"전역 변수입니다.\"\n",
    "\n",
    "def local_scope2():\n",
    "    global_v  = '지역 범위 입니다.'\n",
    "    # print(global_v)\n",
    "    \n",
    "local_scope2()\n",
    "print(global_v)\n",
    "# 사실은 전역 범위에서 global_v2를 만들어 할당한 것과\n",
    "# 로컬 범위에서 global_v2를 만들어서 할당한 것 두가지 일을 각각 독립적으로 실행한\n",
    "# 결과르 확인했다."
   ]
  },
  {
   "cell_type": "code",
   "execution_count": 80,
   "metadata": {},
   "outputs": [
    {
     "name": "stdout",
     "output_type": "stream",
     "text": [
      "지역 범위에서의 변경입니다.\n"
     ]
    }
   ],
   "source": [
    "global_v3 = \"전역 변수입니다.\"\n",
    "\n",
    "def local_scope3():\n",
    "    global global_v3\n",
    "    global_v3 = \"지역 범위에서의 변경입니다.\"\n",
    "\n",
    "local_scope3()\n",
    "print(global_v3)\n",
    "\n",
    "# 글로벌 키워드를 활용하면 지역 범위에 있어도 전역 변수에 대한 변경이 가능하도록\n",
    "# 할 수 있었다."
   ]
  },
  {
   "cell_type": "code",
   "execution_count": 93,
   "metadata": {},
   "outputs": [
    {
     "name": "stdout",
     "output_type": "stream",
     "text": [
      "안쪽 지역 범위입니다.\n"
     ]
    }
   ],
   "source": [
    "def local_scope5():\n",
    "    global_v5 = '바깥 지역 범위입니다.'\n",
    "    def local_scope6():\n",
    "        nonlocal global_v5\n",
    "        global_v5 = \"안쪽 지역 범위입니다.\"\n",
    "    local_scope6()\n",
    "    print(global_v5)\n",
    "    \n",
    "local_scope5()"
   ]
  },
  {
   "cell_type": "code",
   "execution_count": 94,
   "metadata": {},
   "outputs": [
    {
     "data": {
      "text/plain": [
       "27"
      ]
     },
     "execution_count": 94,
     "metadata": {},
     "output_type": "execute_result"
    }
   ],
   "source": [
    "(lambda x : x + 25)(2)"
   ]
  },
  {
   "cell_type": "code",
   "execution_count": 96,
   "metadata": {},
   "outputs": [
    {
     "name": "stdout",
     "output_type": "stream",
     "text": [
      "[2, 8, 18, 32, 50]\n"
     ]
    }
   ],
   "source": [
    "a = [_ for _ in range(1,6)]\n",
    "b = [_ for _ in range(2,11,2)]\n",
    "print(list(map(lambda x, y : x * y, a , b)))"
   ]
  },
  {
   "cell_type": "code",
   "execution_count": 100,
   "metadata": {},
   "outputs": [
    {
     "data": {
      "text/plain": [
       "[4, 6, 11]"
      ]
     },
     "execution_count": 100,
     "metadata": {},
     "output_type": "execute_result"
    }
   ],
   "source": [
    "a = [1,2,3]\n",
    "b = [3,4,8]\n",
    "list(map(lambda x, y : x + y, a, b))"
   ]
  },
  {
   "cell_type": "code",
   "execution_count": 107,
   "metadata": {},
   "outputs": [
    {
     "name": "stdout",
     "output_type": "stream",
     "text": [
      "[0, 1, 2, 3, 4]\n",
      "[2, 4, 6, 8, 10]\n",
      "[2, 5, 8, 11, 14]\n"
     ]
    }
   ],
   "source": [
    "a = [_ for _ in range(5)]\n",
    "b = [_ for _ in range(2, 11, 2)]\n",
    "c = list(map(lambda x, y : x + y, a, b ))\n",
    "print(a)\n",
    "print(b)\n",
    "print(c)"
   ]
  },
  {
   "cell_type": "code",
   "execution_count": 105,
   "metadata": {},
   "outputs": [
    {
     "data": {
      "text/plain": [
       "[2, 5, 8, 11, 14]"
      ]
     },
     "execution_count": 105,
     "metadata": {},
     "output_type": "execute_result"
    }
   ],
   "source": [
    "c"
   ]
  },
  {
   "cell_type": "code",
   "execution_count": 108,
   "metadata": {},
   "outputs": [
    {
     "name": "stdout",
     "output_type": "stream",
     "text": [
      "100\n"
     ]
    }
   ],
   "source": [
    "print((lambda x : x ** 2)(10))"
   ]
  },
  {
   "cell_type": "code",
   "execution_count": 110,
   "metadata": {},
   "outputs": [
    {
     "data": {
      "text/plain": [
       "[3, 9, 9]"
      ]
     },
     "execution_count": 110,
     "metadata": {},
     "output_type": "execute_result"
    }
   ],
   "source": [
    "a = [3,2,8,22,10,7,0,11,9,9]\n",
    "[x for x in a if x % 3 == 0 and 0 < x < 10]"
   ]
  },
  {
   "cell_type": "code",
   "execution_count": 111,
   "metadata": {},
   "outputs": [
    {
     "data": {
      "text/plain": [
       "[6, 5, 11, 25, 13, 10, 3, 14, 12, 12]"
      ]
     },
     "execution_count": 111,
     "metadata": {},
     "output_type": "execute_result"
    }
   ],
   "source": [
    "a = [3,2,8,22,10,7,0,11,9,9]\n",
    "list(map(lambda x : x + 3, a))"
   ]
  },
  {
   "cell_type": "code",
   "execution_count": null,
   "metadata": {},
   "outputs": [],
   "source": []
  }
 ],
 "metadata": {
  "kernelspec": {
   "display_name": "base",
   "language": "python",
   "name": "python3"
  },
  "language_info": {
   "codemirror_mode": {
    "name": "ipython",
    "version": 3
   },
   "file_extension": ".py",
   "mimetype": "text/x-python",
   "name": "python",
   "nbconvert_exporter": "python",
   "pygments_lexer": "ipython3",
   "version": "3.9.13"
  },
  "orig_nbformat": 4,
  "vscode": {
   "interpreter": {
    "hash": "54f843e2d25d3a59c86748e7da2acead36750f0d182112685aa834d50ad6fdc4"
   }
  }
 },
 "nbformat": 4,
 "nbformat_minor": 2
}
