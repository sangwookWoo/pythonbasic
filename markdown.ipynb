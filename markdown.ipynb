{
 "cells": [
  {
   "attachments": {},
   "cell_type": "markdown",
   "metadata": {},
   "source": [
    "# 1. 마크다운 학습\n",
    "## 1.1. 아주 깔끔\n",
    "일반 텍스트는 그냥 입력, 스페이스바 두 번이면 줄바꿈  \n",
    "굵은 **글씨**는 이렇게 사용합니다.\n",
    "기울인 *글씨*는 이렇게 사용합니다.  \n",
    "~~취소선~~은 물결표시 두개로 감싸기\n",
    "> 구획이  \n",
    "> 잡힌  \n",
    "> 글  \n",
    "\n",
    "- 목록1\n",
    "- 목록2\n",
    "- 목록3\n",
    "\n",
    "```\n",
    "print(3)\n",
    "```\n",
    "코드 정리는 이렇게\n",
    "\n",
    "1. 순서가 있는 목록\n",
    "2. 두번째\n",
    "3. 세번째\n",
    "\n",
    "홈페이지는 이렇게 사용합니다.  \n",
    "[Google](https://google.com)  \n",
    "\n",
    "[이미지에 대한 설명](data:image/jpeg;base64,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)\n",
    "\n",
    "|제목셀|제목셀|제목셀|\n",
    "|:--|:--|:--|\n",
    "|값1|값2|값3|\n",
    "\n",
    "```python\n",
    "for i in range(2,6):\n",
    "    print(i)\n",
    "```"
   ]
  },
  {
   "attachments": {},
   "cell_type": "markdown",
   "metadata": {},
   "source": [
    "|제목셀|제목셀|제목셀|\n",
    "|:--|:--|:--|\n",
    "|값1|값2|값3|"
   ]
  },
  {
   "cell_type": "code",
   "execution_count": 3,
   "metadata": {},
   "outputs": [
    {
     "name": "stdout",
     "output_type": "stream",
     "text": [
      "False\n"
     ]
    }
   ],
   "source": [
    "scores = [88,73,89,59,77]\n",
    "sum = 0\n",
    "for score in scores:\n",
    "    if score < 60:\n",
    "        sum += 1\n",
    "if sum > 0:\n",
    "    print(False)\n",
    "else :\n",
    "    print(True)\n",
    "    "
   ]
  },
  {
   "cell_type": "code",
   "execution_count": 9,
   "metadata": {},
   "outputs": [
    {
     "name": "stdout",
     "output_type": "stream",
     "text": [
      "None\n",
      "[0, 1, 2, 3, 4, 5, 6, 7, 8]\n"
     ]
    }
   ],
   "source": [
    "numbers = [0,1,2,3,4,5,6,7]\n",
    "print(numbers.append(8))\n",
    "print(numbers)"
   ]
  },
  {
   "cell_type": "code",
   "execution_count": 11,
   "metadata": {},
   "outputs": [
    {
     "data": {
      "text/plain": [
       "[0, 0, 1, 2, 3, 4, 0, 5, 6, 7, 8]"
      ]
     },
     "execution_count": 11,
     "metadata": {},
     "output_type": "execute_result"
    }
   ],
   "source": [
    "numbers.insert(6,0)\n",
    "numbers"
   ]
  },
  {
   "cell_type": "code",
   "execution_count": 12,
   "metadata": {},
   "outputs": [
    {
     "data": {
      "text/plain": [
       "[0, 0, 1, 2, 3, 4, 0, 5, 6, 7, 8, 9, 10, 11]"
      ]
     },
     "execution_count": 12,
     "metadata": {},
     "output_type": "execute_result"
    }
   ],
   "source": [
    "numbers.extend([9,10,11])\n",
    "numbers"
   ]
  },
  {
   "cell_type": "code",
   "execution_count": 19,
   "metadata": {},
   "outputs": [
    {
     "data": {
      "text/plain": [
       "[2, 3, 4, 5, 6, 7, 8, 9, 10, 11]"
      ]
     },
     "execution_count": 19,
     "metadata": {},
     "output_type": "execute_result"
    }
   ],
   "source": [
    "numbers.remove(1)\n",
    "numbers"
   ]
  },
  {
   "cell_type": "code",
   "execution_count": 20,
   "metadata": {},
   "outputs": [
    {
     "name": "stdout",
     "output_type": "stream",
     "text": [
      "11\n",
      "[2, 3, 4, 5, 6, 7, 8, 9, 10]\n"
     ]
    }
   ],
   "source": [
    "print(numbers.pop())\n",
    "print(numbers)"
   ]
  },
  {
   "cell_type": "code",
   "execution_count": 21,
   "metadata": {},
   "outputs": [],
   "source": [
    "### pop() --> 제일 뒤에 오는 요소를 반환한다. 긜고 리스트에서 삭제한다."
   ]
  },
  {
   "cell_type": "code",
   "execution_count": 28,
   "metadata": {},
   "outputs": [],
   "source": [
    "numbers.reverse()"
   ]
  },
  {
   "cell_type": "code",
   "execution_count": 30,
   "metadata": {},
   "outputs": [],
   "source": [
    "numbers.clear()"
   ]
  },
  {
   "cell_type": "code",
   "execution_count": 31,
   "metadata": {},
   "outputs": [
    {
     "data": {
      "text/plain": [
       "[]"
      ]
     },
     "execution_count": 31,
     "metadata": {},
     "output_type": "execute_result"
    }
   ],
   "source": [
    "numbers"
   ]
  },
  {
   "cell_type": "code",
   "execution_count": 47,
   "metadata": {},
   "outputs": [
    {
     "name": "stdout",
     "output_type": "stream",
     "text": [
      "1\n"
     ]
    }
   ],
   "source": [
    "numbers = [0,1,233,3,4,5,6,7]\n",
    "print(numbers.count(5))"
   ]
  },
  {
   "cell_type": "code",
   "execution_count": 48,
   "metadata": {},
   "outputs": [],
   "source": [
    "numbers.reverse()"
   ]
  },
  {
   "cell_type": "code",
   "execution_count": 49,
   "metadata": {},
   "outputs": [
    {
     "data": {
      "text/plain": [
       "[7, 6, 5, 4, 3, 233, 1, 0]"
      ]
     },
     "execution_count": 49,
     "metadata": {},
     "output_type": "execute_result"
    }
   ],
   "source": [
    "numbers"
   ]
  },
  {
   "cell_type": "code",
   "execution_count": 51,
   "metadata": {},
   "outputs": [],
   "source": [
    "tuple_variable = (1,2,3,4,5,'hello')\n",
    "# tuple_variable[0] = 0"
   ]
  },
  {
   "cell_type": "code",
   "execution_count": 54,
   "metadata": {},
   "outputs": [
    {
     "ename": "TypeError",
     "evalue": "'tuple' object does not support item assignment",
     "output_type": "error",
     "traceback": [
      "\u001b[1;31m---------------------------------------------------------------------------\u001b[0m",
      "\u001b[1;31mTypeError\u001b[0m                                 Traceback (most recent call last)",
      "\u001b[1;32m~\\AppData\\Local\\Temp\\ipykernel_22180\\1250836128.py\u001b[0m in \u001b[0;36m<module>\u001b[1;34m\u001b[0m\n\u001b[1;32m----> 1\u001b[1;33m \u001b[0mtuple_variable\u001b[0m\u001b[1;33m[\u001b[0m\u001b[1;36m1\u001b[0m\u001b[1;33m:\u001b[0m\u001b[1;36m3\u001b[0m\u001b[1;33m]\u001b[0m \u001b[1;33m=\u001b[0m \u001b[1;33m(\u001b[0m\u001b[1;34m\"dd\"\u001b[0m\u001b[1;33m,\u001b[0m\u001b[1;34m\"ee\"\u001b[0m\u001b[1;33m)\u001b[0m\u001b[1;33m\u001b[0m\u001b[1;33m\u001b[0m\u001b[0m\n\u001b[0m",
      "\u001b[1;31mTypeError\u001b[0m: 'tuple' object does not support item assignment"
     ]
    }
   ],
   "source": [
    "tuple_variable[1:3] = (\"dd\",\"ee\")"
   ]
  },
  {
   "cell_type": "code",
   "execution_count": 55,
   "metadata": {},
   "outputs": [
    {
     "ename": "TypeError",
     "evalue": "'tuple' object doesn't support item deletion",
     "output_type": "error",
     "traceback": [
      "\u001b[1;31m---------------------------------------------------------------------------\u001b[0m",
      "\u001b[1;31mTypeError\u001b[0m                                 Traceback (most recent call last)",
      "\u001b[1;32m~\\AppData\\Local\\Temp\\ipykernel_22180\\3932902972.py\u001b[0m in \u001b[0;36m<module>\u001b[1;34m\u001b[0m\n\u001b[1;32m----> 1\u001b[1;33m \u001b[1;32mdel\u001b[0m \u001b[0mtuple_variable\u001b[0m\u001b[1;33m[\u001b[0m\u001b[1;36m0\u001b[0m\u001b[1;33m]\u001b[0m\u001b[1;33m\u001b[0m\u001b[1;33m\u001b[0m\u001b[0m\n\u001b[0m",
      "\u001b[1;31mTypeError\u001b[0m: 'tuple' object doesn't support item deletion"
     ]
    }
   ],
   "source": [
    "del tuple_variable[0]"
   ]
  },
  {
   "cell_type": "code",
   "execution_count": 58,
   "metadata": {},
   "outputs": [
    {
     "name": "stdout",
     "output_type": "stream",
     "text": [
      "17.47099804878235\n"
     ]
    }
   ],
   "source": [
    "import time\n",
    "curr = time.time()\n",
    "total = []\n",
    "\n",
    "for i in range(10000):\n",
    "    for j in range(10000):\n",
    "        total.append((i,j))\n",
    "\n",
    "last = time.time()\n",
    "print(last - curr)"
   ]
  },
  {
   "cell_type": "code",
   "execution_count": 59,
   "metadata": {},
   "outputs": [
    {
     "name": "stdout",
     "output_type": "stream",
     "text": [
      "64.10271835327148\n"
     ]
    }
   ],
   "source": [
    "import time\n",
    "curr = time.time()\n",
    "total = []\n",
    "\n",
    "for i in range(10000):\n",
    "    for j in range(10000):\n",
    "        total.append([i,j])\n",
    "\n",
    "last = time.time()\n",
    "print(last - curr)"
   ]
  },
  {
   "cell_type": "code",
   "execution_count": 63,
   "metadata": {},
   "outputs": [
    {
     "name": "stdout",
     "output_type": "stream",
     "text": [
      "input_value:  3.3 \n",
      "type:  <class 'str'>\n"
     ]
    },
    {
     "data": {
      "text/plain": [
       "3.3"
      ]
     },
     "execution_count": 63,
     "metadata": {},
     "output_type": "execute_result"
    }
   ],
   "source": [
    "input_value = input(\"아무거나 입력해보세요.\")\n",
    "print(\"input_value: \", input_value, \"\\ntype: \", type(input_value))\n",
    "float(input_value)"
   ]
  },
  {
   "cell_type": "code",
   "execution_count": 64,
   "metadata": {},
   "outputs": [
    {
     "name": "stdout",
     "output_type": "stream",
     "text": [
      "엔코아씨 안녕하세요?\n",
      "파이썬에 오신 것을 환영합니다.\n",
      "300과 400의 합은 700입니다.\n"
     ]
    }
   ],
   "source": [
    "name = input('이름을 입력하시오 : ')\n",
    "print(name + '씨 안녕하세요?')\n",
    "print('파이썬에 오신 것을 환영합니다.')\n",
    "num1 = int(input(\"첫번째 정수를 입력하세요 : \"))\n",
    "num2 = int(input(\"두번째 정수를 입력하세요 : \"))\n",
    "print(f'{num1}과 {num2}의 합은 {num1 + num2}입니다.')"
   ]
  },
  {
   "cell_type": "code",
   "execution_count": 69,
   "metadata": {},
   "outputs": [
    {
     "name": "stdout",
     "output_type": "stream",
     "text": [
      "[속보]KT가 10:9로 승리...\n",
      "오늘 고척 경기장에서 야구 경기가 있었습니다.\n",
      "KT과 LG은 치열한 공방전을 펼쳤습니다.\n",
      "이 경기에서 강백호가 맹활약을 했습니다.\n",
      "그 끝내 KT가 LG를 10:9로 승리하였습니다.\n",
      "기사 끝\n"
     ]
    }
   ],
   "source": [
    "stadium = input('경기장은 어디입니까?')\n",
    "win_team = input('이긴 팀은 어디입니까?')\n",
    "lose_team = input('진 팀은 어디입니까?')\n",
    "mvp = input('우수 선수는 누구입니까?')\n",
    "score = input('스코어는 몇대 몇입니까?')\n",
    "print(f'[속보]{win_team}가 {score}로 승리...\\n오늘 {stadium} 경기장에서 야구 경기가 있었습니다.\\n{win_team}과 {lose_team}은 치열한 공방전을 펼쳤습니다.\\n이 경기에서 {mvp}가 맹활약을 했습니다.\\n그 끝내 {win_team}가 {lose_team}를 {score}로 승리하였습니다.\\n기사 끝')"
   ]
  },
  {
   "cell_type": "code",
   "execution_count": 71,
   "metadata": {},
   "outputs": [
    {
     "name": "stdout",
     "output_type": "stream",
     "text": [
      "<class 'list'>\n",
      "['1', '2', '3']\n"
     ]
    }
   ],
   "source": [
    "result = '1,2,3'.split(',')\n",
    "print(type(result))\n",
    "print(result)\n",
    "\n"
   ]
  },
  {
   "cell_type": "code",
   "execution_count": 74,
   "metadata": {},
   "outputs": [
    {
     "name": "stdout",
     "output_type": "stream",
     "text": [
      "시 : 12\n",
      "분 : 33\n",
      "초 : 22\n"
     ]
    }
   ],
   "source": [
    "time_ = input('hh:mm:ss의 형태로 시간을 입력해주세요')\n",
    "time_ = \"12:33:22\"\n",
    "hour, minute, second = time_.split(':')\n",
    "print('시 : ' + hour)\n",
    "print('분 : ' + minute)\n",
    "print('초 : ' + second)"
   ]
  },
  {
   "cell_type": "code",
   "execution_count": 79,
   "metadata": {},
   "outputs": [
    {
     "data": {
      "text/plain": [
       "[1, 2, 3, 4]"
      ]
     },
     "execution_count": 79,
     "metadata": {},
     "output_type": "execute_result"
    }
   ],
   "source": [
    "a = [1.2, 2.5, 3.7, 4.6]\n",
    "a = list(map(int,a))\n",
    "a"
   ]
  },
  {
   "cell_type": "code",
   "execution_count": 80,
   "metadata": {},
   "outputs": [
    {
     "data": {
      "text/plain": [
       "[2, 3, 4, 5]"
      ]
     },
     "execution_count": 80,
     "metadata": {},
     "output_type": "execute_result"
    }
   ],
   "source": [
    "def add(x):\n",
    "    return x + 1\n",
    "\n",
    "a = list(map(add,a))\n",
    "a"
   ]
  },
  {
   "cell_type": "code",
   "execution_count": 92,
   "metadata": {},
   "outputs": [
    {
     "name": "stdout",
     "output_type": "stream",
     "text": [
      "평균 점수는 98.5입니다.\n"
     ]
    }
   ],
   "source": [
    "scores = input('국어, 영어, 수학, 과학 점수를 입력해주세요: ')\n",
    "scores = scores.split(',')\n",
    "scores = list(map(int, scores))\n",
    "sum = 0\n",
    "for i in scores:\n",
    "    sum += i\n",
    "avg = sum / 4\n",
    "print(f'평균 점수는 {avg}입니다.')"
   ]
  },
  {
   "cell_type": "code",
   "execution_count": null,
   "metadata": {},
   "outputs": [],
   "source": []
  }
 ],
 "metadata": {
  "kernelspec": {
   "display_name": "base",
   "language": "python",
   "name": "python3"
  },
  "language_info": {
   "codemirror_mode": {
    "name": "ipython",
    "version": 3
   },
   "file_extension": ".py",
   "mimetype": "text/x-python",
   "name": "python",
   "nbconvert_exporter": "python",
   "pygments_lexer": "ipython3",
   "version": "3.9.13"
  },
  "orig_nbformat": 4,
  "vscode": {
   "interpreter": {
    "hash": "54f843e2d25d3a59c86748e7da2acead36750f0d182112685aa834d50ad6fdc4"
   }
  }
 },
 "nbformat": 4,
 "nbformat_minor": 2
}
