{
 "cells": [
  {
   "cell_type": "code",
   "execution_count": null,
   "metadata": {},
   "outputs": [],
   "source": [
    "numbers = [0,1,2,3,4,5,6,7]\n",
    "print(numbers.append(8))\n",
    "print(numbers)"
   ]
  },
  {
   "cell_type": "code",
   "execution_count": null,
   "metadata": {},
   "outputs": [],
   "source": [
    "numbers.insert(6,0)\n",
    "numbers"
   ]
  },
  {
   "cell_type": "code",
   "execution_count": null,
   "metadata": {},
   "outputs": [],
   "source": [
    "numbers.extend([9,10,11])\n",
    "numbers"
   ]
  },
  {
   "cell_type": "code",
   "execution_count": null,
   "metadata": {},
   "outputs": [],
   "source": [
    "numbers.remove(1)\n",
    "numbers "
   ]
  },
  {
   "cell_type": "code",
   "execution_count": null,
   "metadata": {},
   "outputs": [],
   "source": [
    "print(numbers.pop())\n",
    "print(numbers)"
   ]
  },
  {
   "cell_type": "code",
   "execution_count": null,
   "metadata": {},
   "outputs": [],
   "source": [
    "### pop() --> 제일 뒤에 오는 요소를 반환한다. 긜고 리스트에서 삭제한다."
   ]
  },
  {
   "cell_type": "code",
   "execution_count": null,
   "metadata": {},
   "outputs": [],
   "source": [
    "numbers.reverse()"
   ]
  },
  {
   "cell_type": "code",
   "execution_count": null,
   "metadata": {},
   "outputs": [],
   "source": [
    "numbers.clear()"
   ]
  },
  {
   "cell_type": "code",
   "execution_count": null,
   "metadata": {},
   "outputs": [],
   "source": [
    "numbers"
   ]
  },
  {
   "cell_type": "code",
   "execution_count": null,
   "metadata": {},
   "outputs": [],
   "source": [
    "numbers = [0,1,233,3,4,5,6,7]\n",
    "print(numbers.count(5))"
   ]
  },
  {
   "cell_type": "code",
   "execution_count": null,
   "metadata": {},
   "outputs": [],
   "source": [
    "numbers.reverse()"
   ]
  },
  {
   "cell_type": "code",
   "execution_count": null,
   "metadata": {},
   "outputs": [],
   "source": [
    "numbers"
   ]
  },
  {
   "cell_type": "code",
   "execution_count": null,
   "metadata": {},
   "outputs": [],
   "source": [
    "tuple_variable = (1,2,3,4,5,'hello')\n",
    "# tuple_variable[0] = 0"
   ]
  },
  {
   "cell_type": "code",
   "execution_count": null,
   "metadata": {},
   "outputs": [],
   "source": [
    "tuple_variable[1:3] = (\"dd\",\"ee\")"
   ]
  },
  {
   "cell_type": "code",
   "execution_count": null,
   "metadata": {},
   "outputs": [],
   "source": [
    "del tuple_variable[0]"
   ]
  },
  {
   "cell_type": "code",
   "execution_count": null,
   "metadata": {},
   "outputs": [],
   "source": [
    "import time\n",
    "curr = time.time()\n",
    "total = []\n",
    "\n",
    "for i in range(10000):\n",
    "    for j in range(10000):\n",
    "        total.append((i,j))\n",
    "\n",
    "last = time.time()\n",
    "print(last - curr)"
   ]
  },
  {
   "cell_type": "code",
   "execution_count": null,
   "metadata": {},
   "outputs": [],
   "source": [
    "import time\n",
    "curr = time.time()\n",
    "total = []\n",
    "\n",
    "for i in range(10000):\n",
    "    for j in range(10000):\n",
    "        total.append([i,j])\n",
    "\n",
    "last = time.time()\n",
    "print(last - curr)"
   ]
  },
  {
   "cell_type": "code",
   "execution_count": null,
   "metadata": {},
   "outputs": [],
   "source": [
    "input_value = input(\"아무거나 입력해보세요.\")\n",
    "print(\"input_value: \", input_value, \"\\ntype: \", type(input_value))\n",
    "float(input_value)"
   ]
  },
  {
   "cell_type": "code",
   "execution_count": null,
   "metadata": {},
   "outputs": [],
   "source": [
    "name = input('이름을 입력하시오 : ')\n",
    "print(name + '씨 안녕하세요?')\n",
    "print('파이썬에 오신 것을 환영합니다.')\n",
    "num1 = int(input(\"첫번째 정수를 입력하세요 : \"))\n",
    "num2 = int(input(\"두번째 정수를 입력하세요 : \"))\n",
    "print(f'{num1}과 {num2}의 합은 {num1 + num2}입니다.')"
   ]
  },
  {
   "cell_type": "code",
   "execution_count": null,
   "metadata": {},
   "outputs": [],
   "source": [
    "stadium = input('경기장은 어디입니까?')\n",
    "win_team = input('이긴 팀은 어디입니까?')\n",
    "lose_team = input('진 팀은 어디입니까?')\n",
    "mvp = input('우수 선수는 누구입니까?')\n",
    "score = input('스코어는 몇대 몇입니까?')\n",
    "print(f'[속보]{win_team}가 {score}로 승리...\\n오늘 {stadium} 경기장에서 야구 경기가 있었습니다.\\n{win_team}과 {lose_team}은 치열한 공방전을 펼쳤습니다.\\n이 경기에서 {mvp}가 맹활약을 했습니다.\\n그 끝내 {win_team}가 {lose_team}를 {score}로 승리하였습니다.\\n기사 끝')"
   ]
  },
  {
   "cell_type": "code",
   "execution_count": null,
   "metadata": {},
   "outputs": [],
   "source": [
    "result = '1,2,3'.split(',')\n",
    "print(type(result))\n",
    "print(result)\n",
    "\n"
   ]
  },
  {
   "cell_type": "code",
   "execution_count": null,
   "metadata": {},
   "outputs": [],
   "source": [
    "time_ = input('hh:mm:ss의 형태로 시간을 입력해주세요')\n",
    "time_ = \"12:33:22\"\n",
    "hour, minute, second = time_.split(':')\n",
    "print('시 : ' + hour)\n",
    "print('분 : ' + minute)\n",
    "print('초 : ' + second)"
   ]
  },
  {
   "cell_type": "code",
   "execution_count": null,
   "metadata": {},
   "outputs": [],
   "source": [
    "a = [1.2, 2.5, 3.7, 4.6]\n",
    "a = list(map(int,a))\n",
    "a"
   ]
  },
  {
   "cell_type": "code",
   "execution_count": null,
   "metadata": {},
   "outputs": [],
   "source": [
    "def add(x):\n",
    "    return x + 1\n",
    "\n",
    "a = list(map(add,a))\n",
    "a"
   ]
  },
  {
   "cell_type": "code",
   "execution_count": 5,
   "metadata": {},
   "outputs": [
    {
     "name": "stdout",
     "output_type": "stream",
     "text": [
      "평균 점수는 98.5입니다.\n"
     ]
    }
   ],
   "source": [
    "scores = input('국어, 영어, 수학, 과학 점수를 입력해주세요: ')\n",
    "scores = list(map(int, scores.split(',')))\n",
    "avg = sum(scores) / len(scores)\n",
    "print(f'평균 점수는 {avg}입니다.')"
   ]
  },
  {
   "cell_type": "code",
   "execution_count": 7,
   "metadata": {},
   "outputs": [
    {
     "data": {
      "text/plain": [
       "[115, 117, 119, 121]"
      ]
     },
     "execution_count": 7,
     "metadata": {},
     "output_type": "execute_result"
    }
   ],
   "source": [
    "def calculate_(x):\n",
    "    return x + 89\n",
    "scores = [26,28,30,32]\n",
    "list(map(calculate_, scores))"
   ]
  },
  {
   "cell_type": "code",
   "execution_count": 1,
   "metadata": {},
   "outputs": [
    {
     "ename": "ValueError",
     "evalue": "invalid literal for int() with base 10: ''",
     "output_type": "error",
     "traceback": [
      "\u001b[1;31m---------------------------------------------------------------------------\u001b[0m",
      "\u001b[1;31mValueError\u001b[0m                                Traceback (most recent call last)",
      "\u001b[1;32m~\\AppData\\Local\\Temp\\ipykernel_34336\\2992709852.py\u001b[0m in \u001b[0;36m<module>\u001b[1;34m\u001b[0m\n\u001b[1;32m----> 1\u001b[1;33m \u001b[0mkor\u001b[0m\u001b[1;33m,\u001b[0m \u001b[0meng\u001b[0m\u001b[1;33m,\u001b[0m \u001b[0mmat\u001b[0m\u001b[1;33m,\u001b[0m \u001b[0msci\u001b[0m \u001b[1;33m=\u001b[0m \u001b[0mmap\u001b[0m\u001b[1;33m(\u001b[0m\u001b[0mint\u001b[0m\u001b[1;33m,\u001b[0m \u001b[0minput\u001b[0m\u001b[1;33m(\u001b[0m\u001b[1;34m\"'국어','영어','수학','과학' 점수를 입력해주세요\"\u001b[0m\u001b[1;33m)\u001b[0m\u001b[1;33m.\u001b[0m\u001b[0msplit\u001b[0m\u001b[1;33m(\u001b[0m\u001b[1;34m','\u001b[0m\u001b[1;33m)\u001b[0m\u001b[1;33m)\u001b[0m\u001b[1;33m\u001b[0m\u001b[1;33m\u001b[0m\u001b[0m\n\u001b[0m\u001b[0;32m      2\u001b[0m \u001b[0mavg\u001b[0m \u001b[1;33m=\u001b[0m \u001b[1;33m(\u001b[0m\u001b[0mkor\u001b[0m \u001b[1;33m+\u001b[0m \u001b[0meng\u001b[0m \u001b[1;33m+\u001b[0m \u001b[0mmat\u001b[0m \u001b[1;33m+\u001b[0m \u001b[0msci\u001b[0m\u001b[1;33m)\u001b[0m \u001b[1;33m/\u001b[0m \u001b[1;36m4\u001b[0m\u001b[1;33m\u001b[0m\u001b[1;33m\u001b[0m\u001b[0m\n\u001b[0;32m      3\u001b[0m \u001b[0mprint\u001b[0m\u001b[1;33m(\u001b[0m\u001b[1;34m'평균 점수는'\u001b[0m\u001b[1;33m,\u001b[0m \u001b[0mavg\u001b[0m\u001b[1;33m,\u001b[0m \u001b[1;34m'점입니다.'\u001b[0m\u001b[1;33m)\u001b[0m\u001b[1;33m\u001b[0m\u001b[1;33m\u001b[0m\u001b[0m\n",
      "\u001b[1;31mValueError\u001b[0m: invalid literal for int() with base 10: ''"
     ]
    }
   ],
   "source": [
    "kor, eng, mat, sci = map(int, input(\"'국어','영어','수학','과학' 점수를 입력해주세요\").split(','))\n",
    "avg = (kor + eng + mat + sci) / 4\n",
    "print('평균 점수는', avg, '점입니다.')"
   ]
  },
  {
   "cell_type": "code",
   "execution_count": 7,
   "metadata": {},
   "outputs": [
    {
     "name": "stdout",
     "output_type": "stream",
     "text": [
      "줄이 바뀌지 않습니다.그 이유는 end= \"\\n\"과 같이 기본 설정된 값을 빈 스트링으로 변경했기 때문입니다.\n",
      "sep, end는 맨뒤에 써야하며 들어간 순서는 상관 없습니다어떻게 사용하는지\n",
      "이해가 되시나요?"
     ]
    }
   ],
   "source": [
    "print(\"줄이 바뀌지 않습니다.\", end = \"\")\n",
    "print(\"그 이유는 end= \\\"\\\\n\\\"과 같이 기본 설정된 값을 빈 스트링으로 변경했기 때문입니다.\")\n",
    "print(\"sep\", \"end는 맨뒤에 써야하며 들어간 순서는 상관 없습니다\", sep=\", \", end = \"\")\n",
    "print(\"어떻게 사용하는지\", \"이해가 되시나요\", sep=\"\\n\", end = \"?\")"
   ]
  },
  {
   "cell_type": "code",
   "execution_count": 11,
   "metadata": {},
   "outputs": [
    {
     "name": "stdout",
     "output_type": "stream",
     "text": [
      "2021/02/03 18:33:23"
     ]
    }
   ],
   "source": [
    "year = '2021'\n",
    "month = '02'\n",
    "day = '03'\n",
    "hour = '18'\n",
    "minute = '33'\n",
    "second = '23'\n",
    "\n",
    "print(year, month, day, sep = \"/\", end = \" \")\n",
    "print(hour, minute, second, sep = \":\", end = \"\")"
   ]
  },
  {
   "cell_type": "code",
   "execution_count": 14,
   "metadata": {},
   "outputs": [
    {
     "name": "stdout",
     "output_type": "stream",
     "text": [
      "총 가격은 14000원입니다.\n"
     ]
    }
   ],
   "source": [
    "text = input('사과와 귤을 몇 개 드릴까요?').split(',')\n",
    "apple_count, orange_count = map(int,text)\n",
    "total_price = 1000 * apple_count + 200 * orange_count\n",
    "print(f'총 가격은 {total_price}원입니다.')"
   ]
  },
  {
   "cell_type": "code",
   "execution_count": 16,
   "metadata": {},
   "outputs": [
    {
     "name": "stdout",
     "output_type": "stream",
     "text": [
      "input_value4는 문자입니다.\n"
     ]
    }
   ],
   "source": [
    "input_value4 = '힙합'\n",
    "if type(input_value4) is int:\n",
    "    print(\"input_value4는 정수입니다.\")\n",
    "\n",
    "elif type(input_value4) is str:\n",
    "    print('input_value4는 문자입니다.')\n",
    "\n",
    "else :\n",
    "    print(\"input_value4는 정수도, 문자도 아닙니다.\")"
   ]
  },
  {
   "cell_type": "code",
   "execution_count": 23,
   "metadata": {},
   "outputs": [
    {
     "name": "stdout",
     "output_type": "stream",
     "text": [
      "최고관리자, 모든 권한을 갖습니다.\n"
     ]
    }
   ],
   "source": [
    "id = input(\"아이디를 입력하세요 : \")\n",
    "if id == 'admin':\n",
    "    print('최고관리자, 모든 권한을 갖습니다.')\n",
    "else:\n",
    "    grade = int(input('회원등급을 입력하세요 : '))\n",
    "    if 1 <= grade <= 3:\n",
    "        print('제한적인 권한을 갖습니다.')\n",
    "    else :\n",
    "        print('권한이 없습니다.')"
   ]
  },
  {
   "cell_type": "code",
   "execution_count": 28,
   "metadata": {},
   "outputs": [
    {
     "name": "stdout",
     "output_type": "stream",
     "text": [
      "789789789\n"
     ]
    }
   ],
   "source": [
    "print(789789789)"
   ]
  },
  {
   "cell_type": "code",
   "execution_count": 1,
   "metadata": {},
   "outputs": [
    {
     "name": "stdout",
     "output_type": "stream",
     "text": [
      "3\n"
     ]
    }
   ],
   "source": [
    "input_value4 = int(input('정수를 입력해주세요 : '))\n",
    "print(input_value4)"
   ]
  },
  {
   "cell_type": "code",
   "execution_count": 6,
   "metadata": {},
   "outputs": [
    {
     "name": "stdout",
     "output_type": "stream",
     "text": [
      "5\n"
     ]
    }
   ],
   "source": [
    "input_value4 = 5\n",
    "print(input_value4)"
   ]
  },
  {
   "cell_type": "code",
   "execution_count": 12,
   "metadata": {},
   "outputs": [
    {
     "name": "stdout",
     "output_type": "stream",
     "text": [
      "[1, 3, 4]\n"
     ]
    }
   ],
   "source": [
    "a = [1.2,3.5,4.5]\n",
    "a = list(map(int,a))\n",
    "a"
   ]
  },
  {
   "cell_type": "code",
   "execution_count": 17,
   "metadata": {},
   "outputs": [
    {
     "name": "stdout",
     "output_type": "stream",
     "text": [
      "46\n"
     ]
    }
   ],
   "source": [
    "num = int(input('자연수 하나를 입력해주세요 : '))\n",
    "cal_num = num - 50\n",
    "if cal_num < 0:\n",
    "    print(0)\n",
    "else:\n",
    "    print(cal_num)"
   ]
  },
  {
   "cell_type": "code",
   "execution_count": 20,
   "metadata": {},
   "outputs": [
    {
     "name": "stdout",
     "output_type": "stream",
     "text": [
      "ho!\n"
     ]
    }
   ],
   "source": [
    "print('ho!')"
   ]
  },
  {
   "cell_type": "code",
   "execution_count": 27,
   "metadata": {},
   "outputs": [
    {
     "name": "stdout",
     "output_type": "stream",
     "text": [
      "10살 이상입니다.\n",
      "20살 이상입니다.\n",
      "30살 이상입니다.\n",
      "40살 이상입니다.\n",
      "age >= 30 구간입니다.\n",
      "age >= 20 구간입니다.\n",
      "age >= 10 구간입니다.\n",
      "늘 출력되는 구간입니다.\n"
     ]
    }
   ],
   "source": [
    "age = int(input('나이를 입력해주세요 : '))\n",
    "if age >= 10:\n",
    "    print(\"10살 이상입니다.\")\n",
    "    if age >= 20:\n",
    "        print(\"20살 이상입니다.\")\n",
    "        if age >= 30:\n",
    "            print(\"30살 이상입니다.\")\n",
    "            if age >= 40:\n",
    "                print(\"40살 이상입니다.\")\n",
    "            print(\"age >= 30 구간입니다.\")\n",
    "        print(\"age >= 20 구간입니다.\")\n",
    "    print(\"age >= 10 구간입니다.\")\n",
    "    \n",
    "print('늘 출력되는 구간입니다.')"
   ]
  },
  {
   "cell_type": "code",
   "execution_count": 36,
   "metadata": {},
   "outputs": [
    {
     "name": "stdout",
     "output_type": "stream",
     "text": [
      "합격을 축하합니다.\n",
      "\n",
      "안내를 종료합니다.\n"
     ]
    }
   ],
   "source": [
    "score = 90\n",
    "\n",
    "if score >= 60:\n",
    "    print('합격을 축하합니다.')\n",
    "else :\n",
    "    print('아쉽게도 불합격입니다.')\n",
    "print('\\n안내를 종료합니다.')"
   ]
  },
  {
   "cell_type": "code",
   "execution_count": 40,
   "metadata": {},
   "outputs": [
    {
     "name": "stdout",
     "output_type": "stream",
     "text": [
      "홀수입니다.\n"
     ]
    }
   ],
   "source": [
    "num = int(input('자연수를 하나 입력해주세요 : '))\n",
    "if num % 2 == 0:\n",
    "    print('짝수입니다.')\n",
    "else:\n",
    "    print('홀수입니다.')"
   ]
  },
  {
   "cell_type": "code",
   "execution_count": 61,
   "metadata": {},
   "outputs": [
    {
     "name": "stdout",
     "output_type": "stream",
     "text": [
      "66.4\n",
      "합격입니다.\n"
     ]
    }
   ],
   "source": [
    "ss = int(input('소프트웨어 설계 점수를 입력하세요. : '))\n",
    "sg = int(input('소프트웨어 개발 점수를 입력하세요. : '))\n",
    "db = int(input('데이터베이스 구축 점수를 입력하세요. : '))\n",
    "pg = int(input('프로그래밍 언어 활용 점수를 입력하세요. : '))\n",
    "jg = int(input('정보시스템 구축관리 점수를 입력하세요. : '))\n",
    "\n",
    "if ((0 > ss) or (ss > 100)) or ((0 > sg) or (sg > 100)) or ((0 > db) or (db > 100)) or((0 > pg) or (pg > 100)) or ((0 > jg) or (jg > 100)):\n",
    "    print('잘못된 점수입니다.')\n",
    "else :\n",
    "    avg_score = (ss + sg + db + pg + jg) / 5\n",
    "    print(avg_score)\n",
    "    if avg_score >= 60:\n",
    "        print('합격입니다.')\n",
    "    else :\n",
    "        print('불합격입니다.')\n",
    "    "
   ]
  },
  {
   "cell_type": "code",
   "execution_count": null,
   "metadata": {},
   "outputs": [],
   "source": []
  }
 ],
 "metadata": {
  "kernelspec": {
   "display_name": "base",
   "language": "python",
   "name": "python3"
  },
  "language_info": {
   "codemirror_mode": {
    "name": "ipython",
    "version": 3
   },
   "file_extension": ".py",
   "mimetype": "text/x-python",
   "name": "python",
   "nbconvert_exporter": "python",
   "pygments_lexer": "ipython3",
   "version": "3.9.13"
  },
  "orig_nbformat": 4,
  "vscode": {
   "interpreter": {
    "hash": "54f843e2d25d3a59c86748e7da2acead36750f0d182112685aa834d50ad6fdc4"
   }
  }
 },
 "nbformat": 4,
 "nbformat_minor": 2
}
