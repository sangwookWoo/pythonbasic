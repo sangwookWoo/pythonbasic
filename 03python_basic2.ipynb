{
 "cells": [
  {
   "cell_type": "code",
   "execution_count": null,
   "metadata": {},
   "outputs": [],
   "source": [
    "numbers = [0,1,2,3,4,5,6,7]\n",
    "print(numbers.append(8))\n",
    "print(numbers)"
   ]
  },
  {
   "cell_type": "code",
   "execution_count": null,
   "metadata": {},
   "outputs": [],
   "source": [
    "numbers.insert(6,0)\n",
    "numbers"
   ]
  },
  {
   "cell_type": "code",
   "execution_count": null,
   "metadata": {},
   "outputs": [],
   "source": [
    "numbers.extend([9,10,11])\n",
    "numbers"
   ]
  },
  {
   "cell_type": "code",
   "execution_count": null,
   "metadata": {},
   "outputs": [],
   "source": [
    "numbers.remove(1)\n",
    "numbers"
   ]
  },
  {
   "cell_type": "code",
   "execution_count": null,
   "metadata": {},
   "outputs": [],
   "source": [
    "print(numbers.pop())\n",
    "print(numbers)"
   ]
  },
  {
   "cell_type": "code",
   "execution_count": null,
   "metadata": {},
   "outputs": [],
   "source": [
    "### pop() --> 제일 뒤에 오는 요소를 반환한다. 긜고 리스트에서 삭제한다."
   ]
  },
  {
   "cell_type": "code",
   "execution_count": null,
   "metadata": {},
   "outputs": [],
   "source": [
    "numbers.reverse()"
   ]
  },
  {
   "cell_type": "code",
   "execution_count": null,
   "metadata": {},
   "outputs": [],
   "source": [
    "numbers.clear()"
   ]
  },
  {
   "cell_type": "code",
   "execution_count": null,
   "metadata": {},
   "outputs": [],
   "source": [
    "numbers"
   ]
  },
  {
   "cell_type": "code",
   "execution_count": null,
   "metadata": {},
   "outputs": [],
   "source": [
    "numbers = [0,1,233,3,4,5,6,7]\n",
    "print(numbers.count(5))"
   ]
  },
  {
   "cell_type": "code",
   "execution_count": null,
   "metadata": {},
   "outputs": [],
   "source": [
    "numbers.reverse()"
   ]
  },
  {
   "cell_type": "code",
   "execution_count": null,
   "metadata": {},
   "outputs": [],
   "source": [
    "numbers"
   ]
  },
  {
   "cell_type": "code",
   "execution_count": null,
   "metadata": {},
   "outputs": [],
   "source": [
    "tuple_variable = (1,2,3,4,5,'hello')\n",
    "# tuple_variable[0] = 0"
   ]
  },
  {
   "cell_type": "code",
   "execution_count": null,
   "metadata": {},
   "outputs": [],
   "source": [
    "tuple_variable[1:3] = (\"dd\",\"ee\")"
   ]
  },
  {
   "cell_type": "code",
   "execution_count": null,
   "metadata": {},
   "outputs": [],
   "source": [
    "del tuple_variable[0]"
   ]
  },
  {
   "cell_type": "code",
   "execution_count": null,
   "metadata": {},
   "outputs": [],
   "source": [
    "import time\n",
    "curr = time.time()\n",
    "total = []\n",
    "\n",
    "for i in range(10000):\n",
    "    for j in range(10000):\n",
    "        total.append((i,j))\n",
    "\n",
    "last = time.time()\n",
    "print(last - curr)"
   ]
  },
  {
   "cell_type": "code",
   "execution_count": null,
   "metadata": {},
   "outputs": [],
   "source": [
    "import time\n",
    "curr = time.time()\n",
    "total = []\n",
    "\n",
    "for i in range(10000):\n",
    "    for j in range(10000):\n",
    "        total.append([i,j])\n",
    "\n",
    "last = time.time()\n",
    "print(last - curr)"
   ]
  },
  {
   "cell_type": "code",
   "execution_count": null,
   "metadata": {},
   "outputs": [],
   "source": [
    "input_value = input(\"아무거나 입력해보세요.\")\n",
    "print(\"input_value: \", input_value, \"\\ntype: \", type(input_value))\n",
    "float(input_value)"
   ]
  },
  {
   "cell_type": "code",
   "execution_count": null,
   "metadata": {},
   "outputs": [],
   "source": [
    "name = input('이름을 입력하시오 : ')\n",
    "print(name + '씨 안녕하세요?')\n",
    "print('파이썬에 오신 것을 환영합니다.')\n",
    "num1 = int(input(\"첫번째 정수를 입력하세요 : \"))\n",
    "num2 = int(input(\"두번째 정수를 입력하세요 : \"))\n",
    "print(f'{num1}과 {num2}의 합은 {num1 + num2}입니다.')"
   ]
  },
  {
   "cell_type": "code",
   "execution_count": null,
   "metadata": {},
   "outputs": [],
   "source": [
    "stadium = input('경기장은 어디입니까?')\n",
    "win_team = input('이긴 팀은 어디입니까?')\n",
    "lose_team = input('진 팀은 어디입니까?')\n",
    "mvp = input('우수 선수는 누구입니까?')\n",
    "score = input('스코어는 몇대 몇입니까?')\n",
    "print(f'[속보]{win_team}가 {score}로 승리...\\n오늘 {stadium} 경기장에서 야구 경기가 있었습니다.\\n{win_team}과 {lose_team}은 치열한 공방전을 펼쳤습니다.\\n이 경기에서 {mvp}가 맹활약을 했습니다.\\n그 끝내 {win_team}가 {lose_team}를 {score}로 승리하였습니다.\\n기사 끝')"
   ]
  },
  {
   "cell_type": "code",
   "execution_count": null,
   "metadata": {},
   "outputs": [],
   "source": [
    "result = '1,2,3'.split(',')\n",
    "print(type(result))\n",
    "print(result)\n",
    "\n"
   ]
  },
  {
   "cell_type": "code",
   "execution_count": null,
   "metadata": {},
   "outputs": [],
   "source": [
    "time_ = input('hh:mm:ss의 형태로 시간을 입력해주세요')\n",
    "time_ = \"12:33:22\"\n",
    "hour, minute, second = time_.split(':')\n",
    "print('시 : ' + hour)\n",
    "print('분 : ' + minute)\n",
    "print('초 : ' + second)"
   ]
  },
  {
   "cell_type": "code",
   "execution_count": null,
   "metadata": {},
   "outputs": [],
   "source": [
    "a = [1.2, 2.5, 3.7, 4.6]\n",
    "a = list(map(int,a))\n",
    "a"
   ]
  },
  {
   "cell_type": "code",
   "execution_count": null,
   "metadata": {},
   "outputs": [],
   "source": [
    "def add(x):\n",
    "    return x + 1\n",
    "\n",
    "a = list(map(add,a))\n",
    "a"
   ]
  },
  {
   "cell_type": "code",
   "execution_count": 5,
   "metadata": {},
   "outputs": [
    {
     "name": "stdout",
     "output_type": "stream",
     "text": [
      "평균 점수는 98.5입니다.\n"
     ]
    }
   ],
   "source": [
    "scores = input('국어, 영어, 수학, 과학 점수를 입력해주세요: ')\n",
    "scores = list(map(int, scores.split(',')))\n",
    "avg = sum(scores) / len(scores)\n",
    "print(f'평균 점수는 {avg}입니다.')"
   ]
  },
  {
   "cell_type": "code",
   "execution_count": 7,
   "metadata": {},
   "outputs": [
    {
     "data": {
      "text/plain": [
       "[115, 117, 119, 121]"
      ]
     },
     "execution_count": 7,
     "metadata": {},
     "output_type": "execute_result"
    }
   ],
   "source": [
    "def calculate_(x):\n",
    "    return x + 89\n",
    "scores = [26,28,30,32]\n",
    "list(map(calculate_, scores))"
   ]
  },
  {
   "cell_type": "code",
   "execution_count": null,
   "metadata": {},
   "outputs": [],
   "source": []
  }
 ],
 "metadata": {
  "kernelspec": {
   "display_name": "base",
   "language": "python",
   "name": "python3"
  },
  "language_info": {
   "codemirror_mode": {
    "name": "ipython",
    "version": 3
   },
   "file_extension": ".py",
   "mimetype": "text/x-python",
   "name": "python",
   "nbconvert_exporter": "python",
   "pygments_lexer": "ipython3",
   "version": "3.9.13"
  },
  "orig_nbformat": 4,
  "vscode": {
   "interpreter": {
    "hash": "54f843e2d25d3a59c86748e7da2acead36750f0d182112685aa834d50ad6fdc4"
   }
  }
 },
 "nbformat": 4,
 "nbformat_minor": 2
}
