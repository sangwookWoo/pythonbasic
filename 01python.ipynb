{
 "cells": [
  {
   "cell_type": "code",
   "execution_count": 6,
   "id": "5748ea37-bd25-40c0-8ac5-7924dbd36c41",
   "metadata": {},
   "outputs": [
    {
     "name": "stdout",
     "output_type": "stream",
     "text": [
      "3.9.13 (main, Aug 25 2022, 23:51:50) [MSC v.1916 64 bit (AMD64)]\n"
     ]
    }
   ],
   "source": [
    "import sys\n",
    "print(sys.version) # 파이썬 버전 정보"
   ]
  },
  {
   "cell_type": "code",
   "execution_count": 10,
   "id": "44821f19-4651-4912-b9b2-c3d739ae6544",
   "metadata": {},
   "outputs": [
    {
     "name": "stdout",
     "output_type": "stream",
     "text": [
      " C 드라이브의 볼륨에는 이름이 없습니다.\n",
      " 볼륨 일련 번호: 642A-5F88\n",
      "\n",
      " C:\\python 디렉터리\n",
      "\n",
      "2023-01-04 수  오전 10:15    <DIR>          .\n",
      "2023-01-04 수  오전 10:12    <DIR>          .ipynb_checkpoints\n",
      "2023-01-04 수  오전 10:15             1,829 01python.ipynb\n",
      "               1개 파일               1,829 바이트\n",
      "               2개 디렉터리  170,898,751,488 바이트 남음\n"
     ]
    }
   ],
   "source": [
    "!dir"
   ]
  },
  {
   "cell_type": "code",
   "execution_count": null,
   "id": "fdb6d5d2-4ce0-4f50-9ce4-92a81a8e82ff",
   "metadata": {},
   "outputs": [],
   "source": []
  }
 ],
 "metadata": {
  "kernelspec": {
   "display_name": "Python 3 (ipykernel)",
   "language": "python",
   "name": "python3"
  },
  "language_info": {
   "codemirror_mode": {
    "name": "ipython",
    "version": 3
   },
   "file_extension": ".py",
   "mimetype": "text/x-python",
   "name": "python",
   "nbconvert_exporter": "python",
   "pygments_lexer": "ipython3",
   "version": "3.9.13"
  }
 },
 "nbformat": 4,
 "nbformat_minor": 5
}
