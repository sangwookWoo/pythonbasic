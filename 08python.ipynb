{
 "cells": [
  {
   "cell_type": "code",
   "execution_count": 369,
   "metadata": {},
   "outputs": [],
   "source": [
    "import random\n",
    "class Team:\n",
    "    \"\"\"팀 객체를 만듭니다.\"\"\"\n",
    "    # 클래스 속성\n",
    "    count = 0 # Team 클래스로부터 초기화된 인스턴스 개수\n",
    "    order = []\n",
    "    def __init__(self, number, name=None, member=set()):\n",
    "        self.number = number\n",
    "        self.name = name\n",
    "        self.member = member\n",
    "        Team.count += 1\n",
    "    def add_member(self, name):\n",
    "        # 해당 이름이 팀에 있을 경우\n",
    "        if name in self.member:\n",
    "            print(f\"{name} 님은 이미 팀에 있습니다.\")\n",
    "            return\n",
    "        # 해당 이름이 팀에 없을 경우\n",
    "        else:\n",
    "            self.member.add(name)\n",
    "            print(f\"{name} 님을 {self.number} 팀에 추가했습니다.\")\n",
    "    def rm_member(self, name):\n",
    "        # 해당 이름이 팀에 있을 경우\n",
    "        if name in self.member:\n",
    "            self.member.discard(name)\n",
    "            print(f\"{name} 님을 {self.number} 팀에서 삭제했습니다.\")\n",
    "        # 해당 이름이 팀에 없을 경우\n",
    "        else:\n",
    "            print(f\"{name} 님은 해당 팀에 없습니다.\")\n",
    "    def get_count(self):\n",
    "        return self.count\n",
    "    def get_order(self):\n",
    "        return self.order\n",
    "    def set_order(self, number):\n",
    "        if number in self.order:\n",
    "            self.order.remove(number)\n",
    "        self.order.append(number)\n",
    "    # 내장 함수(Built-in function) len(Team()) --> 파이썬이 __len__(self)를 찾아서 실행\n",
    "    def __len__(self):\n",
    "        return len(self.member)\n",
    "\n",
    "def team_extractor(total_member, team_count):\n",
    "    # 팀원 숫자 배열 생성 \n",
    "    team_count_list = [len(total_member) // team_count for x in range(team_count)]\n",
    "    for idx, i in enumerate(range(0, len(total_member) % team_count)):\n",
    "        team_count_list[idx] += 1\n",
    "\n",
    "    # 리스트 셔플 후 total_member에서 숫자 배열 대로 뽑기\n",
    "    a, b = (0, 0)\n",
    "    random_team_list = []\n",
    "    random.shuffle(total_member)\n",
    "    for count in team_count_list:\n",
    "        b += count\n",
    "        random_team_list.append(total_member[a : b])\n",
    "        a += count\n",
    "\n",
    "    return random_team_list\n",
    "\n",
    "class TeamBuilder():\n",
    "    has_team = False\n",
    "    teams = []\n",
    "\n",
    "    def __init__(self, members, teams_count):\n",
    "        self.members = members\n",
    "        self.teams_count = teams_count\n",
    "        \n",
    "    def creat_team(self):\n",
    "        if TeamBuilder.has_team == False:\n",
    "\n",
    "            # 랜덤 팀 리스트 생성\n",
    "            random_team_list = team_extractor(self.members, self.teams_count)\n",
    "            [TeamBuilder.teams.append(x) for x in random_team_list]\n",
    "\n",
    "            # 팀 추가(Team Class)\n",
    "            for idx, random_team in enumerate(random_team_list):\n",
    "                globals()['t'+str(idx + 1)] = Team(idx + 1, member = random_team)\n",
    "                globals()['t'+str(idx + 1)].set_order(idx + 1)\n",
    "            print(f'팀을 {len(random_team_list)}개 생성했습니다')\n",
    "            TeamBuilder.has_team = True\n",
    "        else :\n",
    "            TeamBuilder.teams = []\n",
    "            Team.count = 0\n",
    "            Team.order = []\n",
    "            print('기존의 팀 정보를 지우고 새로 생성합니다.')\n",
    "\n",
    "            # 랜덤 팀 리스트 생성\n",
    "            random_team_list = team_extractor(self.members, self.teams_count)\n",
    "            [TeamBuilder.teams.append(x) for x in random_team_list]\n",
    "\n",
    "            # 팀 추가(Team Class)\n",
    "            for idx, random_team in enumerate(random_team_list):\n",
    "                globals()['t'+str(idx + 1)] = Team(idx + 1, member = random_team)\n",
    "                globals()['t'+str(idx + 1)].set_order(idx + 1)\n",
    "\n",
    "            print(f'팀을 {len(random_team_list)}개 생성했습니다')\n",
    "            \n",
    "    def show_team_info(self):\n",
    "        for team_num, team in enumerate(TeamBuilder.teams):\n",
    "            print(f\"{team_num + 1}팀은 {' '.join(team)} 입니다.\")"
   ]
  },
  {
   "cell_type": "code",
   "execution_count": 370,
   "metadata": {},
   "outputs": [],
   "source": [
    "total_member = \"강지인 김강직 김경목 김기훈 김민수 김예린 김유림 김호영 도강현 맹지호 민병창 서영호 신제우 우상욱 윤규헌 이민호 이병호 이선주 이호진 허경모 황도희\".split()"
   ]
  },
  {
   "cell_type": "code",
   "execution_count": 373,
   "metadata": {},
   "outputs": [
    {
     "name": "stdout",
     "output_type": "stream",
     "text": [
      "기존의 팀 정보를 지우고 새로 생성합니다.\n",
      "팀을 9개 생성했습니다\n",
      "1팀은 김민수 김기훈 김예린 입니다.\n",
      "2팀은 이호진 김호영 김경목 입니다.\n",
      "3팀은 이선주 맹지호 윤규헌 입니다.\n",
      "4팀은 서영호 허경모 입니다.\n",
      "5팀은 신제우 황도희 입니다.\n",
      "6팀은 이병호 김유림 입니다.\n",
      "7팀은 민병창 이민호 입니다.\n",
      "8팀은 김강직 우상욱 입니다.\n",
      "9팀은 강지인 도강현 입니다.\n"
     ]
    }
   ],
   "source": [
    "tb = TeamBuilder(total_member, 9)\n",
    "tb.creat_team()\n",
    "tb.show_team_info()"
   ]
  },
  {
   "cell_type": "code",
   "execution_count": null,
   "metadata": {},
   "outputs": [],
   "source": []
  }
 ],
 "metadata": {
  "kernelspec": {
   "display_name": "base",
   "language": "python",
   "name": "python3"
  },
  "language_info": {
   "codemirror_mode": {
    "name": "ipython",
    "version": 3
   },
   "file_extension": ".py",
   "mimetype": "text/x-python",
   "name": "python",
   "nbconvert_exporter": "python",
   "pygments_lexer": "ipython3",
   "version": "3.9.13 (main, Aug 25 2022, 23:51:50) [MSC v.1916 64 bit (AMD64)]"
  },
  "orig_nbformat": 4,
  "vscode": {
   "interpreter": {
    "hash": "54f843e2d25d3a59c86748e7da2acead36750f0d182112685aa834d50ad6fdc4"
   }
  }
 },
 "nbformat": 4,
 "nbformat_minor": 2
}
